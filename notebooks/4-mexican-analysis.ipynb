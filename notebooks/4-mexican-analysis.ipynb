{
 "cells": [
  {
   "cell_type": "markdown",
   "id": "6b23361b-3e5e-47a2-a159-c6b982a2d7c3",
   "metadata": {},
   "source": [
    "# Analyzing Sexism in Mexican Tweets\n",
    "\n",
    "**Authors:** Álvaro D. Gómez Antón, Sabah Serhir Serhir, Elisa M. Ramos Monsoriu, Lautaro Paniati Altamirano, Estefania Solís Valverde, Alba Valverde Porcar\n",
    "\n",
    "<br></br>\n",
    "\n",
    "<div style=\"text-align: right\"><i>Explaining Online Sexism: Language Models and a Mexican Perspective</i></div>\n",
    "    \n",
    "<div style=\"text-align: right\">A Capstone Project by United Nations International Computing Centre (<a href=\"https://www.unicc.org/\">UNICC</a>) and Universitat Politècnica de València (<a href=\"https://www.upv.es/es\">UPV</a>) </div>\n",
    "\n",
    "---"
   ]
  },
  {
   "cell_type": "markdown",
   "id": "67c8ae6b-0b35-4d38-9f1d-08b916ff0146",
   "metadata": {},
   "source": [
    "This notebook aims to provide a comprehensive analysis of sexist content present in Mexican tweets using advanced natural language processing techniques. The primary goal is to detect and classify instances of sexism in the tweets, understand the different types of sexism present, and analyze their prevalence and distribution.\n",
    "\n",
    "To achieve this, we leverage the power of language models, specifically \"Josefina\" and \"Rosita,\" which have been trained on a large dataset of Mexican tweets. Josefina is a language model specifically designed for detecting sexist content, while Rosita specializes in identifying different types of sexism within the filtered sexist content. Both models have undergone rigorous development and fine-tuning processes, ensuring their effectiveness in capturing and analyzing sexist language.\n",
    "\n",
    "The development and training of Josefina and Rosita were carried out in a separate notebook, \"2-models-development.ipynb.\" This notebook provides detailed insights into the methodology used, the preprocessing steps, and the training process for these models. It serves as a valuable reference for understanding the foundations of our analysis in this notebook.\n",
    "\n",
    "In this notebook, we will explore the results obtained from Josefina's detection of sexist tweets and Rosita's classification of different types of sexism. Additionally, we will utilize other pre-trained models fine-tuned for related tasks, such as cyberbullying detection, racism detection, emotion analysis, sentiment analysis, toxicity detection, contextualized hate speech identification, and irony detection. These models serve as feature extractors to extract additional insights from the filtered sexist content identified by Josefina.\n",
    "\n",
    "Let's dive into the analysis and gain a deeper understanding of sexism in Mexican tweets!"
   ]
  },
  {
   "cell_type": "code",
   "execution_count": 46,
   "id": "a241a204-b696-4683-a6ab-34eb4564fdd4",
   "metadata": {},
   "outputs": [],
   "source": [
    "from typing import List, Dict, Tuple, Iterator, Union, Any, Optional "
   ]
  },
  {
   "cell_type": "markdown",
   "id": "90772519-5e68-4cbb-8f89-419b23de0813",
   "metadata": {},
   "source": [
    "## Twitter Data Collection"
   ]
  },
  {
   "cell_type": "markdown",
   "id": "163a6f34-6bd4-4dc0-b18b-bbd432200c77",
   "metadata": {},
   "source": [
    "In this section, we focus on the process of collecting Twitter data related to sexism for our study case in Mexico, with a specific emphasis on evaluating the effectiveness of using targeted keywords to identify and categorize instances of sexism accurately. The idea behind using these keywords is to assess whether they can help collect more instances of sexism, especially in the context of Guadalajara, and determine if they aid in correctly categorizing the instances according to their types.\n",
    "\n",
    "To ensure a comprehensive dataset that captures a wide range of sexist instances, we employ a strategic approach using specific keywords associated with different types of sexism. These keywords are derived from our collected dataset, which was used to train the models, ensuring that the data collection process aligns with the predefined categories and labels present in the training data.\n",
    "\n",
    "The objective of incorporating these targeted keywords is to examine whether they truly help in collecting more instances of sexism and, more importantly, to assess their effectiveness in correctly separating and categorizing the instances based on their types. By analyzing the collected data, we can evaluate the degree to which these keywords successfully identify and differentiate instances of sexism according to the predefined categories."
   ]
  },
  {
   "cell_type": "code",
   "execution_count": 71,
   "id": "840a3d6f-766e-419e-ac82-2ca8b43712c6",
   "metadata": {},
   "outputs": [],
   "source": [
    "EXTRACTED_DATA_PATH = \"../data/extracted\""
   ]
  },
  {
   "cell_type": "code",
   "execution_count": 43,
   "id": "be6e3d30-bf45-4b72-b04e-e3cd81f958d5",
   "metadata": {},
   "outputs": [],
   "source": [
    "import time\n",
    "\n",
    "def prettytime(t: int):\n",
    "    \"\"\"\n",
    "    Converts a given time in seconds to hh:mm:ss format.\n",
    "    \n",
    "    Args:\n",
    "        t (int): Time in seconds.\n",
    "    \n",
    "    Returns:\n",
    "        str: Time in hh:mm:ss format.\n",
    "    \"\"\"\n",
    "    hh, mm = divmod(t, 3600)\n",
    "    mm, ss = divmod(mm, 60)\n",
    "    hh, mm, ss = map(lambda x: str(int(x)), [hh, mm, ss])\n",
    "    return f'{hh.zfill(2)}:{mm.zfill(2)}:{ss.zfill(2)}'\n",
    "\n",
    "def timeinfo(func):\n",
    "    \"\"\"\n",
    "    Decorator that calculates the execution time of a function.\n",
    "    \n",
    "    Args:\n",
    "        func (function): Function to be decorated.\n",
    "    \n",
    "    Returns:\n",
    "        function: Decorated function.\n",
    "    \"\"\"\n",
    "    def timecalculator(*args, **kwargs):\n",
    "        t0 = time.time()\n",
    "        ans = func(*args, **kwargs)\n",
    "        t1 = time.time() \n",
    "        print(f'\\nAll work done in {prettytime(t1-t0)} ({round(t1-t0, 3)}s) :)')\n",
    "        return ans\n",
    "    return timecalculator"
   ]
  },
  {
   "cell_type": "code",
   "execution_count": 44,
   "id": "d503c87e-bc00-435f-be4b-3011ed8e3051",
   "metadata": {},
   "outputs": [],
   "source": [
    "import json\n",
    "\n",
    "def read_keywords(json_file):\n",
    "    with open(json_file) as j:\n",
    "        content = json.load(j)\n",
    "    return content\n",
    "\n",
    "def extract_tweets(api, query, geocode):\n",
    "    \"\"\"\n",
    "    Extracts tweets based on a query and geocode.\n",
    "    \n",
    "    Args:\n",
    "        api (tweepy.API): tweepy api to make requests\n",
    "        query (str): Search query for tweets.\n",
    "        geocode (str): Geographical coordinates for location-based search.\n",
    "    \n",
    "    Returns:\n",
    "        pd.DataFrame: DataFrame containing extracted tweets.\n",
    "    \"\"\"\n",
    "    buffer, tweets = [None], [None, None]\n",
    "    while len(tweets) > 1:\n",
    "        last = buffer.pop()\n",
    "        if last is None:\n",
    "            tweets = []\n",
    "            max_id_ = None\n",
    "        else:\n",
    "            max_id_ = last[0]\n",
    "        tweets = api.search_tweets(\n",
    "            q=query, \n",
    "            geocode=geocode, \n",
    "            lang='es', \n",
    "            result_type='recent', \n",
    "            count=100, \n",
    "            max_id=max_id_,\n",
    "            tweet_mode=\"extended\"\n",
    "        )\n",
    "        buffer.extend([tweet.id, tweet.created_at, tweet.full_text] \n",
    "                      for tweet in tweets)\n",
    "        time.sleep(5)\n",
    "    return pd.DataFrame(data=buffer, columns=['id', 'timestamp', 'tweet'])\n",
    "\n",
    "def make_query(keywords):\n",
    "    # Helper function to generate a query from a list of keywords\n",
    "    raise NotImplemented\n",
    "\n",
    "@timeinfo\n",
    "def extract_tweets_given_keywords(api, keywords, geocode, verbose=False):\n",
    "    \"\"\"\n",
    "    Extracts tweets given a set of keywords and geolocation information.\n",
    "    \n",
    "    Args:\n",
    "        api (tweepy.API): tweepy api to make requests\n",
    "        keywords (dict): Dictionary of keyword types and their corresponding lists of keywords.\n",
    "        geocode (str): Geographical coordinates for location-based search.\n",
    "        verbose (bool, optional): Whether to print extraction progress information. Defaults to False.\n",
    "    \n",
    "    Returns:\n",
    "        pd.DataFrame: DataFrame containing the extracted tweets.\n",
    "    \"\"\"\n",
    "    corpus = pd.DataFrame()\n",
    "    print(f'Extracting tweets from {tuple(map(lambda x: float(x), geocode.split(\",\")[:2]))}\\n') \n",
    "    for typ, kwords in keywords.items():\n",
    "        t0 = time.time()\n",
    "        query = \" OR \".join(kwords)\n",
    "        #query = make_query(kwords)\n",
    "        data = extract_tweets(api, query, geocode)\n",
    "        t1 = time.time()\n",
    "        data['supposed'] = [typ] * len(data)\n",
    "        corpus = pd.concat([corpus, data], axis=0, ignore_index=True)\n",
    "        if verbose: print(f\"{len(data)} tweets extracted for '{typ}' keywords in {prettytime(t1-t0)}\")\n",
    "    return corpus\n"
   ]
  },
  {
   "cell_type": "code",
   "execution_count": 55,
   "id": "05278f24-ca88-4cb3-be13-9bccf83718a0",
   "metadata": {},
   "outputs": [],
   "source": [
    "def get_setup_keys(*keys):\n",
    "    aux, _suggest = {}, False\n",
    "    for key in keys:\n",
    "        value = os.getenv(key)\n",
    "        if value is None:\n",
    "            value = input(f\"Enter your `{key}`: \")\n",
    "            _suggest = True\n",
    "        aux[key] = value\n",
    "    if _suggest:\n",
    "        print(\"\\nConsider setting keys in system environ to not\" \\\n",
    "              \"\\nenter them each time setting up is required.\\n\")\n",
    "    return aux\n",
    "    \n",
    "def setup_tweepy_api() -> tweepy.API:\n",
    "    print(\"#\"*38+\"\\nAuthenticating with the Twitter API...\\n\")\n",
    "    keys = get_setup_keys(\"TWITTER_CONSUMER_KEY\", \n",
    "                          \"TWITTER_CONSUMER_SECRET\", \n",
    "                          \"TWITTER_ACCESS_TOKEN\", \n",
    "                          \"TWITTER_ACCES_TOKEN_SECRET\")\n",
    "    # Authenticate with the Twitter API.\n",
    "    auth = tweepy.OAuthHandler(keys[\"TWITTER_CONSUMER_KEY\"], keys[\"TWITTER_CONSUMER_SECRET\"])\n",
    "    auth.set_access_token(keys[\"TWITTER_ACCESS_TOKEN\"], keys[\"TWITTER_ACCES_TOKEN_SECRET\"])\n",
    "    print(\"Authentication succesfully complete.\\n\"+(\"#\"*38))\n",
    "    # Create a Twitter object\n",
    "    return tweepy.API(auth)\n",
    "\n",
    "api = setupu_tweepy_api()"
   ]
  },
  {
   "cell_type": "code",
   "execution_count": 71,
   "id": "c22eb9d9-3937-4b3f-91c0-065263cdf22d",
   "metadata": {},
   "outputs": [
    {
     "name": "stdout",
     "output_type": "stream",
     "text": [
      "Extracting tweets from (20.659698, -103.349609)\n",
      "\n",
      "6215 tweets extracted for 'abuse' keywords in 00:06:22\n",
      "26799 tweets extracted for 'hate' keywords in 00:26:48\n",
      "11201 tweets extracted for 'profanities' keywords in 00:11:16\n",
      "18311 tweets extracted for 'violent' keywords in 00:18:45\n",
      "6134 tweets extracted for 'sexually-explicit' keywords in 00:08:06\n",
      "4801 tweets extracted for 'possible-sexist' keywords in 00:05:04\n",
      "\n",
      "All work done in 01:16:23 (4583.427s) :)\n"
     ]
    }
   ],
   "source": [
    "# read keywords obtained in notebook '3.1-keyword-definition.ipynb'\n",
    "keywords = read_keywords(\"../data/extracted/sexism_keywords.json\")\n",
    "\n",
    "# Guadalajara coords (lat,long) plus 100km radius search\n",
    "location = '20.659698,-103.349609,100km'\n",
    "\n",
    "# extracting our desired mexican corpus\n",
    "mexican_corpus = extract_tweets_given_keywords(api, keywords, geocode=location, verbose=True)\n",
    "mexican_corpus.drop_duplicates(subset=\"id\", inplace=True)"
   ]
  },
  {
   "cell_type": "markdown",
   "id": "d1115556-7c04-47f8-8762-da6cae0d01b6",
   "metadata": {},
   "source": [
    "## Custom Models Evaluation"
   ]
  },
  {
   "cell_type": "markdown",
   "id": "e3ac5fa7-4782-4b23-aae8-efac063c9dfd",
   "metadata": {},
   "source": [
    "In this section, we focus on evaluating the performance of our custom models for detecting and addressing sexism in text. The evaluation process involves two key steps: sample and manual labeling, and the evaluation and comparison of two main models: Josefina and Rosita."
   ]
  },
  {
   "cell_type": "markdown",
   "id": "60523472-60ab-4548-b2b6-f7109b048ce5",
   "metadata": {},
   "source": [
    "### Sample and manual labeling"
   ]
  },
  {
   "cell_type": "markdown",
   "id": "9289ad4a-d76a-4c20-bd72-6b43a27a7bbb",
   "metadata": {},
   "source": [
    "To obtain a representative subset of data for evaluation, we employ stratified sampling, a technique suitable for imbalanced data. This approach divides the dataset into homogeneous subgroups based on the \"supposed type\" of sexism, ensuring proportional representation of each type in the sample.\n",
    "\n",
    "Unlike simple random sampling, which can lead to biased results in imbalanced datasets, stratified sampling provides a more accurate and representative sample. To determine the minimum sample size, we calculate it based on the desired level of confidence and margin of error.\n",
    "\n",
    "By utilizing stratified sampling and calculating the appropriate sample size, we ensure a robust evaluation that accurately assesses the performance of our models in detecting different types of sexism.\n",
    "\n",
    "Next, a team of human annotators (our team) manually labels these instances based on the predefined categories and labels present in the training data.\n",
    "\n",
    "The manual labeling process plays a crucial role in assessing the performance of our models. It provides a ground truth against which we can compare the model's predictions and determine its accuracy, precision, and recall. By involving human annotators, we incorporate human judgment and domain expertise, enabling us to capture the nuanced aspects of sexism and validate the effectiveness of our models."
   ]
  },
  {
   "cell_type": "code",
   "execution_count": 47,
   "id": "d4175c0e-844d-446c-8dce-e9a1bd319c69",
   "metadata": {},
   "outputs": [],
   "source": [
    "def stratified_sample(\n",
    "    \n",
    "    data: pd.DataFrame, \n",
    "    column: str, \n",
    "    confidence: int,\n",
    "    random_state: Optional[int] = None, \n",
    "    shuffle: bool = False\n",
    "    \n",
    ") -> pd.DataFrame:\n",
    "    \"\"\"\n",
    "    Returns a stratified sample from a DataFrame, using a specified column as strata and a \n",
    "    dictionary of sample sizes for each stratum.\n",
    "    \n",
    "    Args:\n",
    "        data (pd.DataFrame): DataFrame to sample from.\n",
    "        column (str): Name of the column to use as strata.\n",
    "        confidence (int): Level of confidence for the sample.\n",
    "        random_state (int or None, optional): Seed for the random number generator. Default is None.\n",
    "        shuffle (bool, optional): Whether to shuffle the final sample. Defaults to False.\n",
    "    \n",
    "    Returns:\n",
    "        pd.DataFrame: Stratified sample of the original DataFrame.\n",
    "    \"\"\"\n",
    "    # Initialize the list to store the stratified samples\n",
    "    sample_list = []\n",
    "    \n",
    "    # Calculate the relative frequency of each stratum in the population\n",
    "    stratum_counts = data[column].value_counts()\n",
    "    stratum_props = stratum_counts / data.shape[0]\n",
    "    \n",
    "    # Calculate the sample size for each stratum using the proportion and the desired overall sample size\n",
    "    for stratum in stratum_props.index:\n",
    "        \n",
    "        stratum_data = data[data[column] == stratum]\n",
    "        \n",
    "        # Calculate sample size: n = (z^2 * p * (1-p)) / error^2\n",
    "        # z-value corresponding to the desired level of confidence\n",
    "        z = st.norm.ppf(confidence)\n",
    "        # estimated proportion of the population \n",
    "        p = float(stratum_props[stratum])\n",
    "        # proper stratum size\n",
    "        stratum_size = round(((z**2)*p*(1-p))/((1-confidence)**2))\n",
    "        \n",
    "        # Sample from the current stratum\n",
    "        stratum_sample = stratum_data.sample(n=stratum_size, random_state=random_state)\n",
    "        sample_list.append(stratum_sample)\n",
    "    \n",
    "    # Concatenate the samples from each stratum into a single DataFrame\n",
    "    sample = pd.concat(sample_list, axis=0)\n",
    "    \n",
    "    # Shuffle the final sample if specified\n",
    "    if shuffle:\n",
    "        sample = sample.sample(len(sample))\n",
    "    \n",
    "    return sample"
   ]
  },
  {
   "cell_type": "code",
   "execution_count": null,
   "id": "f498cb14-0513-4365-b8d7-b68981643cc6",
   "metadata": {},
   "outputs": [],
   "source": [
    "sample = stratified_sample(mexican_corpus, 'supposed', confidence=0.96, random_state=7, shuffle=True)\n",
    "print(sample['supposed'].value_counts()); sample"
   ]
  },
  {
   "cell_type": "code",
   "execution_count": null,
   "id": "f9e1d47c-9b3a-4e11-b0f2-8cd071ad8318",
   "metadata": {},
   "outputs": [],
   "source": [
    "sample.to_csv(F'{EXTRACTED_DATA_PATH}/sample.tsv', sep=\"\\t\", index=False)"
   ]
  },
  {
   "cell_type": "markdown",
   "id": "c32b01d1-6f0f-486a-a24e-6c9ab5e1fba5",
   "metadata": {},
   "source": [
    "\n",
    "\n",
    "#### Labeled Data"
   ]
  },
  {
   "cell_type": "code",
   "execution_count": 99,
   "id": "620b65d4-9139-4fa6-b53b-3faa09d6e841",
   "metadata": {
    "tags": []
   },
   "outputs": [],
   "source": [
    "from datasets import Dataset\n",
    "\n",
    "sample_labeled = pd.read_csv(f\"{EXTRACTED_DATA_PATH}/sample_labeled.tsv\", sep=\"\\t\") \\\n",
    "                   .rename({\"tweet\":\"text\"}, axis=1, inplace=True) \\\n",
    "                   .drop(1925, axis=0, inplace=True) \\\n",
    "                   .dropna(subset=[\"sexist\", \"type\"])\n",
    "        \n",
    "sample_labeled.type = sample_labeled.type.apply(lambda x: x.lower().strip())\n",
    "sample_labeled.type = sample_labeled.type.apply(\n",
    "    lambda x: 'profanities' if x in [\"profanitites\", \"profanaties\"] else x\n",
    ")\n",
    "sample_dataset = Dataset.from_pandas(sample_labeled)\n",
    "sample_labeled"
   ]
  },
  {
   "cell_type": "markdown",
   "id": "05f1f8c9-4461-45a1-b243-43bd761779bb",
   "metadata": {},
   "source": [
    "### Josefina - Evaluation & Comparision"
   ]
  },
  {
   "cell_type": "markdown",
   "id": "51ea2001-0d9a-4a7c-abe1-101959783f32",
   "metadata": {},
   "source": [
    "The first model we evaluate is Josefina, our powerful NLP model designed specifically for tackling sexism in text. We assess Josefina's performance on the manually labeled dataset, measuring its accuracy, precision, recall, and F1 scores. By comparing these metrics against the ground truth labels, we can determine how effectively Josefina detects instances of sexism.\n",
    "\n",
    "In addition to evaluating Josefina's performance on our custom dataset, we also compare its results with other fine-tuned models available for the same task: sexism detection in Spanish. This comparison allows us to understand Josefina's strengths and weaknesses relative to other state-of-the-art models in the Spanish language. By analyzing the similarities and differences in performance, we gain insights into the unique contributions of Josefina and identify areas for improvement and further research."
   ]
  },
  {
   "cell_type": "code",
   "execution_count": 50,
   "id": "1c646a86-b75d-4604-8558-a8adda152ce4",
   "metadata": {},
   "outputs": [],
   "source": [
    "import pandas as pd\n",
    "import numpy as np\n",
    "from datasets import Dataset\n",
    "from transformers import AutoConfig, AutoTokenizer, AutoModelForSequenceClassification\n",
    "from transformers import TextClassificationPipeline\n",
    "from transformers.pipelines.pt_utils import KeyDataset\n",
    "from tqdm.auto import tqdm\n",
    "from typing import List, Dict, Tuple, Union, Callable\n",
    "\n",
    "def predict_from_transformer(\n",
    "    \n",
    "        dataset: Dataset, \n",
    "        checkpoint_or_path: str,\n",
    "        mode: str = \"label\", \n",
    "        local_files_only: bool = False,\n",
    "        tokenizer_kwargs: dict = {}\n",
    "    \n",
    ") -> np.array:\n",
    "    \"\"\"\n",
    "    Performs inference using a pre-trained transformer model on a given dataset.\n",
    "\n",
    "    Args:\n",
    "        - dataset (Dataset): The dataset to perform inference on. Must contain a \"text\" column.\n",
    "        - checkpoint_or_path (str): The checkpoint or path to the pre-trained model.\n",
    "        - mode (str, optional): The mode for prediction. Possible values are 'label' or 'proba'.\n",
    "                                'label' returns the predicted label for each sample.\n",
    "                                'proba' returns the predicted probabilities for each class.\n",
    "                                 Defaults to 'label'.\n",
    "        - local_files_only (bool, optional): Whether to only use local files when loading the model.\n",
    "                                             Defaults to False.\n",
    "        - tokenizer_kwargs (dict, optional): Additional keyword arguments to be passed to the tokenizer.\n",
    "                                             Defaults to an empty dictionary.\n",
    "\n",
    "    Returns:\n",
    "        numpy.array: An array of predicted labels or probabilities.\n",
    "\n",
    "    \"\"\"\n",
    "    # Load the tokenizer\n",
    "    tokenizer = AutoTokenizer.from_pretrained(\n",
    "        checkpoint_or_path, local_files_only=local_files_only\n",
    "    )\n",
    "    \n",
    "    # Load the model\n",
    "    model = AutoModelForSequenceClassification.from_pretrained(\n",
    "        checkpoint_or_path, local_files_only=local_files_only\n",
    "    )\n",
    "    \n",
    "    # Create a text classification pipeline\n",
    "    pipe = TextClassificationPipeline(model=model, tokenizer=tokenizer, top_k=None)\n",
    "    \n",
    "    preds = []\n",
    "    for out in tqdm(pipe(KeyDataset(dataset, \"text\"), **tokenizer_kwargs)):\n",
    "        if mode == \"label\":\n",
    "            preds.append(out[0][\"label\"])  # Append the predicted label\n",
    "        elif mode == \"proba\":\n",
    "            out = sorted(out, key=lambda x: x[\"label\"])\n",
    "            preds.append([class_[\"score\"] for class_ in out])  # Append the predicted probabilities for each class\n",
    "    \n",
    "    return np.array(preds)"
   ]
  },
  {
   "cell_type": "code",
   "execution_count": null,
   "id": "32913288-3b90-4d66-8103-40fe97d340b3",
   "metadata": {
    "tags": []
   },
   "outputs": [],
   "source": [
    "opponents = [\n",
    "    # misogyny\n",
    "    ## https://huggingface.co/glombardo/misogynistic-statements-classification-model\n",
    "    (\"glombardo/misogynistic-statements-classification-model\", \"glombardo\"),\n",
    "    \n",
    "    # sexism\n",
    "    ## https://huggingface.co/hackathon-pln-es/twitter_sexismo-finetuned-robertuito-exist2021\n",
    "    (\"hackathon-pln-es/twitter_sexismo-finetuned-robertuito-exist2021\", \"pln-es\")\n",
    "    \n",
    "    # sexism-base\n",
    "    (\"../src3/detector/purificacion-sexism-detection-v0\", \"custom-base\")\n",
    "    \n",
    "    # sexism-full\n",
    "    (\"../src3/detector/purificacion-sexism-detection\", \"custom-full\")\n",
    "]\n",
    "\n",
    "y_true, aux = sample.sexist.to_list(), []\n",
    "for model_name, out_col in opponents:\n",
    "    preds = predict_from_transformer(sample_dataset, model_name)\n",
    "    sample_labeled[out_col] = preds\n",
    "    \n",
    "    f1_kwargs = {\"y_true\": y_true, \"y_pred\": sample[out_col].to_list()}\n",
    "    for lab, pos_lab in [(\"positive\", 1), (\"negative\", 0)]:\n",
    "        aux.append([model, lab, f1_score(**f1_kwargs, pos_label=pos_lab)])\n",
    "    for avg in [\"macro\", \"micro\"]:\n",
    "        aux.append([model, f\"{avg}-avg\", f1_score(**f1_kwargs, average=avg)])\n",
    "\n",
    "josefina_comparison = pd.DataFrame(aux, columns=[\"model\", \"label\", \"f1-score\"])"
   ]
  },
  {
   "cell_type": "code",
   "execution_count": null,
   "id": "dca5e391-82d9-497c-a5bd-e2f2cbb1c636",
   "metadata": {},
   "outputs": [],
   "source": [
    "RED = \"#ea544d\"\n",
    "BLUE = \"#418fde\"\n",
    "YELL = \"#fbd305\"\n",
    "PURP = \"#cc64bc\"\n",
    "BLCK = \"#3c4444\"\n",
    "GREY = \"#f5f5f5\"\n",
    "font = \"Calibri\"\n",
    "GREEN=\"#C4D454\"\n",
    "GREY2='#A08C88'\n",
    "SALM = '#EB8B59'\n",
    "BRW='#ECD3BC'\n",
    "BLUE2='#5BC3E3'"
   ]
  },
  {
   "cell_type": "code",
   "execution_count": 15,
   "id": "6d396139-a9f9-4b01-8125-d0aac6a3f0a2",
   "metadata": {},
   "outputs": [
    {
     "data": {
      "application/vnd.plotly.v1+json": {
       "config": {
        "plotlyServerURL": "https://plot.ly"
       },
       "data": [
        {
         "alignmentgroup": "True",
         "hovertemplate": "label=positive<br>model=%{x}<br>f1-score=%{y}<extra></extra>",
         "legendgroup": "positive",
         "marker": {
          "color": "#3c4444",
          "pattern": {
           "shape": ""
          }
         },
         "name": "positive",
         "offsetgroup": "positive",
         "orientation": "v",
         "showlegend": true,
         "textposition": "auto",
         "texttemplate": "%{y:.2f}",
         "type": "bar",
         "x": [
          "glombardo",
          "custom-full",
          "custom-base",
          "pln-es"
         ],
         "xaxis": "x3",
         "y": [
          0.21198156682027652,
          0.4724061810154525,
          0.47769028871391084,
          0.5109489051094891
         ],
         "yaxis": "y3"
        },
        {
         "alignmentgroup": "True",
         "hovertemplate": "label=negative<br>model=%{x}<br>f1-score=%{y}<extra></extra>",
         "legendgroup": "negative",
         "marker": {
          "color": "#ea544d",
          "pattern": {
           "shape": ""
          }
         },
         "name": "negative",
         "offsetgroup": "negative",
         "orientation": "v",
         "showlegend": true,
         "textposition": "auto",
         "texttemplate": "%{y:.2f}",
         "type": "bar",
         "x": [
          "glombardo",
          "custom-full",
          "pln-es",
          "custom-base"
         ],
         "xaxis": "x4",
         "y": [
          0.7695417789757413,
          0.9293526455808454,
          0.9413138686131387,
          0.9424023154848047
         ],
         "yaxis": "y4"
        },
        {
         "alignmentgroup": "True",
         "hovertemplate": "label=macro-avg<br>model=%{x}<br>f1-score=%{y}<extra></extra>",
         "legendgroup": "macro-avg",
         "marker": {
          "color": "#fbd305",
          "pattern": {
           "shape": ""
          }
         },
         "name": "macro-avg",
         "offsetgroup": "macro-avg",
         "orientation": "v",
         "showlegend": true,
         "textposition": "auto",
         "texttemplate": "%{y:.2f}",
         "type": "bar",
         "x": [
          "glombardo",
          "custom-full",
          "custom-base",
          "pln-es"
         ],
         "xaxis": "x",
         "y": [
          0.49076167289800887,
          0.700879413298149,
          0.7100463020993577,
          0.726131386861314
         ],
         "yaxis": "y"
        },
        {
         "alignmentgroup": "True",
         "hovertemplate": "label=micro-avg<br>model=%{x}<br>f1-score=%{y}<extra></extra>",
         "legendgroup": "micro-avg",
         "marker": {
          "color": "#5BC3E3",
          "pattern": {
           "shape": ""
          }
         },
         "name": "micro-avg",
         "offsetgroup": "micro-avg",
         "orientation": "v",
         "showlegend": true,
         "textposition": "auto",
         "texttemplate": "%{y:.2f}",
         "type": "bar",
         "x": [
          "glombardo",
          "custom-full",
          "pln-es",
          "custom-base"
         ],
         "xaxis": "x2",
         "y": [
          0.643378519290928,
          0.8753910323253389,
          0.8952033368091762,
          0.8962460896767466
         ],
         "yaxis": "y2"
        }
       ],
       "layout": {
        "annotations": [
         {
          "font": {},
          "showarrow": false,
          "text": "Macro-Avg Label",
          "x": 0.2425,
          "xanchor": "center",
          "xref": "paper",
          "y": 0.45,
          "yanchor": "bottom",
          "yref": "paper"
         },
         {
          "font": {},
          "showarrow": false,
          "text": "Micro-Avg Label",
          "x": 0.7575000000000001,
          "xanchor": "center",
          "xref": "paper",
          "y": 0.45,
          "yanchor": "bottom",
          "yref": "paper"
         },
         {
          "font": {},
          "showarrow": false,
          "text": "Positive Label",
          "x": 0.2425,
          "xanchor": "center",
          "xref": "paper",
          "y": 1,
          "yanchor": "bottom",
          "yref": "paper"
         },
         {
          "font": {},
          "showarrow": false,
          "text": "Negative Label",
          "x": 0.7575000000000001,
          "xanchor": "center",
          "xref": "paper",
          "y": 1,
          "yanchor": "bottom",
          "yref": "paper"
         }
        ],
        "autosize": false,
        "barmode": "stack",
        "height": 700,
        "legend": {
         "title": {
          "text": "label"
         },
         "tracegroupgap": 0
        },
        "margin": {
         "t": 60
        },
        "template": {
         "data": {
          "bar": [
           {
            "error_x": {
             "color": "#2a3f5f"
            },
            "error_y": {
             "color": "#2a3f5f"
            },
            "marker": {
             "line": {
              "color": "#E5ECF6",
              "width": 0.5
             },
             "pattern": {
              "fillmode": "overlay",
              "size": 10,
              "solidity": 0.2
             }
            },
            "type": "bar"
           }
          ],
          "barpolar": [
           {
            "marker": {
             "line": {
              "color": "#E5ECF6",
              "width": 0.5
             },
             "pattern": {
              "fillmode": "overlay",
              "size": 10,
              "solidity": 0.2
             }
            },
            "type": "barpolar"
           }
          ],
          "carpet": [
           {
            "aaxis": {
             "endlinecolor": "#2a3f5f",
             "gridcolor": "white",
             "linecolor": "white",
             "minorgridcolor": "white",
             "startlinecolor": "#2a3f5f"
            },
            "baxis": {
             "endlinecolor": "#2a3f5f",
             "gridcolor": "white",
             "linecolor": "white",
             "minorgridcolor": "white",
             "startlinecolor": "#2a3f5f"
            },
            "type": "carpet"
           }
          ],
          "choropleth": [
           {
            "colorbar": {
             "outlinewidth": 0,
             "ticks": ""
            },
            "type": "choropleth"
           }
          ],
          "contour": [
           {
            "colorbar": {
             "outlinewidth": 0,
             "ticks": ""
            },
            "colorscale": [
             [
              0,
              "#0d0887"
             ],
             [
              0.1111111111111111,
              "#46039f"
             ],
             [
              0.2222222222222222,
              "#7201a8"
             ],
             [
              0.3333333333333333,
              "#9c179e"
             ],
             [
              0.4444444444444444,
              "#bd3786"
             ],
             [
              0.5555555555555556,
              "#d8576b"
             ],
             [
              0.6666666666666666,
              "#ed7953"
             ],
             [
              0.7777777777777778,
              "#fb9f3a"
             ],
             [
              0.8888888888888888,
              "#fdca26"
             ],
             [
              1,
              "#f0f921"
             ]
            ],
            "type": "contour"
           }
          ],
          "contourcarpet": [
           {
            "colorbar": {
             "outlinewidth": 0,
             "ticks": ""
            },
            "type": "contourcarpet"
           }
          ],
          "heatmap": [
           {
            "colorbar": {
             "outlinewidth": 0,
             "ticks": ""
            },
            "colorscale": [
             [
              0,
              "#0d0887"
             ],
             [
              0.1111111111111111,
              "#46039f"
             ],
             [
              0.2222222222222222,
              "#7201a8"
             ],
             [
              0.3333333333333333,
              "#9c179e"
             ],
             [
              0.4444444444444444,
              "#bd3786"
             ],
             [
              0.5555555555555556,
              "#d8576b"
             ],
             [
              0.6666666666666666,
              "#ed7953"
             ],
             [
              0.7777777777777778,
              "#fb9f3a"
             ],
             [
              0.8888888888888888,
              "#fdca26"
             ],
             [
              1,
              "#f0f921"
             ]
            ],
            "type": "heatmap"
           }
          ],
          "heatmapgl": [
           {
            "colorbar": {
             "outlinewidth": 0,
             "ticks": ""
            },
            "colorscale": [
             [
              0,
              "#0d0887"
             ],
             [
              0.1111111111111111,
              "#46039f"
             ],
             [
              0.2222222222222222,
              "#7201a8"
             ],
             [
              0.3333333333333333,
              "#9c179e"
             ],
             [
              0.4444444444444444,
              "#bd3786"
             ],
             [
              0.5555555555555556,
              "#d8576b"
             ],
             [
              0.6666666666666666,
              "#ed7953"
             ],
             [
              0.7777777777777778,
              "#fb9f3a"
             ],
             [
              0.8888888888888888,
              "#fdca26"
             ],
             [
              1,
              "#f0f921"
             ]
            ],
            "type": "heatmapgl"
           }
          ],
          "histogram": [
           {
            "marker": {
             "pattern": {
              "fillmode": "overlay",
              "size": 10,
              "solidity": 0.2
             }
            },
            "type": "histogram"
           }
          ],
          "histogram2d": [
           {
            "colorbar": {
             "outlinewidth": 0,
             "ticks": ""
            },
            "colorscale": [
             [
              0,
              "#0d0887"
             ],
             [
              0.1111111111111111,
              "#46039f"
             ],
             [
              0.2222222222222222,
              "#7201a8"
             ],
             [
              0.3333333333333333,
              "#9c179e"
             ],
             [
              0.4444444444444444,
              "#bd3786"
             ],
             [
              0.5555555555555556,
              "#d8576b"
             ],
             [
              0.6666666666666666,
              "#ed7953"
             ],
             [
              0.7777777777777778,
              "#fb9f3a"
             ],
             [
              0.8888888888888888,
              "#fdca26"
             ],
             [
              1,
              "#f0f921"
             ]
            ],
            "type": "histogram2d"
           }
          ],
          "histogram2dcontour": [
           {
            "colorbar": {
             "outlinewidth": 0,
             "ticks": ""
            },
            "colorscale": [
             [
              0,
              "#0d0887"
             ],
             [
              0.1111111111111111,
              "#46039f"
             ],
             [
              0.2222222222222222,
              "#7201a8"
             ],
             [
              0.3333333333333333,
              "#9c179e"
             ],
             [
              0.4444444444444444,
              "#bd3786"
             ],
             [
              0.5555555555555556,
              "#d8576b"
             ],
             [
              0.6666666666666666,
              "#ed7953"
             ],
             [
              0.7777777777777778,
              "#fb9f3a"
             ],
             [
              0.8888888888888888,
              "#fdca26"
             ],
             [
              1,
              "#f0f921"
             ]
            ],
            "type": "histogram2dcontour"
           }
          ],
          "mesh3d": [
           {
            "colorbar": {
             "outlinewidth": 0,
             "ticks": ""
            },
            "type": "mesh3d"
           }
          ],
          "parcoords": [
           {
            "line": {
             "colorbar": {
              "outlinewidth": 0,
              "ticks": ""
             }
            },
            "type": "parcoords"
           }
          ],
          "pie": [
           {
            "automargin": true,
            "type": "pie"
           }
          ],
          "scatter": [
           {
            "fillpattern": {
             "fillmode": "overlay",
             "size": 10,
             "solidity": 0.2
            },
            "type": "scatter"
           }
          ],
          "scatter3d": [
           {
            "line": {
             "colorbar": {
              "outlinewidth": 0,
              "ticks": ""
             }
            },
            "marker": {
             "colorbar": {
              "outlinewidth": 0,
              "ticks": ""
             }
            },
            "type": "scatter3d"
           }
          ],
          "scattercarpet": [
           {
            "marker": {
             "colorbar": {
              "outlinewidth": 0,
              "ticks": ""
             }
            },
            "type": "scattercarpet"
           }
          ],
          "scattergeo": [
           {
            "marker": {
             "colorbar": {
              "outlinewidth": 0,
              "ticks": ""
             }
            },
            "type": "scattergeo"
           }
          ],
          "scattergl": [
           {
            "marker": {
             "colorbar": {
              "outlinewidth": 0,
              "ticks": ""
             }
            },
            "type": "scattergl"
           }
          ],
          "scattermapbox": [
           {
            "marker": {
             "colorbar": {
              "outlinewidth": 0,
              "ticks": ""
             }
            },
            "type": "scattermapbox"
           }
          ],
          "scatterpolar": [
           {
            "marker": {
             "colorbar": {
              "outlinewidth": 0,
              "ticks": ""
             }
            },
            "type": "scatterpolar"
           }
          ],
          "scatterpolargl": [
           {
            "marker": {
             "colorbar": {
              "outlinewidth": 0,
              "ticks": ""
             }
            },
            "type": "scatterpolargl"
           }
          ],
          "scatterternary": [
           {
            "marker": {
             "colorbar": {
              "outlinewidth": 0,
              "ticks": ""
             }
            },
            "type": "scatterternary"
           }
          ],
          "surface": [
           {
            "colorbar": {
             "outlinewidth": 0,
             "ticks": ""
            },
            "colorscale": [
             [
              0,
              "#0d0887"
             ],
             [
              0.1111111111111111,
              "#46039f"
             ],
             [
              0.2222222222222222,
              "#7201a8"
             ],
             [
              0.3333333333333333,
              "#9c179e"
             ],
             [
              0.4444444444444444,
              "#bd3786"
             ],
             [
              0.5555555555555556,
              "#d8576b"
             ],
             [
              0.6666666666666666,
              "#ed7953"
             ],
             [
              0.7777777777777778,
              "#fb9f3a"
             ],
             [
              0.8888888888888888,
              "#fdca26"
             ],
             [
              1,
              "#f0f921"
             ]
            ],
            "type": "surface"
           }
          ],
          "table": [
           {
            "cells": {
             "fill": {
              "color": "#EBF0F8"
             },
             "line": {
              "color": "white"
             }
            },
            "header": {
             "fill": {
              "color": "#C8D4E3"
             },
             "line": {
              "color": "white"
             }
            },
            "type": "table"
           }
          ]
         },
         "layout": {
          "annotationdefaults": {
           "arrowcolor": "#2a3f5f",
           "arrowhead": 0,
           "arrowwidth": 1
          },
          "autotypenumbers": "strict",
          "coloraxis": {
           "colorbar": {
            "outlinewidth": 0,
            "ticks": ""
           }
          },
          "colorscale": {
           "diverging": [
            [
             0,
             "#8e0152"
            ],
            [
             0.1,
             "#c51b7d"
            ],
            [
             0.2,
             "#de77ae"
            ],
            [
             0.3,
             "#f1b6da"
            ],
            [
             0.4,
             "#fde0ef"
            ],
            [
             0.5,
             "#f7f7f7"
            ],
            [
             0.6,
             "#e6f5d0"
            ],
            [
             0.7,
             "#b8e186"
            ],
            [
             0.8,
             "#7fbc41"
            ],
            [
             0.9,
             "#4d9221"
            ],
            [
             1,
             "#276419"
            ]
           ],
           "sequential": [
            [
             0,
             "#0d0887"
            ],
            [
             0.1111111111111111,
             "#46039f"
            ],
            [
             0.2222222222222222,
             "#7201a8"
            ],
            [
             0.3333333333333333,
             "#9c179e"
            ],
            [
             0.4444444444444444,
             "#bd3786"
            ],
            [
             0.5555555555555556,
             "#d8576b"
            ],
            [
             0.6666666666666666,
             "#ed7953"
            ],
            [
             0.7777777777777778,
             "#fb9f3a"
            ],
            [
             0.8888888888888888,
             "#fdca26"
            ],
            [
             1,
             "#f0f921"
            ]
           ],
           "sequentialminus": [
            [
             0,
             "#0d0887"
            ],
            [
             0.1111111111111111,
             "#46039f"
            ],
            [
             0.2222222222222222,
             "#7201a8"
            ],
            [
             0.3333333333333333,
             "#9c179e"
            ],
            [
             0.4444444444444444,
             "#bd3786"
            ],
            [
             0.5555555555555556,
             "#d8576b"
            ],
            [
             0.6666666666666666,
             "#ed7953"
            ],
            [
             0.7777777777777778,
             "#fb9f3a"
            ],
            [
             0.8888888888888888,
             "#fdca26"
            ],
            [
             1,
             "#f0f921"
            ]
           ]
          },
          "colorway": [
           "#636efa",
           "#EF553B",
           "#00cc96",
           "#ab63fa",
           "#FFA15A",
           "#19d3f3",
           "#FF6692",
           "#B6E880",
           "#FF97FF",
           "#FECB52"
          ],
          "font": {
           "color": "#2a3f5f"
          },
          "geo": {
           "bgcolor": "white",
           "lakecolor": "white",
           "landcolor": "#E5ECF6",
           "showlakes": true,
           "showland": true,
           "subunitcolor": "white"
          },
          "hoverlabel": {
           "align": "left"
          },
          "hovermode": "closest",
          "mapbox": {
           "style": "light"
          },
          "paper_bgcolor": "white",
          "plot_bgcolor": "#E5ECF6",
          "polar": {
           "angularaxis": {
            "gridcolor": "white",
            "linecolor": "white",
            "ticks": ""
           },
           "bgcolor": "#E5ECF6",
           "radialaxis": {
            "gridcolor": "white",
            "linecolor": "white",
            "ticks": ""
           }
          },
          "scene": {
           "xaxis": {
            "backgroundcolor": "#E5ECF6",
            "gridcolor": "white",
            "gridwidth": 2,
            "linecolor": "white",
            "showbackground": true,
            "ticks": "",
            "zerolinecolor": "white"
           },
           "yaxis": {
            "backgroundcolor": "#E5ECF6",
            "gridcolor": "white",
            "gridwidth": 2,
            "linecolor": "white",
            "showbackground": true,
            "ticks": "",
            "zerolinecolor": "white"
           },
           "zaxis": {
            "backgroundcolor": "#E5ECF6",
            "gridcolor": "white",
            "gridwidth": 2,
            "linecolor": "white",
            "showbackground": true,
            "ticks": "",
            "zerolinecolor": "white"
           }
          },
          "shapedefaults": {
           "line": {
            "color": "#2a3f5f"
           }
          },
          "ternary": {
           "aaxis": {
            "gridcolor": "white",
            "linecolor": "white",
            "ticks": ""
           },
           "baxis": {
            "gridcolor": "white",
            "linecolor": "white",
            "ticks": ""
           },
           "bgcolor": "#E5ECF6",
           "caxis": {
            "gridcolor": "white",
            "linecolor": "white",
            "ticks": ""
           }
          },
          "title": {
           "x": 0.05
          },
          "xaxis": {
           "automargin": true,
           "gridcolor": "white",
           "linecolor": "white",
           "ticks": "",
           "title": {
            "standoff": 15
           },
           "zerolinecolor": "white",
           "zerolinewidth": 2
          },
          "yaxis": {
           "automargin": true,
           "gridcolor": "white",
           "linecolor": "white",
           "ticks": "",
           "title": {
            "standoff": 15
           },
           "zerolinecolor": "white",
           "zerolinewidth": 2
          }
         }
        },
        "width": 700,
        "xaxis": {
         "anchor": "y",
         "autorange": true,
         "domain": [
          0,
          0.485
         ],
         "range": [
          -0.5,
          3.5
         ],
         "title": {
          "text": "model"
         },
         "type": "category"
        },
        "xaxis2": {
         "anchor": "y2",
         "autorange": true,
         "domain": [
          0.515,
          1
         ],
         "matches": "x",
         "range": [
          -0.5,
          3.5
         ],
         "title": {
          "text": "model"
         },
         "type": "category"
        },
        "xaxis3": {
         "anchor": "y3",
         "autorange": true,
         "domain": [
          0,
          0.485
         ],
         "matches": "x",
         "range": [
          -0.5,
          3.5
         ],
         "showticklabels": false,
         "type": "category"
        },
        "xaxis4": {
         "anchor": "y4",
         "autorange": true,
         "domain": [
          0.515,
          1
         ],
         "matches": "x",
         "range": [
          -0.5,
          3.5
         ],
         "showticklabels": false,
         "type": "category"
        },
        "yaxis": {
         "anchor": "x",
         "autorange": true,
         "domain": [
          0,
          0.45
         ],
         "range": [
          0,
          0.992002437352426
         ],
         "title": {
          "text": "f1-score"
         },
         "type": "linear"
        },
        "yaxis2": {
         "anchor": "x2",
         "autorange": true,
         "domain": [
          0,
          0.45
         ],
         "matches": "y",
         "range": [
          0,
          0.992002437352426
         ],
         "showticklabels": false,
         "type": "linear"
        },
        "yaxis3": {
         "anchor": "x3",
         "autorange": true,
         "domain": [
          0.55,
          1
         ],
         "matches": "y",
         "range": [
          0,
          0.992002437352426
         ],
         "title": {
          "text": "f1-score"
         },
         "type": "linear"
        },
        "yaxis4": {
         "anchor": "x4",
         "autorange": true,
         "domain": [
          0.55,
          1
         ],
         "matches": "y",
         "range": [
          0,
          0.992002437352426
         ],
         "showticklabels": false,
         "type": "linear"
        }
       }
      },
      "image/png": "[encoded data removed]",
      "text/html": [
       "<div>                            <div id=\"17601bb8-e9a9-42ef-81b3-f200606dba72\" class=\"plotly-graph-div\" style=\"height:700px; width:700px;\"></div>            <script type=\"text/javascript\">                require([\"plotly\"], function(Plotly) {                    window.PLOTLYENV=window.PLOTLYENV || {};                                    if (document.getElementById(\"17601bb8-e9a9-42ef-81b3-f200606dba72\")) {                    Plotly.newPlot(                        \"17601bb8-e9a9-42ef-81b3-f200606dba72\",                        [{\"alignmentgroup\":\"True\",\"hovertemplate\":\"label=positive<br>model=%{x}<br>f1-score=%{y}<extra></extra>\",\"legendgroup\":\"positive\",\"marker\":{\"color\":\"#3c4444\",\"pattern\":{\"shape\":\"\"}},\"name\":\"positive\",\"offsetgroup\":\"positive\",\"orientation\":\"v\",\"showlegend\":true,\"textposition\":\"auto\",\"texttemplate\":\"%{y:.2f}\",\"x\":[\"glombardo\",\"custom-full\",\"custom-base\",\"pln-es\"],\"xaxis\":\"x3\",\"y\":[0.21198156682027652,0.4724061810154525,0.47769028871391084,0.5109489051094891],\"yaxis\":\"y3\",\"type\":\"bar\"},{\"alignmentgroup\":\"True\",\"hovertemplate\":\"label=negative<br>model=%{x}<br>f1-score=%{y}<extra></extra>\",\"legendgroup\":\"negative\",\"marker\":{\"color\":\"#ea544d\",\"pattern\":{\"shape\":\"\"}},\"name\":\"negative\",\"offsetgroup\":\"negative\",\"orientation\":\"v\",\"showlegend\":true,\"textposition\":\"auto\",\"texttemplate\":\"%{y:.2f}\",\"x\":[\"glombardo\",\"custom-full\",\"pln-es\",\"custom-base\"],\"xaxis\":\"x4\",\"y\":[0.7695417789757413,0.9293526455808454,0.9413138686131387,0.9424023154848047],\"yaxis\":\"y4\",\"type\":\"bar\"},{\"alignmentgroup\":\"True\",\"hovertemplate\":\"label=macro-avg<br>model=%{x}<br>f1-score=%{y}<extra></extra>\",\"legendgroup\":\"macro-avg\",\"marker\":{\"color\":\"#fbd305\",\"pattern\":{\"shape\":\"\"}},\"name\":\"macro-avg\",\"offsetgroup\":\"macro-avg\",\"orientation\":\"v\",\"showlegend\":true,\"textposition\":\"auto\",\"texttemplate\":\"%{y:.2f}\",\"x\":[\"glombardo\",\"custom-full\",\"custom-base\",\"pln-es\"],\"xaxis\":\"x\",\"y\":[0.49076167289800887,0.700879413298149,0.7100463020993577,0.726131386861314],\"yaxis\":\"y\",\"type\":\"bar\"},{\"alignmentgroup\":\"True\",\"hovertemplate\":\"label=micro-avg<br>model=%{x}<br>f1-score=%{y}<extra></extra>\",\"legendgroup\":\"micro-avg\",\"marker\":{\"color\":\"#5BC3E3\",\"pattern\":{\"shape\":\"\"}},\"name\":\"micro-avg\",\"offsetgroup\":\"micro-avg\",\"orientation\":\"v\",\"showlegend\":true,\"textposition\":\"auto\",\"texttemplate\":\"%{y:.2f}\",\"x\":[\"glombardo\",\"custom-full\",\"pln-es\",\"custom-base\"],\"xaxis\":\"x2\",\"y\":[0.643378519290928,0.8753910323253389,0.8952033368091762,0.8962460896767466],\"yaxis\":\"y2\",\"type\":\"bar\"}],                        {\"template\":{\"data\":{\"histogram2dcontour\":[{\"type\":\"histogram2dcontour\",\"colorbar\":{\"outlinewidth\":0,\"ticks\":\"\"},\"colorscale\":[[0.0,\"#0d0887\"],[0.1111111111111111,\"#46039f\"],[0.2222222222222222,\"#7201a8\"],[0.3333333333333333,\"#9c179e\"],[0.4444444444444444,\"#bd3786\"],[0.5555555555555556,\"#d8576b\"],[0.6666666666666666,\"#ed7953\"],[0.7777777777777778,\"#fb9f3a\"],[0.8888888888888888,\"#fdca26\"],[1.0,\"#f0f921\"]]}],\"choropleth\":[{\"type\":\"choropleth\",\"colorbar\":{\"outlinewidth\":0,\"ticks\":\"\"}}],\"histogram2d\":[{\"type\":\"histogram2d\",\"colorbar\":{\"outlinewidth\":0,\"ticks\":\"\"},\"colorscale\":[[0.0,\"#0d0887\"],[0.1111111111111111,\"#46039f\"],[0.2222222222222222,\"#7201a8\"],[0.3333333333333333,\"#9c179e\"],[0.4444444444444444,\"#bd3786\"],[0.5555555555555556,\"#d8576b\"],[0.6666666666666666,\"#ed7953\"],[0.7777777777777778,\"#fb9f3a\"],[0.8888888888888888,\"#fdca26\"],[1.0,\"#f0f921\"]]}],\"heatmap\":[{\"type\":\"heatmap\",\"colorbar\":{\"outlinewidth\":0,\"ticks\":\"\"},\"colorscale\":[[0.0,\"#0d0887\"],[0.1111111111111111,\"#46039f\"],[0.2222222222222222,\"#7201a8\"],[0.3333333333333333,\"#9c179e\"],[0.4444444444444444,\"#bd3786\"],[0.5555555555555556,\"#d8576b\"],[0.6666666666666666,\"#ed7953\"],[0.7777777777777778,\"#fb9f3a\"],[0.8888888888888888,\"#fdca26\"],[1.0,\"#f0f921\"]]}],\"heatmapgl\":[{\"type\":\"heatmapgl\",\"colorbar\":{\"outlinewidth\":0,\"ticks\":\"\"},\"colorscale\":[[0.0,\"#0d0887\"],[0.1111111111111111,\"#46039f\"],[0.2222222222222222,\"#7201a8\"],[0.3333333333333333,\"#9c179e\"],[0.4444444444444444,\"#bd3786\"],[0.5555555555555556,\"#d8576b\"],[0.6666666666666666,\"#ed7953\"],[0.7777777777777778,\"#fb9f3a\"],[0.8888888888888888,\"#fdca26\"],[1.0,\"#f0f921\"]]}],\"contourcarpet\":[{\"type\":\"contourcarpet\",\"colorbar\":{\"outlinewidth\":0,\"ticks\":\"\"}}],\"contour\":[{\"type\":\"contour\",\"colorbar\":{\"outlinewidth\":0,\"ticks\":\"\"},\"colorscale\":[[0.0,\"#0d0887\"],[0.1111111111111111,\"#46039f\"],[0.2222222222222222,\"#7201a8\"],[0.3333333333333333,\"#9c179e\"],[0.4444444444444444,\"#bd3786\"],[0.5555555555555556,\"#d8576b\"],[0.6666666666666666,\"#ed7953\"],[0.7777777777777778,\"#fb9f3a\"],[0.8888888888888888,\"#fdca26\"],[1.0,\"#f0f921\"]]}],\"surface\":[{\"type\":\"surface\",\"colorbar\":{\"outlinewidth\":0,\"ticks\":\"\"},\"colorscale\":[[0.0,\"#0d0887\"],[0.1111111111111111,\"#46039f\"],[0.2222222222222222,\"#7201a8\"],[0.3333333333333333,\"#9c179e\"],[0.4444444444444444,\"#bd3786\"],[0.5555555555555556,\"#d8576b\"],[0.6666666666666666,\"#ed7953\"],[0.7777777777777778,\"#fb9f3a\"],[0.8888888888888888,\"#fdca26\"],[1.0,\"#f0f921\"]]}],\"mesh3d\":[{\"type\":\"mesh3d\",\"colorbar\":{\"outlinewidth\":0,\"ticks\":\"\"}}],\"scatter\":[{\"fillpattern\":{\"fillmode\":\"overlay\",\"size\":10,\"solidity\":0.2},\"type\":\"scatter\"}],\"parcoords\":[{\"type\":\"parcoords\",\"line\":{\"colorbar\":{\"outlinewidth\":0,\"ticks\":\"\"}}}],\"scatterpolargl\":[{\"type\":\"scatterpolargl\",\"marker\":{\"colorbar\":{\"outlinewidth\":0,\"ticks\":\"\"}}}],\"bar\":[{\"error_x\":{\"color\":\"#2a3f5f\"},\"error_y\":{\"color\":\"#2a3f5f\"},\"marker\":{\"line\":{\"color\":\"#E5ECF6\",\"width\":0.5},\"pattern\":{\"fillmode\":\"overlay\",\"size\":10,\"solidity\":0.2}},\"type\":\"bar\"}],\"scattergeo\":[{\"type\":\"scattergeo\",\"marker\":{\"colorbar\":{\"outlinewidth\":0,\"ticks\":\"\"}}}],\"scatterpolar\":[{\"type\":\"scatterpolar\",\"marker\":{\"colorbar\":{\"outlinewidth\":0,\"ticks\":\"\"}}}],\"histogram\":[{\"marker\":{\"pattern\":{\"fillmode\":\"overlay\",\"size\":10,\"solidity\":0.2}},\"type\":\"histogram\"}],\"scattergl\":[{\"type\":\"scattergl\",\"marker\":{\"colorbar\":{\"outlinewidth\":0,\"ticks\":\"\"}}}],\"scatter3d\":[{\"type\":\"scatter3d\",\"line\":{\"colorbar\":{\"outlinewidth\":0,\"ticks\":\"\"}},\"marker\":{\"colorbar\":{\"outlinewidth\":0,\"ticks\":\"\"}}}],\"scattermapbox\":[{\"type\":\"scattermapbox\",\"marker\":{\"colorbar\":{\"outlinewidth\":0,\"ticks\":\"\"}}}],\"scatterternary\":[{\"type\":\"scatterternary\",\"marker\":{\"colorbar\":{\"outlinewidth\":0,\"ticks\":\"\"}}}],\"scattercarpet\":[{\"type\":\"scattercarpet\",\"marker\":{\"colorbar\":{\"outlinewidth\":0,\"ticks\":\"\"}}}],\"carpet\":[{\"aaxis\":{\"endlinecolor\":\"#2a3f5f\",\"gridcolor\":\"white\",\"linecolor\":\"white\",\"minorgridcolor\":\"white\",\"startlinecolor\":\"#2a3f5f\"},\"baxis\":{\"endlinecolor\":\"#2a3f5f\",\"gridcolor\":\"white\",\"linecolor\":\"white\",\"minorgridcolor\":\"white\",\"startlinecolor\":\"#2a3f5f\"},\"type\":\"carpet\"}],\"table\":[{\"cells\":{\"fill\":{\"color\":\"#EBF0F8\"},\"line\":{\"color\":\"white\"}},\"header\":{\"fill\":{\"color\":\"#C8D4E3\"},\"line\":{\"color\":\"white\"}},\"type\":\"table\"}],\"barpolar\":[{\"marker\":{\"line\":{\"color\":\"#E5ECF6\",\"width\":0.5},\"pattern\":{\"fillmode\":\"overlay\",\"size\":10,\"solidity\":0.2}},\"type\":\"barpolar\"}],\"pie\":[{\"automargin\":true,\"type\":\"pie\"}]},\"layout\":{\"autotypenumbers\":\"strict\",\"colorway\":[\"#636efa\",\"#EF553B\",\"#00cc96\",\"#ab63fa\",\"#FFA15A\",\"#19d3f3\",\"#FF6692\",\"#B6E880\",\"#FF97FF\",\"#FECB52\"],\"font\":{\"color\":\"#2a3f5f\"},\"hovermode\":\"closest\",\"hoverlabel\":{\"align\":\"left\"},\"paper_bgcolor\":\"white\",\"plot_bgcolor\":\"#E5ECF6\",\"polar\":{\"bgcolor\":\"#E5ECF6\",\"angularaxis\":{\"gridcolor\":\"white\",\"linecolor\":\"white\",\"ticks\":\"\"},\"radialaxis\":{\"gridcolor\":\"white\",\"linecolor\":\"white\",\"ticks\":\"\"}},\"ternary\":{\"bgcolor\":\"#E5ECF6\",\"aaxis\":{\"gridcolor\":\"white\",\"linecolor\":\"white\",\"ticks\":\"\"},\"baxis\":{\"gridcolor\":\"white\",\"linecolor\":\"white\",\"ticks\":\"\"},\"caxis\":{\"gridcolor\":\"white\",\"linecolor\":\"white\",\"ticks\":\"\"}},\"coloraxis\":{\"colorbar\":{\"outlinewidth\":0,\"ticks\":\"\"}},\"colorscale\":{\"sequential\":[[0.0,\"#0d0887\"],[0.1111111111111111,\"#46039f\"],[0.2222222222222222,\"#7201a8\"],[0.3333333333333333,\"#9c179e\"],[0.4444444444444444,\"#bd3786\"],[0.5555555555555556,\"#d8576b\"],[0.6666666666666666,\"#ed7953\"],[0.7777777777777778,\"#fb9f3a\"],[0.8888888888888888,\"#fdca26\"],[1.0,\"#f0f921\"]],\"sequentialminus\":[[0.0,\"#0d0887\"],[0.1111111111111111,\"#46039f\"],[0.2222222222222222,\"#7201a8\"],[0.3333333333333333,\"#9c179e\"],[0.4444444444444444,\"#bd3786\"],[0.5555555555555556,\"#d8576b\"],[0.6666666666666666,\"#ed7953\"],[0.7777777777777778,\"#fb9f3a\"],[0.8888888888888888,\"#fdca26\"],[1.0,\"#f0f921\"]],\"diverging\":[[0,\"#8e0152\"],[0.1,\"#c51b7d\"],[0.2,\"#de77ae\"],[0.3,\"#f1b6da\"],[0.4,\"#fde0ef\"],[0.5,\"#f7f7f7\"],[0.6,\"#e6f5d0\"],[0.7,\"#b8e186\"],[0.8,\"#7fbc41\"],[0.9,\"#4d9221\"],[1,\"#276419\"]]},\"xaxis\":{\"gridcolor\":\"white\",\"linecolor\":\"white\",\"ticks\":\"\",\"title\":{\"standoff\":15},\"zerolinecolor\":\"white\",\"automargin\":true,\"zerolinewidth\":2},\"yaxis\":{\"gridcolor\":\"white\",\"linecolor\":\"white\",\"ticks\":\"\",\"title\":{\"standoff\":15},\"zerolinecolor\":\"white\",\"automargin\":true,\"zerolinewidth\":2},\"scene\":{\"xaxis\":{\"backgroundcolor\":\"#E5ECF6\",\"gridcolor\":\"white\",\"linecolor\":\"white\",\"showbackground\":true,\"ticks\":\"\",\"zerolinecolor\":\"white\",\"gridwidth\":2},\"yaxis\":{\"backgroundcolor\":\"#E5ECF6\",\"gridcolor\":\"white\",\"linecolor\":\"white\",\"showbackground\":true,\"ticks\":\"\",\"zerolinecolor\":\"white\",\"gridwidth\":2},\"zaxis\":{\"backgroundcolor\":\"#E5ECF6\",\"gridcolor\":\"white\",\"linecolor\":\"white\",\"showbackground\":true,\"ticks\":\"\",\"zerolinecolor\":\"white\",\"gridwidth\":2}},\"shapedefaults\":{\"line\":{\"color\":\"#2a3f5f\"}},\"annotationdefaults\":{\"arrowcolor\":\"#2a3f5f\",\"arrowhead\":0,\"arrowwidth\":1},\"geo\":{\"bgcolor\":\"white\",\"landcolor\":\"#E5ECF6\",\"subunitcolor\":\"white\",\"showland\":true,\"showlakes\":true,\"lakecolor\":\"white\"},\"title\":{\"x\":0.05},\"mapbox\":{\"style\":\"light\"}}},\"xaxis\":{\"anchor\":\"y\",\"domain\":[0.0,0.485],\"title\":{\"text\":\"model\"}},\"yaxis\":{\"anchor\":\"x\",\"domain\":[0.0,0.45],\"title\":{\"text\":\"f1-score\"}},\"xaxis2\":{\"anchor\":\"y2\",\"domain\":[0.515,1.0],\"matches\":\"x\",\"title\":{\"text\":\"model\"}},\"yaxis2\":{\"anchor\":\"x2\",\"domain\":[0.0,0.45],\"matches\":\"y\",\"showticklabels\":false},\"xaxis3\":{\"anchor\":\"y3\",\"domain\":[0.0,0.485],\"matches\":\"x\",\"showticklabels\":false},\"yaxis3\":{\"anchor\":\"x3\",\"domain\":[0.55,1.0],\"matches\":\"y\",\"title\":{\"text\":\"f1-score\"}},\"xaxis4\":{\"anchor\":\"y4\",\"domain\":[0.515,1.0],\"matches\":\"x\",\"showticklabels\":false},\"yaxis4\":{\"anchor\":\"x4\",\"domain\":[0.55,1.0],\"matches\":\"y\",\"showticklabels\":false},\"annotations\":[{\"font\":{},\"showarrow\":false,\"text\":\"Macro-Avg Label\",\"x\":0.2425,\"xanchor\":\"center\",\"xref\":\"paper\",\"y\":0.45,\"yanchor\":\"bottom\",\"yref\":\"paper\"},{\"font\":{},\"showarrow\":false,\"text\":\"Micro-Avg Label\",\"x\":0.7575000000000001,\"xanchor\":\"center\",\"xref\":\"paper\",\"y\":0.45,\"yanchor\":\"bottom\",\"yref\":\"paper\"},{\"font\":{},\"showarrow\":false,\"text\":\"Positive Label\",\"x\":0.2425,\"xanchor\":\"center\",\"xref\":\"paper\",\"y\":1.0,\"yanchor\":\"bottom\",\"yref\":\"paper\"},{\"font\":{},\"showarrow\":false,\"text\":\"Negative Label\",\"x\":0.7575000000000001,\"xanchor\":\"center\",\"xref\":\"paper\",\"y\":1.0,\"yanchor\":\"bottom\",\"yref\":\"paper\"}],\"legend\":{\"title\":{\"text\":\"label\"},\"tracegroupgap\":0},\"margin\":{\"t\":60},\"barmode\":\"stack\",\"autosize\":false,\"width\":700,\"height\":700},                        {\"responsive\": true}                    ).then(function(){\n",
       "                            \n",
       "var gd = document.getElementById('17601bb8-e9a9-42ef-81b3-f200606dba72');\n",
       "var x = new MutationObserver(function (mutations, observer) {{\n",
       "        var display = window.getComputedStyle(gd).display;\n",
       "        if (!display || display === 'none') {{\n",
       "            console.log([gd, 'removed!']);\n",
       "            Plotly.purge(gd);\n",
       "            observer.disconnect();\n",
       "        }}\n",
       "}});\n",
       "\n",
       "// Listen for the removal of the full notebook cells\n",
       "var notebookContainer = gd.closest('#notebook-container');\n",
       "if (notebookContainer) {{\n",
       "    x.observe(notebookContainer, {childList: true});\n",
       "}}\n",
       "\n",
       "// Listen for the clearing of the current output cell\n",
       "var outputEl = gd.closest('.output');\n",
       "if (outputEl) {{\n",
       "    x.observe(outputEl, {childList: true});\n",
       "}}\n",
       "\n",
       "                        })                };                });            </script>        </div>"
      ]
     },
     "metadata": {},
     "output_type": "display_data"
    }
   ],
   "source": [
    "fig = px.bar(\n",
    "    josefina_comparison.sort_values(by=\"f1-score\"),          \n",
    "    x='model', y='f1-score', color='label', \n",
    "    barmode=\"stack\", \n",
    "    text_auto='.2f',\n",
    "    facet_col='label', \n",
    "    facet_col_wrap=2, \n",
    "    facet_row_spacing=0.1, \n",
    "    facet_col_spacing=0.03,\n",
    "    color_discrete_sequence=[BLCK, RED, YELL, BLUE2],\n",
    "    category_orders={\"label\":[\"positive\", \"negative\", \"macro-avg\", \"micro-avg\"]}\n",
    ")\n",
    "\n",
    "fig.for_each_annotation(lambda a: a.update(text=\" \".join(reversed(a.text.split(\"=\"))).title()))\n",
    "\n",
    "fig.update_layout(\n",
    "    autosize=False,\n",
    "    width=700,\n",
    "    height=700\n",
    ")\n",
    "fig.show()"
   ]
  },
  {
   "cell_type": "markdown",
   "id": "1d74e6bf-9cad-4bbc-96ab-9cff82390d80",
   "metadata": {},
   "source": [
    "The custom-base model achieved an F1 score of 0.478 for label_positive and 0.942 for label_negative. The macro-avg F1 score was 0.710, while the micro-avg F1 score was 0.896.\n",
    "\n",
    "The custom-full model achieved slightly lower F1 scores, with 0.472 for label_positive and 0.929 for label_negative. The macro-avg and micro-avg F1 scores were 0.701 and 0.875, respectively.\n",
    "\n",
    "The glombardo model showed lower F1 scores overall, with 0.212 for label_positive and 0.770 for label_negative. The macro-avg F1 score was 0.491, while the micro-avg F1 score was 0.643.\n",
    "\n",
    "Finally, the pln-es model demonstrated higher performance, with an F1 score of 0.511 for label_positive and 0.941 for label_negative. The macro-avg F1 score was 0.726, and the micro-avg F1 score was 0.895.\n",
    "\n",
    "We observe that while there is a model that performs slightly better than ours, our own model exhibits a commendable level of prediction accuracy. Given the scarcity of models specifically tailored for this task, the comparable F1-scores achieved by our model for both label_positive and label_negative are particularly noteworthy. These results highlight the effectiveness of our model in addressing the challenge of sexism detection. Despite the limited range of model options available for comparison, our model's performance approaches that of the top-performing model. This emphasizes the significance of our work and its potential impact in the absence of a broader selection of models for evaluation."
   ]
  },
  {
   "cell_type": "markdown",
   "id": "b9891a82-66b1-4e0b-b9a6-b318f6682d17",
   "metadata": {},
   "source": [
    "### Rosita - Evaluation"
   ]
  },
  {
   "cell_type": "markdown",
   "id": "4011b258-c98a-4372-b091-c68d7d5e2b4a",
   "metadata": {},
   "source": [
    "The second model we evaluate is Rosita, another custom model developed to classify sexism content into proper subtypes. Similar to Josefina, we measure Rosita's performance on the manually labeled dataset, examining its accuracy, precision, recall, and F1 scores (macro averaged). "
   ]
  },
  {
   "cell_type": "code",
   "execution_count": null,
   "id": "1a8fd95f-6524-4f8e-93b4-207b8b7fd0b1",
   "metadata": {},
   "outputs": [],
   "source": [
    "sample_labeled_sexist = sample_labeled.query(\"sexist == 1\")\n",
    "\n",
    "type_predsv0 = predict_from_transformer(Dataset.from_pandas(sample_labeled_sexist),\n",
    "                                      \"../src3/tagger/rosita-sexism-classification-v0\")\n",
    "type_preds = predict_from_transformer(Dataset.from_pandas(sample_labeled_sexist),\n",
    "                                      \"../src3/tagger/rosita-sexism-classification\")\n",
    "def id2label_sexismtype(id_):\n",
    "    return {\n",
    "        0: \"abuse\",\n",
    "        1: \"hate\",\n",
    "        2: \"profanities\",\n",
    "        3: \"sexually-explicit\",\n",
    "        4: \"violent\"\n",
    "    }[id_]\n",
    "\n",
    "sample_labeled_sexist[\"type-base\"] = list(map(lambda x: id2label_sexismtype(int(x.split(\"_\")[1])), type_predsv0))\n",
    "sample_labeled_sexist[\"type-full\"] = list(map(lambda x: id2label_sexismtype(int(x.split(\"_\")[1])), type_preds))"
   ]
  },
  {
   "cell_type": "code",
   "execution_count": 429,
   "id": "4ef11d3a-eacf-4ed1-b52e-b5f89af8877e",
   "metadata": {},
   "outputs": [
    {
     "data": {
      "application/vnd.plotly.v1+json": {
       "config": {
        "plotlyServerURL": "https://plot.ly"
       },
       "data": [
        {
         "alignmentgroup": "True",
         "hovertemplate": "label=abuse<br>metric=%{x}<br>value=%{y}<extra></extra>",
         "legendgroup": "abuse",
         "marker": {
          "color": "#fbd305",
          "pattern": {
           "shape": ""
          }
         },
         "name": "abuse",
         "offsetgroup": "abuse",
         "orientation": "v",
         "showlegend": true,
         "textposition": "auto",
         "texttemplate": "%{y:.2f}",
         "type": "bar",
         "x": [
          "precision",
          "recall",
          "f1-score"
         ],
         "xaxis": "x",
         "y": [
          0.5,
          0.25,
          0.3333333333333333
         ],
         "yaxis": "y"
        },
        {
         "alignmentgroup": "True",
         "hovertemplate": "label=hate<br>metric=%{x}<br>value=%{y}<extra></extra>",
         "legendgroup": "hate",
         "marker": {
          "color": "#EB8B59",
          "pattern": {
           "shape": ""
          }
         },
         "name": "hate",
         "offsetgroup": "hate",
         "orientation": "v",
         "showlegend": true,
         "textposition": "auto",
         "texttemplate": "%{y:.2f}",
         "type": "bar",
         "x": [
          "precision",
          "recall",
          "f1-score"
         ],
         "xaxis": "x",
         "y": [
          0.75,
          0.1875,
          0.3
         ],
         "yaxis": "y"
        },
        {
         "alignmentgroup": "True",
         "hovertemplate": "label=profanities<br>metric=%{x}<br>value=%{y}<extra></extra>",
         "legendgroup": "profanities",
         "marker": {
          "color": "#cc64bc",
          "pattern": {
           "shape": ""
          }
         },
         "name": "profanities",
         "offsetgroup": "profanities",
         "orientation": "v",
         "showlegend": true,
         "textposition": "auto",
         "texttemplate": "%{y:.2f}",
         "type": "bar",
         "x": [
          "precision",
          "recall",
          "f1-score"
         ],
         "xaxis": "x",
         "y": [
          0.38095238095238093,
          0.8,
          0.5161290322580645
         ],
         "yaxis": "y"
        },
        {
         "alignmentgroup": "True",
         "hovertemplate": "label=sexually-explicit<br>metric=%{x}<br>value=%{y}<extra></extra>",
         "legendgroup": "sexually-explicit",
         "marker": {
          "color": "#C4D454",
          "pattern": {
           "shape": ""
          }
         },
         "name": "sexually-explicit",
         "offsetgroup": "sexually-explicit",
         "orientation": "v",
         "showlegend": true,
         "textposition": "auto",
         "texttemplate": "%{y:.2f}",
         "type": "bar",
         "x": [
          "precision",
          "recall",
          "f1-score"
         ],
         "xaxis": "x",
         "y": [
          0.5,
          0.6666666666666666,
          0.5714285714285715
         ],
         "yaxis": "y"
        },
        {
         "alignmentgroup": "True",
         "hovertemplate": "label=violent<br>metric=%{x}<br>value=%{y}<extra></extra>",
         "legendgroup": "violent",
         "marker": {
          "color": "#5BC3E3",
          "pattern": {
           "shape": ""
          }
         },
         "name": "violent",
         "offsetgroup": "violent",
         "orientation": "v",
         "showlegend": true,
         "textposition": "auto",
         "texttemplate": "%{y:.2f}",
         "type": "bar",
         "x": [
          "precision",
          "recall",
          "f1-score"
         ],
         "xaxis": "x",
         "y": [
          0,
          0,
          0
         ],
         "yaxis": "y"
        },
        {
         "alignmentgroup": "True",
         "hovertemplate": "label=macro avg<br>metric=%{x}<br>value=%{y}<extra></extra>",
         "legendgroup": "macro avg",
         "marker": {
          "color": "#3c4444",
          "pattern": {
           "shape": ""
          }
         },
         "name": "macro avg",
         "offsetgroup": "macro avg",
         "orientation": "v",
         "showlegend": true,
         "textposition": "auto",
         "texttemplate": "%{y:.2f}",
         "type": "bar",
         "x": [
          "precision",
          "recall",
          "f1-score"
         ],
         "xaxis": "x",
         "y": [
          0.4261904761904762,
          0.38083333333333336,
          0.34417818740399386
         ],
         "yaxis": "y"
        },
        {
         "alignmentgroup": "True",
         "hovertemplate": "label=weighted avg<br>metric=%{x}<br>value=%{y}<extra></extra>",
         "legendgroup": "weighted avg",
         "marker": {
          "color": "#A08C88",
          "pattern": {
           "shape": ""
          }
         },
         "name": "weighted avg",
         "offsetgroup": "weighted avg",
         "orientation": "v",
         "showlegend": true,
         "textposition": "auto",
         "texttemplate": "%{y:.2f}",
         "type": "bar",
         "x": [
          "precision",
          "recall",
          "f1-score"
         ],
         "xaxis": "x",
         "y": [
          0.5441347270615563,
          0.43902439024390244,
          0.40091416582368583
         ],
         "yaxis": "y"
        }
       ],
       "layout": {
        "autosize": true,
        "barmode": "group",
        "legend": {
         "title": {
          "text": "label"
         },
         "tracegroupgap": 0
        },
        "margin": {
         "t": 60
        },
        "template": {
         "data": {
          "bar": [
           {
            "error_x": {
             "color": "#2a3f5f"
            },
            "error_y": {
             "color": "#2a3f5f"
            },
            "marker": {
             "line": {
              "color": "#E5ECF6",
              "width": 0.5
             },
             "pattern": {
              "fillmode": "overlay",
              "size": 10,
              "solidity": 0.2
             }
            },
            "type": "bar"
           }
          ],
          "barpolar": [
           {
            "marker": {
             "line": {
              "color": "#E5ECF6",
              "width": 0.5
             },
             "pattern": {
              "fillmode": "overlay",
              "size": 10,
              "solidity": 0.2
             }
            },
            "type": "barpolar"
           }
          ],
          "carpet": [
           {
            "aaxis": {
             "endlinecolor": "#2a3f5f",
             "gridcolor": "white",
             "linecolor": "white",
             "minorgridcolor": "white",
             "startlinecolor": "#2a3f5f"
            },
            "baxis": {
             "endlinecolor": "#2a3f5f",
             "gridcolor": "white",
             "linecolor": "white",
             "minorgridcolor": "white",
             "startlinecolor": "#2a3f5f"
            },
            "type": "carpet"
           }
          ],
          "choropleth": [
           {
            "colorbar": {
             "outlinewidth": 0,
             "ticks": ""
            },
            "type": "choropleth"
           }
          ],
          "contour": [
           {
            "colorbar": {
             "outlinewidth": 0,
             "ticks": ""
            },
            "colorscale": [
             [
              0,
              "#0d0887"
             ],
             [
              0.1111111111111111,
              "#46039f"
             ],
             [
              0.2222222222222222,
              "#7201a8"
             ],
             [
              0.3333333333333333,
              "#9c179e"
             ],
             [
              0.4444444444444444,
              "#bd3786"
             ],
             [
              0.5555555555555556,
              "#d8576b"
             ],
             [
              0.6666666666666666,
              "#ed7953"
             ],
             [
              0.7777777777777778,
              "#fb9f3a"
             ],
             [
              0.8888888888888888,
              "#fdca26"
             ],
             [
              1,
              "#f0f921"
             ]
            ],
            "type": "contour"
           }
          ],
          "contourcarpet": [
           {
            "colorbar": {
             "outlinewidth": 0,
             "ticks": ""
            },
            "type": "contourcarpet"
           }
          ],
          "heatmap": [
           {
            "colorbar": {
             "outlinewidth": 0,
             "ticks": ""
            },
            "colorscale": [
             [
              0,
              "#0d0887"
             ],
             [
              0.1111111111111111,
              "#46039f"
             ],
             [
              0.2222222222222222,
              "#7201a8"
             ],
             [
              0.3333333333333333,
              "#9c179e"
             ],
             [
              0.4444444444444444,
              "#bd3786"
             ],
             [
              0.5555555555555556,
              "#d8576b"
             ],
             [
              0.6666666666666666,
              "#ed7953"
             ],
             [
              0.7777777777777778,
              "#fb9f3a"
             ],
             [
              0.8888888888888888,
              "#fdca26"
             ],
             [
              1,
              "#f0f921"
             ]
            ],
            "type": "heatmap"
           }
          ],
          "heatmapgl": [
           {
            "colorbar": {
             "outlinewidth": 0,
             "ticks": ""
            },
            "colorscale": [
             [
              0,
              "#0d0887"
             ],
             [
              0.1111111111111111,
              "#46039f"
             ],
             [
              0.2222222222222222,
              "#7201a8"
             ],
             [
              0.3333333333333333,
              "#9c179e"
             ],
             [
              0.4444444444444444,
              "#bd3786"
             ],
             [
              0.5555555555555556,
              "#d8576b"
             ],
             [
              0.6666666666666666,
              "#ed7953"
             ],
             [
              0.7777777777777778,
              "#fb9f3a"
             ],
             [
              0.8888888888888888,
              "#fdca26"
             ],
             [
              1,
              "#f0f921"
             ]
            ],
            "type": "heatmapgl"
           }
          ],
          "histogram": [
           {
            "marker": {
             "pattern": {
              "fillmode": "overlay",
              "size": 10,
              "solidity": 0.2
             }
            },
            "type": "histogram"
           }
          ],
          "histogram2d": [
           {
            "colorbar": {
             "outlinewidth": 0,
             "ticks": ""
            },
            "colorscale": [
             [
              0,
              "#0d0887"
             ],
             [
              0.1111111111111111,
              "#46039f"
             ],
             [
              0.2222222222222222,
              "#7201a8"
             ],
             [
              0.3333333333333333,
              "#9c179e"
             ],
             [
              0.4444444444444444,
              "#bd3786"
             ],
             [
              0.5555555555555556,
              "#d8576b"
             ],
             [
              0.6666666666666666,
              "#ed7953"
             ],
             [
              0.7777777777777778,
              "#fb9f3a"
             ],
             [
              0.8888888888888888,
              "#fdca26"
             ],
             [
              1,
              "#f0f921"
             ]
            ],
            "type": "histogram2d"
           }
          ],
          "histogram2dcontour": [
           {
            "colorbar": {
             "outlinewidth": 0,
             "ticks": ""
            },
            "colorscale": [
             [
              0,
              "#0d0887"
             ],
             [
              0.1111111111111111,
              "#46039f"
             ],
             [
              0.2222222222222222,
              "#7201a8"
             ],
             [
              0.3333333333333333,
              "#9c179e"
             ],
             [
              0.4444444444444444,
              "#bd3786"
             ],
             [
              0.5555555555555556,
              "#d8576b"
             ],
             [
              0.6666666666666666,
              "#ed7953"
             ],
             [
              0.7777777777777778,
              "#fb9f3a"
             ],
             [
              0.8888888888888888,
              "#fdca26"
             ],
             [
              1,
              "#f0f921"
             ]
            ],
            "type": "histogram2dcontour"
           }
          ],
          "mesh3d": [
           {
            "colorbar": {
             "outlinewidth": 0,
             "ticks": ""
            },
            "type": "mesh3d"
           }
          ],
          "parcoords": [
           {
            "line": {
             "colorbar": {
              "outlinewidth": 0,
              "ticks": ""
             }
            },
            "type": "parcoords"
           }
          ],
          "pie": [
           {
            "automargin": true,
            "type": "pie"
           }
          ],
          "scatter": [
           {
            "fillpattern": {
             "fillmode": "overlay",
             "size": 10,
             "solidity": 0.2
            },
            "type": "scatter"
           }
          ],
          "scatter3d": [
           {
            "line": {
             "colorbar": {
              "outlinewidth": 0,
              "ticks": ""
             }
            },
            "marker": {
             "colorbar": {
              "outlinewidth": 0,
              "ticks": ""
             }
            },
            "type": "scatter3d"
           }
          ],
          "scattercarpet": [
           {
            "marker": {
             "colorbar": {
              "outlinewidth": 0,
              "ticks": ""
             }
            },
            "type": "scattercarpet"
           }
          ],
          "scattergeo": [
           {
            "marker": {
             "colorbar": {
              "outlinewidth": 0,
              "ticks": ""
             }
            },
            "type": "scattergeo"
           }
          ],
          "scattergl": [
           {
            "marker": {
             "colorbar": {
              "outlinewidth": 0,
              "ticks": ""
             }
            },
            "type": "scattergl"
           }
          ],
          "scattermapbox": [
           {
            "marker": {
             "colorbar": {
              "outlinewidth": 0,
              "ticks": ""
             }
            },
            "type": "scattermapbox"
           }
          ],
          "scatterpolar": [
           {
            "marker": {
             "colorbar": {
              "outlinewidth": 0,
              "ticks": ""
             }
            },
            "type": "scatterpolar"
           }
          ],
          "scatterpolargl": [
           {
            "marker": {
             "colorbar": {
              "outlinewidth": 0,
              "ticks": ""
             }
            },
            "type": "scatterpolargl"
           }
          ],
          "scatterternary": [
           {
            "marker": {
             "colorbar": {
              "outlinewidth": 0,
              "ticks": ""
             }
            },
            "type": "scatterternary"
           }
          ],
          "surface": [
           {
            "colorbar": {
             "outlinewidth": 0,
             "ticks": ""
            },
            "colorscale": [
             [
              0,
              "#0d0887"
             ],
             [
              0.1111111111111111,
              "#46039f"
             ],
             [
              0.2222222222222222,
              "#7201a8"
             ],
             [
              0.3333333333333333,
              "#9c179e"
             ],
             [
              0.4444444444444444,
              "#bd3786"
             ],
             [
              0.5555555555555556,
              "#d8576b"
             ],
             [
              0.6666666666666666,
              "#ed7953"
             ],
             [
              0.7777777777777778,
              "#fb9f3a"
             ],
             [
              0.8888888888888888,
              "#fdca26"
             ],
             [
              1,
              "#f0f921"
             ]
            ],
            "type": "surface"
           }
          ],
          "table": [
           {
            "cells": {
             "fill": {
              "color": "#EBF0F8"
             },
             "line": {
              "color": "white"
             }
            },
            "header": {
             "fill": {
              "color": "#C8D4E3"
             },
             "line": {
              "color": "white"
             }
            },
            "type": "table"
           }
          ]
         },
         "layout": {
          "annotationdefaults": {
           "arrowcolor": "#2a3f5f",
           "arrowhead": 0,
           "arrowwidth": 1
          },
          "autotypenumbers": "strict",
          "coloraxis": {
           "colorbar": {
            "outlinewidth": 0,
            "ticks": ""
           }
          },
          "colorscale": {
           "diverging": [
            [
             0,
             "#8e0152"
            ],
            [
             0.1,
             "#c51b7d"
            ],
            [
             0.2,
             "#de77ae"
            ],
            [
             0.3,
             "#f1b6da"
            ],
            [
             0.4,
             "#fde0ef"
            ],
            [
             0.5,
             "#f7f7f7"
            ],
            [
             0.6,
             "#e6f5d0"
            ],
            [
             0.7,
             "#b8e186"
            ],
            [
             0.8,
             "#7fbc41"
            ],
            [
             0.9,
             "#4d9221"
            ],
            [
             1,
             "#276419"
            ]
           ],
           "sequential": [
            [
             0,
             "#0d0887"
            ],
            [
             0.1111111111111111,
             "#46039f"
            ],
            [
             0.2222222222222222,
             "#7201a8"
            ],
            [
             0.3333333333333333,
             "#9c179e"
            ],
            [
             0.4444444444444444,
             "#bd3786"
            ],
            [
             0.5555555555555556,
             "#d8576b"
            ],
            [
             0.6666666666666666,
             "#ed7953"
            ],
            [
             0.7777777777777778,
             "#fb9f3a"
            ],
            [
             0.8888888888888888,
             "#fdca26"
            ],
            [
             1,
             "#f0f921"
            ]
           ],
           "sequentialminus": [
            [
             0,
             "#0d0887"
            ],
            [
             0.1111111111111111,
             "#46039f"
            ],
            [
             0.2222222222222222,
             "#7201a8"
            ],
            [
             0.3333333333333333,
             "#9c179e"
            ],
            [
             0.4444444444444444,
             "#bd3786"
            ],
            [
             0.5555555555555556,
             "#d8576b"
            ],
            [
             0.6666666666666666,
             "#ed7953"
            ],
            [
             0.7777777777777778,
             "#fb9f3a"
            ],
            [
             0.8888888888888888,
             "#fdca26"
            ],
            [
             1,
             "#f0f921"
            ]
           ]
          },
          "colorway": [
           "#636efa",
           "#EF553B",
           "#00cc96",
           "#ab63fa",
           "#FFA15A",
           "#19d3f3",
           "#FF6692",
           "#B6E880",
           "#FF97FF",
           "#FECB52"
          ],
          "font": {
           "color": "#2a3f5f"
          },
          "geo": {
           "bgcolor": "white",
           "lakecolor": "white",
           "landcolor": "#E5ECF6",
           "showlakes": true,
           "showland": true,
           "subunitcolor": "white"
          },
          "hoverlabel": {
           "align": "left"
          },
          "hovermode": "closest",
          "mapbox": {
           "style": "light"
          },
          "paper_bgcolor": "white",
          "plot_bgcolor": "#E5ECF6",
          "polar": {
           "angularaxis": {
            "gridcolor": "white",
            "linecolor": "white",
            "ticks": ""
           },
           "bgcolor": "#E5ECF6",
           "radialaxis": {
            "gridcolor": "white",
            "linecolor": "white",
            "ticks": ""
           }
          },
          "scene": {
           "xaxis": {
            "backgroundcolor": "#E5ECF6",
            "gridcolor": "white",
            "gridwidth": 2,
            "linecolor": "white",
            "showbackground": true,
            "ticks": "",
            "zerolinecolor": "white"
           },
           "yaxis": {
            "backgroundcolor": "#E5ECF6",
            "gridcolor": "white",
            "gridwidth": 2,
            "linecolor": "white",
            "showbackground": true,
            "ticks": "",
            "zerolinecolor": "white"
           },
           "zaxis": {
            "backgroundcolor": "#E5ECF6",
            "gridcolor": "white",
            "gridwidth": 2,
            "linecolor": "white",
            "showbackground": true,
            "ticks": "",
            "zerolinecolor": "white"
           }
          },
          "shapedefaults": {
           "line": {
            "color": "#2a3f5f"
           }
          },
          "ternary": {
           "aaxis": {
            "gridcolor": "white",
            "linecolor": "white",
            "ticks": ""
           },
           "baxis": {
            "gridcolor": "white",
            "linecolor": "white",
            "ticks": ""
           },
           "bgcolor": "#E5ECF6",
           "caxis": {
            "gridcolor": "white",
            "linecolor": "white",
            "ticks": ""
           }
          },
          "title": {
           "x": 0.05
          },
          "xaxis": {
           "automargin": true,
           "gridcolor": "white",
           "linecolor": "white",
           "ticks": "",
           "title": {
            "standoff": 15
           },
           "zerolinecolor": "white",
           "zerolinewidth": 2
          },
          "yaxis": {
           "automargin": true,
           "gridcolor": "white",
           "linecolor": "white",
           "ticks": "",
           "title": {
            "standoff": 15
           },
           "zerolinecolor": "white",
           "zerolinewidth": 2
          }
         }
        },
        "xaxis": {
         "anchor": "y",
         "autorange": true,
         "domain": [
          0,
          1
         ],
         "range": [
          -0.5,
          2.5
         ],
         "title": {
          "text": "metric"
         },
         "type": "category"
        },
        "yaxis": {
         "anchor": "x",
         "autorange": true,
         "domain": [
          0,
          1
         ],
         "range": [
          0,
          0.8421052631578948
         ],
         "title": {
          "text": "value"
         },
         "type": "linear"
        }
       }
      },
      "image/png": "[encoded data removed]",
      "text/html": [
       "<div>                            <div id=\"0d5a80c4-f52d-44a6-b547-12e81f229c85\" class=\"plotly-graph-div\" style=\"height:525px; width:100%;\"></div>            <script type=\"text/javascript\">                require([\"plotly\"], function(Plotly) {                    window.PLOTLYENV=window.PLOTLYENV || {};                                    if (document.getElementById(\"0d5a80c4-f52d-44a6-b547-12e81f229c85\")) {                    Plotly.newPlot(                        \"0d5a80c4-f52d-44a6-b547-12e81f229c85\",                        [{\"alignmentgroup\":\"True\",\"hovertemplate\":\"label=abuse<br>metric=%{x}<br>value=%{y}<extra></extra>\",\"legendgroup\":\"abuse\",\"marker\":{\"color\":\"#fbd305\",\"pattern\":{\"shape\":\"\"}},\"name\":\"abuse\",\"offsetgroup\":\"abuse\",\"orientation\":\"v\",\"showlegend\":true,\"textposition\":\"auto\",\"texttemplate\":\"%{y:.2f}\",\"x\":[\"precision\",\"recall\",\"f1-score\"],\"xaxis\":\"x\",\"y\":[0.5,0.25,0.3333333333333333],\"yaxis\":\"y\",\"type\":\"bar\"},{\"alignmentgroup\":\"True\",\"hovertemplate\":\"label=hate<br>metric=%{x}<br>value=%{y}<extra></extra>\",\"legendgroup\":\"hate\",\"marker\":{\"color\":\"#EB8B59\",\"pattern\":{\"shape\":\"\"}},\"name\":\"hate\",\"offsetgroup\":\"hate\",\"orientation\":\"v\",\"showlegend\":true,\"textposition\":\"auto\",\"texttemplate\":\"%{y:.2f}\",\"x\":[\"precision\",\"recall\",\"f1-score\"],\"xaxis\":\"x\",\"y\":[0.75,0.1875,0.3],\"yaxis\":\"y\",\"type\":\"bar\"},{\"alignmentgroup\":\"True\",\"hovertemplate\":\"label=profanities<br>metric=%{x}<br>value=%{y}<extra></extra>\",\"legendgroup\":\"profanities\",\"marker\":{\"color\":\"#cc64bc\",\"pattern\":{\"shape\":\"\"}},\"name\":\"profanities\",\"offsetgroup\":\"profanities\",\"orientation\":\"v\",\"showlegend\":true,\"textposition\":\"auto\",\"texttemplate\":\"%{y:.2f}\",\"x\":[\"precision\",\"recall\",\"f1-score\"],\"xaxis\":\"x\",\"y\":[0.38095238095238093,0.8,0.5161290322580645],\"yaxis\":\"y\",\"type\":\"bar\"},{\"alignmentgroup\":\"True\",\"hovertemplate\":\"label=sexually-explicit<br>metric=%{x}<br>value=%{y}<extra></extra>\",\"legendgroup\":\"sexually-explicit\",\"marker\":{\"color\":\"#C4D454\",\"pattern\":{\"shape\":\"\"}},\"name\":\"sexually-explicit\",\"offsetgroup\":\"sexually-explicit\",\"orientation\":\"v\",\"showlegend\":true,\"textposition\":\"auto\",\"texttemplate\":\"%{y:.2f}\",\"x\":[\"precision\",\"recall\",\"f1-score\"],\"xaxis\":\"x\",\"y\":[0.5,0.6666666666666666,0.5714285714285715],\"yaxis\":\"y\",\"type\":\"bar\"},{\"alignmentgroup\":\"True\",\"hovertemplate\":\"label=violent<br>metric=%{x}<br>value=%{y}<extra></extra>\",\"legendgroup\":\"violent\",\"marker\":{\"color\":\"#5BC3E3\",\"pattern\":{\"shape\":\"\"}},\"name\":\"violent\",\"offsetgroup\":\"violent\",\"orientation\":\"v\",\"showlegend\":true,\"textposition\":\"auto\",\"texttemplate\":\"%{y:.2f}\",\"x\":[\"precision\",\"recall\",\"f1-score\"],\"xaxis\":\"x\",\"y\":[0.0,0.0,0.0],\"yaxis\":\"y\",\"type\":\"bar\"},{\"alignmentgroup\":\"True\",\"hovertemplate\":\"label=macro avg<br>metric=%{x}<br>value=%{y}<extra></extra>\",\"legendgroup\":\"macro avg\",\"marker\":{\"color\":\"#3c4444\",\"pattern\":{\"shape\":\"\"}},\"name\":\"macro avg\",\"offsetgroup\":\"macro avg\",\"orientation\":\"v\",\"showlegend\":true,\"textposition\":\"auto\",\"texttemplate\":\"%{y:.2f}\",\"x\":[\"precision\",\"recall\",\"f1-score\"],\"xaxis\":\"x\",\"y\":[0.4261904761904762,0.38083333333333336,0.34417818740399386],\"yaxis\":\"y\",\"type\":\"bar\"},{\"alignmentgroup\":\"True\",\"hovertemplate\":\"label=weighted avg<br>metric=%{x}<br>value=%{y}<extra></extra>\",\"legendgroup\":\"weighted avg\",\"marker\":{\"color\":\"#A08C88\",\"pattern\":{\"shape\":\"\"}},\"name\":\"weighted avg\",\"offsetgroup\":\"weighted avg\",\"orientation\":\"v\",\"showlegend\":true,\"textposition\":\"auto\",\"texttemplate\":\"%{y:.2f}\",\"x\":[\"precision\",\"recall\",\"f1-score\"],\"xaxis\":\"x\",\"y\":[0.5441347270615563,0.43902439024390244,0.40091416582368583],\"yaxis\":\"y\",\"type\":\"bar\"}],                        {\"template\":{\"data\":{\"histogram2dcontour\":[{\"type\":\"histogram2dcontour\",\"colorbar\":{\"outlinewidth\":0,\"ticks\":\"\"},\"colorscale\":[[0.0,\"#0d0887\"],[0.1111111111111111,\"#46039f\"],[0.2222222222222222,\"#7201a8\"],[0.3333333333333333,\"#9c179e\"],[0.4444444444444444,\"#bd3786\"],[0.5555555555555556,\"#d8576b\"],[0.6666666666666666,\"#ed7953\"],[0.7777777777777778,\"#fb9f3a\"],[0.8888888888888888,\"#fdca26\"],[1.0,\"#f0f921\"]]}],\"choropleth\":[{\"type\":\"choropleth\",\"colorbar\":{\"outlinewidth\":0,\"ticks\":\"\"}}],\"histogram2d\":[{\"type\":\"histogram2d\",\"colorbar\":{\"outlinewidth\":0,\"ticks\":\"\"},\"colorscale\":[[0.0,\"#0d0887\"],[0.1111111111111111,\"#46039f\"],[0.2222222222222222,\"#7201a8\"],[0.3333333333333333,\"#9c179e\"],[0.4444444444444444,\"#bd3786\"],[0.5555555555555556,\"#d8576b\"],[0.6666666666666666,\"#ed7953\"],[0.7777777777777778,\"#fb9f3a\"],[0.8888888888888888,\"#fdca26\"],[1.0,\"#f0f921\"]]}],\"heatmap\":[{\"type\":\"heatmap\",\"colorbar\":{\"outlinewidth\":0,\"ticks\":\"\"},\"colorscale\":[[0.0,\"#0d0887\"],[0.1111111111111111,\"#46039f\"],[0.2222222222222222,\"#7201a8\"],[0.3333333333333333,\"#9c179e\"],[0.4444444444444444,\"#bd3786\"],[0.5555555555555556,\"#d8576b\"],[0.6666666666666666,\"#ed7953\"],[0.7777777777777778,\"#fb9f3a\"],[0.8888888888888888,\"#fdca26\"],[1.0,\"#f0f921\"]]}],\"heatmapgl\":[{\"type\":\"heatmapgl\",\"colorbar\":{\"outlinewidth\":0,\"ticks\":\"\"},\"colorscale\":[[0.0,\"#0d0887\"],[0.1111111111111111,\"#46039f\"],[0.2222222222222222,\"#7201a8\"],[0.3333333333333333,\"#9c179e\"],[0.4444444444444444,\"#bd3786\"],[0.5555555555555556,\"#d8576b\"],[0.6666666666666666,\"#ed7953\"],[0.7777777777777778,\"#fb9f3a\"],[0.8888888888888888,\"#fdca26\"],[1.0,\"#f0f921\"]]}],\"contourcarpet\":[{\"type\":\"contourcarpet\",\"colorbar\":{\"outlinewidth\":0,\"ticks\":\"\"}}],\"contour\":[{\"type\":\"contour\",\"colorbar\":{\"outlinewidth\":0,\"ticks\":\"\"},\"colorscale\":[[0.0,\"#0d0887\"],[0.1111111111111111,\"#46039f\"],[0.2222222222222222,\"#7201a8\"],[0.3333333333333333,\"#9c179e\"],[0.4444444444444444,\"#bd3786\"],[0.5555555555555556,\"#d8576b\"],[0.6666666666666666,\"#ed7953\"],[0.7777777777777778,\"#fb9f3a\"],[0.8888888888888888,\"#fdca26\"],[1.0,\"#f0f921\"]]}],\"surface\":[{\"type\":\"surface\",\"colorbar\":{\"outlinewidth\":0,\"ticks\":\"\"},\"colorscale\":[[0.0,\"#0d0887\"],[0.1111111111111111,\"#46039f\"],[0.2222222222222222,\"#7201a8\"],[0.3333333333333333,\"#9c179e\"],[0.4444444444444444,\"#bd3786\"],[0.5555555555555556,\"#d8576b\"],[0.6666666666666666,\"#ed7953\"],[0.7777777777777778,\"#fb9f3a\"],[0.8888888888888888,\"#fdca26\"],[1.0,\"#f0f921\"]]}],\"mesh3d\":[{\"type\":\"mesh3d\",\"colorbar\":{\"outlinewidth\":0,\"ticks\":\"\"}}],\"scatter\":[{\"fillpattern\":{\"fillmode\":\"overlay\",\"size\":10,\"solidity\":0.2},\"type\":\"scatter\"}],\"parcoords\":[{\"type\":\"parcoords\",\"line\":{\"colorbar\":{\"outlinewidth\":0,\"ticks\":\"\"}}}],\"scatterpolargl\":[{\"type\":\"scatterpolargl\",\"marker\":{\"colorbar\":{\"outlinewidth\":0,\"ticks\":\"\"}}}],\"bar\":[{\"error_x\":{\"color\":\"#2a3f5f\"},\"error_y\":{\"color\":\"#2a3f5f\"},\"marker\":{\"line\":{\"color\":\"#E5ECF6\",\"width\":0.5},\"pattern\":{\"fillmode\":\"overlay\",\"size\":10,\"solidity\":0.2}},\"type\":\"bar\"}],\"scattergeo\":[{\"type\":\"scattergeo\",\"marker\":{\"colorbar\":{\"outlinewidth\":0,\"ticks\":\"\"}}}],\"scatterpolar\":[{\"type\":\"scatterpolar\",\"marker\":{\"colorbar\":{\"outlinewidth\":0,\"ticks\":\"\"}}}],\"histogram\":[{\"marker\":{\"pattern\":{\"fillmode\":\"overlay\",\"size\":10,\"solidity\":0.2}},\"type\":\"histogram\"}],\"scattergl\":[{\"type\":\"scattergl\",\"marker\":{\"colorbar\":{\"outlinewidth\":0,\"ticks\":\"\"}}}],\"scatter3d\":[{\"type\":\"scatter3d\",\"line\":{\"colorbar\":{\"outlinewidth\":0,\"ticks\":\"\"}},\"marker\":{\"colorbar\":{\"outlinewidth\":0,\"ticks\":\"\"}}}],\"scattermapbox\":[{\"type\":\"scattermapbox\",\"marker\":{\"colorbar\":{\"outlinewidth\":0,\"ticks\":\"\"}}}],\"scatterternary\":[{\"type\":\"scatterternary\",\"marker\":{\"colorbar\":{\"outlinewidth\":0,\"ticks\":\"\"}}}],\"scattercarpet\":[{\"type\":\"scattercarpet\",\"marker\":{\"colorbar\":{\"outlinewidth\":0,\"ticks\":\"\"}}}],\"carpet\":[{\"aaxis\":{\"endlinecolor\":\"#2a3f5f\",\"gridcolor\":\"white\",\"linecolor\":\"white\",\"minorgridcolor\":\"white\",\"startlinecolor\":\"#2a3f5f\"},\"baxis\":{\"endlinecolor\":\"#2a3f5f\",\"gridcolor\":\"white\",\"linecolor\":\"white\",\"minorgridcolor\":\"white\",\"startlinecolor\":\"#2a3f5f\"},\"type\":\"carpet\"}],\"table\":[{\"cells\":{\"fill\":{\"color\":\"#EBF0F8\"},\"line\":{\"color\":\"white\"}},\"header\":{\"fill\":{\"color\":\"#C8D4E3\"},\"line\":{\"color\":\"white\"}},\"type\":\"table\"}],\"barpolar\":[{\"marker\":{\"line\":{\"color\":\"#E5ECF6\",\"width\":0.5},\"pattern\":{\"fillmode\":\"overlay\",\"size\":10,\"solidity\":0.2}},\"type\":\"barpolar\"}],\"pie\":[{\"automargin\":true,\"type\":\"pie\"}]},\"layout\":{\"autotypenumbers\":\"strict\",\"colorway\":[\"#636efa\",\"#EF553B\",\"#00cc96\",\"#ab63fa\",\"#FFA15A\",\"#19d3f3\",\"#FF6692\",\"#B6E880\",\"#FF97FF\",\"#FECB52\"],\"font\":{\"color\":\"#2a3f5f\"},\"hovermode\":\"closest\",\"hoverlabel\":{\"align\":\"left\"},\"paper_bgcolor\":\"white\",\"plot_bgcolor\":\"#E5ECF6\",\"polar\":{\"bgcolor\":\"#E5ECF6\",\"angularaxis\":{\"gridcolor\":\"white\",\"linecolor\":\"white\",\"ticks\":\"\"},\"radialaxis\":{\"gridcolor\":\"white\",\"linecolor\":\"white\",\"ticks\":\"\"}},\"ternary\":{\"bgcolor\":\"#E5ECF6\",\"aaxis\":{\"gridcolor\":\"white\",\"linecolor\":\"white\",\"ticks\":\"\"},\"baxis\":{\"gridcolor\":\"white\",\"linecolor\":\"white\",\"ticks\":\"\"},\"caxis\":{\"gridcolor\":\"white\",\"linecolor\":\"white\",\"ticks\":\"\"}},\"coloraxis\":{\"colorbar\":{\"outlinewidth\":0,\"ticks\":\"\"}},\"colorscale\":{\"sequential\":[[0.0,\"#0d0887\"],[0.1111111111111111,\"#46039f\"],[0.2222222222222222,\"#7201a8\"],[0.3333333333333333,\"#9c179e\"],[0.4444444444444444,\"#bd3786\"],[0.5555555555555556,\"#d8576b\"],[0.6666666666666666,\"#ed7953\"],[0.7777777777777778,\"#fb9f3a\"],[0.8888888888888888,\"#fdca26\"],[1.0,\"#f0f921\"]],\"sequentialminus\":[[0.0,\"#0d0887\"],[0.1111111111111111,\"#46039f\"],[0.2222222222222222,\"#7201a8\"],[0.3333333333333333,\"#9c179e\"],[0.4444444444444444,\"#bd3786\"],[0.5555555555555556,\"#d8576b\"],[0.6666666666666666,\"#ed7953\"],[0.7777777777777778,\"#fb9f3a\"],[0.8888888888888888,\"#fdca26\"],[1.0,\"#f0f921\"]],\"diverging\":[[0,\"#8e0152\"],[0.1,\"#c51b7d\"],[0.2,\"#de77ae\"],[0.3,\"#f1b6da\"],[0.4,\"#fde0ef\"],[0.5,\"#f7f7f7\"],[0.6,\"#e6f5d0\"],[0.7,\"#b8e186\"],[0.8,\"#7fbc41\"],[0.9,\"#4d9221\"],[1,\"#276419\"]]},\"xaxis\":{\"gridcolor\":\"white\",\"linecolor\":\"white\",\"ticks\":\"\",\"title\":{\"standoff\":15},\"zerolinecolor\":\"white\",\"automargin\":true,\"zerolinewidth\":2},\"yaxis\":{\"gridcolor\":\"white\",\"linecolor\":\"white\",\"ticks\":\"\",\"title\":{\"standoff\":15},\"zerolinecolor\":\"white\",\"automargin\":true,\"zerolinewidth\":2},\"scene\":{\"xaxis\":{\"backgroundcolor\":\"#E5ECF6\",\"gridcolor\":\"white\",\"linecolor\":\"white\",\"showbackground\":true,\"ticks\":\"\",\"zerolinecolor\":\"white\",\"gridwidth\":2},\"yaxis\":{\"backgroundcolor\":\"#E5ECF6\",\"gridcolor\":\"white\",\"linecolor\":\"white\",\"showbackground\":true,\"ticks\":\"\",\"zerolinecolor\":\"white\",\"gridwidth\":2},\"zaxis\":{\"backgroundcolor\":\"#E5ECF6\",\"gridcolor\":\"white\",\"linecolor\":\"white\",\"showbackground\":true,\"ticks\":\"\",\"zerolinecolor\":\"white\",\"gridwidth\":2}},\"shapedefaults\":{\"line\":{\"color\":\"#2a3f5f\"}},\"annotationdefaults\":{\"arrowcolor\":\"#2a3f5f\",\"arrowhead\":0,\"arrowwidth\":1},\"geo\":{\"bgcolor\":\"white\",\"landcolor\":\"#E5ECF6\",\"subunitcolor\":\"white\",\"showland\":true,\"showlakes\":true,\"lakecolor\":\"white\"},\"title\":{\"x\":0.05},\"mapbox\":{\"style\":\"light\"}}},\"xaxis\":{\"anchor\":\"y\",\"domain\":[0.0,1.0],\"title\":{\"text\":\"metric\"}},\"yaxis\":{\"anchor\":\"x\",\"domain\":[0.0,1.0],\"title\":{\"text\":\"value\"}},\"legend\":{\"title\":{\"text\":\"label\"},\"tracegroupgap\":0},\"margin\":{\"t\":60},\"barmode\":\"group\"},                        {\"responsive\": true}                    ).then(function(){\n",
       "                            \n",
       "var gd = document.getElementById('0d5a80c4-f52d-44a6-b547-12e81f229c85');\n",
       "var x = new MutationObserver(function (mutations, observer) {{\n",
       "        var display = window.getComputedStyle(gd).display;\n",
       "        if (!display || display === 'none') {{\n",
       "            console.log([gd, 'removed!']);\n",
       "            Plotly.purge(gd);\n",
       "            observer.disconnect();\n",
       "        }}\n",
       "}});\n",
       "\n",
       "// Listen for the removal of the full notebook cells\n",
       "var notebookContainer = gd.closest('#notebook-container');\n",
       "if (notebookContainer) {{\n",
       "    x.observe(notebookContainer, {childList: true});\n",
       "}}\n",
       "\n",
       "// Listen for the clearing of the current output cell\n",
       "var outputEl = gd.closest('.output');\n",
       "if (outputEl) {{\n",
       "    x.observe(outputEl, {childList: true});\n",
       "}}\n",
       "\n",
       "                        })                };                });            </script>        </div>"
      ]
     },
     "metadata": {},
     "output_type": "display_data"
    }
   ],
   "source": [
    "rosita_evaluation1 = pd.DataFrame(classification_report(sample_labeled_sexist.type.to_list(), \n",
    "                                                       sample_labeled_sexist[\"type-base\"].to_list(), \n",
    "                                                       output_dict=True)) \\\n",
    "                       .drop(\"accuracy\", axis=1).drop(\"support\", axis=0) \\\n",
    "                       .rename_axis(\"metric\", axis=0).rename_axis(\"label\", axis=1) \\\n",
    "                       .melt(ignore_index=False).reset_index()\n",
    "rosita_evaluation1[\"model\"] = [\"type-base\"] * len(rosita_evaluation1)\n",
    "\n",
    "rosita_evaluation2 = pd.DataFrame(classification_report(sample_labeled_sexist.type.to_list(), \n",
    "                                                       sample_labeled_sexist[\"type-full\"].to_list(), \n",
    "                                                       output_dict=True)) \\\n",
    "                       .drop(\"accuracy\", axis=1).drop(\"support\", axis=0) \\\n",
    "                       .rename_axis(\"metric\", axis=0).rename_axis(\"label\", axis=1) \\\n",
    "                       .melt(ignore_index=False).reset_index()\n",
    "rosita_evaluation2[\"model\"] = [\"type-full\"] * len(rosita_evaluation1)\n",
    "\n",
    "rosita_evaluation = pd.concat([rosita_evaluation1, rosita_evaluation2], axis=0)\n",
    "\n",
    "px.bar(rosita_evaluation, \n",
    "       x=\"model\", \n",
    "       y=\"value\", \n",
    "       color=\"label\", \n",
    "       barmode=\"group\", \n",
    "       text_auto='.2f',\n",
    "       facet_row=\"metric\",\n",
    "       facet_row_wrap=1,\n",
    "       color_discrete_map={\n",
    "          \"violent\": BLUE2,\n",
    "          \"hate\": SALM,\n",
    "          \"abuse\": YELL,\n",
    "          \"sexually-explicit\": GREEN,\n",
    "          \"profanities\": PURP,\n",
    "          \"macro avg\": BLCK, \n",
    "          \"weighted avg\": GREY2\n",
    "       })"
   ]
  },
  {
   "cell_type": "markdown",
   "id": "39a3cf2a-cedb-498a-892f-4ca5602932fd",
   "metadata": {},
   "source": [
    "The model's performance report reveals varying precision, recall, and F1-scores across different labels. Notably, the secually-explicit and profanities labels demonstrated a higher precision and recall, resulting in a relatively higher F1-score. Also, hate label shows the highest precision. The macro and micro averages further emphasize the need for fine-tuning and optimization to enhance the model's overall performance."
   ]
  },
  {
   "cell_type": "markdown",
   "id": "1c2d3f33-95a2-416c-a84d-b20c6bfbd249",
   "metadata": {},
   "source": [
    "## Large Language Model Feature Extraction"
   ]
  },
  {
   "cell_type": "markdown",
   "id": "c1900601-451a-40e1-9150-40a54943d8c4",
   "metadata": {},
   "source": [
    "In this section, we delve into the realm of large language models and their role in feature extraction for our sexism detection task. We leverage the power of models like Josefina and Rosita, along eith other fine tuned mdoels, to gain deeper insights and explore their capabilities in identifying and analyzing sexist language in our Mexican data."
   ]
  },
  {
   "cell_type": "code",
   "execution_count": 257,
   "id": "c1998f64-4cf2-4fd4-8756-4fe6027043ad",
   "metadata": {},
   "outputs": [
    {
     "data": {
      "text/html": [
       "<div>\n",
       "<style scoped>\n",
       "    .dataframe tbody tr th:only-of-type {\n",
       "        vertical-align: middle;\n",
       "    }\n",
       "\n",
       "    .dataframe tbody tr th {\n",
       "        vertical-align: top;\n",
       "    }\n",
       "\n",
       "    .dataframe thead th {\n",
       "        text-align: right;\n",
       "    }\n",
       "</style>\n",
       "<table border=\"1\" class=\"dataframe\">\n",
       "  <thead>\n",
       "    <tr style=\"text-align: right;\">\n",
       "      <th></th>\n",
       "      <th>id</th>\n",
       "      <th>timestamp</th>\n",
       "      <th>tweet</th>\n",
       "      <th>supposed</th>\n",
       "    </tr>\n",
       "  </thead>\n",
       "  <tbody>\n",
       "    <tr>\n",
       "      <th>0</th>\n",
       "      <td>1655693993186050048</td>\n",
       "      <td>2023-05-08 21:59:43+00:00</td>\n",
       "      <td>@___Ninna Jajajaja la neta no me quiero ir com...</td>\n",
       "      <td>abuse</td>\n",
       "    </tr>\n",
       "    <tr>\n",
       "      <th>1</th>\n",
       "      <td>1655693973594288128</td>\n",
       "      <td>2023-05-08 21:59:39+00:00</td>\n",
       "      <td>Quieren otra coincidencia como cosa del diablo...</td>\n",
       "      <td>abuse</td>\n",
       "    </tr>\n",
       "    <tr>\n",
       "      <th>2</th>\n",
       "      <td>1655693916140630026</td>\n",
       "      <td>2023-05-08 21:59:25+00:00</td>\n",
       "      <td>@Hans2412 No, el pueblo no es tonto…NO nos chu...</td>\n",
       "      <td>abuse</td>\n",
       "    </tr>\n",
       "    <tr>\n",
       "      <th>3</th>\n",
       "      <td>1655693660422303744</td>\n",
       "      <td>2023-05-08 21:58:24+00:00</td>\n",
       "      <td>Que te vean como su mayor ejemplo es la cosa m...</td>\n",
       "      <td>abuse</td>\n",
       "    </tr>\n",
       "    <tr>\n",
       "      <th>4</th>\n",
       "      <td>1655692938284761095</td>\n",
       "      <td>2023-05-08 21:55:32+00:00</td>\n",
       "      <td>@CarneDeAzucar Jajaja. Pues si, pero ni una co...</td>\n",
       "      <td>abuse</td>\n",
       "    </tr>\n",
       "    <tr>\n",
       "      <th>...</th>\n",
       "      <td>...</td>\n",
       "      <td>...</td>\n",
       "      <td>...</td>\n",
       "      <td>...</td>\n",
       "    </tr>\n",
       "    <tr>\n",
       "      <th>60429</th>\n",
       "      <td>1652282516865273856</td>\n",
       "      <td>2023-04-29 12:03:44+00:00</td>\n",
       "      <td>@Daniarac @twittgr2099 Por qué hay incongruenc...</td>\n",
       "      <td>possible-sexist</td>\n",
       "    </tr>\n",
       "    <tr>\n",
       "      <th>60430</th>\n",
       "      <td>1652272934629588993</td>\n",
       "      <td>2023-04-29 11:25:40+00:00</td>\n",
       "      <td>@MegaNews_MX La mujer comenzó a grabar para de...</td>\n",
       "      <td>possible-sexist</td>\n",
       "    </tr>\n",
       "    <tr>\n",
       "      <th>60431</th>\n",
       "      <td>1652266477590925313</td>\n",
       "      <td>2023-04-29 11:00:00+00:00</td>\n",
       "      <td>Uno de los géneros que más marcaron la vida de...</td>\n",
       "      <td>possible-sexist</td>\n",
       "    </tr>\n",
       "    <tr>\n",
       "      <th>60432</th>\n",
       "      <td>1652264825752256513</td>\n",
       "      <td>2023-04-29 10:53:26+00:00</td>\n",
       "      <td>Una mujer acuchilló a su pareja, causándole he...</td>\n",
       "      <td>possible-sexist</td>\n",
       "    </tr>\n",
       "    <tr>\n",
       "      <th>60433</th>\n",
       "      <td>1652263959838470145</td>\n",
       "      <td>2023-04-29 10:50:00+00:00</td>\n",
       "      <td>'Aradora Bonita' rinde homenaje al trabajo de ...</td>\n",
       "      <td>possible-sexist</td>\n",
       "    </tr>\n",
       "  </tbody>\n",
       "</table>\n",
       "<p>60434 rows × 4 columns</p>\n",
       "</div>"
      ],
      "text/plain": [
       "                        id                  timestamp  \\\n",
       "0      1655693993186050048  2023-05-08 21:59:43+00:00   \n",
       "1      1655693973594288128  2023-05-08 21:59:39+00:00   \n",
       "2      1655693916140630026  2023-05-08 21:59:25+00:00   \n",
       "3      1655693660422303744  2023-05-08 21:58:24+00:00   \n",
       "4      1655692938284761095  2023-05-08 21:55:32+00:00   \n",
       "...                    ...                        ...   \n",
       "60429  1652282516865273856  2023-04-29 12:03:44+00:00   \n",
       "60430  1652272934629588993  2023-04-29 11:25:40+00:00   \n",
       "60431  1652266477590925313  2023-04-29 11:00:00+00:00   \n",
       "60432  1652264825752256513  2023-04-29 10:53:26+00:00   \n",
       "60433  1652263959838470145  2023-04-29 10:50:00+00:00   \n",
       "\n",
       "                                                   tweet         supposed  \n",
       "0      @___Ninna Jajajaja la neta no me quiero ir com...            abuse  \n",
       "1      Quieren otra coincidencia como cosa del diablo...            abuse  \n",
       "2      @Hans2412 No, el pueblo no es tonto…NO nos chu...            abuse  \n",
       "3      Que te vean como su mayor ejemplo es la cosa m...            abuse  \n",
       "4      @CarneDeAzucar Jajaja. Pues si, pero ni una co...            abuse  \n",
       "...                                                  ...              ...  \n",
       "60429  @Daniarac @twittgr2099 Por qué hay incongruenc...  possible-sexist  \n",
       "60430  @MegaNews_MX La mujer comenzó a grabar para de...  possible-sexist  \n",
       "60431  Uno de los géneros que más marcaron la vida de...  possible-sexist  \n",
       "60432  Una mujer acuchilló a su pareja, causándole he...  possible-sexist  \n",
       "60433  'Aradora Bonita' rinde homenaje al trabajo de ...  possible-sexist  \n",
       "\n",
       "[60434 rows x 4 columns]"
      ]
     },
     "execution_count": 257,
     "metadata": {},
     "output_type": "execute_result"
    }
   ],
   "source": [
    "mexican_corpus = pd.read_csv(\"../data/extracted/mexican_corpus_v11.tsv\", sep=\"\\t\")\n",
    "mexican_corpus"
   ]
  },
  {
   "cell_type": "code",
   "execution_count": null,
   "id": "eee5e1dd-91d9-4c28-9a62-fc4baa084e20",
   "metadata": {},
   "outputs": [],
   "source": [
    "def clean(\n",
    "    \n",
    "        text: str, \n",
    "        keep_case: bool = False,\n",
    "        keep_accents: bool = False,\n",
    "        keep_numbers: bool = False,\n",
    "        lmhe_tokens: Optional[Dict[str, str]] = None, \n",
    "        constraints: Optional[List[Tuple[str, str]]] = None,\n",
    "        allowed_punctuation: Optional[str] = None\n",
    "    \n",
    "    ) -> str:\n",
    "    \"\"\"\n",
    "    Clean a given text\n",
    "    \n",
    "    Args:\n",
    "        - text: string to clean\n",
    "        - keep_case: wether to keep original case (True) or not (False). If not text will be lowercased. Default to False.\n",
    "        - keep_accents: wether to keep accents (True) or not (False). Default to False.\n",
    "        - keep_numbers: wether to keep numbers (True) or not (False). Default to False.\n",
    "        - lmhe_tokens (optional): which stands for link-mention-hashtag-emoji_tokens. A dict containing how to represent.\n",
    "          those items in the final text. If nothing provided (neither dict or specific key), they will be removed.\n",
    "        - constraints (optional) : any special substitution you may want to apply to the text. It must be a list of tuples \n",
    "          containing the corresponding regex to capture (first element of the tuple) and the string to substitue \n",
    "          it (second element).\n",
    "        - allowed_punctuation: string containing custom punctuation you may want to avoid cleaning.\n",
    "        \n",
    "    Returns\n",
    "        str: cleaned text\n",
    "    \"\"\"\n",
    "    \n",
    "    # lowercase\n",
    "    if not keep_case:\n",
    "        text = text.lower() \n",
    "    \n",
    "    #remove \\n and \\r\n",
    "    text = text.replace('\\r', '').replace('\\n', ' ')\n",
    "    \n",
    "    if lmhe_tokens is not None:\n",
    "        # handle links\n",
    "        text = re.sub(r'(?:www\\.|https?://)\\S+', lmhe_tokens.get(\"link\", ''), text, flags=re.MULTILINE)  \n",
    "        \n",
    "        # handle mentions\n",
    "        text = re.sub(r'\\@\\S+', lmhe_tokens.get(\"mention\", ''), text) \n",
    "        \n",
    "        # handle hashtags\n",
    "        text = re.sub(r'#\\S+', lmhe_tokens.get(\"hashtag\", ''), text)\n",
    "        \n",
    "        # handle emojis\n",
    "        text = emoji.replace_emoji(text, lmhe_tokens.get(\"emoji\", ''))  \n",
    "        \n",
    "    else:\n",
    "        # remove links, mentions, hashtags and emojis\n",
    "        text = re.sub(r'(?:#|\\@|www\\.|https?://)\\S+', '', text, flags=re.MULTILINE) \n",
    "        text = emoji.replace_emoji(text, '')\n",
    "     \n",
    "    # specific constraints\n",
    "    if constraints is not None:\n",
    "        for regex, token in constraints:\n",
    "            text = re.sub(regex, token, text, flags=re.I)\n",
    "    \n",
    "    # remove accents\n",
    "    if not keep_accents:\n",
    "        text = unidecode.unidecode(text)  \n",
    "    \n",
    "    ## all symbols and punctuation\n",
    "    banned_list = string.punctuation + 'Ã'+'±'+'ã'+'¼'+'â'+'»'+'§'+'—'  \n",
    "    ## allowed punctuation\n",
    "    if allowed_punctuation is not None:  \n",
    "        banned_list = re.sub(r\"[%s]\" % re.escape(allowed_punctuation), \"\", banned_list)\n",
    "    # remove symbols and punctuation\n",
    "    text = text.translate(str.maketrans('', '', banned_list)) \n",
    "    \n",
    "    # remove numbers\n",
    "    if not keep_numbers:\n",
    "        text = re.sub(r'\\d+', '', text)  \n",
    "    \n",
    "    # remove extra and leading blanks\n",
    "    text = re.sub(\"\\s\\s+\" , \" \", text).strip()  \n",
    "    \n",
    "    return text"
   ]
  },
  {
   "cell_type": "code",
   "execution_count": 259,
   "id": "89031daa-44cb-43fe-ae5c-533a9ebfc8f2",
   "metadata": {},
   "outputs": [],
   "source": [
    "mexican_clean = mexican_corpus.copy()\n",
    "mexican_clean.rename({\"tweet\":\"text\"}, axis=1, inplace=True)\n",
    "mexican_clean.text = mexican_clean.text.apply(clean, \n",
    "                                            keep_case=False,\n",
    "                                            keep_accents=True,\n",
    "                                            keep_numbers=True,\n",
    "                                            allowed_punctuation=\"'\\\"!¿?.,\")\n",
    "# Pasar a la zona horaria de México\n",
    "## Obtén la zona horaria de México\n",
    "import pytz\n",
    "mexico_timezone = pytz.timezone('America/Mexico_City')\n",
    "## Convierte la columna 'timestamp' a tipo datetime\n",
    "mexican_clean['timestamp'] = pd.to_datetime(mexican_clean['timestamp'])\n",
    "## Aplica la conversión de zona horaria a la columna 'timestamp'\n",
    "mexican_clean['timestamp'] = mexican_clean['timestamp'].dt.tz_convert(mexico_timezone)"
   ]
  },
  {
   "cell_type": "code",
   "execution_count": 303,
   "id": "a62983b3-1ab6-4e76-baa1-1019eac41bc9",
   "metadata": {},
   "outputs": [],
   "source": [
    "import pandas as pd\n",
    "import datasets\n",
    "from transformers import TextClassificationPipeline\n",
    "from transformers.pipelines.pt_utils import KeyDataset\n",
    "from tqdm.auto import tqdm\n",
    "from typing import List, Dict, Tuple, Union, Callable\n",
    "\n",
    "@timeinfo\n",
    "def llm_feature_extraction(\n",
    "    df: pd.DataFrame, \n",
    "    models: List[Dict[str, Union[str, Callable]]], \n",
    "    verbose: bool = False,\n",
    "    return_Dataset: bool = False\n",
    ") -> pd.DataFrame:\n",
    "    \"\"\"\n",
    "    Extracts features using language models specified in the 'models' parameter.\n",
    "\n",
    "    Args:\n",
    "        df (pd.DataFrame): Input DataFrame containing the text data.\n",
    "        models (List[Dict[str, Union[str, Callable]]]): List of model settings\n",
    "            including the model name, output column name, and optional cleaning function.\n",
    "        verbose (bool, optional): Whether to print extraction progress. Defaults to False.\n",
    "        return_Dataset (bool, optional): Whether to return the Dataset object instead\n",
    "            of converting it to a pandas DataFrame. Defaults to False.\n",
    "    \n",
    "    Returns:\n",
    "        pd.DataFrame or datasets.Dataset: Extracted features as a DataFrame if 'return_Dataset' is False,\n",
    "            otherwise, the Dataset object containing the extracted features.\n",
    "    \"\"\"\n",
    "    # Convert input DataFrame to Hugging Face Dataset\n",
    "    dataset = datasets.Dataset.from_pandas(df)\n",
    "    \n",
    "    # Remove redundant index column if present\n",
    "    if \"__index_level_0__\" in dataset.column_names:\n",
    "        dataset.remove_columns(\"__index_level_0__\")\n",
    "    \n",
    "    # Iterate over each model to extract features\n",
    "    for model_settings in models:\n",
    "        if verbose:\n",
    "            print(f\"Extracting \\'{model_settings['out_col']}\\' feature...\")\n",
    "        \n",
    "        out_col = model_settings['out_col']\n",
    "        \n",
    "        try:\n",
    "            # Perform predictions using the specified language model\n",
    "            preds = predict_from_transformer(dataset, model_settings[\"model_name\"])\n",
    "        except Exception as ex:\n",
    "            print(f\"Oops, encountered an error: {ex}\")\n",
    "            if return_Dataset:\n",
    "                return dataset\n",
    "            return dataset.to_pandas(), dataset\n",
    "        \n",
    "        # Add the extracted feature column to the Dataset\n",
    "        dataset = dataset.add_column(model_settings['out_col'], preds)\n",
    "        \n",
    "        # Apply optional cleaning function to the extracted feature column\n",
    "        clean_func = model_settings.get(\"clean_label\", None)\n",
    "        if clean_func:\n",
    "            def clean_label(example):\n",
    "                example[out_col] = clean_func(example[out_col])\n",
    "                return example\n",
    "            dataset = dataset.map(clean_label)\n",
    "    \n",
    "    # Return the Dataset object if specified\n",
    "    if return_Dataset:\n",
    "        return dataset\n",
    "    # Otherwise, convert the Dataset to a pandas DataFrame and return\n",
    "    return dataset.to_pandas()"
   ]
  },
  {
   "cell_type": "markdown",
   "id": "14150ac1-1541-4e19-a31e-a678070a6c6a",
   "metadata": {
    "tags": []
   },
   "source": [
    "### Josefina in action"
   ]
  },
  {
   "cell_type": "markdown",
   "id": "4981d7b2-14c3-4552-9333-1625144858e7",
   "metadata": {},
   "source": [
    "In this section, we utilize Josefina, our NLP model specifically designed to detect sexism in text, to analyze the Mexican dataset. Josefina's main task is to identify and flag tweets containing sexist content. \n",
    "\n",
    "Using Josefina, we filter out the tweets deemed sexist, allowing us to focus on this specific subset of data. This enables us to conduct further feature extraction, uncovering sexism types, sentiment, and other nuances associated with sexism.."
   ]
  },
  {
   "cell_type": "code",
   "execution_count": null,
   "id": "94c6288b-da77-47c4-95ab-a42ece97bb9c",
   "metadata": {},
   "outputs": [],
   "source": [
    "model = [\n",
    "    {\n",
    "        \"model_name\": \"../src3/detector/purificacion-sexism-detection\", \n",
    "        \"out_col\": \"sexist\", \n",
    "        \"clean_label\": lambda x: int(x == \"LABEL_1\")\n",
    "    } \n",
    "]\n",
    "mexican_corpus_labeled = llm_feature_extraction(mexican_clean, models=model)"
   ]
  },
  {
   "cell_type": "code",
   "execution_count": 268,
   "id": "f0f3cb16-f61e-45a3-8940-a9c6feca6299",
   "metadata": {},
   "outputs": [],
   "source": [
    "mexican_corpus_labeled.to_csv(\"../data/extracted/mexican_corpus_labeled.tsv\", sep=\"\\t\")"
   ]
  },
  {
   "cell_type": "code",
   "execution_count": 28,
   "id": "4a985600-a186-4836-96ce-bd170975873d",
   "metadata": {},
   "outputs": [],
   "source": [
    "import pytz\n",
    "mexican_corpus_labeled = pd.read_csv('../data/extracted/mexican_corpus_labeled.tsv', delimiter='\\t', index_col=0)\n",
    "mexico_timezone = pytz.timezone('America/Mexico_City')\n",
    "\n",
    "# Convierte la columna 'timestamp' a tipo datetime\n",
    "mexican_corpus_labeled['timestamp'] = pd.to_datetime(mexican_corpus_labeled['timestamp'])\n",
    "# Aplica la conversión de zona horaria a la columna 'timestamp'\n",
    "mexican_corpus_labeled['timestamp'] = mexican_corpus_labeled['timestamp'].dt.tz_convert(mexico_timezone)"
   ]
  },
  {
   "cell_type": "code",
   "execution_count": 24,
   "id": "c192c624-d005-40b3-8168-8a823b9ad711",
   "metadata": {},
   "outputs": [
    {
     "data": {
      "application/vnd.plotly.v1+json": {
       "config": {
        "plotlyServerURL": "https://plot.ly"
       },
       "data": [
        {
         "hole": 0.4,
         "labels": [
          "non-sexist",
          "sexist"
         ],
         "marker": {
          "colors": [
           "#418fde",
           "#ea544d"
          ]
         },
         "textposition": "inside",
         "type": "pie",
         "values": [
          87.02551543832942,
          12.974484561670582
         ]
        }
       ],
       "layout": {
        "autosize": true,
        "legend": {
         "font": {
          "color": "#3c4444",
          "family": "Calibri"
         }
        },
        "plot_bgcolor": "white",
        "template": {
         "data": {
          "bar": [
           {
            "error_x": {
             "color": "#2a3f5f"
            },
            "error_y": {
             "color": "#2a3f5f"
            },
            "marker": {
             "line": {
              "color": "#E5ECF6",
              "width": 0.5
             },
             "pattern": {
              "fillmode": "overlay",
              "size": 10,
              "solidity": 0.2
             }
            },
            "type": "bar"
           }
          ],
          "barpolar": [
           {
            "marker": {
             "line": {
              "color": "#E5ECF6",
              "width": 0.5
             },
             "pattern": {
              "fillmode": "overlay",
              "size": 10,
              "solidity": 0.2
             }
            },
            "type": "barpolar"
           }
          ],
          "carpet": [
           {
            "aaxis": {
             "endlinecolor": "#2a3f5f",
             "gridcolor": "white",
             "linecolor": "white",
             "minorgridcolor": "white",
             "startlinecolor": "#2a3f5f"
            },
            "baxis": {
             "endlinecolor": "#2a3f5f",
             "gridcolor": "white",
             "linecolor": "white",
             "minorgridcolor": "white",
             "startlinecolor": "#2a3f5f"
            },
            "type": "carpet"
           }
          ],
          "choropleth": [
           {
            "colorbar": {
             "outlinewidth": 0,
             "ticks": ""
            },
            "type": "choropleth"
           }
          ],
          "contour": [
           {
            "colorbar": {
             "outlinewidth": 0,
             "ticks": ""
            },
            "colorscale": [
             [
              0,
              "#0d0887"
             ],
             [
              0.1111111111111111,
              "#46039f"
             ],
             [
              0.2222222222222222,
              "#7201a8"
             ],
             [
              0.3333333333333333,
              "#9c179e"
             ],
             [
              0.4444444444444444,
              "#bd3786"
             ],
             [
              0.5555555555555556,
              "#d8576b"
             ],
             [
              0.6666666666666666,
              "#ed7953"
             ],
             [
              0.7777777777777778,
              "#fb9f3a"
             ],
             [
              0.8888888888888888,
              "#fdca26"
             ],
             [
              1,
              "#f0f921"
             ]
            ],
            "type": "contour"
           }
          ],
          "contourcarpet": [
           {
            "colorbar": {
             "outlinewidth": 0,
             "ticks": ""
            },
            "type": "contourcarpet"
           }
          ],
          "heatmap": [
           {
            "colorbar": {
             "outlinewidth": 0,
             "ticks": ""
            },
            "colorscale": [
             [
              0,
              "#0d0887"
             ],
             [
              0.1111111111111111,
              "#46039f"
             ],
             [
              0.2222222222222222,
              "#7201a8"
             ],
             [
              0.3333333333333333,
              "#9c179e"
             ],
             [
              0.4444444444444444,
              "#bd3786"
             ],
             [
              0.5555555555555556,
              "#d8576b"
             ],
             [
              0.6666666666666666,
              "#ed7953"
             ],
             [
              0.7777777777777778,
              "#fb9f3a"
             ],
             [
              0.8888888888888888,
              "#fdca26"
             ],
             [
              1,
              "#f0f921"
             ]
            ],
            "type": "heatmap"
           }
          ],
          "heatmapgl": [
           {
            "colorbar": {
             "outlinewidth": 0,
             "ticks": ""
            },
            "colorscale": [
             [
              0,
              "#0d0887"
             ],
             [
              0.1111111111111111,
              "#46039f"
             ],
             [
              0.2222222222222222,
              "#7201a8"
             ],
             [
              0.3333333333333333,
              "#9c179e"
             ],
             [
              0.4444444444444444,
              "#bd3786"
             ],
             [
              0.5555555555555556,
              "#d8576b"
             ],
             [
              0.6666666666666666,
              "#ed7953"
             ],
             [
              0.7777777777777778,
              "#fb9f3a"
             ],
             [
              0.8888888888888888,
              "#fdca26"
             ],
             [
              1,
              "#f0f921"
             ]
            ],
            "type": "heatmapgl"
           }
          ],
          "histogram": [
           {
            "marker": {
             "pattern": {
              "fillmode": "overlay",
              "size": 10,
              "solidity": 0.2
             }
            },
            "type": "histogram"
           }
          ],
          "histogram2d": [
           {
            "colorbar": {
             "outlinewidth": 0,
             "ticks": ""
            },
            "colorscale": [
             [
              0,
              "#0d0887"
             ],
             [
              0.1111111111111111,
              "#46039f"
             ],
             [
              0.2222222222222222,
              "#7201a8"
             ],
             [
              0.3333333333333333,
              "#9c179e"
             ],
             [
              0.4444444444444444,
              "#bd3786"
             ],
             [
              0.5555555555555556,
              "#d8576b"
             ],
             [
              0.6666666666666666,
              "#ed7953"
             ],
             [
              0.7777777777777778,
              "#fb9f3a"
             ],
             [
              0.8888888888888888,
              "#fdca26"
             ],
             [
              1,
              "#f0f921"
             ]
            ],
            "type": "histogram2d"
           }
          ],
          "histogram2dcontour": [
           {
            "colorbar": {
             "outlinewidth": 0,
             "ticks": ""
            },
            "colorscale": [
             [
              0,
              "#0d0887"
             ],
             [
              0.1111111111111111,
              "#46039f"
             ],
             [
              0.2222222222222222,
              "#7201a8"
             ],
             [
              0.3333333333333333,
              "#9c179e"
             ],
             [
              0.4444444444444444,
              "#bd3786"
             ],
             [
              0.5555555555555556,
              "#d8576b"
             ],
             [
              0.6666666666666666,
              "#ed7953"
             ],
             [
              0.7777777777777778,
              "#fb9f3a"
             ],
             [
              0.8888888888888888,
              "#fdca26"
             ],
             [
              1,
              "#f0f921"
             ]
            ],
            "type": "histogram2dcontour"
           }
          ],
          "mesh3d": [
           {
            "colorbar": {
             "outlinewidth": 0,
             "ticks": ""
            },
            "type": "mesh3d"
           }
          ],
          "parcoords": [
           {
            "line": {
             "colorbar": {
              "outlinewidth": 0,
              "ticks": ""
             }
            },
            "type": "parcoords"
           }
          ],
          "pie": [
           {
            "automargin": true,
            "type": "pie"
           }
          ],
          "scatter": [
           {
            "fillpattern": {
             "fillmode": "overlay",
             "size": 10,
             "solidity": 0.2
            },
            "type": "scatter"
           }
          ],
          "scatter3d": [
           {
            "line": {
             "colorbar": {
              "outlinewidth": 0,
              "ticks": ""
             }
            },
            "marker": {
             "colorbar": {
              "outlinewidth": 0,
              "ticks": ""
             }
            },
            "type": "scatter3d"
           }
          ],
          "scattercarpet": [
           {
            "marker": {
             "colorbar": {
              "outlinewidth": 0,
              "ticks": ""
             }
            },
            "type": "scattercarpet"
           }
          ],
          "scattergeo": [
           {
            "marker": {
             "colorbar": {
              "outlinewidth": 0,
              "ticks": ""
             }
            },
            "type": "scattergeo"
           }
          ],
          "scattergl": [
           {
            "marker": {
             "colorbar": {
              "outlinewidth": 0,
              "ticks": ""
             }
            },
            "type": "scattergl"
           }
          ],
          "scattermapbox": [
           {
            "marker": {
             "colorbar": {
              "outlinewidth": 0,
              "ticks": ""
             }
            },
            "type": "scattermapbox"
           }
          ],
          "scatterpolar": [
           {
            "marker": {
             "colorbar": {
              "outlinewidth": 0,
              "ticks": ""
             }
            },
            "type": "scatterpolar"
           }
          ],
          "scatterpolargl": [
           {
            "marker": {
             "colorbar": {
              "outlinewidth": 0,
              "ticks": ""
             }
            },
            "type": "scatterpolargl"
           }
          ],
          "scatterternary": [
           {
            "marker": {
             "colorbar": {
              "outlinewidth": 0,
              "ticks": ""
             }
            },
            "type": "scatterternary"
           }
          ],
          "surface": [
           {
            "colorbar": {
             "outlinewidth": 0,
             "ticks": ""
            },
            "colorscale": [
             [
              0,
              "#0d0887"
             ],
             [
              0.1111111111111111,
              "#46039f"
             ],
             [
              0.2222222222222222,
              "#7201a8"
             ],
             [
              0.3333333333333333,
              "#9c179e"
             ],
             [
              0.4444444444444444,
              "#bd3786"
             ],
             [
              0.5555555555555556,
              "#d8576b"
             ],
             [
              0.6666666666666666,
              "#ed7953"
             ],
             [
              0.7777777777777778,
              "#fb9f3a"
             ],
             [
              0.8888888888888888,
              "#fdca26"
             ],
             [
              1,
              "#f0f921"
             ]
            ],
            "type": "surface"
           }
          ],
          "table": [
           {
            "cells": {
             "fill": {
              "color": "#EBF0F8"
             },
             "line": {
              "color": "white"
             }
            },
            "header": {
             "fill": {
              "color": "#C8D4E3"
             },
             "line": {
              "color": "white"
             }
            },
            "type": "table"
           }
          ]
         },
         "layout": {
          "annotationdefaults": {
           "arrowcolor": "#2a3f5f",
           "arrowhead": 0,
           "arrowwidth": 1
          },
          "autotypenumbers": "strict",
          "coloraxis": {
           "colorbar": {
            "outlinewidth": 0,
            "ticks": ""
           }
          },
          "colorscale": {
           "diverging": [
            [
             0,
             "#8e0152"
            ],
            [
             0.1,
             "#c51b7d"
            ],
            [
             0.2,
             "#de77ae"
            ],
            [
             0.3,
             "#f1b6da"
            ],
            [
             0.4,
             "#fde0ef"
            ],
            [
             0.5,
             "#f7f7f7"
            ],
            [
             0.6,
             "#e6f5d0"
            ],
            [
             0.7,
             "#b8e186"
            ],
            [
             0.8,
             "#7fbc41"
            ],
            [
             0.9,
             "#4d9221"
            ],
            [
             1,
             "#276419"
            ]
           ],
           "sequential": [
            [
             0,
             "#0d0887"
            ],
            [
             0.1111111111111111,
             "#46039f"
            ],
            [
             0.2222222222222222,
             "#7201a8"
            ],
            [
             0.3333333333333333,
             "#9c179e"
            ],
            [
             0.4444444444444444,
             "#bd3786"
            ],
            [
             0.5555555555555556,
             "#d8576b"
            ],
            [
             0.6666666666666666,
             "#ed7953"
            ],
            [
             0.7777777777777778,
             "#fb9f3a"
            ],
            [
             0.8888888888888888,
             "#fdca26"
            ],
            [
             1,
             "#f0f921"
            ]
           ],
           "sequentialminus": [
            [
             0,
             "#0d0887"
            ],
            [
             0.1111111111111111,
             "#46039f"
            ],
            [
             0.2222222222222222,
             "#7201a8"
            ],
            [
             0.3333333333333333,
             "#9c179e"
            ],
            [
             0.4444444444444444,
             "#bd3786"
            ],
            [
             0.5555555555555556,
             "#d8576b"
            ],
            [
             0.6666666666666666,
             "#ed7953"
            ],
            [
             0.7777777777777778,
             "#fb9f3a"
            ],
            [
             0.8888888888888888,
             "#fdca26"
            ],
            [
             1,
             "#f0f921"
            ]
           ]
          },
          "colorway": [
           "#636efa",
           "#EF553B",
           "#00cc96",
           "#ab63fa",
           "#FFA15A",
           "#19d3f3",
           "#FF6692",
           "#B6E880",
           "#FF97FF",
           "#FECB52"
          ],
          "font": {
           "color": "#2a3f5f"
          },
          "geo": {
           "bgcolor": "white",
           "lakecolor": "white",
           "landcolor": "#E5ECF6",
           "showlakes": true,
           "showland": true,
           "subunitcolor": "white"
          },
          "hoverlabel": {
           "align": "left"
          },
          "hovermode": "closest",
          "mapbox": {
           "style": "light"
          },
          "paper_bgcolor": "white",
          "plot_bgcolor": "#E5ECF6",
          "polar": {
           "angularaxis": {
            "gridcolor": "white",
            "linecolor": "white",
            "ticks": ""
           },
           "bgcolor": "#E5ECF6",
           "radialaxis": {
            "gridcolor": "white",
            "linecolor": "white",
            "ticks": ""
           }
          },
          "scene": {
           "xaxis": {
            "backgroundcolor": "#E5ECF6",
            "gridcolor": "white",
            "gridwidth": 2,
            "linecolor": "white",
            "showbackground": true,
            "ticks": "",
            "zerolinecolor": "white"
           },
           "yaxis": {
            "backgroundcolor": "#E5ECF6",
            "gridcolor": "white",
            "gridwidth": 2,
            "linecolor": "white",
            "showbackground": true,
            "ticks": "",
            "zerolinecolor": "white"
           },
           "zaxis": {
            "backgroundcolor": "#E5ECF6",
            "gridcolor": "white",
            "gridwidth": 2,
            "linecolor": "white",
            "showbackground": true,
            "ticks": "",
            "zerolinecolor": "white"
           }
          },
          "shapedefaults": {
           "line": {
            "color": "#2a3f5f"
           }
          },
          "ternary": {
           "aaxis": {
            "gridcolor": "white",
            "linecolor": "white",
            "ticks": ""
           },
           "baxis": {
            "gridcolor": "white",
            "linecolor": "white",
            "ticks": ""
           },
           "bgcolor": "#E5ECF6",
           "caxis": {
            "gridcolor": "white",
            "linecolor": "white",
            "ticks": ""
           }
          },
          "title": {
           "x": 0.05
          },
          "xaxis": {
           "automargin": true,
           "gridcolor": "white",
           "linecolor": "white",
           "ticks": "",
           "title": {
            "standoff": 15
           },
           "zerolinecolor": "white",
           "zerolinewidth": 2
          },
          "yaxis": {
           "automargin": true,
           "gridcolor": "white",
           "linecolor": "white",
           "ticks": "",
           "title": {
            "standoff": 15
           },
           "zerolinecolor": "white",
           "zerolinewidth": 2
          }
         }
        },
        "title": {
         "font": {
          "color": "#3c4444",
          "family": "Arial",
          "size": 20
         },
         "text": "Sexism Distribution"
        }
       }
      },
      "image/png": "[encoded data removed]",
      "text/html": [
       "<div>                            <div id=\"3720b487-20ec-4d4a-abe9-82453fe61d05\" class=\"plotly-graph-div\" style=\"height:525px; width:100%;\"></div>            <script type=\"text/javascript\">                require([\"plotly\"], function(Plotly) {                    window.PLOTLYENV=window.PLOTLYENV || {};                                    if (document.getElementById(\"3720b487-20ec-4d4a-abe9-82453fe61d05\")) {                    Plotly.newPlot(                        \"3720b487-20ec-4d4a-abe9-82453fe61d05\",                        [{\"hole\":0.4,\"labels\":[\"non-sexist\",\"sexist\"],\"textposition\":\"inside\",\"values\":[87.02551543832942,12.974484561670582],\"type\":\"pie\",\"marker\":{\"colors\":[\"#418fde\",\"#ea544d\"]}}],                        {\"template\":{\"data\":{\"histogram2dcontour\":[{\"type\":\"histogram2dcontour\",\"colorbar\":{\"outlinewidth\":0,\"ticks\":\"\"},\"colorscale\":[[0.0,\"#0d0887\"],[0.1111111111111111,\"#46039f\"],[0.2222222222222222,\"#7201a8\"],[0.3333333333333333,\"#9c179e\"],[0.4444444444444444,\"#bd3786\"],[0.5555555555555556,\"#d8576b\"],[0.6666666666666666,\"#ed7953\"],[0.7777777777777778,\"#fb9f3a\"],[0.8888888888888888,\"#fdca26\"],[1.0,\"#f0f921\"]]}],\"choropleth\":[{\"type\":\"choropleth\",\"colorbar\":{\"outlinewidth\":0,\"ticks\":\"\"}}],\"histogram2d\":[{\"type\":\"histogram2d\",\"colorbar\":{\"outlinewidth\":0,\"ticks\":\"\"},\"colorscale\":[[0.0,\"#0d0887\"],[0.1111111111111111,\"#46039f\"],[0.2222222222222222,\"#7201a8\"],[0.3333333333333333,\"#9c179e\"],[0.4444444444444444,\"#bd3786\"],[0.5555555555555556,\"#d8576b\"],[0.6666666666666666,\"#ed7953\"],[0.7777777777777778,\"#fb9f3a\"],[0.8888888888888888,\"#fdca26\"],[1.0,\"#f0f921\"]]}],\"heatmap\":[{\"type\":\"heatmap\",\"colorbar\":{\"outlinewidth\":0,\"ticks\":\"\"},\"colorscale\":[[0.0,\"#0d0887\"],[0.1111111111111111,\"#46039f\"],[0.2222222222222222,\"#7201a8\"],[0.3333333333333333,\"#9c179e\"],[0.4444444444444444,\"#bd3786\"],[0.5555555555555556,\"#d8576b\"],[0.6666666666666666,\"#ed7953\"],[0.7777777777777778,\"#fb9f3a\"],[0.8888888888888888,\"#fdca26\"],[1.0,\"#f0f921\"]]}],\"heatmapgl\":[{\"type\":\"heatmapgl\",\"colorbar\":{\"outlinewidth\":0,\"ticks\":\"\"},\"colorscale\":[[0.0,\"#0d0887\"],[0.1111111111111111,\"#46039f\"],[0.2222222222222222,\"#7201a8\"],[0.3333333333333333,\"#9c179e\"],[0.4444444444444444,\"#bd3786\"],[0.5555555555555556,\"#d8576b\"],[0.6666666666666666,\"#ed7953\"],[0.7777777777777778,\"#fb9f3a\"],[0.8888888888888888,\"#fdca26\"],[1.0,\"#f0f921\"]]}],\"contourcarpet\":[{\"type\":\"contourcarpet\",\"colorbar\":{\"outlinewidth\":0,\"ticks\":\"\"}}],\"contour\":[{\"type\":\"contour\",\"colorbar\":{\"outlinewidth\":0,\"ticks\":\"\"},\"colorscale\":[[0.0,\"#0d0887\"],[0.1111111111111111,\"#46039f\"],[0.2222222222222222,\"#7201a8\"],[0.3333333333333333,\"#9c179e\"],[0.4444444444444444,\"#bd3786\"],[0.5555555555555556,\"#d8576b\"],[0.6666666666666666,\"#ed7953\"],[0.7777777777777778,\"#fb9f3a\"],[0.8888888888888888,\"#fdca26\"],[1.0,\"#f0f921\"]]}],\"surface\":[{\"type\":\"surface\",\"colorbar\":{\"outlinewidth\":0,\"ticks\":\"\"},\"colorscale\":[[0.0,\"#0d0887\"],[0.1111111111111111,\"#46039f\"],[0.2222222222222222,\"#7201a8\"],[0.3333333333333333,\"#9c179e\"],[0.4444444444444444,\"#bd3786\"],[0.5555555555555556,\"#d8576b\"],[0.6666666666666666,\"#ed7953\"],[0.7777777777777778,\"#fb9f3a\"],[0.8888888888888888,\"#fdca26\"],[1.0,\"#f0f921\"]]}],\"mesh3d\":[{\"type\":\"mesh3d\",\"colorbar\":{\"outlinewidth\":0,\"ticks\":\"\"}}],\"scatter\":[{\"fillpattern\":{\"fillmode\":\"overlay\",\"size\":10,\"solidity\":0.2},\"type\":\"scatter\"}],\"parcoords\":[{\"type\":\"parcoords\",\"line\":{\"colorbar\":{\"outlinewidth\":0,\"ticks\":\"\"}}}],\"scatterpolargl\":[{\"type\":\"scatterpolargl\",\"marker\":{\"colorbar\":{\"outlinewidth\":0,\"ticks\":\"\"}}}],\"bar\":[{\"error_x\":{\"color\":\"#2a3f5f\"},\"error_y\":{\"color\":\"#2a3f5f\"},\"marker\":{\"line\":{\"color\":\"#E5ECF6\",\"width\":0.5},\"pattern\":{\"fillmode\":\"overlay\",\"size\":10,\"solidity\":0.2}},\"type\":\"bar\"}],\"scattergeo\":[{\"type\":\"scattergeo\",\"marker\":{\"colorbar\":{\"outlinewidth\":0,\"ticks\":\"\"}}}],\"scatterpolar\":[{\"type\":\"scatterpolar\",\"marker\":{\"colorbar\":{\"outlinewidth\":0,\"ticks\":\"\"}}}],\"histogram\":[{\"marker\":{\"pattern\":{\"fillmode\":\"overlay\",\"size\":10,\"solidity\":0.2}},\"type\":\"histogram\"}],\"scattergl\":[{\"type\":\"scattergl\",\"marker\":{\"colorbar\":{\"outlinewidth\":0,\"ticks\":\"\"}}}],\"scatter3d\":[{\"type\":\"scatter3d\",\"line\":{\"colorbar\":{\"outlinewidth\":0,\"ticks\":\"\"}},\"marker\":{\"colorbar\":{\"outlinewidth\":0,\"ticks\":\"\"}}}],\"scattermapbox\":[{\"type\":\"scattermapbox\",\"marker\":{\"colorbar\":{\"outlinewidth\":0,\"ticks\":\"\"}}}],\"scatterternary\":[{\"type\":\"scatterternary\",\"marker\":{\"colorbar\":{\"outlinewidth\":0,\"ticks\":\"\"}}}],\"scattercarpet\":[{\"type\":\"scattercarpet\",\"marker\":{\"colorbar\":{\"outlinewidth\":0,\"ticks\":\"\"}}}],\"carpet\":[{\"aaxis\":{\"endlinecolor\":\"#2a3f5f\",\"gridcolor\":\"white\",\"linecolor\":\"white\",\"minorgridcolor\":\"white\",\"startlinecolor\":\"#2a3f5f\"},\"baxis\":{\"endlinecolor\":\"#2a3f5f\",\"gridcolor\":\"white\",\"linecolor\":\"white\",\"minorgridcolor\":\"white\",\"startlinecolor\":\"#2a3f5f\"},\"type\":\"carpet\"}],\"table\":[{\"cells\":{\"fill\":{\"color\":\"#EBF0F8\"},\"line\":{\"color\":\"white\"}},\"header\":{\"fill\":{\"color\":\"#C8D4E3\"},\"line\":{\"color\":\"white\"}},\"type\":\"table\"}],\"barpolar\":[{\"marker\":{\"line\":{\"color\":\"#E5ECF6\",\"width\":0.5},\"pattern\":{\"fillmode\":\"overlay\",\"size\":10,\"solidity\":0.2}},\"type\":\"barpolar\"}],\"pie\":[{\"automargin\":true,\"type\":\"pie\"}]},\"layout\":{\"autotypenumbers\":\"strict\",\"colorway\":[\"#636efa\",\"#EF553B\",\"#00cc96\",\"#ab63fa\",\"#FFA15A\",\"#19d3f3\",\"#FF6692\",\"#B6E880\",\"#FF97FF\",\"#FECB52\"],\"font\":{\"color\":\"#2a3f5f\"},\"hovermode\":\"closest\",\"hoverlabel\":{\"align\":\"left\"},\"paper_bgcolor\":\"white\",\"plot_bgcolor\":\"#E5ECF6\",\"polar\":{\"bgcolor\":\"#E5ECF6\",\"angularaxis\":{\"gridcolor\":\"white\",\"linecolor\":\"white\",\"ticks\":\"\"},\"radialaxis\":{\"gridcolor\":\"white\",\"linecolor\":\"white\",\"ticks\":\"\"}},\"ternary\":{\"bgcolor\":\"#E5ECF6\",\"aaxis\":{\"gridcolor\":\"white\",\"linecolor\":\"white\",\"ticks\":\"\"},\"baxis\":{\"gridcolor\":\"white\",\"linecolor\":\"white\",\"ticks\":\"\"},\"caxis\":{\"gridcolor\":\"white\",\"linecolor\":\"white\",\"ticks\":\"\"}},\"coloraxis\":{\"colorbar\":{\"outlinewidth\":0,\"ticks\":\"\"}},\"colorscale\":{\"sequential\":[[0.0,\"#0d0887\"],[0.1111111111111111,\"#46039f\"],[0.2222222222222222,\"#7201a8\"],[0.3333333333333333,\"#9c179e\"],[0.4444444444444444,\"#bd3786\"],[0.5555555555555556,\"#d8576b\"],[0.6666666666666666,\"#ed7953\"],[0.7777777777777778,\"#fb9f3a\"],[0.8888888888888888,\"#fdca26\"],[1.0,\"#f0f921\"]],\"sequentialminus\":[[0.0,\"#0d0887\"],[0.1111111111111111,\"#46039f\"],[0.2222222222222222,\"#7201a8\"],[0.3333333333333333,\"#9c179e\"],[0.4444444444444444,\"#bd3786\"],[0.5555555555555556,\"#d8576b\"],[0.6666666666666666,\"#ed7953\"],[0.7777777777777778,\"#fb9f3a\"],[0.8888888888888888,\"#fdca26\"],[1.0,\"#f0f921\"]],\"diverging\":[[0,\"#8e0152\"],[0.1,\"#c51b7d\"],[0.2,\"#de77ae\"],[0.3,\"#f1b6da\"],[0.4,\"#fde0ef\"],[0.5,\"#f7f7f7\"],[0.6,\"#e6f5d0\"],[0.7,\"#b8e186\"],[0.8,\"#7fbc41\"],[0.9,\"#4d9221\"],[1,\"#276419\"]]},\"xaxis\":{\"gridcolor\":\"white\",\"linecolor\":\"white\",\"ticks\":\"\",\"title\":{\"standoff\":15},\"zerolinecolor\":\"white\",\"automargin\":true,\"zerolinewidth\":2},\"yaxis\":{\"gridcolor\":\"white\",\"linecolor\":\"white\",\"ticks\":\"\",\"title\":{\"standoff\":15},\"zerolinecolor\":\"white\",\"automargin\":true,\"zerolinewidth\":2},\"scene\":{\"xaxis\":{\"backgroundcolor\":\"#E5ECF6\",\"gridcolor\":\"white\",\"linecolor\":\"white\",\"showbackground\":true,\"ticks\":\"\",\"zerolinecolor\":\"white\",\"gridwidth\":2},\"yaxis\":{\"backgroundcolor\":\"#E5ECF6\",\"gridcolor\":\"white\",\"linecolor\":\"white\",\"showbackground\":true,\"ticks\":\"\",\"zerolinecolor\":\"white\",\"gridwidth\":2},\"zaxis\":{\"backgroundcolor\":\"#E5ECF6\",\"gridcolor\":\"white\",\"linecolor\":\"white\",\"showbackground\":true,\"ticks\":\"\",\"zerolinecolor\":\"white\",\"gridwidth\":2}},\"shapedefaults\":{\"line\":{\"color\":\"#2a3f5f\"}},\"annotationdefaults\":{\"arrowcolor\":\"#2a3f5f\",\"arrowhead\":0,\"arrowwidth\":1},\"geo\":{\"bgcolor\":\"white\",\"landcolor\":\"#E5ECF6\",\"subunitcolor\":\"white\",\"showland\":true,\"showlakes\":true,\"lakecolor\":\"white\"},\"title\":{\"x\":0.05},\"mapbox\":{\"style\":\"light\"}}},\"title\":{\"text\":\"Sexism Distribution\",\"font\":{\"size\":20,\"family\":\"Arial\",\"color\":\"#3c4444\"}},\"legend\":{\"font\":{\"family\":\"Calibri\",\"color\":\"#3c4444\"}},\"plot_bgcolor\":\"white\"},                        {\"responsive\": true}                    ).then(function(){\n",
       "                            \n",
       "var gd = document.getElementById('3720b487-20ec-4d4a-abe9-82453fe61d05');\n",
       "var x = new MutationObserver(function (mutations, observer) {{\n",
       "        var display = window.getComputedStyle(gd).display;\n",
       "        if (!display || display === 'none') {{\n",
       "            console.log([gd, 'removed!']);\n",
       "            Plotly.purge(gd);\n",
       "            observer.disconnect();\n",
       "        }}\n",
       "}});\n",
       "\n",
       "// Listen for the removal of the full notebook cells\n",
       "var notebookContainer = gd.closest('#notebook-container');\n",
       "if (notebookContainer) {{\n",
       "    x.observe(notebookContainer, {childList: true});\n",
       "}}\n",
       "\n",
       "// Listen for the clearing of the current output cell\n",
       "var outputEl = gd.closest('.output');\n",
       "if (outputEl) {{\n",
       "    x.observe(outputEl, {childList: true});\n",
       "}}\n",
       "\n",
       "                        })                };                });            </script>        </div>"
      ]
     },
     "metadata": {},
     "output_type": "display_data"
    }
   ],
   "source": [
    "import plotly.graph_objects as go\n",
    "\n",
    "def create_donut_chart(data,\n",
    "                       colors, labels=None, label_font='Arial', \n",
    "                       legend_font='Arial', legend_color='black', \n",
    "                       title_size=20, title_font='Arial', title_color='black',\n",
    "                       background_color='white'):\n",
    "    values = data.value_counts(normalize=True) * 100\n",
    "    if not labels:\n",
    "        labels = values.index.tolist()\n",
    "    fig = go.Figure(data=go.Pie(labels=labels, values=values, hole=0.4, textposition='inside'))\n",
    "    \n",
    "    fig.update_traces(marker=dict(colors=colors))\n",
    "    fig.update_layout(\n",
    "        title='Sexism Distribution',\n",
    "        title_font=dict(size=title_size, family=title_font, color=title_color),\n",
    "        plot_bgcolor=background_color,\n",
    "        legend=dict(\n",
    "            font=dict(family=legend_font, color=legend_color),\n",
    "        )\n",
    "    )\n",
    "    return fig\n",
    "    \n",
    "\n",
    "colors = [BLUE, RED]  \n",
    "fig1 = create_donut_chart(mexican_corpus_labeled.sexist, labels=['non-sexist', 'sexist'], colors=colors, \n",
    "                   legend_font=font, legend_color=BLCK, label_font=font, title_color=BLCK)\n",
    "fig1.show()"
   ]
  },
  {
   "cell_type": "code",
   "execution_count": 32,
   "id": "7cabeb2d-0387-4929-a203-621f34558d0b",
   "metadata": {},
   "outputs": [
    {
     "data": {
      "application/vnd.plotly.v1+json": {
       "config": {
        "plotlyServerURL": "https://plot.ly"
       },
       "data": [
        {
         "fillpattern": {
          "shape": ""
         },
         "hovertemplate": "timestamp=%{x}<br>percentage=%{y}<extra></extra>",
         "legendgroup": "",
         "line": {
          "color": "#ea544d"
         },
         "marker": {
          "symbol": "circle"
         },
         "mode": "lines",
         "name": "",
         "orientation": "v",
         "showlegend": false,
         "stackgroup": "1",
         "type": "scatter",
         "x": [
          0,
          1,
          2,
          3,
          4,
          5,
          6,
          7,
          8,
          9,
          10,
          11,
          12,
          13,
          14,
          15,
          16,
          17,
          18,
          19,
          20,
          21,
          22,
          23
         ],
         "xaxis": "x",
         "y": [
          12.29722658294087,
          13.231552162849871,
          11.654676258992806,
          12.195121951219512,
          11.655011655011654,
          10.339256865912763,
          14.650934119960668,
          12.053056516724336,
          12.098765432098766,
          12.705436156763591,
          11.12781954887218,
          12.230014025245442,
          12.551724137931034,
          12.941831338714167,
          14.374999999999998,
          13.715277777777779,
          12.223903177004539,
          12.971542025148908,
          12.827492344334807,
          15.065359477124183,
          14.263661623958013,
          13.748956303924299,
          13.161465400271371,
          12.675573826652965
         ],
         "yaxis": "y"
        }
       ],
       "layout": {
        "autosize": true,
        "legend": {
         "font": {
          "color": "#3c4444",
          "family": "Calibri",
          "size": 12
         },
         "tracegroupgap": 0
        },
        "margin": {
         "t": 60
        },
        "paper_bgcolor": "white",
        "plot_bgcolor": "#FFFFFF",
        "template": {
         "data": {
          "bar": [
           {
            "error_x": {
             "color": "#2a3f5f"
            },
            "error_y": {
             "color": "#2a3f5f"
            },
            "marker": {
             "line": {
              "color": "#E5ECF6",
              "width": 0.5
             },
             "pattern": {
              "fillmode": "overlay",
              "size": 10,
              "solidity": 0.2
             }
            },
            "type": "bar"
           }
          ],
          "barpolar": [
           {
            "marker": {
             "line": {
              "color": "#E5ECF6",
              "width": 0.5
             },
             "pattern": {
              "fillmode": "overlay",
              "size": 10,
              "solidity": 0.2
             }
            },
            "type": "barpolar"
           }
          ],
          "carpet": [
           {
            "aaxis": {
             "endlinecolor": "#2a3f5f",
             "gridcolor": "white",
             "linecolor": "white",
             "minorgridcolor": "white",
             "startlinecolor": "#2a3f5f"
            },
            "baxis": {
             "endlinecolor": "#2a3f5f",
             "gridcolor": "white",
             "linecolor": "white",
             "minorgridcolor": "white",
             "startlinecolor": "#2a3f5f"
            },
            "type": "carpet"
           }
          ],
          "choropleth": [
           {
            "colorbar": {
             "outlinewidth": 0,
             "ticks": ""
            },
            "type": "choropleth"
           }
          ],
          "contour": [
           {
            "colorbar": {
             "outlinewidth": 0,
             "ticks": ""
            },
            "colorscale": [
             [
              0,
              "#0d0887"
             ],
             [
              0.1111111111111111,
              "#46039f"
             ],
             [
              0.2222222222222222,
              "#7201a8"
             ],
             [
              0.3333333333333333,
              "#9c179e"
             ],
             [
              0.4444444444444444,
              "#bd3786"
             ],
             [
              0.5555555555555556,
              "#d8576b"
             ],
             [
              0.6666666666666666,
              "#ed7953"
             ],
             [
              0.7777777777777778,
              "#fb9f3a"
             ],
             [
              0.8888888888888888,
              "#fdca26"
             ],
             [
              1,
              "#f0f921"
             ]
            ],
            "type": "contour"
           }
          ],
          "contourcarpet": [
           {
            "colorbar": {
             "outlinewidth": 0,
             "ticks": ""
            },
            "type": "contourcarpet"
           }
          ],
          "heatmap": [
           {
            "colorbar": {
             "outlinewidth": 0,
             "ticks": ""
            },
            "colorscale": [
             [
              0,
              "#0d0887"
             ],
             [
              0.1111111111111111,
              "#46039f"
             ],
             [
              0.2222222222222222,
              "#7201a8"
             ],
             [
              0.3333333333333333,
              "#9c179e"
             ],
             [
              0.4444444444444444,
              "#bd3786"
             ],
             [
              0.5555555555555556,
              "#d8576b"
             ],
             [
              0.6666666666666666,
              "#ed7953"
             ],
             [
              0.7777777777777778,
              "#fb9f3a"
             ],
             [
              0.8888888888888888,
              "#fdca26"
             ],
             [
              1,
              "#f0f921"
             ]
            ],
            "type": "heatmap"
           }
          ],
          "heatmapgl": [
           {
            "colorbar": {
             "outlinewidth": 0,
             "ticks": ""
            },
            "colorscale": [
             [
              0,
              "#0d0887"
             ],
             [
              0.1111111111111111,
              "#46039f"
             ],
             [
              0.2222222222222222,
              "#7201a8"
             ],
             [
              0.3333333333333333,
              "#9c179e"
             ],
             [
              0.4444444444444444,
              "#bd3786"
             ],
             [
              0.5555555555555556,
              "#d8576b"
             ],
             [
              0.6666666666666666,
              "#ed7953"
             ],
             [
              0.7777777777777778,
              "#fb9f3a"
             ],
             [
              0.8888888888888888,
              "#fdca26"
             ],
             [
              1,
              "#f0f921"
             ]
            ],
            "type": "heatmapgl"
           }
          ],
          "histogram": [
           {
            "marker": {
             "pattern": {
              "fillmode": "overlay",
              "size": 10,
              "solidity": 0.2
             }
            },
            "type": "histogram"
           }
          ],
          "histogram2d": [
           {
            "colorbar": {
             "outlinewidth": 0,
             "ticks": ""
            },
            "colorscale": [
             [
              0,
              "#0d0887"
             ],
             [
              0.1111111111111111,
              "#46039f"
             ],
             [
              0.2222222222222222,
              "#7201a8"
             ],
             [
              0.3333333333333333,
              "#9c179e"
             ],
             [
              0.4444444444444444,
              "#bd3786"
             ],
             [
              0.5555555555555556,
              "#d8576b"
             ],
             [
              0.6666666666666666,
              "#ed7953"
             ],
             [
              0.7777777777777778,
              "#fb9f3a"
             ],
             [
              0.8888888888888888,
              "#fdca26"
             ],
             [
              1,
              "#f0f921"
             ]
            ],
            "type": "histogram2d"
           }
          ],
          "histogram2dcontour": [
           {
            "colorbar": {
             "outlinewidth": 0,
             "ticks": ""
            },
            "colorscale": [
             [
              0,
              "#0d0887"
             ],
             [
              0.1111111111111111,
              "#46039f"
             ],
             [
              0.2222222222222222,
              "#7201a8"
             ],
             [
              0.3333333333333333,
              "#9c179e"
             ],
             [
              0.4444444444444444,
              "#bd3786"
             ],
             [
              0.5555555555555556,
              "#d8576b"
             ],
             [
              0.6666666666666666,
              "#ed7953"
             ],
             [
              0.7777777777777778,
              "#fb9f3a"
             ],
             [
              0.8888888888888888,
              "#fdca26"
             ],
             [
              1,
              "#f0f921"
             ]
            ],
            "type": "histogram2dcontour"
           }
          ],
          "mesh3d": [
           {
            "colorbar": {
             "outlinewidth": 0,
             "ticks": ""
            },
            "type": "mesh3d"
           }
          ],
          "parcoords": [
           {
            "line": {
             "colorbar": {
              "outlinewidth": 0,
              "ticks": ""
             }
            },
            "type": "parcoords"
           }
          ],
          "pie": [
           {
            "automargin": true,
            "type": "pie"
           }
          ],
          "scatter": [
           {
            "fillpattern": {
             "fillmode": "overlay",
             "size": 10,
             "solidity": 0.2
            },
            "type": "scatter"
           }
          ],
          "scatter3d": [
           {
            "line": {
             "colorbar": {
              "outlinewidth": 0,
              "ticks": ""
             }
            },
            "marker": {
             "colorbar": {
              "outlinewidth": 0,
              "ticks": ""
             }
            },
            "type": "scatter3d"
           }
          ],
          "scattercarpet": [
           {
            "marker": {
             "colorbar": {
              "outlinewidth": 0,
              "ticks": ""
             }
            },
            "type": "scattercarpet"
           }
          ],
          "scattergeo": [
           {
            "marker": {
             "colorbar": {
              "outlinewidth": 0,
              "ticks": ""
             }
            },
            "type": "scattergeo"
           }
          ],
          "scattergl": [
           {
            "marker": {
             "colorbar": {
              "outlinewidth": 0,
              "ticks": ""
             }
            },
            "type": "scattergl"
           }
          ],
          "scattermapbox": [
           {
            "marker": {
             "colorbar": {
              "outlinewidth": 0,
              "ticks": ""
             }
            },
            "type": "scattermapbox"
           }
          ],
          "scatterpolar": [
           {
            "marker": {
             "colorbar": {
              "outlinewidth": 0,
              "ticks": ""
             }
            },
            "type": "scatterpolar"
           }
          ],
          "scatterpolargl": [
           {
            "marker": {
             "colorbar": {
              "outlinewidth": 0,
              "ticks": ""
             }
            },
            "type": "scatterpolargl"
           }
          ],
          "scatterternary": [
           {
            "marker": {
             "colorbar": {
              "outlinewidth": 0,
              "ticks": ""
             }
            },
            "type": "scatterternary"
           }
          ],
          "surface": [
           {
            "colorbar": {
             "outlinewidth": 0,
             "ticks": ""
            },
            "colorscale": [
             [
              0,
              "#0d0887"
             ],
             [
              0.1111111111111111,
              "#46039f"
             ],
             [
              0.2222222222222222,
              "#7201a8"
             ],
             [
              0.3333333333333333,
              "#9c179e"
             ],
             [
              0.4444444444444444,
              "#bd3786"
             ],
             [
              0.5555555555555556,
              "#d8576b"
             ],
             [
              0.6666666666666666,
              "#ed7953"
             ],
             [
              0.7777777777777778,
              "#fb9f3a"
             ],
             [
              0.8888888888888888,
              "#fdca26"
             ],
             [
              1,
              "#f0f921"
             ]
            ],
            "type": "surface"
           }
          ],
          "table": [
           {
            "cells": {
             "fill": {
              "color": "#EBF0F8"
             },
             "line": {
              "color": "white"
             }
            },
            "header": {
             "fill": {
              "color": "#C8D4E3"
             },
             "line": {
              "color": "white"
             }
            },
            "type": "table"
           }
          ]
         },
         "layout": {
          "annotationdefaults": {
           "arrowcolor": "#2a3f5f",
           "arrowhead": 0,
           "arrowwidth": 1
          },
          "autotypenumbers": "strict",
          "coloraxis": {
           "colorbar": {
            "outlinewidth": 0,
            "ticks": ""
           }
          },
          "colorscale": {
           "diverging": [
            [
             0,
             "#8e0152"
            ],
            [
             0.1,
             "#c51b7d"
            ],
            [
             0.2,
             "#de77ae"
            ],
            [
             0.3,
             "#f1b6da"
            ],
            [
             0.4,
             "#fde0ef"
            ],
            [
             0.5,
             "#f7f7f7"
            ],
            [
             0.6,
             "#e6f5d0"
            ],
            [
             0.7,
             "#b8e186"
            ],
            [
             0.8,
             "#7fbc41"
            ],
            [
             0.9,
             "#4d9221"
            ],
            [
             1,
             "#276419"
            ]
           ],
           "sequential": [
            [
             0,
             "#0d0887"
            ],
            [
             0.1111111111111111,
             "#46039f"
            ],
            [
             0.2222222222222222,
             "#7201a8"
            ],
            [
             0.3333333333333333,
             "#9c179e"
            ],
            [
             0.4444444444444444,
             "#bd3786"
            ],
            [
             0.5555555555555556,
             "#d8576b"
            ],
            [
             0.6666666666666666,
             "#ed7953"
            ],
            [
             0.7777777777777778,
             "#fb9f3a"
            ],
            [
             0.8888888888888888,
             "#fdca26"
            ],
            [
             1,
             "#f0f921"
            ]
           ],
           "sequentialminus": [
            [
             0,
             "#0d0887"
            ],
            [
             0.1111111111111111,
             "#46039f"
            ],
            [
             0.2222222222222222,
             "#7201a8"
            ],
            [
             0.3333333333333333,
             "#9c179e"
            ],
            [
             0.4444444444444444,
             "#bd3786"
            ],
            [
             0.5555555555555556,
             "#d8576b"
            ],
            [
             0.6666666666666666,
             "#ed7953"
            ],
            [
             0.7777777777777778,
             "#fb9f3a"
            ],
            [
             0.8888888888888888,
             "#fdca26"
            ],
            [
             1,
             "#f0f921"
            ]
           ]
          },
          "colorway": [
           "#636efa",
           "#EF553B",
           "#00cc96",
           "#ab63fa",
           "#FFA15A",
           "#19d3f3",
           "#FF6692",
           "#B6E880",
           "#FF97FF",
           "#FECB52"
          ],
          "font": {
           "color": "#2a3f5f"
          },
          "geo": {
           "bgcolor": "white",
           "lakecolor": "white",
           "landcolor": "#E5ECF6",
           "showlakes": true,
           "showland": true,
           "subunitcolor": "white"
          },
          "hoverlabel": {
           "align": "left"
          },
          "hovermode": "closest",
          "mapbox": {
           "style": "light"
          },
          "paper_bgcolor": "white",
          "plot_bgcolor": "#E5ECF6",
          "polar": {
           "angularaxis": {
            "gridcolor": "white",
            "linecolor": "white",
            "ticks": ""
           },
           "bgcolor": "#E5ECF6",
           "radialaxis": {
            "gridcolor": "white",
            "linecolor": "white",
            "ticks": ""
           }
          },
          "scene": {
           "xaxis": {
            "backgroundcolor": "#E5ECF6",
            "gridcolor": "white",
            "gridwidth": 2,
            "linecolor": "white",
            "showbackground": true,
            "ticks": "",
            "zerolinecolor": "white"
           },
           "yaxis": {
            "backgroundcolor": "#E5ECF6",
            "gridcolor": "white",
            "gridwidth": 2,
            "linecolor": "white",
            "showbackground": true,
            "ticks": "",
            "zerolinecolor": "white"
           },
           "zaxis": {
            "backgroundcolor": "#E5ECF6",
            "gridcolor": "white",
            "gridwidth": 2,
            "linecolor": "white",
            "showbackground": true,
            "ticks": "",
            "zerolinecolor": "white"
           }
          },
          "shapedefaults": {
           "line": {
            "color": "#2a3f5f"
           }
          },
          "ternary": {
           "aaxis": {
            "gridcolor": "white",
            "linecolor": "white",
            "ticks": ""
           },
           "baxis": {
            "gridcolor": "white",
            "linecolor": "white",
            "ticks": ""
           },
           "bgcolor": "#E5ECF6",
           "caxis": {
            "gridcolor": "white",
            "linecolor": "white",
            "ticks": ""
           }
          },
          "title": {
           "x": 0.05
          },
          "xaxis": {
           "automargin": true,
           "gridcolor": "white",
           "linecolor": "white",
           "ticks": "",
           "title": {
            "standoff": 15
           },
           "zerolinecolor": "white",
           "zerolinewidth": 2
          },
          "yaxis": {
           "automargin": true,
           "gridcolor": "white",
           "linecolor": "white",
           "ticks": "",
           "title": {
            "standoff": 15
           },
           "zerolinecolor": "white",
           "zerolinewidth": 2
          }
         }
        },
        "title": {
         "font": {
          "color": "#3c4444",
          "family": "Calibri",
          "size": 20
         },
         "text": "Sexist Content Relative Percentage by Hour of the Day"
        },
        "xaxis": {
         "anchor": "y",
         "autorange": true,
         "domain": [
          0,
          1
         ],
         "range": [
          0,
          23
         ],
         "tickfont": {
          "color": "#3c4444",
          "family": "Calibri",
          "size": 12
         },
         "title": {
          "font": {
           "color": "#3c4444",
           "family": "Calibri",
           "size": 14
          },
          "text": "Hours"
         },
         "type": "category"
        },
        "yaxis": {
         "anchor": "x",
         "autorange": true,
         "domain": [
          0,
          1
         ],
         "range": [
          0,
          15.85827313381493
         ],
         "tickfont": {
          "color": "#3c4444",
          "family": "Calibri",
          "size": 12
         },
         "title": {
          "font": {
           "color": "#3c4444",
           "family": "Calibri",
           "size": 14
          },
          "text": "%"
         },
         "type": "linear"
        }
       }
      },
      "image/png": "[encoded data removed]",
      "text/html": [
       "<div>                            <div id=\"22af9e6d-8c85-4685-a025-f863ff548c19\" class=\"plotly-graph-div\" style=\"height:525px; width:100%;\"></div>            <script type=\"text/javascript\">                require([\"plotly\"], function(Plotly) {                    window.PLOTLYENV=window.PLOTLYENV || {};                                    if (document.getElementById(\"22af9e6d-8c85-4685-a025-f863ff548c19\")) {                    Plotly.newPlot(                        \"22af9e6d-8c85-4685-a025-f863ff548c19\",                        [{\"fillpattern\":{\"shape\":\"\"},\"hovertemplate\":\"timestamp=%{x}<br>percentage=%{y}<extra></extra>\",\"legendgroup\":\"\",\"line\":{\"color\":\"#ea544d\"},\"marker\":{\"symbol\":\"circle\"},\"mode\":\"lines\",\"name\":\"\",\"orientation\":\"v\",\"showlegend\":false,\"stackgroup\":\"1\",\"x\":[0,1,2,3,4,5,6,7,8,9,10,11,12,13,14,15,16,17,18,19,20,21,22,23],\"xaxis\":\"x\",\"y\":[12.29722658294087,13.231552162849871,11.654676258992806,12.195121951219512,11.655011655011654,10.339256865912763,14.650934119960668,12.053056516724336,12.098765432098766,12.705436156763591,11.12781954887218,12.230014025245442,12.551724137931034,12.941831338714167,14.374999999999998,13.715277777777779,12.223903177004539,12.971542025148908,12.827492344334807,15.065359477124183,14.263661623958013,13.748956303924299,13.161465400271371,12.675573826652965],\"yaxis\":\"y\",\"type\":\"scatter\"}],                        {\"template\":{\"data\":{\"histogram2dcontour\":[{\"type\":\"histogram2dcontour\",\"colorbar\":{\"outlinewidth\":0,\"ticks\":\"\"},\"colorscale\":[[0.0,\"#0d0887\"],[0.1111111111111111,\"#46039f\"],[0.2222222222222222,\"#7201a8\"],[0.3333333333333333,\"#9c179e\"],[0.4444444444444444,\"#bd3786\"],[0.5555555555555556,\"#d8576b\"],[0.6666666666666666,\"#ed7953\"],[0.7777777777777778,\"#fb9f3a\"],[0.8888888888888888,\"#fdca26\"],[1.0,\"#f0f921\"]]}],\"choropleth\":[{\"type\":\"choropleth\",\"colorbar\":{\"outlinewidth\":0,\"ticks\":\"\"}}],\"histogram2d\":[{\"type\":\"histogram2d\",\"colorbar\":{\"outlinewidth\":0,\"ticks\":\"\"},\"colorscale\":[[0.0,\"#0d0887\"],[0.1111111111111111,\"#46039f\"],[0.2222222222222222,\"#7201a8\"],[0.3333333333333333,\"#9c179e\"],[0.4444444444444444,\"#bd3786\"],[0.5555555555555556,\"#d8576b\"],[0.6666666666666666,\"#ed7953\"],[0.7777777777777778,\"#fb9f3a\"],[0.8888888888888888,\"#fdca26\"],[1.0,\"#f0f921\"]]}],\"heatmap\":[{\"type\":\"heatmap\",\"colorbar\":{\"outlinewidth\":0,\"ticks\":\"\"},\"colorscale\":[[0.0,\"#0d0887\"],[0.1111111111111111,\"#46039f\"],[0.2222222222222222,\"#7201a8\"],[0.3333333333333333,\"#9c179e\"],[0.4444444444444444,\"#bd3786\"],[0.5555555555555556,\"#d8576b\"],[0.6666666666666666,\"#ed7953\"],[0.7777777777777778,\"#fb9f3a\"],[0.8888888888888888,\"#fdca26\"],[1.0,\"#f0f921\"]]}],\"heatmapgl\":[{\"type\":\"heatmapgl\",\"colorbar\":{\"outlinewidth\":0,\"ticks\":\"\"},\"colorscale\":[[0.0,\"#0d0887\"],[0.1111111111111111,\"#46039f\"],[0.2222222222222222,\"#7201a8\"],[0.3333333333333333,\"#9c179e\"],[0.4444444444444444,\"#bd3786\"],[0.5555555555555556,\"#d8576b\"],[0.6666666666666666,\"#ed7953\"],[0.7777777777777778,\"#fb9f3a\"],[0.8888888888888888,\"#fdca26\"],[1.0,\"#f0f921\"]]}],\"contourcarpet\":[{\"type\":\"contourcarpet\",\"colorbar\":{\"outlinewidth\":0,\"ticks\":\"\"}}],\"contour\":[{\"type\":\"contour\",\"colorbar\":{\"outlinewidth\":0,\"ticks\":\"\"},\"colorscale\":[[0.0,\"#0d0887\"],[0.1111111111111111,\"#46039f\"],[0.2222222222222222,\"#7201a8\"],[0.3333333333333333,\"#9c179e\"],[0.4444444444444444,\"#bd3786\"],[0.5555555555555556,\"#d8576b\"],[0.6666666666666666,\"#ed7953\"],[0.7777777777777778,\"#fb9f3a\"],[0.8888888888888888,\"#fdca26\"],[1.0,\"#f0f921\"]]}],\"surface\":[{\"type\":\"surface\",\"colorbar\":{\"outlinewidth\":0,\"ticks\":\"\"},\"colorscale\":[[0.0,\"#0d0887\"],[0.1111111111111111,\"#46039f\"],[0.2222222222222222,\"#7201a8\"],[0.3333333333333333,\"#9c179e\"],[0.4444444444444444,\"#bd3786\"],[0.5555555555555556,\"#d8576b\"],[0.6666666666666666,\"#ed7953\"],[0.7777777777777778,\"#fb9f3a\"],[0.8888888888888888,\"#fdca26\"],[1.0,\"#f0f921\"]]}],\"mesh3d\":[{\"type\":\"mesh3d\",\"colorbar\":{\"outlinewidth\":0,\"ticks\":\"\"}}],\"scatter\":[{\"fillpattern\":{\"fillmode\":\"overlay\",\"size\":10,\"solidity\":0.2},\"type\":\"scatter\"}],\"parcoords\":[{\"type\":\"parcoords\",\"line\":{\"colorbar\":{\"outlinewidth\":0,\"ticks\":\"\"}}}],\"scatterpolargl\":[{\"type\":\"scatterpolargl\",\"marker\":{\"colorbar\":{\"outlinewidth\":0,\"ticks\":\"\"}}}],\"bar\":[{\"error_x\":{\"color\":\"#2a3f5f\"},\"error_y\":{\"color\":\"#2a3f5f\"},\"marker\":{\"line\":{\"color\":\"#E5ECF6\",\"width\":0.5},\"pattern\":{\"fillmode\":\"overlay\",\"size\":10,\"solidity\":0.2}},\"type\":\"bar\"}],\"scattergeo\":[{\"type\":\"scattergeo\",\"marker\":{\"colorbar\":{\"outlinewidth\":0,\"ticks\":\"\"}}}],\"scatterpolar\":[{\"type\":\"scatterpolar\",\"marker\":{\"colorbar\":{\"outlinewidth\":0,\"ticks\":\"\"}}}],\"histogram\":[{\"marker\":{\"pattern\":{\"fillmode\":\"overlay\",\"size\":10,\"solidity\":0.2}},\"type\":\"histogram\"}],\"scattergl\":[{\"type\":\"scattergl\",\"marker\":{\"colorbar\":{\"outlinewidth\":0,\"ticks\":\"\"}}}],\"scatter3d\":[{\"type\":\"scatter3d\",\"line\":{\"colorbar\":{\"outlinewidth\":0,\"ticks\":\"\"}},\"marker\":{\"colorbar\":{\"outlinewidth\":0,\"ticks\":\"\"}}}],\"scattermapbox\":[{\"type\":\"scattermapbox\",\"marker\":{\"colorbar\":{\"outlinewidth\":0,\"ticks\":\"\"}}}],\"scatterternary\":[{\"type\":\"scatterternary\",\"marker\":{\"colorbar\":{\"outlinewidth\":0,\"ticks\":\"\"}}}],\"scattercarpet\":[{\"type\":\"scattercarpet\",\"marker\":{\"colorbar\":{\"outlinewidth\":0,\"ticks\":\"\"}}}],\"carpet\":[{\"aaxis\":{\"endlinecolor\":\"#2a3f5f\",\"gridcolor\":\"white\",\"linecolor\":\"white\",\"minorgridcolor\":\"white\",\"startlinecolor\":\"#2a3f5f\"},\"baxis\":{\"endlinecolor\":\"#2a3f5f\",\"gridcolor\":\"white\",\"linecolor\":\"white\",\"minorgridcolor\":\"white\",\"startlinecolor\":\"#2a3f5f\"},\"type\":\"carpet\"}],\"table\":[{\"cells\":{\"fill\":{\"color\":\"#EBF0F8\"},\"line\":{\"color\":\"white\"}},\"header\":{\"fill\":{\"color\":\"#C8D4E3\"},\"line\":{\"color\":\"white\"}},\"type\":\"table\"}],\"barpolar\":[{\"marker\":{\"line\":{\"color\":\"#E5ECF6\",\"width\":0.5},\"pattern\":{\"fillmode\":\"overlay\",\"size\":10,\"solidity\":0.2}},\"type\":\"barpolar\"}],\"pie\":[{\"automargin\":true,\"type\":\"pie\"}]},\"layout\":{\"autotypenumbers\":\"strict\",\"colorway\":[\"#636efa\",\"#EF553B\",\"#00cc96\",\"#ab63fa\",\"#FFA15A\",\"#19d3f3\",\"#FF6692\",\"#B6E880\",\"#FF97FF\",\"#FECB52\"],\"font\":{\"color\":\"#2a3f5f\"},\"hovermode\":\"closest\",\"hoverlabel\":{\"align\":\"left\"},\"paper_bgcolor\":\"white\",\"plot_bgcolor\":\"#E5ECF6\",\"polar\":{\"bgcolor\":\"#E5ECF6\",\"angularaxis\":{\"gridcolor\":\"white\",\"linecolor\":\"white\",\"ticks\":\"\"},\"radialaxis\":{\"gridcolor\":\"white\",\"linecolor\":\"white\",\"ticks\":\"\"}},\"ternary\":{\"bgcolor\":\"#E5ECF6\",\"aaxis\":{\"gridcolor\":\"white\",\"linecolor\":\"white\",\"ticks\":\"\"},\"baxis\":{\"gridcolor\":\"white\",\"linecolor\":\"white\",\"ticks\":\"\"},\"caxis\":{\"gridcolor\":\"white\",\"linecolor\":\"white\",\"ticks\":\"\"}},\"coloraxis\":{\"colorbar\":{\"outlinewidth\":0,\"ticks\":\"\"}},\"colorscale\":{\"sequential\":[[0.0,\"#0d0887\"],[0.1111111111111111,\"#46039f\"],[0.2222222222222222,\"#7201a8\"],[0.3333333333333333,\"#9c179e\"],[0.4444444444444444,\"#bd3786\"],[0.5555555555555556,\"#d8576b\"],[0.6666666666666666,\"#ed7953\"],[0.7777777777777778,\"#fb9f3a\"],[0.8888888888888888,\"#fdca26\"],[1.0,\"#f0f921\"]],\"sequentialminus\":[[0.0,\"#0d0887\"],[0.1111111111111111,\"#46039f\"],[0.2222222222222222,\"#7201a8\"],[0.3333333333333333,\"#9c179e\"],[0.4444444444444444,\"#bd3786\"],[0.5555555555555556,\"#d8576b\"],[0.6666666666666666,\"#ed7953\"],[0.7777777777777778,\"#fb9f3a\"],[0.8888888888888888,\"#fdca26\"],[1.0,\"#f0f921\"]],\"diverging\":[[0,\"#8e0152\"],[0.1,\"#c51b7d\"],[0.2,\"#de77ae\"],[0.3,\"#f1b6da\"],[0.4,\"#fde0ef\"],[0.5,\"#f7f7f7\"],[0.6,\"#e6f5d0\"],[0.7,\"#b8e186\"],[0.8,\"#7fbc41\"],[0.9,\"#4d9221\"],[1,\"#276419\"]]},\"xaxis\":{\"gridcolor\":\"white\",\"linecolor\":\"white\",\"ticks\":\"\",\"title\":{\"standoff\":15},\"zerolinecolor\":\"white\",\"automargin\":true,\"zerolinewidth\":2},\"yaxis\":{\"gridcolor\":\"white\",\"linecolor\":\"white\",\"ticks\":\"\",\"title\":{\"standoff\":15},\"zerolinecolor\":\"white\",\"automargin\":true,\"zerolinewidth\":2},\"scene\":{\"xaxis\":{\"backgroundcolor\":\"#E5ECF6\",\"gridcolor\":\"white\",\"linecolor\":\"white\",\"showbackground\":true,\"ticks\":\"\",\"zerolinecolor\":\"white\",\"gridwidth\":2},\"yaxis\":{\"backgroundcolor\":\"#E5ECF6\",\"gridcolor\":\"white\",\"linecolor\":\"white\",\"showbackground\":true,\"ticks\":\"\",\"zerolinecolor\":\"white\",\"gridwidth\":2},\"zaxis\":{\"backgroundcolor\":\"#E5ECF6\",\"gridcolor\":\"white\",\"linecolor\":\"white\",\"showbackground\":true,\"ticks\":\"\",\"zerolinecolor\":\"white\",\"gridwidth\":2}},\"shapedefaults\":{\"line\":{\"color\":\"#2a3f5f\"}},\"annotationdefaults\":{\"arrowcolor\":\"#2a3f5f\",\"arrowhead\":0,\"arrowwidth\":1},\"geo\":{\"bgcolor\":\"white\",\"landcolor\":\"#E5ECF6\",\"subunitcolor\":\"white\",\"showland\":true,\"showlakes\":true,\"lakecolor\":\"white\"},\"title\":{\"x\":0.05},\"mapbox\":{\"style\":\"light\"}}},\"xaxis\":{\"anchor\":\"y\",\"domain\":[0.0,1.0],\"title\":{\"text\":\"Hours\",\"font\":{\"size\":14,\"family\":\"Calibri\",\"color\":\"#3c4444\"}},\"tickfont\":{\"size\":12,\"family\":\"Calibri\",\"color\":\"#3c4444\"},\"type\":\"category\"},\"yaxis\":{\"anchor\":\"x\",\"domain\":[0.0,1.0],\"title\":{\"text\":\"%\",\"font\":{\"size\":14,\"family\":\"Calibri\",\"color\":\"#3c4444\"}},\"tickfont\":{\"size\":12,\"family\":\"Calibri\",\"color\":\"#3c4444\"}},\"legend\":{\"tracegroupgap\":0,\"font\":{\"size\":12,\"family\":\"Calibri\",\"color\":\"#3c4444\"}},\"margin\":{\"t\":60},\"title\":{\"text\":\"Sexist Content Relative Percentage by Hour of the Day\",\"font\":{\"size\":20,\"family\":\"Calibri\",\"color\":\"#3c4444\"}},\"plot_bgcolor\":\"#FFFFFF\",\"paper_bgcolor\":\"white\"},                        {\"responsive\": true}                    ).then(function(){\n",
       "                            \n",
       "var gd = document.getElementById('22af9e6d-8c85-4685-a025-f863ff548c19');\n",
       "var x = new MutationObserver(function (mutations, observer) {{\n",
       "        var display = window.getComputedStyle(gd).display;\n",
       "        if (!display || display === 'none') {{\n",
       "            console.log([gd, 'removed!']);\n",
       "            Plotly.purge(gd);\n",
       "            observer.disconnect();\n",
       "        }}\n",
       "}});\n",
       "\n",
       "// Listen for the removal of the full notebook cells\n",
       "var notebookContainer = gd.closest('#notebook-container');\n",
       "if (notebookContainer) {{\n",
       "    x.observe(notebookContainer, {childList: true});\n",
       "}}\n",
       "\n",
       "// Listen for the clearing of the current output cell\n",
       "var outputEl = gd.closest('.output');\n",
       "if (outputEl) {{\n",
       "    x.observe(outputEl, {childList: true});\n",
       "}}\n",
       "\n",
       "                        })                };                });            </script>        </div>"
      ]
     },
     "metadata": {},
     "output_type": "display_data"
    }
   ],
   "source": [
    "from datetime import timedelta\n",
    "\n",
    "def temporal_chart_perc(data, \n",
    "                        line_color, \n",
    "                        title_size, title_font, title_color,\n",
    "                        axes_size, axes_font, axes_color, \n",
    "                        text_size, text_font,\n",
    "                        background_color, panel_color):    \n",
    "    \n",
    "    tweets_per_hour = data.groupby(data['timestamp'].dt.hour) \\\n",
    "                          .size().reset_index(name='total_tweets')\n",
    "    \n",
    "    total_sexist_tweets_per_hour = data.query(\"sexist==1\") \\\n",
    "                                       .groupby(data['timestamp'].dt.hour) \\\n",
    "                                       .size().reset_index(name='total_tweets')\n",
    "\n",
    "    #total_tweets = tweets_per_hour['total_tweets'].sum()\n",
    "    tweets_per_hour['percentage'] = (total_sexist_tweets_per_hour[\"total_tweets\"] / tweets_per_hour['total_tweets']) * 100\n",
    "\n",
    "\n",
    "    fig = px.area(tweets_per_hour, x='timestamp', y='percentage')\n",
    "    fig.update_layout(\n",
    "        xaxis=dict(\n",
    "            title=\"Hours\",\n",
    "            title_font=dict(size=axes_size, family=axes_font, color=axes_color),\n",
    "            tickfont=dict(size=text_size, family=text_font, color=axes_color),\n",
    "        ),\n",
    "        yaxis=dict(\n",
    "            title='%',\n",
    "            title_font=dict(size=axes_size, family=axes_font, color=axes_color),\n",
    "            tickfont=dict(size=text_size, family=text_font, color=axes_color),\n",
    "        )\n",
    "    )\n",
    "\n",
    "    # Personalize the graph\n",
    "    fig.update_traces(line_color=line_color)\n",
    "    fig.update_xaxes(\n",
    "        type='category',\n",
    "        title_font=dict(size=axes_size, family=axes_font, color=axes_color),\n",
    "        tickfont=dict(size=text_size, family=text_font, color=axes_color),\n",
    "    )\n",
    "    fig.update_layout(\n",
    "        title='Sexist Content Relative Percentage by Hour of the Day',\n",
    "        title_font=dict(size=title_size, family=title_font, color=title_color),\n",
    "        legend=dict(font=dict(size=text_size, family=text_font, color=title_color)),\n",
    "        plot_bgcolor=background_color,\n",
    "        paper_bgcolor=panel_color\n",
    "    )\n",
    "    #plt.rcParams['axes.facecolor'] = panel_color\n",
    "    #fig.update_layout(\n",
    "    #    autosize=False,\n",
    "    #    width=600,\n",
    "    #    height=300,)\n",
    "    fig.show()\n",
    "\n",
    "temporal_chart_perc(mexican_corpus_labeled, line_color=RED, title_size=20, title_font=font,\n",
    "                      title_color=BLCK, axes_size=14, axes_font=font, axes_color=BLCK,\n",
    "                      text_size=12, text_font=font, background_color='#FFFFFF', panel_color='white')"
   ]
  },
  {
   "cell_type": "markdown",
   "id": "db7661b3-4980-492d-9540-01222a633e5a",
   "metadata": {},
   "source": [
    "### Rosita classifications"
   ]
  },
  {
   "cell_type": "markdown",
   "id": "5dbb9c75-94ab-46c5-930f-24dc35510677",
   "metadata": {},
   "source": [
    "In addition to Josefina's contributions, we employ Rosita, our other model trained to classify different types of sexism in text. Building upon the filtered sexist content identified by Josefina, Rosita takes on the task of categorizing these instances into specific types of sexism.\n",
    "\n",
    "Using advanced classification techniques, Rosita analyzes the linguistic features and context of the filtered content to determine the underlying sexist categories present. By identifying and labeling the types of sexism, such as \"hate\", \"violence\", or \"sexually-explicit\", among others, we gain valuable insights into the nature and prevalence of these specific forms of sexism within the Mexican dataset.\n",
    "\n",
    "\n",
    "By combining the power of Josefina and Rosita, we are able to not only detect and filter out sexist content but also gain a comprehensive understanding of the specific types of sexism prevalent in the Mexican dataset. This information is instrumental in shaping interventions, policies, and initiatives to combat sexism and foster a more inclusive online environment."
   ]
  },
  {
   "cell_type": "code",
   "execution_count": null,
   "id": "add2c7b7-7d3d-454b-b265-c1cae2b617ba",
   "metadata": {},
   "outputs": [],
   "source": [
    "model = [\n",
    "    {\n",
    "        \"model_name\": \"../src3/tagger/rosita-sexism-classification-v0\", \n",
    "        \"out_col\": \"sexism_type\", \n",
    "        \"clean_label\": lambda x: id2label_sexismtype(int(x.split(\"_\")[1]))\n",
    "    } \n",
    "]\n",
    "mexican_sexist_featured = mexican_corpus_labeled.query(\"sexist==1\")\n",
    "mexican_sexist_featured = llm_feature_extraction(mexican_sexist_featured, models=model)"
   ]
  },
  {
   "cell_type": "code",
   "execution_count": 51,
   "id": "f908ea92-922a-417e-a056-0f54d4b7a956",
   "metadata": {},
   "outputs": [],
   "source": [
    "mexican_sexist_featured = pd.read_csv('../notebooks2/mexican_sexist_featured_final_final.tsv', delimiter='\\t') \n",
    "# Convierte la columna 'timestamp' a tipo datetime\n",
    "mexican_sexist_featured['timestamp'] = pd.to_datetime(mexican_sexist_featured['timestamp'])\n",
    "# Aplica la conversión de zona horaria a la columna 'timestamp'\n",
    "mexican_sexist_featured['timestamp'] = mexican_sexist_featured['timestamp'].dt.tz_convert(mexico_timezone)"
   ]
  },
  {
   "cell_type": "code",
   "execution_count": 52,
   "id": "49410f2e",
   "metadata": {},
   "outputs": [
    {
     "data": {
      "application/vnd.plotly.v1+json": {
       "config": {
        "plotlyServerURL": "https://plot.ly"
       },
       "data": [
        {
         "hole": 0.4,
         "labels": [
          "profanities",
          "abuse",
          "sexually-explicit",
          "hate",
          "violent"
         ],
         "marker": {
          "colors": [
           "#cc64bc",
           "#fbd305",
           "#C4D454",
           "#EB8B59",
           "#5BC3E3"
          ]
         },
         "textposition": "inside",
         "type": "pie",
         "values": [
          50.363474046677716,
          20.584109169748757,
          16.17140670832802,
          9.246269608468308,
          3.6347404667771968
         ]
        }
       ],
       "layout": {
        "autosize": true,
        "legend": {
         "font": {
          "color": "#3c4444",
          "family": "Calibri"
         }
        },
        "plot_bgcolor": "white",
        "template": {
         "data": {
          "bar": [
           {
            "error_x": {
             "color": "#2a3f5f"
            },
            "error_y": {
             "color": "#2a3f5f"
            },
            "marker": {
             "line": {
              "color": "#E5ECF6",
              "width": 0.5
             },
             "pattern": {
              "fillmode": "overlay",
              "size": 10,
              "solidity": 0.2
             }
            },
            "type": "bar"
           }
          ],
          "barpolar": [
           {
            "marker": {
             "line": {
              "color": "#E5ECF6",
              "width": 0.5
             },
             "pattern": {
              "fillmode": "overlay",
              "size": 10,
              "solidity": 0.2
             }
            },
            "type": "barpolar"
           }
          ],
          "carpet": [
           {
            "aaxis": {
             "endlinecolor": "#2a3f5f",
             "gridcolor": "white",
             "linecolor": "white",
             "minorgridcolor": "white",
             "startlinecolor": "#2a3f5f"
            },
            "baxis": {
             "endlinecolor": "#2a3f5f",
             "gridcolor": "white",
             "linecolor": "white",
             "minorgridcolor": "white",
             "startlinecolor": "#2a3f5f"
            },
            "type": "carpet"
           }
          ],
          "choropleth": [
           {
            "colorbar": {
             "outlinewidth": 0,
             "ticks": ""
            },
            "type": "choropleth"
           }
          ],
          "contour": [
           {
            "colorbar": {
             "outlinewidth": 0,
             "ticks": ""
            },
            "colorscale": [
             [
              0,
              "#0d0887"
             ],
             [
              0.1111111111111111,
              "#46039f"
             ],
             [
              0.2222222222222222,
              "#7201a8"
             ],
             [
              0.3333333333333333,
              "#9c179e"
             ],
             [
              0.4444444444444444,
              "#bd3786"
             ],
             [
              0.5555555555555556,
              "#d8576b"
             ],
             [
              0.6666666666666666,
              "#ed7953"
             ],
             [
              0.7777777777777778,
              "#fb9f3a"
             ],
             [
              0.8888888888888888,
              "#fdca26"
             ],
             [
              1,
              "#f0f921"
             ]
            ],
            "type": "contour"
           }
          ],
          "contourcarpet": [
           {
            "colorbar": {
             "outlinewidth": 0,
             "ticks": ""
            },
            "type": "contourcarpet"
           }
          ],
          "heatmap": [
           {
            "colorbar": {
             "outlinewidth": 0,
             "ticks": ""
            },
            "colorscale": [
             [
              0,
              "#0d0887"
             ],
             [
              0.1111111111111111,
              "#46039f"
             ],
             [
              0.2222222222222222,
              "#7201a8"
             ],
             [
              0.3333333333333333,
              "#9c179e"
             ],
             [
              0.4444444444444444,
              "#bd3786"
             ],
             [
              0.5555555555555556,
              "#d8576b"
             ],
             [
              0.6666666666666666,
              "#ed7953"
             ],
             [
              0.7777777777777778,
              "#fb9f3a"
             ],
             [
              0.8888888888888888,
              "#fdca26"
             ],
             [
              1,
              "#f0f921"
             ]
            ],
            "type": "heatmap"
           }
          ],
          "heatmapgl": [
           {
            "colorbar": {
             "outlinewidth": 0,
             "ticks": ""
            },
            "colorscale": [
             [
              0,
              "#0d0887"
             ],
             [
              0.1111111111111111,
              "#46039f"
             ],
             [
              0.2222222222222222,
              "#7201a8"
             ],
             [
              0.3333333333333333,
              "#9c179e"
             ],
             [
              0.4444444444444444,
              "#bd3786"
             ],
             [
              0.5555555555555556,
              "#d8576b"
             ],
             [
              0.6666666666666666,
              "#ed7953"
             ],
             [
              0.7777777777777778,
              "#fb9f3a"
             ],
             [
              0.8888888888888888,
              "#fdca26"
             ],
             [
              1,
              "#f0f921"
             ]
            ],
            "type": "heatmapgl"
           }
          ],
          "histogram": [
           {
            "marker": {
             "pattern": {
              "fillmode": "overlay",
              "size": 10,
              "solidity": 0.2
             }
            },
            "type": "histogram"
           }
          ],
          "histogram2d": [
           {
            "colorbar": {
             "outlinewidth": 0,
             "ticks": ""
            },
            "colorscale": [
             [
              0,
              "#0d0887"
             ],
             [
              0.1111111111111111,
              "#46039f"
             ],
             [
              0.2222222222222222,
              "#7201a8"
             ],
             [
              0.3333333333333333,
              "#9c179e"
             ],
             [
              0.4444444444444444,
              "#bd3786"
             ],
             [
              0.5555555555555556,
              "#d8576b"
             ],
             [
              0.6666666666666666,
              "#ed7953"
             ],
             [
              0.7777777777777778,
              "#fb9f3a"
             ],
             [
              0.8888888888888888,
              "#fdca26"
             ],
             [
              1,
              "#f0f921"
             ]
            ],
            "type": "histogram2d"
           }
          ],
          "histogram2dcontour": [
           {
            "colorbar": {
             "outlinewidth": 0,
             "ticks": ""
            },
            "colorscale": [
             [
              0,
              "#0d0887"
             ],
             [
              0.1111111111111111,
              "#46039f"
             ],
             [
              0.2222222222222222,
              "#7201a8"
             ],
             [
              0.3333333333333333,
              "#9c179e"
             ],
             [
              0.4444444444444444,
              "#bd3786"
             ],
             [
              0.5555555555555556,
              "#d8576b"
             ],
             [
              0.6666666666666666,
              "#ed7953"
             ],
             [
              0.7777777777777778,
              "#fb9f3a"
             ],
             [
              0.8888888888888888,
              "#fdca26"
             ],
             [
              1,
              "#f0f921"
             ]
            ],
            "type": "histogram2dcontour"
           }
          ],
          "mesh3d": [
           {
            "colorbar": {
             "outlinewidth": 0,
             "ticks": ""
            },
            "type": "mesh3d"
           }
          ],
          "parcoords": [
           {
            "line": {
             "colorbar": {
              "outlinewidth": 0,
              "ticks": ""
             }
            },
            "type": "parcoords"
           }
          ],
          "pie": [
           {
            "automargin": true,
            "type": "pie"
           }
          ],
          "scatter": [
           {
            "fillpattern": {
             "fillmode": "overlay",
             "size": 10,
             "solidity": 0.2
            },
            "type": "scatter"
           }
          ],
          "scatter3d": [
           {
            "line": {
             "colorbar": {
              "outlinewidth": 0,
              "ticks": ""
             }
            },
            "marker": {
             "colorbar": {
              "outlinewidth": 0,
              "ticks": ""
             }
            },
            "type": "scatter3d"
           }
          ],
          "scattercarpet": [
           {
            "marker": {
             "colorbar": {
              "outlinewidth": 0,
              "ticks": ""
             }
            },
            "type": "scattercarpet"
           }
          ],
          "scattergeo": [
           {
            "marker": {
             "colorbar": {
              "outlinewidth": 0,
              "ticks": ""
             }
            },
            "type": "scattergeo"
           }
          ],
          "scattergl": [
           {
            "marker": {
             "colorbar": {
              "outlinewidth": 0,
              "ticks": ""
             }
            },
            "type": "scattergl"
           }
          ],
          "scattermapbox": [
           {
            "marker": {
             "colorbar": {
              "outlinewidth": 0,
              "ticks": ""
             }
            },
            "type": "scattermapbox"
           }
          ],
          "scatterpolar": [
           {
            "marker": {
             "colorbar": {
              "outlinewidth": 0,
              "ticks": ""
             }
            },
            "type": "scatterpolar"
           }
          ],
          "scatterpolargl": [
           {
            "marker": {
             "colorbar": {
              "outlinewidth": 0,
              "ticks": ""
             }
            },
            "type": "scatterpolargl"
           }
          ],
          "scatterternary": [
           {
            "marker": {
             "colorbar": {
              "outlinewidth": 0,
              "ticks": ""
             }
            },
            "type": "scatterternary"
           }
          ],
          "surface": [
           {
            "colorbar": {
             "outlinewidth": 0,
             "ticks": ""
            },
            "colorscale": [
             [
              0,
              "#0d0887"
             ],
             [
              0.1111111111111111,
              "#46039f"
             ],
             [
              0.2222222222222222,
              "#7201a8"
             ],
             [
              0.3333333333333333,
              "#9c179e"
             ],
             [
              0.4444444444444444,
              "#bd3786"
             ],
             [
              0.5555555555555556,
              "#d8576b"
             ],
             [
              0.6666666666666666,
              "#ed7953"
             ],
             [
              0.7777777777777778,
              "#fb9f3a"
             ],
             [
              0.8888888888888888,
              "#fdca26"
             ],
             [
              1,
              "#f0f921"
             ]
            ],
            "type": "surface"
           }
          ],
          "table": [
           {
            "cells": {
             "fill": {
              "color": "#EBF0F8"
             },
             "line": {
              "color": "white"
             }
            },
            "header": {
             "fill": {
              "color": "#C8D4E3"
             },
             "line": {
              "color": "white"
             }
            },
            "type": "table"
           }
          ]
         },
         "layout": {
          "annotationdefaults": {
           "arrowcolor": "#2a3f5f",
           "arrowhead": 0,
           "arrowwidth": 1
          },
          "autotypenumbers": "strict",
          "coloraxis": {
           "colorbar": {
            "outlinewidth": 0,
            "ticks": ""
           }
          },
          "colorscale": {
           "diverging": [
            [
             0,
             "#8e0152"
            ],
            [
             0.1,
             "#c51b7d"
            ],
            [
             0.2,
             "#de77ae"
            ],
            [
             0.3,
             "#f1b6da"
            ],
            [
             0.4,
             "#fde0ef"
            ],
            [
             0.5,
             "#f7f7f7"
            ],
            [
             0.6,
             "#e6f5d0"
            ],
            [
             0.7,
             "#b8e186"
            ],
            [
             0.8,
             "#7fbc41"
            ],
            [
             0.9,
             "#4d9221"
            ],
            [
             1,
             "#276419"
            ]
           ],
           "sequential": [
            [
             0,
             "#0d0887"
            ],
            [
             0.1111111111111111,
             "#46039f"
            ],
            [
             0.2222222222222222,
             "#7201a8"
            ],
            [
             0.3333333333333333,
             "#9c179e"
            ],
            [
             0.4444444444444444,
             "#bd3786"
            ],
            [
             0.5555555555555556,
             "#d8576b"
            ],
            [
             0.6666666666666666,
             "#ed7953"
            ],
            [
             0.7777777777777778,
             "#fb9f3a"
            ],
            [
             0.8888888888888888,
             "#fdca26"
            ],
            [
             1,
             "#f0f921"
            ]
           ],
           "sequentialminus": [
            [
             0,
             "#0d0887"
            ],
            [
             0.1111111111111111,
             "#46039f"
            ],
            [
             0.2222222222222222,
             "#7201a8"
            ],
            [
             0.3333333333333333,
             "#9c179e"
            ],
            [
             0.4444444444444444,
             "#bd3786"
            ],
            [
             0.5555555555555556,
             "#d8576b"
            ],
            [
             0.6666666666666666,
             "#ed7953"
            ],
            [
             0.7777777777777778,
             "#fb9f3a"
            ],
            [
             0.8888888888888888,
             "#fdca26"
            ],
            [
             1,
             "#f0f921"
            ]
           ]
          },
          "colorway": [
           "#636efa",
           "#EF553B",
           "#00cc96",
           "#ab63fa",
           "#FFA15A",
           "#19d3f3",
           "#FF6692",
           "#B6E880",
           "#FF97FF",
           "#FECB52"
          ],
          "font": {
           "color": "#2a3f5f"
          },
          "geo": {
           "bgcolor": "white",
           "lakecolor": "white",
           "landcolor": "#E5ECF6",
           "showlakes": true,
           "showland": true,
           "subunitcolor": "white"
          },
          "hoverlabel": {
           "align": "left"
          },
          "hovermode": "closest",
          "mapbox": {
           "style": "light"
          },
          "paper_bgcolor": "white",
          "plot_bgcolor": "#E5ECF6",
          "polar": {
           "angularaxis": {
            "gridcolor": "white",
            "linecolor": "white",
            "ticks": ""
           },
           "bgcolor": "#E5ECF6",
           "radialaxis": {
            "gridcolor": "white",
            "linecolor": "white",
            "ticks": ""
           }
          },
          "scene": {
           "xaxis": {
            "backgroundcolor": "#E5ECF6",
            "gridcolor": "white",
            "gridwidth": 2,
            "linecolor": "white",
            "showbackground": true,
            "ticks": "",
            "zerolinecolor": "white"
           },
           "yaxis": {
            "backgroundcolor": "#E5ECF6",
            "gridcolor": "white",
            "gridwidth": 2,
            "linecolor": "white",
            "showbackground": true,
            "ticks": "",
            "zerolinecolor": "white"
           },
           "zaxis": {
            "backgroundcolor": "#E5ECF6",
            "gridcolor": "white",
            "gridwidth": 2,
            "linecolor": "white",
            "showbackground": true,
            "ticks": "",
            "zerolinecolor": "white"
           }
          },
          "shapedefaults": {
           "line": {
            "color": "#2a3f5f"
           }
          },
          "ternary": {
           "aaxis": {
            "gridcolor": "white",
            "linecolor": "white",
            "ticks": ""
           },
           "baxis": {
            "gridcolor": "white",
            "linecolor": "white",
            "ticks": ""
           },
           "bgcolor": "#E5ECF6",
           "caxis": {
            "gridcolor": "white",
            "linecolor": "white",
            "ticks": ""
           }
          },
          "title": {
           "x": 0.05
          },
          "xaxis": {
           "automargin": true,
           "gridcolor": "white",
           "linecolor": "white",
           "ticks": "",
           "title": {
            "standoff": 15
           },
           "zerolinecolor": "white",
           "zerolinewidth": 2
          },
          "yaxis": {
           "automargin": true,
           "gridcolor": "white",
           "linecolor": "white",
           "ticks": "",
           "title": {
            "standoff": 15
           },
           "zerolinecolor": "white",
           "zerolinewidth": 2
          }
         }
        },
        "title": {
         "font": {
          "color": "#3c4444",
          "family": "Arial",
          "size": 20
         },
         "text": "Sexism Distribution"
        }
       }
      },
      "image/png": "[encoded data removed]",
      "text/html": [
       "<div>                            <div id=\"06fb45cb-b517-4492-b75f-95941373b4dc\" class=\"plotly-graph-div\" style=\"height:525px; width:100%;\"></div>            <script type=\"text/javascript\">                require([\"plotly\"], function(Plotly) {                    window.PLOTLYENV=window.PLOTLYENV || {};                                    if (document.getElementById(\"06fb45cb-b517-4492-b75f-95941373b4dc\")) {                    Plotly.newPlot(                        \"06fb45cb-b517-4492-b75f-95941373b4dc\",                        [{\"hole\":0.4,\"labels\":[\"profanities\",\"abuse\",\"sexually-explicit\",\"hate\",\"violent\"],\"textposition\":\"inside\",\"values\":[50.363474046677716,20.584109169748757,16.17140670832802,9.246269608468308,3.6347404667771968],\"type\":\"pie\",\"marker\":{\"colors\":[\"#cc64bc\",\"#fbd305\",\"#C4D454\",\"#EB8B59\",\"#5BC3E3\"]}}],                        {\"template\":{\"data\":{\"histogram2dcontour\":[{\"type\":\"histogram2dcontour\",\"colorbar\":{\"outlinewidth\":0,\"ticks\":\"\"},\"colorscale\":[[0.0,\"#0d0887\"],[0.1111111111111111,\"#46039f\"],[0.2222222222222222,\"#7201a8\"],[0.3333333333333333,\"#9c179e\"],[0.4444444444444444,\"#bd3786\"],[0.5555555555555556,\"#d8576b\"],[0.6666666666666666,\"#ed7953\"],[0.7777777777777778,\"#fb9f3a\"],[0.8888888888888888,\"#fdca26\"],[1.0,\"#f0f921\"]]}],\"choropleth\":[{\"type\":\"choropleth\",\"colorbar\":{\"outlinewidth\":0,\"ticks\":\"\"}}],\"histogram2d\":[{\"type\":\"histogram2d\",\"colorbar\":{\"outlinewidth\":0,\"ticks\":\"\"},\"colorscale\":[[0.0,\"#0d0887\"],[0.1111111111111111,\"#46039f\"],[0.2222222222222222,\"#7201a8\"],[0.3333333333333333,\"#9c179e\"],[0.4444444444444444,\"#bd3786\"],[0.5555555555555556,\"#d8576b\"],[0.6666666666666666,\"#ed7953\"],[0.7777777777777778,\"#fb9f3a\"],[0.8888888888888888,\"#fdca26\"],[1.0,\"#f0f921\"]]}],\"heatmap\":[{\"type\":\"heatmap\",\"colorbar\":{\"outlinewidth\":0,\"ticks\":\"\"},\"colorscale\":[[0.0,\"#0d0887\"],[0.1111111111111111,\"#46039f\"],[0.2222222222222222,\"#7201a8\"],[0.3333333333333333,\"#9c179e\"],[0.4444444444444444,\"#bd3786\"],[0.5555555555555556,\"#d8576b\"],[0.6666666666666666,\"#ed7953\"],[0.7777777777777778,\"#fb9f3a\"],[0.8888888888888888,\"#fdca26\"],[1.0,\"#f0f921\"]]}],\"heatmapgl\":[{\"type\":\"heatmapgl\",\"colorbar\":{\"outlinewidth\":0,\"ticks\":\"\"},\"colorscale\":[[0.0,\"#0d0887\"],[0.1111111111111111,\"#46039f\"],[0.2222222222222222,\"#7201a8\"],[0.3333333333333333,\"#9c179e\"],[0.4444444444444444,\"#bd3786\"],[0.5555555555555556,\"#d8576b\"],[0.6666666666666666,\"#ed7953\"],[0.7777777777777778,\"#fb9f3a\"],[0.8888888888888888,\"#fdca26\"],[1.0,\"#f0f921\"]]}],\"contourcarpet\":[{\"type\":\"contourcarpet\",\"colorbar\":{\"outlinewidth\":0,\"ticks\":\"\"}}],\"contour\":[{\"type\":\"contour\",\"colorbar\":{\"outlinewidth\":0,\"ticks\":\"\"},\"colorscale\":[[0.0,\"#0d0887\"],[0.1111111111111111,\"#46039f\"],[0.2222222222222222,\"#7201a8\"],[0.3333333333333333,\"#9c179e\"],[0.4444444444444444,\"#bd3786\"],[0.5555555555555556,\"#d8576b\"],[0.6666666666666666,\"#ed7953\"],[0.7777777777777778,\"#fb9f3a\"],[0.8888888888888888,\"#fdca26\"],[1.0,\"#f0f921\"]]}],\"surface\":[{\"type\":\"surface\",\"colorbar\":{\"outlinewidth\":0,\"ticks\":\"\"},\"colorscale\":[[0.0,\"#0d0887\"],[0.1111111111111111,\"#46039f\"],[0.2222222222222222,\"#7201a8\"],[0.3333333333333333,\"#9c179e\"],[0.4444444444444444,\"#bd3786\"],[0.5555555555555556,\"#d8576b\"],[0.6666666666666666,\"#ed7953\"],[0.7777777777777778,\"#fb9f3a\"],[0.8888888888888888,\"#fdca26\"],[1.0,\"#f0f921\"]]}],\"mesh3d\":[{\"type\":\"mesh3d\",\"colorbar\":{\"outlinewidth\":0,\"ticks\":\"\"}}],\"scatter\":[{\"fillpattern\":{\"fillmode\":\"overlay\",\"size\":10,\"solidity\":0.2},\"type\":\"scatter\"}],\"parcoords\":[{\"type\":\"parcoords\",\"line\":{\"colorbar\":{\"outlinewidth\":0,\"ticks\":\"\"}}}],\"scatterpolargl\":[{\"type\":\"scatterpolargl\",\"marker\":{\"colorbar\":{\"outlinewidth\":0,\"ticks\":\"\"}}}],\"bar\":[{\"error_x\":{\"color\":\"#2a3f5f\"},\"error_y\":{\"color\":\"#2a3f5f\"},\"marker\":{\"line\":{\"color\":\"#E5ECF6\",\"width\":0.5},\"pattern\":{\"fillmode\":\"overlay\",\"size\":10,\"solidity\":0.2}},\"type\":\"bar\"}],\"scattergeo\":[{\"type\":\"scattergeo\",\"marker\":{\"colorbar\":{\"outlinewidth\":0,\"ticks\":\"\"}}}],\"scatterpolar\":[{\"type\":\"scatterpolar\",\"marker\":{\"colorbar\":{\"outlinewidth\":0,\"ticks\":\"\"}}}],\"histogram\":[{\"marker\":{\"pattern\":{\"fillmode\":\"overlay\",\"size\":10,\"solidity\":0.2}},\"type\":\"histogram\"}],\"scattergl\":[{\"type\":\"scattergl\",\"marker\":{\"colorbar\":{\"outlinewidth\":0,\"ticks\":\"\"}}}],\"scatter3d\":[{\"type\":\"scatter3d\",\"line\":{\"colorbar\":{\"outlinewidth\":0,\"ticks\":\"\"}},\"marker\":{\"colorbar\":{\"outlinewidth\":0,\"ticks\":\"\"}}}],\"scattermapbox\":[{\"type\":\"scattermapbox\",\"marker\":{\"colorbar\":{\"outlinewidth\":0,\"ticks\":\"\"}}}],\"scatterternary\":[{\"type\":\"scatterternary\",\"marker\":{\"colorbar\":{\"outlinewidth\":0,\"ticks\":\"\"}}}],\"scattercarpet\":[{\"type\":\"scattercarpet\",\"marker\":{\"colorbar\":{\"outlinewidth\":0,\"ticks\":\"\"}}}],\"carpet\":[{\"aaxis\":{\"endlinecolor\":\"#2a3f5f\",\"gridcolor\":\"white\",\"linecolor\":\"white\",\"minorgridcolor\":\"white\",\"startlinecolor\":\"#2a3f5f\"},\"baxis\":{\"endlinecolor\":\"#2a3f5f\",\"gridcolor\":\"white\",\"linecolor\":\"white\",\"minorgridcolor\":\"white\",\"startlinecolor\":\"#2a3f5f\"},\"type\":\"carpet\"}],\"table\":[{\"cells\":{\"fill\":{\"color\":\"#EBF0F8\"},\"line\":{\"color\":\"white\"}},\"header\":{\"fill\":{\"color\":\"#C8D4E3\"},\"line\":{\"color\":\"white\"}},\"type\":\"table\"}],\"barpolar\":[{\"marker\":{\"line\":{\"color\":\"#E5ECF6\",\"width\":0.5},\"pattern\":{\"fillmode\":\"overlay\",\"size\":10,\"solidity\":0.2}},\"type\":\"barpolar\"}],\"pie\":[{\"automargin\":true,\"type\":\"pie\"}]},\"layout\":{\"autotypenumbers\":\"strict\",\"colorway\":[\"#636efa\",\"#EF553B\",\"#00cc96\",\"#ab63fa\",\"#FFA15A\",\"#19d3f3\",\"#FF6692\",\"#B6E880\",\"#FF97FF\",\"#FECB52\"],\"font\":{\"color\":\"#2a3f5f\"},\"hovermode\":\"closest\",\"hoverlabel\":{\"align\":\"left\"},\"paper_bgcolor\":\"white\",\"plot_bgcolor\":\"#E5ECF6\",\"polar\":{\"bgcolor\":\"#E5ECF6\",\"angularaxis\":{\"gridcolor\":\"white\",\"linecolor\":\"white\",\"ticks\":\"\"},\"radialaxis\":{\"gridcolor\":\"white\",\"linecolor\":\"white\",\"ticks\":\"\"}},\"ternary\":{\"bgcolor\":\"#E5ECF6\",\"aaxis\":{\"gridcolor\":\"white\",\"linecolor\":\"white\",\"ticks\":\"\"},\"baxis\":{\"gridcolor\":\"white\",\"linecolor\":\"white\",\"ticks\":\"\"},\"caxis\":{\"gridcolor\":\"white\",\"linecolor\":\"white\",\"ticks\":\"\"}},\"coloraxis\":{\"colorbar\":{\"outlinewidth\":0,\"ticks\":\"\"}},\"colorscale\":{\"sequential\":[[0.0,\"#0d0887\"],[0.1111111111111111,\"#46039f\"],[0.2222222222222222,\"#7201a8\"],[0.3333333333333333,\"#9c179e\"],[0.4444444444444444,\"#bd3786\"],[0.5555555555555556,\"#d8576b\"],[0.6666666666666666,\"#ed7953\"],[0.7777777777777778,\"#fb9f3a\"],[0.8888888888888888,\"#fdca26\"],[1.0,\"#f0f921\"]],\"sequentialminus\":[[0.0,\"#0d0887\"],[0.1111111111111111,\"#46039f\"],[0.2222222222222222,\"#7201a8\"],[0.3333333333333333,\"#9c179e\"],[0.4444444444444444,\"#bd3786\"],[0.5555555555555556,\"#d8576b\"],[0.6666666666666666,\"#ed7953\"],[0.7777777777777778,\"#fb9f3a\"],[0.8888888888888888,\"#fdca26\"],[1.0,\"#f0f921\"]],\"diverging\":[[0,\"#8e0152\"],[0.1,\"#c51b7d\"],[0.2,\"#de77ae\"],[0.3,\"#f1b6da\"],[0.4,\"#fde0ef\"],[0.5,\"#f7f7f7\"],[0.6,\"#e6f5d0\"],[0.7,\"#b8e186\"],[0.8,\"#7fbc41\"],[0.9,\"#4d9221\"],[1,\"#276419\"]]},\"xaxis\":{\"gridcolor\":\"white\",\"linecolor\":\"white\",\"ticks\":\"\",\"title\":{\"standoff\":15},\"zerolinecolor\":\"white\",\"automargin\":true,\"zerolinewidth\":2},\"yaxis\":{\"gridcolor\":\"white\",\"linecolor\":\"white\",\"ticks\":\"\",\"title\":{\"standoff\":15},\"zerolinecolor\":\"white\",\"automargin\":true,\"zerolinewidth\":2},\"scene\":{\"xaxis\":{\"backgroundcolor\":\"#E5ECF6\",\"gridcolor\":\"white\",\"linecolor\":\"white\",\"showbackground\":true,\"ticks\":\"\",\"zerolinecolor\":\"white\",\"gridwidth\":2},\"yaxis\":{\"backgroundcolor\":\"#E5ECF6\",\"gridcolor\":\"white\",\"linecolor\":\"white\",\"showbackground\":true,\"ticks\":\"\",\"zerolinecolor\":\"white\",\"gridwidth\":2},\"zaxis\":{\"backgroundcolor\":\"#E5ECF6\",\"gridcolor\":\"white\",\"linecolor\":\"white\",\"showbackground\":true,\"ticks\":\"\",\"zerolinecolor\":\"white\",\"gridwidth\":2}},\"shapedefaults\":{\"line\":{\"color\":\"#2a3f5f\"}},\"annotationdefaults\":{\"arrowcolor\":\"#2a3f5f\",\"arrowhead\":0,\"arrowwidth\":1},\"geo\":{\"bgcolor\":\"white\",\"landcolor\":\"#E5ECF6\",\"subunitcolor\":\"white\",\"showland\":true,\"showlakes\":true,\"lakecolor\":\"white\"},\"title\":{\"x\":0.05},\"mapbox\":{\"style\":\"light\"}}},\"title\":{\"text\":\"Sexism Distribution\",\"font\":{\"size\":20,\"family\":\"Arial\",\"color\":\"#3c4444\"}},\"legend\":{\"font\":{\"family\":\"Calibri\",\"color\":\"#3c4444\"}},\"plot_bgcolor\":\"white\"},                        {\"responsive\": true}                    ).then(function(){\n",
       "                            \n",
       "var gd = document.getElementById('06fb45cb-b517-4492-b75f-95941373b4dc');\n",
       "var x = new MutationObserver(function (mutations, observer) {{\n",
       "        var display = window.getComputedStyle(gd).display;\n",
       "        if (!display || display === 'none') {{\n",
       "            console.log([gd, 'removed!']);\n",
       "            Plotly.purge(gd);\n",
       "            observer.disconnect();\n",
       "        }}\n",
       "}});\n",
       "\n",
       "// Listen for the removal of the full notebook cells\n",
       "var notebookContainer = gd.closest('#notebook-container');\n",
       "if (notebookContainer) {{\n",
       "    x.observe(notebookContainer, {childList: true});\n",
       "}}\n",
       "\n",
       "// Listen for the clearing of the current output cell\n",
       "var outputEl = gd.closest('.output');\n",
       "if (outputEl) {{\n",
       "    x.observe(outputEl, {childList: true});\n",
       "}}\n",
       "\n",
       "                        })                };                });            </script>        </div>"
      ]
     },
     "metadata": {},
     "output_type": "display_data"
    }
   ],
   "source": [
    "colors = [PURP, YELL, GREEN, SALM, BLUE2] \n",
    "fig2 = create_donut_chart(mexican_sexist_featured.query(\"sexism_type!='non-sexist'\").sexism_type, colors=colors, \n",
    "                   legend_font=font, legend_color=BLCK, label_font=font, title_color=BLCK)\n",
    "fig2.show()"
   ]
  },
  {
   "cell_type": "code",
   "execution_count": 53,
   "id": "19c18ae9-cdcd-4932-b88e-cdb2a6cbc15e",
   "metadata": {},
   "outputs": [
    {
     "data": {
      "application/vnd.plotly.v1+json": {
       "config": {
        "plotlyServerURL": "https://plot.ly"
       },
       "data": [
        {
         "fillpattern": {
          "shape": ""
         },
         "hovertemplate": "sexism_type=violent<br>timestamp=%{x}<br>percentage=%{y}<extra></extra>",
         "legendgroup": "violent",
         "line": {
          "color": "#5BC3E3"
         },
         "marker": {
          "symbol": "circle"
         },
         "mode": "lines",
         "name": "violent",
         "orientation": "v",
         "showlegend": true,
         "stackgroup": "1",
         "type": "scatter",
         "x": [
          0,
          1,
          2,
          3,
          4,
          5,
          6,
          7,
          8,
          9,
          10,
          11,
          12,
          13,
          14,
          15,
          16,
          17,
          18,
          19,
          20,
          21,
          22,
          23
         ],
         "xaxis": "x",
         "y": [
          4.680851063829787,
          1.282051282051282,
          1.2345679012345678,
          6,
          2,
          4.6875,
          0.6711409395973155,
          6.698564593301436,
          2.7210884353741496,
          4.228855721393035,
          3.5135135135135136,
          3.89908256880734,
          3.9560439560439558,
          1.935483870967742,
          3.7549407114624502,
          3.1645569620253164,
          3.4653465346534658,
          3.826530612244898,
          4.509283819628647,
          4.55531453362256,
          4.329004329004329,
          3.4412955465587043,
          3.711340206185567,
          2.9729729729729732
         ],
         "yaxis": "y"
        },
        {
         "fillpattern": {
          "shape": ""
         },
         "hovertemplate": "sexism_type=hate<br>timestamp=%{x}<br>percentage=%{y}<extra></extra>",
         "legendgroup": "hate",
         "line": {
          "color": "#EB8B59"
         },
         "marker": {
          "symbol": "circle"
         },
         "mode": "lines",
         "name": "hate",
         "orientation": "v",
         "showlegend": true,
         "stackgroup": "1",
         "type": "scatter",
         "x": [
          0,
          1,
          2,
          3,
          4,
          5,
          6,
          7,
          8,
          9,
          10,
          11,
          12,
          13,
          14,
          15,
          16,
          17,
          18,
          19,
          20,
          21,
          22,
          23
         ],
         "xaxis": "x",
         "y": [
          8.936170212765958,
          12.82051282051282,
          8.641975308641975,
          6,
          14.000000000000002,
          14.0625,
          7.38255033557047,
          9.090909090909092,
          9.523809523809524,
          9.203980099502488,
          8.91891891891892,
          11.009174311926607,
          8.791208791208792,
          9.67741935483871,
          9.486166007905137,
          10.970464135021098,
          10.14851485148515,
          10.96938775510204,
          10.079575596816976,
          11.496746203904555,
          8.874458874458876,
          5.870445344129554,
          5.979381443298969,
          6.216216216216217
         ],
         "yaxis": "y"
        },
        {
         "fillpattern": {
          "shape": ""
         },
         "hovertemplate": "sexism_type=sexually-explicit<br>timestamp=%{x}<br>percentage=%{y}<extra></extra>",
         "legendgroup": "sexually-explicit",
         "line": {
          "color": "#C4D454"
         },
         "marker": {
          "symbol": "circle"
         },
         "mode": "lines",
         "name": "sexually-explicit",
         "orientation": "v",
         "showlegend": true,
         "stackgroup": "1",
         "type": "scatter",
         "x": [
          0,
          1,
          2,
          3,
          4,
          5,
          6,
          7,
          8,
          9,
          10,
          11,
          12,
          13,
          14,
          15,
          16,
          17,
          18,
          19,
          20,
          21,
          22,
          23
         ],
         "xaxis": "x",
         "y": [
          14.893617021276595,
          16.666666666666664,
          13.580246913580247,
          8,
          22,
          10.9375,
          24.832214765100673,
          16.267942583732058,
          14.285714285714285,
          16.91542288557214,
          14.324324324324325,
          14.449541284403669,
          15.384615384615385,
          17.419354838709676,
          16.40316205533597,
          16.877637130801688,
          13.861386138613863,
          14.795918367346939,
          18.56763925729443,
          18.43817787418655,
          11.904761904761903,
          19.4331983805668,
          15.670103092783505,
          18.10810810810811
         ],
         "yaxis": "y"
        },
        {
         "fillpattern": {
          "shape": ""
         },
         "hovertemplate": "sexism_type=abuse<br>timestamp=%{x}<br>percentage=%{y}<extra></extra>",
         "legendgroup": "abuse",
         "line": {
          "color": "#fbd305"
         },
         "marker": {
          "symbol": "circle"
         },
         "mode": "lines",
         "name": "abuse",
         "orientation": "v",
         "showlegend": true,
         "stackgroup": "1",
         "type": "scatter",
         "x": [
          0,
          1,
          2,
          3,
          4,
          5,
          6,
          7,
          8,
          9,
          10,
          11,
          12,
          13,
          14,
          15,
          16,
          17,
          18,
          19,
          20,
          21,
          22,
          23
         ],
         "xaxis": "x",
         "y": [
          22.127659574468083,
          26.923076923076923,
          14.814814814814813,
          12,
          14.000000000000002,
          18.75,
          16.778523489932887,
          20.095693779904305,
          20.408163265306122,
          22.139303482587064,
          20.27027027027027,
          22.93577981651376,
          21.318681318681318,
          20.86021505376344,
          21.14624505928854,
          20.675105485232066,
          21.782178217821784,
          18.622448979591837,
          21.750663129973475,
          19.522776572668114,
          20.77922077922078,
          20.040485829959515,
          17.7319587628866,
          21.35135135135135
         ],
         "yaxis": "y"
        },
        {
         "fillpattern": {
          "shape": ""
         },
         "hovertemplate": "sexism_type=profanities<br>timestamp=%{x}<br>percentage=%{y}<extra></extra>",
         "legendgroup": "profanities",
         "line": {
          "color": "#cc64bc"
         },
         "marker": {
          "symbol": "circle"
         },
         "mode": "lines",
         "name": "profanities",
         "orientation": "v",
         "showlegend": true,
         "stackgroup": "1",
         "type": "scatter",
         "x": [
          0,
          1,
          2,
          3,
          4,
          5,
          6,
          7,
          8,
          9,
          10,
          11,
          12,
          13,
          14,
          15,
          16,
          17,
          18,
          19,
          20,
          21,
          22,
          23
         ],
         "xaxis": "x",
         "y": [
          49.361702127659576,
          42.30769230769231,
          61.72839506172839,
          68,
          48,
          51.5625,
          50.33557046979866,
          47.84688995215311,
          53.06122448979592,
          47.51243781094527,
          52.972972972972975,
          47.706422018348626,
          50.54945054945055,
          50.10752688172043,
          49.209486166007906,
          48.31223628691983,
          50.742574257425744,
          51.78571428571429,
          45.09283819628647,
          45.98698481561822,
          54.112554112554115,
          51.21457489878543,
          56.90721649484536,
          51.35135135135135
         ],
         "yaxis": "y"
        }
       ],
       "layout": {
        "autosize": true,
        "legend": {
         "font": {
          "color": "#3c4444",
          "family": "Calibri",
          "size": 12
         },
         "title": {
          "text": "Sexism Type"
         },
         "tracegroupgap": 0
        },
        "margin": {
         "t": 60
        },
        "paper_bgcolor": "white",
        "plot_bgcolor": "white",
        "template": {
         "data": {
          "bar": [
           {
            "error_x": {
             "color": "#2a3f5f"
            },
            "error_y": {
             "color": "#2a3f5f"
            },
            "marker": {
             "line": {
              "color": "#E5ECF6",
              "width": 0.5
             },
             "pattern": {
              "fillmode": "overlay",
              "size": 10,
              "solidity": 0.2
             }
            },
            "type": "bar"
           }
          ],
          "barpolar": [
           {
            "marker": {
             "line": {
              "color": "#E5ECF6",
              "width": 0.5
             },
             "pattern": {
              "fillmode": "overlay",
              "size": 10,
              "solidity": 0.2
             }
            },
            "type": "barpolar"
           }
          ],
          "carpet": [
           {
            "aaxis": {
             "endlinecolor": "#2a3f5f",
             "gridcolor": "white",
             "linecolor": "white",
             "minorgridcolor": "white",
             "startlinecolor": "#2a3f5f"
            },
            "baxis": {
             "endlinecolor": "#2a3f5f",
             "gridcolor": "white",
             "linecolor": "white",
             "minorgridcolor": "white",
             "startlinecolor": "#2a3f5f"
            },
            "type": "carpet"
           }
          ],
          "choropleth": [
           {
            "colorbar": {
             "outlinewidth": 0,
             "ticks": ""
            },
            "type": "choropleth"
           }
          ],
          "contour": [
           {
            "colorbar": {
             "outlinewidth": 0,
             "ticks": ""
            },
            "colorscale": [
             [
              0,
              "#0d0887"
             ],
             [
              0.1111111111111111,
              "#46039f"
             ],
             [
              0.2222222222222222,
              "#7201a8"
             ],
             [
              0.3333333333333333,
              "#9c179e"
             ],
             [
              0.4444444444444444,
              "#bd3786"
             ],
             [
              0.5555555555555556,
              "#d8576b"
             ],
             [
              0.6666666666666666,
              "#ed7953"
             ],
             [
              0.7777777777777778,
              "#fb9f3a"
             ],
             [
              0.8888888888888888,
              "#fdca26"
             ],
             [
              1,
              "#f0f921"
             ]
            ],
            "type": "contour"
           }
          ],
          "contourcarpet": [
           {
            "colorbar": {
             "outlinewidth": 0,
             "ticks": ""
            },
            "type": "contourcarpet"
           }
          ],
          "heatmap": [
           {
            "colorbar": {
             "outlinewidth": 0,
             "ticks": ""
            },
            "colorscale": [
             [
              0,
              "#0d0887"
             ],
             [
              0.1111111111111111,
              "#46039f"
             ],
             [
              0.2222222222222222,
              "#7201a8"
             ],
             [
              0.3333333333333333,
              "#9c179e"
             ],
             [
              0.4444444444444444,
              "#bd3786"
             ],
             [
              0.5555555555555556,
              "#d8576b"
             ],
             [
              0.6666666666666666,
              "#ed7953"
             ],
             [
              0.7777777777777778,
              "#fb9f3a"
             ],
             [
              0.8888888888888888,
              "#fdca26"
             ],
             [
              1,
              "#f0f921"
             ]
            ],
            "type": "heatmap"
           }
          ],
          "heatmapgl": [
           {
            "colorbar": {
             "outlinewidth": 0,
             "ticks": ""
            },
            "colorscale": [
             [
              0,
              "#0d0887"
             ],
             [
              0.1111111111111111,
              "#46039f"
             ],
             [
              0.2222222222222222,
              "#7201a8"
             ],
             [
              0.3333333333333333,
              "#9c179e"
             ],
             [
              0.4444444444444444,
              "#bd3786"
             ],
             [
              0.5555555555555556,
              "#d8576b"
             ],
             [
              0.6666666666666666,
              "#ed7953"
             ],
             [
              0.7777777777777778,
              "#fb9f3a"
             ],
             [
              0.8888888888888888,
              "#fdca26"
             ],
             [
              1,
              "#f0f921"
             ]
            ],
            "type": "heatmapgl"
           }
          ],
          "histogram": [
           {
            "marker": {
             "pattern": {
              "fillmode": "overlay",
              "size": 10,
              "solidity": 0.2
             }
            },
            "type": "histogram"
           }
          ],
          "histogram2d": [
           {
            "colorbar": {
             "outlinewidth": 0,
             "ticks": ""
            },
            "colorscale": [
             [
              0,
              "#0d0887"
             ],
             [
              0.1111111111111111,
              "#46039f"
             ],
             [
              0.2222222222222222,
              "#7201a8"
             ],
             [
              0.3333333333333333,
              "#9c179e"
             ],
             [
              0.4444444444444444,
              "#bd3786"
             ],
             [
              0.5555555555555556,
              "#d8576b"
             ],
             [
              0.6666666666666666,
              "#ed7953"
             ],
             [
              0.7777777777777778,
              "#fb9f3a"
             ],
             [
              0.8888888888888888,
              "#fdca26"
             ],
             [
              1,
              "#f0f921"
             ]
            ],
            "type": "histogram2d"
           }
          ],
          "histogram2dcontour": [
           {
            "colorbar": {
             "outlinewidth": 0,
             "ticks": ""
            },
            "colorscale": [
             [
              0,
              "#0d0887"
             ],
             [
              0.1111111111111111,
              "#46039f"
             ],
             [
              0.2222222222222222,
              "#7201a8"
             ],
             [
              0.3333333333333333,
              "#9c179e"
             ],
             [
              0.4444444444444444,
              "#bd3786"
             ],
             [
              0.5555555555555556,
              "#d8576b"
             ],
             [
              0.6666666666666666,
              "#ed7953"
             ],
             [
              0.7777777777777778,
              "#fb9f3a"
             ],
             [
              0.8888888888888888,
              "#fdca26"
             ],
             [
              1,
              "#f0f921"
             ]
            ],
            "type": "histogram2dcontour"
           }
          ],
          "mesh3d": [
           {
            "colorbar": {
             "outlinewidth": 0,
             "ticks": ""
            },
            "type": "mesh3d"
           }
          ],
          "parcoords": [
           {
            "line": {
             "colorbar": {
              "outlinewidth": 0,
              "ticks": ""
             }
            },
            "type": "parcoords"
           }
          ],
          "pie": [
           {
            "automargin": true,
            "type": "pie"
           }
          ],
          "scatter": [
           {
            "fillpattern": {
             "fillmode": "overlay",
             "size": 10,
             "solidity": 0.2
            },
            "type": "scatter"
           }
          ],
          "scatter3d": [
           {
            "line": {
             "colorbar": {
              "outlinewidth": 0,
              "ticks": ""
             }
            },
            "marker": {
             "colorbar": {
              "outlinewidth": 0,
              "ticks": ""
             }
            },
            "type": "scatter3d"
           }
          ],
          "scattercarpet": [
           {
            "marker": {
             "colorbar": {
              "outlinewidth": 0,
              "ticks": ""
             }
            },
            "type": "scattercarpet"
           }
          ],
          "scattergeo": [
           {
            "marker": {
             "colorbar": {
              "outlinewidth": 0,
              "ticks": ""
             }
            },
            "type": "scattergeo"
           }
          ],
          "scattergl": [
           {
            "marker": {
             "colorbar": {
              "outlinewidth": 0,
              "ticks": ""
             }
            },
            "type": "scattergl"
           }
          ],
          "scattermapbox": [
           {
            "marker": {
             "colorbar": {
              "outlinewidth": 0,
              "ticks": ""
             }
            },
            "type": "scattermapbox"
           }
          ],
          "scatterpolar": [
           {
            "marker": {
             "colorbar": {
              "outlinewidth": 0,
              "ticks": ""
             }
            },
            "type": "scatterpolar"
           }
          ],
          "scatterpolargl": [
           {
            "marker": {
             "colorbar": {
              "outlinewidth": 0,
              "ticks": ""
             }
            },
            "type": "scatterpolargl"
           }
          ],
          "scatterternary": [
           {
            "marker": {
             "colorbar": {
              "outlinewidth": 0,
              "ticks": ""
             }
            },
            "type": "scatterternary"
           }
          ],
          "surface": [
           {
            "colorbar": {
             "outlinewidth": 0,
             "ticks": ""
            },
            "colorscale": [
             [
              0,
              "#0d0887"
             ],
             [
              0.1111111111111111,
              "#46039f"
             ],
             [
              0.2222222222222222,
              "#7201a8"
             ],
             [
              0.3333333333333333,
              "#9c179e"
             ],
             [
              0.4444444444444444,
              "#bd3786"
             ],
             [
              0.5555555555555556,
              "#d8576b"
             ],
             [
              0.6666666666666666,
              "#ed7953"
             ],
             [
              0.7777777777777778,
              "#fb9f3a"
             ],
             [
              0.8888888888888888,
              "#fdca26"
             ],
             [
              1,
              "#f0f921"
             ]
            ],
            "type": "surface"
           }
          ],
          "table": [
           {
            "cells": {
             "fill": {
              "color": "#EBF0F8"
             },
             "line": {
              "color": "white"
             }
            },
            "header": {
             "fill": {
              "color": "#C8D4E3"
             },
             "line": {
              "color": "white"
             }
            },
            "type": "table"
           }
          ]
         },
         "layout": {
          "annotationdefaults": {
           "arrowcolor": "#2a3f5f",
           "arrowhead": 0,
           "arrowwidth": 1
          },
          "autotypenumbers": "strict",
          "coloraxis": {
           "colorbar": {
            "outlinewidth": 0,
            "ticks": ""
           }
          },
          "colorscale": {
           "diverging": [
            [
             0,
             "#8e0152"
            ],
            [
             0.1,
             "#c51b7d"
            ],
            [
             0.2,
             "#de77ae"
            ],
            [
             0.3,
             "#f1b6da"
            ],
            [
             0.4,
             "#fde0ef"
            ],
            [
             0.5,
             "#f7f7f7"
            ],
            [
             0.6,
             "#e6f5d0"
            ],
            [
             0.7,
             "#b8e186"
            ],
            [
             0.8,
             "#7fbc41"
            ],
            [
             0.9,
             "#4d9221"
            ],
            [
             1,
             "#276419"
            ]
           ],
           "sequential": [
            [
             0,
             "#0d0887"
            ],
            [
             0.1111111111111111,
             "#46039f"
            ],
            [
             0.2222222222222222,
             "#7201a8"
            ],
            [
             0.3333333333333333,
             "#9c179e"
            ],
            [
             0.4444444444444444,
             "#bd3786"
            ],
            [
             0.5555555555555556,
             "#d8576b"
            ],
            [
             0.6666666666666666,
             "#ed7953"
            ],
            [
             0.7777777777777778,
             "#fb9f3a"
            ],
            [
             0.8888888888888888,
             "#fdca26"
            ],
            [
             1,
             "#f0f921"
            ]
           ],
           "sequentialminus": [
            [
             0,
             "#0d0887"
            ],
            [
             0.1111111111111111,
             "#46039f"
            ],
            [
             0.2222222222222222,
             "#7201a8"
            ],
            [
             0.3333333333333333,
             "#9c179e"
            ],
            [
             0.4444444444444444,
             "#bd3786"
            ],
            [
             0.5555555555555556,
             "#d8576b"
            ],
            [
             0.6666666666666666,
             "#ed7953"
            ],
            [
             0.7777777777777778,
             "#fb9f3a"
            ],
            [
             0.8888888888888888,
             "#fdca26"
            ],
            [
             1,
             "#f0f921"
            ]
           ]
          },
          "colorway": [
           "#636efa",
           "#EF553B",
           "#00cc96",
           "#ab63fa",
           "#FFA15A",
           "#19d3f3",
           "#FF6692",
           "#B6E880",
           "#FF97FF",
           "#FECB52"
          ],
          "font": {
           "color": "#2a3f5f"
          },
          "geo": {
           "bgcolor": "white",
           "lakecolor": "white",
           "landcolor": "#E5ECF6",
           "showlakes": true,
           "showland": true,
           "subunitcolor": "white"
          },
          "hoverlabel": {
           "align": "left"
          },
          "hovermode": "closest",
          "mapbox": {
           "style": "light"
          },
          "paper_bgcolor": "white",
          "plot_bgcolor": "#E5ECF6",
          "polar": {
           "angularaxis": {
            "gridcolor": "white",
            "linecolor": "white",
            "ticks": ""
           },
           "bgcolor": "#E5ECF6",
           "radialaxis": {
            "gridcolor": "white",
            "linecolor": "white",
            "ticks": ""
           }
          },
          "scene": {
           "xaxis": {
            "backgroundcolor": "#E5ECF6",
            "gridcolor": "white",
            "gridwidth": 2,
            "linecolor": "white",
            "showbackground": true,
            "ticks": "",
            "zerolinecolor": "white"
           },
           "yaxis": {
            "backgroundcolor": "#E5ECF6",
            "gridcolor": "white",
            "gridwidth": 2,
            "linecolor": "white",
            "showbackground": true,
            "ticks": "",
            "zerolinecolor": "white"
           },
           "zaxis": {
            "backgroundcolor": "#E5ECF6",
            "gridcolor": "white",
            "gridwidth": 2,
            "linecolor": "white",
            "showbackground": true,
            "ticks": "",
            "zerolinecolor": "white"
           }
          },
          "shapedefaults": {
           "line": {
            "color": "#2a3f5f"
           }
          },
          "ternary": {
           "aaxis": {
            "gridcolor": "white",
            "linecolor": "white",
            "ticks": ""
           },
           "baxis": {
            "gridcolor": "white",
            "linecolor": "white",
            "ticks": ""
           },
           "bgcolor": "#E5ECF6",
           "caxis": {
            "gridcolor": "white",
            "linecolor": "white",
            "ticks": ""
           }
          },
          "title": {
           "x": 0.05
          },
          "xaxis": {
           "automargin": true,
           "gridcolor": "white",
           "linecolor": "white",
           "ticks": "",
           "title": {
            "standoff": 15
           },
           "zerolinecolor": "white",
           "zerolinewidth": 2
          },
          "yaxis": {
           "automargin": true,
           "gridcolor": "white",
           "linecolor": "white",
           "ticks": "",
           "title": {
            "standoff": 15
           },
           "zerolinecolor": "white",
           "zerolinewidth": 2
          }
         }
        },
        "title": {
         "font": {
          "color": "#3c4444",
          "family": "Calibri",
          "size": 20
         },
         "text": "Tweets Relative Percentage by Hour - Types of Sexism"
        },
        "xaxis": {
         "anchor": "y",
         "autorange": true,
         "domain": [
          0,
          1
         ],
         "range": [
          0,
          23
         ],
         "tickfont": {
          "color": "#3c4444",
          "family": "Calibri",
          "size": 12
         },
         "title": {
          "text": "Hours"
         },
         "type": "category"
        },
        "yaxis": {
         "anchor": "x",
         "autorange": true,
         "domain": [
          0,
          1
         ],
         "range": [
          0,
          105.26315789473685
         ],
         "tickfont": {
          "color": "#3c4444",
          "family": "Calibri",
          "size": 12
         },
         "tickformat": ".2f",
         "title": {
          "font": {
           "color": "#3c4444",
           "family": "Calibri",
           "size": 14
          },
          "text": "%"
         },
         "type": "linear"
        }
       }
      },
      "image/png": "[encoded data removed]",
      "text/html": [
       "<div>                            <div id=\"36c28a52-ba77-4d3f-a08e-f3fe9d531dea\" class=\"plotly-graph-div\" style=\"height:525px; width:100%;\"></div>            <script type=\"text/javascript\">                require([\"plotly\"], function(Plotly) {                    window.PLOTLYENV=window.PLOTLYENV || {};                                    if (document.getElementById(\"36c28a52-ba77-4d3f-a08e-f3fe9d531dea\")) {                    Plotly.newPlot(                        \"36c28a52-ba77-4d3f-a08e-f3fe9d531dea\",                        [{\"fillpattern\":{\"shape\":\"\"},\"hovertemplate\":\"sexism_type=violent<br>timestamp=%{x}<br>percentage=%{y}<extra></extra>\",\"legendgroup\":\"violent\",\"line\":{\"color\":\"#5BC3E3\"},\"marker\":{\"symbol\":\"circle\"},\"mode\":\"lines\",\"name\":\"violent\",\"orientation\":\"v\",\"showlegend\":true,\"stackgroup\":\"1\",\"x\":[0,1,2,3,4,5,6,7,8,9,10,11,12,13,14,15,16,17,18,19,20,21,22,23],\"xaxis\":\"x\",\"y\":[4.680851063829787,1.282051282051282,1.2345679012345678,6.0,2.0,4.6875,0.6711409395973155,6.698564593301436,2.7210884353741496,4.228855721393035,3.5135135135135136,3.89908256880734,3.9560439560439558,1.935483870967742,3.7549407114624502,3.1645569620253164,3.4653465346534658,3.826530612244898,4.509283819628647,4.55531453362256,4.329004329004329,3.4412955465587043,3.711340206185567,2.9729729729729732],\"yaxis\":\"y\",\"type\":\"scatter\"},{\"fillpattern\":{\"shape\":\"\"},\"hovertemplate\":\"sexism_type=hate<br>timestamp=%{x}<br>percentage=%{y}<extra></extra>\",\"legendgroup\":\"hate\",\"line\":{\"color\":\"#EB8B59\"},\"marker\":{\"symbol\":\"circle\"},\"mode\":\"lines\",\"name\":\"hate\",\"orientation\":\"v\",\"showlegend\":true,\"stackgroup\":\"1\",\"x\":[0,1,2,3,4,5,6,7,8,9,10,11,12,13,14,15,16,17,18,19,20,21,22,23],\"xaxis\":\"x\",\"y\":[8.936170212765958,12.82051282051282,8.641975308641975,6.0,14.000000000000002,14.0625,7.38255033557047,9.090909090909092,9.523809523809524,9.203980099502488,8.91891891891892,11.009174311926607,8.791208791208792,9.67741935483871,9.486166007905137,10.970464135021098,10.14851485148515,10.96938775510204,10.079575596816976,11.496746203904555,8.874458874458876,5.870445344129554,5.979381443298969,6.216216216216217],\"yaxis\":\"y\",\"type\":\"scatter\"},{\"fillpattern\":{\"shape\":\"\"},\"hovertemplate\":\"sexism_type=sexually-explicit<br>timestamp=%{x}<br>percentage=%{y}<extra></extra>\",\"legendgroup\":\"sexually-explicit\",\"line\":{\"color\":\"#C4D454\"},\"marker\":{\"symbol\":\"circle\"},\"mode\":\"lines\",\"name\":\"sexually-explicit\",\"orientation\":\"v\",\"showlegend\":true,\"stackgroup\":\"1\",\"x\":[0,1,2,3,4,5,6,7,8,9,10,11,12,13,14,15,16,17,18,19,20,21,22,23],\"xaxis\":\"x\",\"y\":[14.893617021276595,16.666666666666664,13.580246913580247,8.0,22.0,10.9375,24.832214765100673,16.267942583732058,14.285714285714285,16.91542288557214,14.324324324324325,14.449541284403669,15.384615384615385,17.419354838709676,16.40316205533597,16.877637130801688,13.861386138613863,14.795918367346939,18.56763925729443,18.43817787418655,11.904761904761903,19.4331983805668,15.670103092783505,18.10810810810811],\"yaxis\":\"y\",\"type\":\"scatter\"},{\"fillpattern\":{\"shape\":\"\"},\"hovertemplate\":\"sexism_type=abuse<br>timestamp=%{x}<br>percentage=%{y}<extra></extra>\",\"legendgroup\":\"abuse\",\"line\":{\"color\":\"#fbd305\"},\"marker\":{\"symbol\":\"circle\"},\"mode\":\"lines\",\"name\":\"abuse\",\"orientation\":\"v\",\"showlegend\":true,\"stackgroup\":\"1\",\"x\":[0,1,2,3,4,5,6,7,8,9,10,11,12,13,14,15,16,17,18,19,20,21,22,23],\"xaxis\":\"x\",\"y\":[22.127659574468083,26.923076923076923,14.814814814814813,12.0,14.000000000000002,18.75,16.778523489932887,20.095693779904305,20.408163265306122,22.139303482587064,20.27027027027027,22.93577981651376,21.318681318681318,20.86021505376344,21.14624505928854,20.675105485232066,21.782178217821784,18.622448979591837,21.750663129973475,19.522776572668114,20.77922077922078,20.040485829959515,17.7319587628866,21.35135135135135],\"yaxis\":\"y\",\"type\":\"scatter\"},{\"fillpattern\":{\"shape\":\"\"},\"hovertemplate\":\"sexism_type=profanities<br>timestamp=%{x}<br>percentage=%{y}<extra></extra>\",\"legendgroup\":\"profanities\",\"line\":{\"color\":\"#cc64bc\"},\"marker\":{\"symbol\":\"circle\"},\"mode\":\"lines\",\"name\":\"profanities\",\"orientation\":\"v\",\"showlegend\":true,\"stackgroup\":\"1\",\"x\":[0,1,2,3,4,5,6,7,8,9,10,11,12,13,14,15,16,17,18,19,20,21,22,23],\"xaxis\":\"x\",\"y\":[49.361702127659576,42.30769230769231,61.72839506172839,68.0,48.0,51.5625,50.33557046979866,47.84688995215311,53.06122448979592,47.51243781094527,52.972972972972975,47.706422018348626,50.54945054945055,50.10752688172043,49.209486166007906,48.31223628691983,50.742574257425744,51.78571428571429,45.09283819628647,45.98698481561822,54.112554112554115,51.21457489878543,56.90721649484536,51.35135135135135],\"yaxis\":\"y\",\"type\":\"scatter\"}],                        {\"template\":{\"data\":{\"histogram2dcontour\":[{\"type\":\"histogram2dcontour\",\"colorbar\":{\"outlinewidth\":0,\"ticks\":\"\"},\"colorscale\":[[0.0,\"#0d0887\"],[0.1111111111111111,\"#46039f\"],[0.2222222222222222,\"#7201a8\"],[0.3333333333333333,\"#9c179e\"],[0.4444444444444444,\"#bd3786\"],[0.5555555555555556,\"#d8576b\"],[0.6666666666666666,\"#ed7953\"],[0.7777777777777778,\"#fb9f3a\"],[0.8888888888888888,\"#fdca26\"],[1.0,\"#f0f921\"]]}],\"choropleth\":[{\"type\":\"choropleth\",\"colorbar\":{\"outlinewidth\":0,\"ticks\":\"\"}}],\"histogram2d\":[{\"type\":\"histogram2d\",\"colorbar\":{\"outlinewidth\":0,\"ticks\":\"\"},\"colorscale\":[[0.0,\"#0d0887\"],[0.1111111111111111,\"#46039f\"],[0.2222222222222222,\"#7201a8\"],[0.3333333333333333,\"#9c179e\"],[0.4444444444444444,\"#bd3786\"],[0.5555555555555556,\"#d8576b\"],[0.6666666666666666,\"#ed7953\"],[0.7777777777777778,\"#fb9f3a\"],[0.8888888888888888,\"#fdca26\"],[1.0,\"#f0f921\"]]}],\"heatmap\":[{\"type\":\"heatmap\",\"colorbar\":{\"outlinewidth\":0,\"ticks\":\"\"},\"colorscale\":[[0.0,\"#0d0887\"],[0.1111111111111111,\"#46039f\"],[0.2222222222222222,\"#7201a8\"],[0.3333333333333333,\"#9c179e\"],[0.4444444444444444,\"#bd3786\"],[0.5555555555555556,\"#d8576b\"],[0.6666666666666666,\"#ed7953\"],[0.7777777777777778,\"#fb9f3a\"],[0.8888888888888888,\"#fdca26\"],[1.0,\"#f0f921\"]]}],\"heatmapgl\":[{\"type\":\"heatmapgl\",\"colorbar\":{\"outlinewidth\":0,\"ticks\":\"\"},\"colorscale\":[[0.0,\"#0d0887\"],[0.1111111111111111,\"#46039f\"],[0.2222222222222222,\"#7201a8\"],[0.3333333333333333,\"#9c179e\"],[0.4444444444444444,\"#bd3786\"],[0.5555555555555556,\"#d8576b\"],[0.6666666666666666,\"#ed7953\"],[0.7777777777777778,\"#fb9f3a\"],[0.8888888888888888,\"#fdca26\"],[1.0,\"#f0f921\"]]}],\"contourcarpet\":[{\"type\":\"contourcarpet\",\"colorbar\":{\"outlinewidth\":0,\"ticks\":\"\"}}],\"contour\":[{\"type\":\"contour\",\"colorbar\":{\"outlinewidth\":0,\"ticks\":\"\"},\"colorscale\":[[0.0,\"#0d0887\"],[0.1111111111111111,\"#46039f\"],[0.2222222222222222,\"#7201a8\"],[0.3333333333333333,\"#9c179e\"],[0.4444444444444444,\"#bd3786\"],[0.5555555555555556,\"#d8576b\"],[0.6666666666666666,\"#ed7953\"],[0.7777777777777778,\"#fb9f3a\"],[0.8888888888888888,\"#fdca26\"],[1.0,\"#f0f921\"]]}],\"surface\":[{\"type\":\"surface\",\"colorbar\":{\"outlinewidth\":0,\"ticks\":\"\"},\"colorscale\":[[0.0,\"#0d0887\"],[0.1111111111111111,\"#46039f\"],[0.2222222222222222,\"#7201a8\"],[0.3333333333333333,\"#9c179e\"],[0.4444444444444444,\"#bd3786\"],[0.5555555555555556,\"#d8576b\"],[0.6666666666666666,\"#ed7953\"],[0.7777777777777778,\"#fb9f3a\"],[0.8888888888888888,\"#fdca26\"],[1.0,\"#f0f921\"]]}],\"mesh3d\":[{\"type\":\"mesh3d\",\"colorbar\":{\"outlinewidth\":0,\"ticks\":\"\"}}],\"scatter\":[{\"fillpattern\":{\"fillmode\":\"overlay\",\"size\":10,\"solidity\":0.2},\"type\":\"scatter\"}],\"parcoords\":[{\"type\":\"parcoords\",\"line\":{\"colorbar\":{\"outlinewidth\":0,\"ticks\":\"\"}}}],\"scatterpolargl\":[{\"type\":\"scatterpolargl\",\"marker\":{\"colorbar\":{\"outlinewidth\":0,\"ticks\":\"\"}}}],\"bar\":[{\"error_x\":{\"color\":\"#2a3f5f\"},\"error_y\":{\"color\":\"#2a3f5f\"},\"marker\":{\"line\":{\"color\":\"#E5ECF6\",\"width\":0.5},\"pattern\":{\"fillmode\":\"overlay\",\"size\":10,\"solidity\":0.2}},\"type\":\"bar\"}],\"scattergeo\":[{\"type\":\"scattergeo\",\"marker\":{\"colorbar\":{\"outlinewidth\":0,\"ticks\":\"\"}}}],\"scatterpolar\":[{\"type\":\"scatterpolar\",\"marker\":{\"colorbar\":{\"outlinewidth\":0,\"ticks\":\"\"}}}],\"histogram\":[{\"marker\":{\"pattern\":{\"fillmode\":\"overlay\",\"size\":10,\"solidity\":0.2}},\"type\":\"histogram\"}],\"scattergl\":[{\"type\":\"scattergl\",\"marker\":{\"colorbar\":{\"outlinewidth\":0,\"ticks\":\"\"}}}],\"scatter3d\":[{\"type\":\"scatter3d\",\"line\":{\"colorbar\":{\"outlinewidth\":0,\"ticks\":\"\"}},\"marker\":{\"colorbar\":{\"outlinewidth\":0,\"ticks\":\"\"}}}],\"scattermapbox\":[{\"type\":\"scattermapbox\",\"marker\":{\"colorbar\":{\"outlinewidth\":0,\"ticks\":\"\"}}}],\"scatterternary\":[{\"type\":\"scatterternary\",\"marker\":{\"colorbar\":{\"outlinewidth\":0,\"ticks\":\"\"}}}],\"scattercarpet\":[{\"type\":\"scattercarpet\",\"marker\":{\"colorbar\":{\"outlinewidth\":0,\"ticks\":\"\"}}}],\"carpet\":[{\"aaxis\":{\"endlinecolor\":\"#2a3f5f\",\"gridcolor\":\"white\",\"linecolor\":\"white\",\"minorgridcolor\":\"white\",\"startlinecolor\":\"#2a3f5f\"},\"baxis\":{\"endlinecolor\":\"#2a3f5f\",\"gridcolor\":\"white\",\"linecolor\":\"white\",\"minorgridcolor\":\"white\",\"startlinecolor\":\"#2a3f5f\"},\"type\":\"carpet\"}],\"table\":[{\"cells\":{\"fill\":{\"color\":\"#EBF0F8\"},\"line\":{\"color\":\"white\"}},\"header\":{\"fill\":{\"color\":\"#C8D4E3\"},\"line\":{\"color\":\"white\"}},\"type\":\"table\"}],\"barpolar\":[{\"marker\":{\"line\":{\"color\":\"#E5ECF6\",\"width\":0.5},\"pattern\":{\"fillmode\":\"overlay\",\"size\":10,\"solidity\":0.2}},\"type\":\"barpolar\"}],\"pie\":[{\"automargin\":true,\"type\":\"pie\"}]},\"layout\":{\"autotypenumbers\":\"strict\",\"colorway\":[\"#636efa\",\"#EF553B\",\"#00cc96\",\"#ab63fa\",\"#FFA15A\",\"#19d3f3\",\"#FF6692\",\"#B6E880\",\"#FF97FF\",\"#FECB52\"],\"font\":{\"color\":\"#2a3f5f\"},\"hovermode\":\"closest\",\"hoverlabel\":{\"align\":\"left\"},\"paper_bgcolor\":\"white\",\"plot_bgcolor\":\"#E5ECF6\",\"polar\":{\"bgcolor\":\"#E5ECF6\",\"angularaxis\":{\"gridcolor\":\"white\",\"linecolor\":\"white\",\"ticks\":\"\"},\"radialaxis\":{\"gridcolor\":\"white\",\"linecolor\":\"white\",\"ticks\":\"\"}},\"ternary\":{\"bgcolor\":\"#E5ECF6\",\"aaxis\":{\"gridcolor\":\"white\",\"linecolor\":\"white\",\"ticks\":\"\"},\"baxis\":{\"gridcolor\":\"white\",\"linecolor\":\"white\",\"ticks\":\"\"},\"caxis\":{\"gridcolor\":\"white\",\"linecolor\":\"white\",\"ticks\":\"\"}},\"coloraxis\":{\"colorbar\":{\"outlinewidth\":0,\"ticks\":\"\"}},\"colorscale\":{\"sequential\":[[0.0,\"#0d0887\"],[0.1111111111111111,\"#46039f\"],[0.2222222222222222,\"#7201a8\"],[0.3333333333333333,\"#9c179e\"],[0.4444444444444444,\"#bd3786\"],[0.5555555555555556,\"#d8576b\"],[0.6666666666666666,\"#ed7953\"],[0.7777777777777778,\"#fb9f3a\"],[0.8888888888888888,\"#fdca26\"],[1.0,\"#f0f921\"]],\"sequentialminus\":[[0.0,\"#0d0887\"],[0.1111111111111111,\"#46039f\"],[0.2222222222222222,\"#7201a8\"],[0.3333333333333333,\"#9c179e\"],[0.4444444444444444,\"#bd3786\"],[0.5555555555555556,\"#d8576b\"],[0.6666666666666666,\"#ed7953\"],[0.7777777777777778,\"#fb9f3a\"],[0.8888888888888888,\"#fdca26\"],[1.0,\"#f0f921\"]],\"diverging\":[[0,\"#8e0152\"],[0.1,\"#c51b7d\"],[0.2,\"#de77ae\"],[0.3,\"#f1b6da\"],[0.4,\"#fde0ef\"],[0.5,\"#f7f7f7\"],[0.6,\"#e6f5d0\"],[0.7,\"#b8e186\"],[0.8,\"#7fbc41\"],[0.9,\"#4d9221\"],[1,\"#276419\"]]},\"xaxis\":{\"gridcolor\":\"white\",\"linecolor\":\"white\",\"ticks\":\"\",\"title\":{\"standoff\":15},\"zerolinecolor\":\"white\",\"automargin\":true,\"zerolinewidth\":2},\"yaxis\":{\"gridcolor\":\"white\",\"linecolor\":\"white\",\"ticks\":\"\",\"title\":{\"standoff\":15},\"zerolinecolor\":\"white\",\"automargin\":true,\"zerolinewidth\":2},\"scene\":{\"xaxis\":{\"backgroundcolor\":\"#E5ECF6\",\"gridcolor\":\"white\",\"linecolor\":\"white\",\"showbackground\":true,\"ticks\":\"\",\"zerolinecolor\":\"white\",\"gridwidth\":2},\"yaxis\":{\"backgroundcolor\":\"#E5ECF6\",\"gridcolor\":\"white\",\"linecolor\":\"white\",\"showbackground\":true,\"ticks\":\"\",\"zerolinecolor\":\"white\",\"gridwidth\":2},\"zaxis\":{\"backgroundcolor\":\"#E5ECF6\",\"gridcolor\":\"white\",\"linecolor\":\"white\",\"showbackground\":true,\"ticks\":\"\",\"zerolinecolor\":\"white\",\"gridwidth\":2}},\"shapedefaults\":{\"line\":{\"color\":\"#2a3f5f\"}},\"annotationdefaults\":{\"arrowcolor\":\"#2a3f5f\",\"arrowhead\":0,\"arrowwidth\":1},\"geo\":{\"bgcolor\":\"white\",\"landcolor\":\"#E5ECF6\",\"subunitcolor\":\"white\",\"showland\":true,\"showlakes\":true,\"lakecolor\":\"white\"},\"title\":{\"x\":0.05},\"mapbox\":{\"style\":\"light\"}}},\"xaxis\":{\"anchor\":\"y\",\"domain\":[0.0,1.0],\"title\":{\"text\":\"Hours\"},\"tickfont\":{\"size\":12,\"family\":\"Calibri\",\"color\":\"#3c4444\"},\"type\":\"category\"},\"yaxis\":{\"anchor\":\"x\",\"domain\":[0.0,1.0],\"title\":{\"text\":\"%\",\"font\":{\"size\":14,\"family\":\"Calibri\",\"color\":\"#3c4444\"}},\"tickfont\":{\"size\":12,\"family\":\"Calibri\",\"color\":\"#3c4444\"},\"tickformat\":\".2f\"},\"legend\":{\"title\":{\"text\":\"Sexism Type\"},\"tracegroupgap\":0,\"font\":{\"size\":12,\"family\":\"Calibri\",\"color\":\"#3c4444\"}},\"margin\":{\"t\":60},\"title\":{\"text\":\"Tweets Relative Percentage by Hour - Types of Sexism\",\"font\":{\"size\":20,\"family\":\"Calibri\",\"color\":\"#3c4444\"}},\"plot_bgcolor\":\"white\",\"paper_bgcolor\":\"white\"},                        {\"responsive\": true}                    ).then(function(){\n",
       "                            \n",
       "var gd = document.getElementById('36c28a52-ba77-4d3f-a08e-f3fe9d531dea');\n",
       "var x = new MutationObserver(function (mutations, observer) {{\n",
       "        var display = window.getComputedStyle(gd).display;\n",
       "        if (!display || display === 'none') {{\n",
       "            console.log([gd, 'removed!']);\n",
       "            Plotly.purge(gd);\n",
       "            observer.disconnect();\n",
       "        }}\n",
       "}});\n",
       "\n",
       "// Listen for the removal of the full notebook cells\n",
       "var notebookContainer = gd.closest('#notebook-container');\n",
       "if (notebookContainer) {{\n",
       "    x.observe(notebookContainer, {childList: true});\n",
       "}}\n",
       "\n",
       "// Listen for the clearing of the current output cell\n",
       "var outputEl = gd.closest('.output');\n",
       "if (outputEl) {{\n",
       "    x.observe(outputEl, {childList: true});\n",
       "}}\n",
       "\n",
       "                        })                };                });            </script>        </div>"
      ]
     },
     "metadata": {},
     "output_type": "display_data"
    }
   ],
   "source": [
    "def temporal_chart_type(data, title_size, title_font, title_color,\n",
    "                        axes_size, axes_font, text_size, text_font,\n",
    "                        background_color, axes_color, panel_color):\n",
    "    data['timestamp'] = pd.to_datetime(data['timestamp'])\n",
    "    total_tweets_per_hour = data.groupby(data['timestamp'].dt.hour).size().reset_index(name='total')\n",
    "    tweets_per_hour = data.groupby([data['timestamp'].dt.hour, 'sexism_type']).size().reset_index(name='frequency')\n",
    "    tweets_per_hour = tweets_per_hour.merge(total_tweets_per_hour, on='timestamp')\n",
    "    tweets_per_hour['percentage'] = tweets_per_hour['frequency'] / tweets_per_hour['total'] * 100\n",
    "    #tweets_per_hour.sort_values(by='percentage', inplace=True)\n",
    "    colores = [ \"#c4d454\", \"#a08c88\", \"#fbd305\", \"#EEC3B9\", \"#418fde\"]\n",
    "\n",
    "    fig = px.area(tweets_per_hour, x='timestamp', y=\"percentage\", color='sexism_type',\n",
    "                  category_orders={\"sexism_type\": tweets_per_hour.groupby(\"sexism_type\")[\"percentage\"].sum().sort_values().index.tolist()},\n",
    "                 color_discrete_map={\n",
    "                      \"violent\": BLUE2,\n",
    "                      \"hate\": SALM,\n",
    "                      \"abuse\": YELL,\n",
    "                      \"sexually-explicit\": GREEN,\n",
    "                      \"profanities\": PURP\n",
    "                      # Agrega más colores y tipos de sexismo según sea necesario\n",
    "                  })\n",
    "    \n",
    "    fig.update_xaxes(\n",
    "        type='category',\n",
    "        title_font=dict(size=axes_size, family=axes_font, color=axes_color),\n",
    "        tickfont=dict(size=text_size, family=text_font, color=axes_color),\n",
    "    )\n",
    "    fig.update_yaxes(\n",
    "        title='%',\n",
    "        title_font=dict(size=axes_size, family=axes_font, color=axes_color),\n",
    "        tickfont=dict(size=text_size, family=text_font, color=axes_color),\n",
    "        tickformat=\".2f\"\n",
    "    )\n",
    "\n",
    "    # Personalize the graph\n",
    "    fig.update_layout(\n",
    "        title='Tweets Relative Percentage by Hour - Types of Sexism',\n",
    "        title_font=dict(size=title_size, family=title_font, color=title_color),\n",
    "        legend=dict(font=dict(size=text_size, family=text_font, color=title_color),\n",
    "                    title=\"Sexism Type\"),\n",
    "        plot_bgcolor=background_color,\n",
    "        paper_bgcolor=panel_color,\n",
    "        xaxis=dict(title='Hours'),\n",
    "\n",
    "    )\n",
    "    #fig.update_layout(\n",
    "    #    autosize=False,\n",
    "    #    width=600,\n",
    "    #    height=300,)\n",
    "    fig.show()\n",
    "\n",
    "temporal_chart_type(mexican_sexist_featured, title_size=20, title_font=font, title_color=BLCK,\n",
    "                    axes_size=14, axes_font=font, axes_color=BLCK,\n",
    "                    text_size=12, text_font=font, background_color='white', panel_color=\"white\")\n"
   ]
  },
  {
   "cell_type": "markdown",
   "id": "a2cba377-fcf5-4e85-b254-9186ad077e01",
   "metadata": {},
   "source": [
    "### Other models from the hub"
   ]
  },
  {
   "cell_type": "markdown",
   "id": "91f68d95-8421-45e4-b860-c63628e33bd8",
   "metadata": {},
   "source": [
    "Finally, we explore the performance of several fine-tuned models on the filtered sexist content from the Josefina model. These models, originally trained for different tasks, provide additional insights into the nature of the sexist tweets. Let's take a closer look at each model and its focus:\n",
    "\n",
    "- Cyberbullying Detection: The \"roberta-base-bne-finetuned-cyberbullying-spanish\" model specializes in identifying instances of cyberbullying in Spanish text.\n",
    "\n",
    "- Racism Detection: The \"datathon-against-racism\" model focuses on detecting racism in text.\n",
    "\n",
    "- Emotion Classification: The \"twitter-xlm-roberta-emotion-es\" model is designed to identify emotions expressed in Spanish text.\n",
    "\n",
    "- Sentiment Analysis: The \"roberta_bne_sentiment_analysis_es\" model enables us to determine the sentiment of the tweets, classifying them as either \"positive\" or \"negative.\"\n",
    "\n",
    "- Toxicity Detection: The \"distilbert-base-multilingual-cased-toxicity\" model helps us identify any toxic content within the filtered sexist tweets.\n",
    "\n",
    "- Contextualized Hate Speech Detection: The \"beto-contextualized-hate-speech\" model focuses on detecting hate speech in context.\n",
    "\n",
    "- Hate Speech Detection: The \"robertuito-hate-speech\" model is specifically trained to identify hate speech instances in text.\n",
    "\n",
    "- Irony Detection: The \"robertuito-irony\" model is trained to recognize instances of irony in text.\n",
    "\n",
    "The integration of these diverse fine-tuned models as feature extractors unlocks a powerful analytical approach to comprehensively understand the various facets of sexist content within the Mexican dataset. By leveraging models trained on tasks such as cyberbullying, racism, emotion, sentiment, toxicity, hate speech, and irony, we gain valuable insights into the different dimensions of the detected sexist tweets. This multifaceted analysis enables us to explore the underlying patterns in the data, providing a comprehensive view of the prevalent forms of sexism on social media. By harnessing the power of these models as feature extractors, we can develop effective strategies to address and combat sexism, ultimately fostering a safer and more inclusive online environment."
   ]
  },
  {
   "cell_type": "code",
   "execution_count": null,
   "id": "20b57820-8b19-4262-a157-b6c797e8b200",
   "metadata": {},
   "outputs": [],
   "source": [
    "models = [   \n",
    "    # cyberbulling\n",
    "    ## https://huggingface.co/JonatanGk/roberta-base-bne-finetuned-cyberbullying-spanish?text=Eres+muy+feo%21\n",
    "    {\n",
    "        \"model_name\": \"JonatanGk/roberta-base-bne-finetuned-cyberbullying-spanish\", \n",
    "        \"out_col\": \"cyberbulling\", \n",
    "        \"clean_label\": lambda x: \"-\".join(x.lower().split(\"_\"))\n",
    "    },\n",
    "\n",
    "    # racism\n",
    "    ## https://huggingface.co/jaumefib/datathon-against-racism?text=Ya+est%C3%A1n+detenidos+dos+rumanos+se%C3%B1alados+de+cometer+fraudes+bancarios.\n",
    "    {\n",
    "        \"model_name\": \"jaumefib/datathon-against-racism\", \n",
    "        \"out_col\": \"racist\", \n",
    "        \"clean_label\": lambda x: \"racist\" if int(x.split(\"_\")[1]) else \"non-racist\"\n",
    "    },\n",
    "\n",
    "    # emotion\n",
    "    ## https://huggingface.co/daveni/twitter-xlm-roberta-emotion-es\n",
    "    {\n",
    "        \"model_name\": \"daveni/twitter-xlm-roberta-emotion-es\", \n",
    "        \"out_col\": \"emotion\", \n",
    "    },  \n",
    "    \n",
    "    # positive-negative\n",
    "    ## https://huggingface.co/edumunozsala/roberta_bne_sentiment_analysis_es?text=Se+trata+de+una+pel%C3%ADcula+interesante%2C+con+un+solido+argumento+y+un+gran+interpretaci%C3%B3n+de+su+actor+principal\n",
    "    {\n",
    "        \"model_name\": \"edumunozsala/roberta_bne_sentiment_analysis_es\", \n",
    "        \"out_col\": \"sentiment\", \n",
    "        \"clean_label\": lambda x: \"positive\" if x == \"Positivo\" else \"negative\"\n",
    "    }, \n",
    "    \n",
    "    # toxicity\n",
    "    ## https://huggingface.co/citizenlab/distilbert-base-multilingual-cased-toxicity\n",
    "    {\n",
    "        \"model_name\": \"citizenlab/distilbert-base-multilingual-cased-toxicity\", \n",
    "        \"out_col\": \"toxic\", \n",
    "        \"clean_label\": lambda x: \"-\".join(x.split(\"_\"))\n",
    "    },   \n",
    "    \n",
    "    # contextualized hate speech\n",
    "    ## https://huggingface.co/piuba-bigdata/beto-contextualized-hate-speech/blob/main/README.md\n",
    "    {\n",
    "        \"model_name\": \"piuba-bigdata/beto-contextualized-hate-speech\", \n",
    "        \"out_col\": \"hate\", \n",
    "        \"clean_label\": lambda x: x.lower()\n",
    "    }, \n",
    "\n",
    "    # hate2\n",
    "    ## https://huggingface.co/pysentimiento/robertuito-hate-speech\n",
    "    {\n",
    "        \"model_name\": \"pysentimiento/robertuito-hate-speech\", \n",
    "        \"out_col\": \"hate2\"\n",
    "    },\n",
    "\n",
    "    # irony\n",
    "    ## https://huggingface.co/pysentimiento/robertuito-irony\n",
    "    {\n",
    "        \"model_name\": \"pysentimiento/robertuito-irony\", \n",
    "        \"out_col\": \"irony\", \n",
    "        \"clean_label\": lambda x: \"-\".join(x.lower().split(\" \"))\n",
    "    }\n",
    "]\n",
    "\n",
    "\n",
    "mexican_sexist_featured = llm_feature_extraction(mexican_sexist_featured, models, verbose=True)"
   ]
  },
  {
   "cell_type": "code",
   "execution_count": null,
   "id": "53594a48-c00e-4b67-be9d-8d84c0fd5377",
   "metadata": {},
   "outputs": [],
   "source": [
    "mexican_sexist_featured"
   ]
  },
  {
   "cell_type": "code",
   "execution_count": null,
   "id": "b10e4b96-ed87-493e-9938-a45dca873200",
   "metadata": {},
   "outputs": [],
   "source": [
    "mexican_sexist_featured.to_csv(f\"{EXTRACTED_DATA_PATH}/mexican_corpus_featured.tsv\", sep=\"\\t\", index=False)"
   ]
  },
  {
   "cell_type": "markdown",
   "id": "722bffcc-1bac-4417-84b0-e71b10f15677",
   "metadata": {},
   "source": [
    "#### Results"
   ]
  },
  {
   "cell_type": "markdown",
   "id": "06e976fc-358c-4623-a371-5124514b50f3",
   "metadata": {},
   "source": [
    "The results of the analysis are visualized through an interactive plot. The interactBarras function has been designed to create a dropdown menu that allows users to select different variables, representing different aspects of sexism, such as cyberbullying, racism, emotion, sentiment, toxicity, hate speech, hateful content, and irony. The plot displays the distribution of each variable across different sexism types. Each bar in the plot represents the percentage of tweets classified under a specific sexism type for a given variable.\n",
    "\n",
    "The plot is interactive, enabling users to explore the distribution of each variable by selecting it from the dropdown menu. As a user selects a variable, the plot dynamically updates to display the distribution of that variable across different sexism types. The plot is color-coded to distinguish between different values of the selected variable, providing a clear visual representation of the distribution.\n",
    "\n",
    "This interactivity facilitates a comprehensive understanding of the various dimensions of sexism within the Mexican dataset. Users can analyze the prevalence and distribution of different types of sexist content, gaining insights into the specific characteristics and patterns associated with each sexism type. Such visual analysis helps in identifying areas that require further attention and intervention, guiding the development of targeted strategies to address and combat sexism effectively."
   ]
  },
  {
   "cell_type": "code",
   "execution_count": 54,
   "id": "9410f243-826d-4359-bef1-ea42929676a6",
   "metadata": {
    "tags": []
   },
   "outputs": [
    {
     "data": {
      "application/vnd.jupyter.widget-view+json": {
       "model_id": "1741cba7b2554b6f94240d056e5bc9d8",
       "version_major": 2,
       "version_minor": 0
      },
      "text/plain": [
       "Dropdown(description='Variable:', options=('cyberbulling', 'racist', 'emotion', 'sentiment', 'toxic', 'hate', …"
      ]
     },
     "metadata": {},
     "output_type": "display_data"
    },
    {
     "data": {
      "application/vnd.jupyter.widget-view+json": {
       "model_id": "0e3643e1b7484703b2157348d4ccad92",
       "version_major": 2,
       "version_minor": 0
      },
      "text/plain": [
       "Output()"
      ]
     },
     "metadata": {},
     "output_type": "display_data"
    }
   ],
   "source": [
    "import plotly.express as px\n",
    "import pandas as pd\n",
    "import ipywidgets as widgets\n",
    "from IPython.display import display\n",
    "def interactBarras(data, font_family=font, font_size=12, include_average=False):\n",
    "    # Obtener la lista de variables\n",
    "    variables = [\"cyberbulling\", \"racist\", \"emotion\", \"sentiment\", \"toxic\", \"hate\", \"hate2\", \"irony\"]\n",
    "    names = [\"Cyber-bullying\", \"Racism\", \"Emotions\", \"Sentiment\", \"Toxicity\", \"Hate Speech\", \"Hateful\", \"Irony\"]\n",
    "\n",
    "    # Crear el desplegable\n",
    "    dropdown = widgets.Dropdown(options=variables, description='Variable:')\n",
    "\n",
    "    # Crear el contenedor para el gráfico\n",
    "    graph_container = widgets.Output()\n",
    "\n",
    "    # Función para actualizar el gráfico cuando se seleccione una nueva variable\n",
    "    def update_plot(variable):\n",
    "        df_counts = data.groupby('sexism_type')[variable].value_counts(normalize=True).mul(100).reset_index(name='percentage')\n",
    "        if include_average:\n",
    "            mean_df_counts = final_data.groupby('sexist')[variable].value_counts(normalize=True).mul(100).reset_index(name='percentage')\n",
    "            mean_df_counts.sexist = mean_df_counts.sexist.apply(lambda x: \"average\")\n",
    "            df_counts = pd.concat([mean_df_counts.rename(columns={\"sexist\":\"sexism_type\"}), df_counts], axis=0)\n",
    "        colores =  [BLUE, RED, YELL, GREEN, SALM, BLUE2, BRW, BLCK, PURP]\n",
    "        fig = px.bar(df_counts, y=\"sexism_type\", x=\"percentage\", \n",
    "                     color=variable,  color_discrete_sequence=colores)\n",
    "        fig.update_layout(\n",
    "            title=f'Distribution of {names[variables.index(variable)]} by Sexism Type',\n",
    "            title_font=dict(size=20, family=font_family, color='black'),\n",
    "            xaxis=dict(title=\"%\"),\n",
    "            yaxis=dict(title=None),\n",
    "            legend=dict(title=None),\n",
    "            font=dict(family=font_family, size=font_size),\n",
    "\n",
    "            plot_bgcolor='white'\n",
    "        )\n",
    "\n",
    "        with graph_container:\n",
    "            graph_container.clear_output(wait=True)\n",
    "            fig.show()\n",
    "\n",
    "    # Mostrar el desplegable y el gráfico inicial\n",
    "    display(dropdown)\n",
    "    display(graph_container)\n",
    "    update_plot(dropdown.value)\n",
    "\n",
    "    # Actualizar el gráfico cuando se seleccione una nueva variable\n",
    "    def dropdown_eventhandler(change):\n",
    "        update_plot(change.new)\n",
    "\n",
    "    dropdown.observe(dropdown_eventhandler, names='value')\n",
    "interactBarras(mexican_sexist_featured)"
   ]
  },
  {
   "cell_type": "markdown",
   "id": "abe7f8d3-e24c-4740-8d9c-9063059c67e8",
   "metadata": {},
   "source": [
    "Here we have some key findings:\n",
    "\n",
    "**Hate Speech**\n",
    "\n",
    "- The analysis of other models revealed that hate speech towards women is the predominant type of sexist content observed in the dataset. This finding aligns with the overall objective of identifying and addressing sexism on social media platforms.\n",
    "\n",
    "- Racism, while not as prevalent as hate speech towards women, displayed its peak in the \"profanities\" type of content. This suggests that racist remarks tend to be more explicit and offensive in nature.\n",
    "\n",
    "- The analysis also revealed that the category labeled as \"violent\" contains a higher proportion of hate speech towards the LGBT community compared to other categories. This finding highlights the specific targeting of this marginalized group within the context of sexist content.\n",
    "\n",
    "- Content related to appearance was found to be predominantly associated with sexually-explicit material. This indicates that discussions or comments about physical appearance often tend to have a sexual connotation.\n",
    "\n",
    "**Emotions**\n",
    "\n",
    "- Among the emotions detected in the sexist tweets, anger was the most frequently observed, reaching its maximum expression in the \"profanities\" type of content. This suggests that sexist remarks are often fueled by anger and hostility.\n",
    "\n",
    "- Interestingly, sexually-explicit tweets were also classified as containing joy more often than other types of content. This finding might indicate the presence of a certain level of humor or pleasure associated with such content, albeit in a sexist context.\n",
    "\n",
    "- The emotion of sadness appeared more prominently in the category labeled as \"abuse,\" suggesting that this type of content elicits feelings of distress and sorrow.\n",
    "\n",
    "**Cyberbullying**\n",
    "\n",
    "- Furthermore, the analysis revealed that the categories \"violent,\" \"sexually-explicit,\" and \"profanities\" showed a higher likelihood of containing cyberbullying-related content compared to the categories of \"hate\" and \"abuse.\" This finding emphasizes the interconnectedness between sexist content and online harassment.\n",
    "\n",
    "**Irony**\n",
    "\n",
    "- Additionally, the categories labeled as \"abuse\" and \"sexually-explicit\" were found to have the highest incidence of ironic content. This indicates that within these types of sexist content, ironic statements or expressions are frequently employed, adding a nuanced layer of meaning to the conveyed messages. The utilization of irony in these contexts may serve as a way to mask or downplay the severity of the abusive or sexually explicit language used, further emphasizing the need for comprehensive understanding and analysis of the content.\n",
    "\n",
    "These key findings shed light on the specific characteristics and patterns within different types of sexist content and provide valuable insights for understanding the nature and impact of sexism on social media platforms."
   ]
  }
 ],
 "metadata": {
  "kernelspec": {
   "display_name": "Python 3",
   "language": "python",
   "name": "python3"
  },
  "language_info": {
   "codemirror_mode": {
    "name": "ipython",
    "version": 3
   },
   "file_extension": ".py",
   "mimetype": "text/x-python",
   "name": "python",
   "nbconvert_exporter": "python",
   "pygments_lexer": "ipython3",
   "version": "3.8.16"
  }
 },
 "nbformat": 4,
 "nbformat_minor": 5
}
