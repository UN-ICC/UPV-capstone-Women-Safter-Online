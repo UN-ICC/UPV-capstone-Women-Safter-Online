{
 "cells": [
  {
   "cell_type": "markdown",
   "id": "fe641744-65c5-49df-8fab-73a769be03a1",
   "metadata": {},
   "source": [
    "# Sexism Data Collection and Preprocessing\n",
    "\n",
    "**Authors:** Álvaro D. Gómez Antón, Sabah Serhir Serhir, Elisa M. Ramos Monsoriu, Lautaro Paniati Altamirano, Estefania Solís Valverde, Alba Valverde Porcar\n",
    "\n",
    "<br></br>\n",
    "\n",
    "<div style=\"text-align: right\"><i>Explaining Online Sexism: Language Models and a Mexican Perspective</i></div>\n",
    "    \n",
    "<div style=\"text-align: right\">A Capstone Project by United Nations International Computing Centre (<a href=\"https://www.unicc.org/\">UNICC</a>) and Universitat Politècnica de València (<a href=\"https://www.upv.es/es\">UPV</a>) </div>\n",
    "\n",
    "---"
   ]
  },
  {
   "cell_type": "markdown",
   "id": "351e9106-0564-4e29-8623-5394b274b52c",
   "metadata": {},
   "source": [
    "In any Data Science project, the first step is to obtain a dataset to work with. In the case of VAWG, data has been collected from various sources to acquire a considerable number of texts labeled as either sexist or non-sexist.\n",
    "\n",
    "This Notebook outlines the processes that were followed to obtain the final dataset and presents the implemented functions that will be included in the `utils.data` module. Data preprocessing in this case consists of three phases:\n",
    "\n",
    "1. **Source Integration**: involves the homogenization and merging of all collected datasets to create a unified dataset.\n",
    "1. **Text Cleaning**: involves the removal of all characters that could negatively affect the model.\n",
    "1. **Specific Translation**: involves translating data from another language to Spanish. In our case, the data has been translated into Mexican Spanish using GPT-3.5 since the project focuses on Mexico. This decision was made because GPT-3.5 has the ability to adjust the text to sound more like Mexican Spanish, including more culturally specific expressions. Other translation tools such as DeepTL or Google Translate were not chosen because they do not have the same level of customization as GPT-3.5."
   ]
  },
  {
   "cell_type": "markdown",
   "id": "e149c689-c5b8-4f05-b755-04d75306d305",
   "metadata": {},
   "source": [
    "**Requiered libraries**"
   ]
  },
  {
   "cell_type": "code",
   "execution_count": 64,
   "id": "60b07f5c-e34b-4450-864d-b66873795a81",
   "metadata": {},
   "outputs": [],
   "source": [
    "# to handle text\n",
    "import re  # regexs\n",
    "import emoji  # emojis \n",
    "import string  # punctuation\n",
    "import unidecode  # accents\n",
    "\n",
    "# to manage data\n",
    "import collections  # additional data structures\n",
    "import pandas as pd  # efficient tabular data \n",
    "import numpy as np  # efficient arrays\n",
    "\n",
    "# to translate text\n",
    "import openai\n",
    "import tiktoken\n",
    "\n",
    "# misc\n",
    "import os\n",
    "import time\n",
    "import datetime as dt\n",
    "import scipy.stats as st\n",
    "from copy import deepcopy  # for copying deep dictionaries\n",
    "\n",
    "# support for type hints\n",
    "from typing import List, Dict, Tuple, Iterator, Union, Any, Optional "
   ]
  },
  {
   "cell_type": "markdown",
   "id": "0beb978b-e495-4040-a107-8005215c4645",
   "metadata": {},
   "source": [
    "**Some Helper functions**"
   ]
  },
  {
   "cell_type": "code",
   "execution_count": 9,
   "id": "6c0876d6-a3cf-44c4-879b-77bf0a924484",
   "metadata": {},
   "outputs": [],
   "source": [
    "def prettytime(t: int):\n",
    "    \"\"\"\n",
    "    Converts a given time in seconds to hh:mm:ss format.\n",
    "    \n",
    "    Args:\n",
    "        t (int): Time in seconds.\n",
    "    \n",
    "    Returns:\n",
    "        str: Time in hh:mm:ss format.\n",
    "    \"\"\"\n",
    "    hh, mm = divmod(t, 3600)\n",
    "    mm, ss = divmod(mm, 60)\n",
    "    hh, mm, ss = map(lambda x: str(int(x)), [hh, mm, ss])\n",
    "    return f'{hh.zfill(2)}:{mm.zfill(2)}:{ss.zfill(2)}'\n",
    "\n",
    "def timeinfo(func):\n",
    "    \"\"\"\n",
    "    Decorator that calculates the execution time of a function.\n",
    "    \n",
    "    Args:\n",
    "        func (function): Function to be decorated.\n",
    "    \n",
    "    Returns:\n",
    "        function: Decorated function.\n",
    "    \"\"\"\n",
    "    def timecalculator(*args, **kwargs):\n",
    "        t0 = time.time()\n",
    "        ans = func(*args, **kwargs)\n",
    "        t1 = time.time() \n",
    "        print(f'\\nAll work done in {prettytime(t1-t0)} ({round(t1-t0, 3)}s) :)')\n",
    "        return ans\n",
    "    return timecalculator"
   ]
  },
  {
   "cell_type": "markdown",
   "id": "3741439e-0cc1-4235-a6d4-182437b0d93b",
   "metadata": {},
   "source": [
    "## Data Sources"
   ]
  },
  {
   "cell_type": "code",
   "execution_count": 3,
   "id": "d7cf20fd-644a-4cb1-9190-70a93603ad10",
   "metadata": {},
   "outputs": [
    {
     "name": "stdout",
     "output_type": "stream",
     "text": [
      "Dataset: edos\n",
      "Shape: (20000, 6)\n",
      "Columns: ['rewire_id', 'text', 'label_sexist', 'label_category', 'label_vector', 'split']\n",
      "Sexism column values: ['not sexist' 'sexist']\n",
      "Sexism type values: ['none' '3. animosity' '2. derogation' '4. prejudiced discussions'\n",
      " '1. threats, plans to harm and incitement']\n"
     ]
    }
   ],
   "source": [
    "def print_data_source(df, dname, sexist_col, type_col=None):\n",
    "    print(f\"Dataset: {dname}\")\n",
    "    print(f\"Shape: {df.shape}\")\n",
    "    # show the columns\n",
    "    cols = df.columns\n",
    "    print(f\"Columns: {list(cols)}\")\n",
    "    # show the labels of the sexism column\n",
    "    sexist = df[sexist_col].unique()\n",
    "    print(f\"Sexism column values: {sexist}\")\n",
    "    # show the values of sexism type (if present else warn about it)\n",
    "    if type_col:\n",
    "        types = df[type_col].unique()\n",
    "        print(f\"Sexism type values: {types}\")\n",
    "    else:\n",
    "        print(\"No sexism types reported\")\n",
    "        \n",
    "d = pd.read_csv(\"../data/original/edos/edos_labelled_aggregated.csv\")        \n",
    "print_data_source(d, \"edos\", \"label_sexist\", \"label_category\")"
   ]
  },
  {
   "cell_type": "markdown",
   "id": "851ceeff-df87-4720-b4c1-aa6e05f5a580",
   "metadata": {
    "tags": []
   },
   "source": [
    "## Source Integration"
   ]
  },
  {
   "cell_type": "markdown",
   "id": "aca0685b-7ade-4dc8-9767-93713c467898",
   "metadata": {},
   "source": [
    "The first step is to merge all the datasets into one while taking into account the structural differences between them. For example, not all datasets have the same variable names, some have more variables, and others may lack variables that are of interest to us. It can be quite a mess.\n",
    "\n",
    "To carry out this integration, two functions have been defined:\n",
    "\n",
    "- `homogenize`: This function is used to convert a dataset's specific format (column names, variables, etc.) to a \"common\" format (same number of columns, order, names, etc.) so that they can be easily integrated by concatenating them.\n",
    "\n",
    "- `integrate`: This function concatenates the data and has been implemented to work with an \"integration schema.\" This schema allows for the reading, homogenization, and integration of all sources at once without having to call the functions manually for each dataset."
   ]
  },
  {
   "cell_type": "code",
   "execution_count": 29,
   "id": "e4777004-08ed-4198-8757-6fdf064d7d47",
   "metadata": {},
   "outputs": [],
   "source": [
    "label2int = lambda x, positive: 1 if x == positive else 0\n",
    "int2label = lambda x, positive, negative: positive if x else negative\n",
    "\n",
    "\n",
    "def homogenize(\n",
    "    \n",
    "        *datasets: List[pd.DataFrame],\n",
    "        common_columns = list,\n",
    "        column_mapping: Dict[Union[str, None], Union[str, list]] = {},\n",
    "        label_positive: Optional[Union[bool, str]] = None,\n",
    "        target_column: Optional[str] = None,\n",
    "        constant_columns: Optional[Tuple[str, str]] = None,\n",
    "    \n",
    "    ) -> pd.DataFrame:\n",
    "    \"\"\"\n",
    "    Homogenize the format of multiple data sources into a common format.\n",
    "\n",
    "    PARAMETERS: \n",
    "        - datasets: A list of DataFrame objects to homogenize (expecting \n",
    "            the same format across datasets). The starred expression \n",
    "            allows passing multiple pandas.DataFrame objects directly.\n",
    "        - common_columns: A list of column names that should be present in the \n",
    "            final homogenized data.\n",
    "        - column_mapping: A dictionary specifying how to map actual column \n",
    "            names to the required common column names if they are different.\n",
    "        - label_positive: The positive label to consider when converting the \n",
    "            target column to an integer (if needed).\n",
    "        - target_column: The name of the target column to be converted to an \n",
    "            integer (if needed).\n",
    "        - constant_columns: A tuple specifying source-specific constant \n",
    "            columns to be added to the homogenized DataFrame. It should contain \n",
    "            pairs of column names and their corresponding constant values.\n",
    "    \n",
    "    RETURNS: The homogenized data as a pandas DataFrame with the specified \n",
    "        common columns.\n",
    "    \"\"\"\n",
    "\n",
    "    if len(datasets) == 1:\n",
    "        aux = datasets[0].copy()\n",
    "    else: \n",
    "        aux = pd.concat(datasets, ignore_index=True)\n",
    "\n",
    "    # some relevant variables\n",
    "    len_df = len(aux)\n",
    "\n",
    "    # renaming columns to common names\n",
    "    aux = aux.rename(columns=column_mapping) \n",
    "\n",
    "    # astype target column to int if needed\n",
    "    if label_positive:\n",
    "\n",
    "        # if its boolean, astyping directly more efficient\n",
    "        if isinstance(label_positive, bool): \n",
    "            aux[target_column] = aux[target_column].astype(int)\n",
    "\n",
    "        # if its string, conventional label to int\n",
    "        elif isinstance(label_positive, str): \n",
    "            aux[target_column] = aux[target_column].apply(label2int, positive=label_positive)\n",
    "\n",
    "    # add source specific constant columns        \n",
    "    for colname, value in constant_columns:\n",
    "        aux[colname] = [value] * len_df\n",
    "\n",
    "    # select common columns\n",
    "    aux = aux.loc[:, common_columns]\n",
    "\n",
    "    return aux\n",
    "\n",
    "\n",
    "def homogenize_column(df: pd.DataFrame, column: str, values_mapping: dict):\n",
    "    df = df.copy()\n",
    "    for new, actual in values_mapping.items():\n",
    "        df[column] = df[column].apply(lambda x: new if x in actual else x)\n",
    "    return df\n",
    "\n",
    "\n",
    "def print_integration_schema_template():\n",
    "    print(\"\"\"\n",
    "    schema = {\n",
    "     <data_source1_folder_name_in_original_data_path>: {\n",
    "         \"read\": {\n",
    "             \"files\" : [\n",
    "                 <relative_filename1>,\n",
    "                 <relative_filename2>,\n",
    "                 ...\n",
    "             ],\n",
    "             \"kwargs\": {\n",
    "                 <pandas_read_csv_kwarg1>: value_kwarg1,\n",
    "                 <pandas_read_csv_kwarg2>: value_kwarg2,\n",
    "                 ...\n",
    "             } (if needed)                   \n",
    "         },\n",
    "         \"homogenize\": {\n",
    "             \"column_mapping\": {\n",
    "                 <actual_column_name1_in_data_source>: <required_common_column_name1>, (if different)\n",
    "                 <actual_column_name2_in_data_source>: <required_common_column_name2>, (if different)\n",
    "                 ... \n",
    "             },\n",
    "             \"label_positive\": value (if needed)\n",
    "             \"constant_columns\": [\n",
    "                 (<required_common_column1_not_in_source>, None),\n",
    "                 (<required_common_column2_not_in_source>, None),\n",
    "                 ...\n",
    "                 (<col_name1>, <const_value1>), \n",
    "                 (<col_name2>, <const_value2>), \n",
    "                 ...\n",
    "             ]\n",
    "         }\n",
    "     },\n",
    "     <data_source2_folder_name_in_original_data_path>: {\n",
    "         ...\n",
    "     }\n",
    "    }\n",
    "    \"\"\")\n",
    "    \n",
    "    \n",
    "IntegrationSchemaType = Dict[str, Dict[str, Dict[str, Union[str, bool, List[str], Dict[str, str]]]]]\n",
    "@timeinfo\n",
    "def integrate(\n",
    "    \n",
    "    schema: IntegrationSchemaType,\n",
    "    target_col: str,\n",
    "    common_columns: List[str],\n",
    "    extras: Optional[List[Tuple[Callable, str]]] = None,\n",
    "    original_data_path: Optional[str] = \".\",\n",
    "    save: bool = False,\n",
    "    save_data_path: Optional[str] = \".\"\n",
    "    \n",
    ") -> pd.DataFrame:\n",
    "    \"\"\"\n",
    "    Homogenize and integrate all the data sources specified in the integration \n",
    "    schema.\n",
    "\n",
    "    PARAMETERS:\n",
    "        - schema: Integration schema specifying the data sources and their \n",
    "            corresponding parameters. Further explained below.\n",
    "        - target_col: Name of the target column for the integrated data.\n",
    "        - common_columns: List of common columns across all data sources.\n",
    "        - extras: Optional list of additional functions to apply on the \n",
    "            integrated data. Callables must take as first positional input\n",
    "            a pandas.DataFrame and must return another one. \n",
    "        - original_data_path: Optional path to the original data folder.\n",
    "        - save: Flag indicating whether to save the integrated data.\n",
    "        - save_data_path: Optional path to save the integrated data.\n",
    "\n",
    "    RETURNS: Integrated homogenized data.\n",
    "    \n",
    "    The integration schema is a dictionary that specifies the\n",
    "    configuration for integrating multiple data sources. \n",
    "    It consists of key-value pairs, where each key represents \n",
    "    a data source folder name in the original data path.\n",
    "\n",
    "    For each data source, the schema contains two sub-dictionaries: \n",
    "    \"read\" and \"homogenize\". The \"read\" dictionary specifies the \n",
    "    parameters to be used when reading the files within the data \n",
    "    source folder using pandas.read_csv. It includes a \"files\" key, \n",
    "    which holds a list of relative filenames to be read. \n",
    "    Additionally, it may contain a \"kwargs\" key that allows for \n",
    "    specifying additional keyword arguments required for reading the files.\n",
    "\n",
    "    The \"homogenize\" dictionary corresponds to the keyword arguments \n",
    "    used for the data homogenization process. It includes a \"column_mapping\" \n",
    "    key, which maps the actual column names in the data source to the \n",
    "    required common column names for integration. If any column names differ \n",
    "    between the data source and the common columns, they should be specified \n",
    "    in the mapping.\n",
    "\n",
    "    If necessary, the \"homogenize\" dictionary can also include a \n",
    "    \"label_positive\" key, which defines the positive label value for the \n",
    "    target column. Moreover, there is a \"constant_columns\" key, which is \n",
    "    a list of tuples specifying the required common columns that are not \n",
    "    present in the data source. These tuples consist of the column name and \n",
    "    either None or a constant value for that column.\n",
    "\n",
    "    To create an integration schema template, you can use the \n",
    "    print_integration_schema_template() function, which prints a sample \n",
    "    schema structure. You can replace the \n",
    "    <data_source1_folder_name_in_original_data_path> with the actual \n",
    "    folder name and follow the same structure for other data sources \n",
    "    in the schema.\n",
    "    \n",
    "    \"\"\"\n",
    "    buffer = []  # Buffer to store data sources homogenized\n",
    "\n",
    "    for dataset_name_, kwargs in schema.items():\n",
    "        # Prevent different naming for multilingual cases\n",
    "        folder_name = dataset_name_.split(\"_\")[0]  \n",
    "        folder_path = f\"{original_data_path}/{folder_name}/\"\n",
    "\n",
    "        # Read data files contained in each data source\n",
    "        kwargs_read = kwargs[\"read\"].get(\"kwargs\", {})\n",
    "        datasets = [ pd.read_csv(folder_path + file, **kwargs_read) \n",
    "                     for file in kwargs[\"read\"][\"files\"] ]\n",
    "\n",
    "        # Homogenize data source\n",
    "        if \"constant_columns\" in kwargs['homogenize']:\n",
    "            kwargs['homogenize'][\"constant_columns\"].append((\"dataset\", folder_name))\n",
    "        else:\n",
    "            kwargs['homogenize'][\"constant_columns\"] = [(\"dataset\", folder_name)]\n",
    "\n",
    "        homogenized = homogenize(*datasets,\n",
    "                                 **kwargs['homogenize'],\n",
    "                                 common_columns=common_columns,\n",
    "                                 target_column=target_col)\n",
    "\n",
    "        buffer.append(homogenized)\n",
    "\n",
    "    # Concatenate all homogenized data sources stored in the buffer\n",
    "    integrated = pd.concat(buffer, axis=0).reset_index(drop=True)\n",
    "\n",
    "    # Apply additional functions on the integrated data\n",
    "    if extras:\n",
    "        for func, kwargs in extras:\n",
    "            integrated = func(integrated, **kwargs)\n",
    "\n",
    "    # Save results if specified\n",
    "    if save:\n",
    "        path = f\"{save_data_path}/integrated_data.csv\"\n",
    "        integrated.to_csv(path, sep=\";\")\n",
    "        print(f\"Data correctly integrated and saved in \\033[1m'{path}'\\033[0m\")\n",
    "\n",
    "    return integrated\n"
   ]
  },
  {
   "cell_type": "markdown",
   "id": "5cff9a55-b2db-44d5-b436-a93af606ad21",
   "metadata": {},
   "source": [
    "**Custom Specification**\n",
    "\n",
    "The next step is to define the variables required for reading and saving the data:"
   ]
  },
  {
   "cell_type": "code",
   "execution_count": 5,
   "id": "d7c7d659-6f22-4951-af1c-2a4b312e4237",
   "metadata": {},
   "outputs": [],
   "source": [
    "# contiene las carpetas de cada fuente de datos con sus respectivos ficheros\n",
    "ORIGINAL_DATA_PATH = \"../data/original\"\n",
    "\n",
    "# servirá para guardar los nuevos conjuntos de datos derivados de los anteriores\n",
    "TRANSFORMED_DATA_PATH = \"../data/transformed2\""
   ]
  },
  {
   "cell_type": "markdown",
   "id": "42bb73d9-d157-475f-bf1a-40bbeb928b16",
   "metadata": {},
   "source": [
    "To define the integration schema, all we need to do is follow the template for each data source:"
   ]
  },
  {
   "cell_type": "code",
   "execution_count": 30,
   "id": "7879a3e1-5699-49a3-99e5-980b3a3b3060",
   "metadata": {},
   "outputs": [
    {
     "name": "stdout",
     "output_type": "stream",
     "text": [
      "\n",
      "    schema = {\n",
      "     <data_source1_folder_name_in_original_data_path>: {\n",
      "         \"read\": {\n",
      "             \"files\" : [\n",
      "                 <relative_filename1>,\n",
      "                 <relative_filename2>,\n",
      "                 ...\n",
      "             ],\n",
      "             \"kwargs\": {\n",
      "                 <pandas_read_csv_kwarg1>: value_kwarg1,\n",
      "                 <pandas_read_csv_kwarg2>: value_kwarg2,\n",
      "                 ...\n",
      "             } (if needed)                   \n",
      "         },\n",
      "         \"homogenize\": {\n",
      "             \"column_mapping\": {\n",
      "                 <actual_column_name1_in_data_source>: <required_common_column_name1>, (if different)\n",
      "                 <actual_column_name2_in_data_source>: <required_common_column_name2>, (if different)\n",
      "                 ... \n",
      "             },\n",
      "             \"label_positive\": value (if needed)\n",
      "             \"constant_columns\": [\n",
      "                 (<required_common_column1_not_in_source>, None),\n",
      "                 (<required_common_column2_not_in_source>, None),\n",
      "                 ...\n",
      "                 (<col_name1>, <const_value1>), \n",
      "                 (<col_name2>, <const_value2>), \n",
      "                 ...\n",
      "             ]\n",
      "         }\n",
      "     },\n",
      "     <data_source2_folder_name_in_original_data_path>: {\n",
      "         ...\n",
      "     }\n",
      "    }\n",
      "    \n"
     ]
    }
   ],
   "source": [
    "print_integration_schema_template()"
   ]
  },
  {
   "cell_type": "code",
   "execution_count": 27,
   "id": "fc08deb0-1a3f-4010-865b-91ca95f5642f",
   "metadata": {},
   "outputs": [],
   "source": [
    "INTEGRATION_SCHEMA = {\n",
    "    \n",
    "    \"callme\": {\n",
    "        \"read\": {\n",
    "            \"files\": [\n",
    "                \"sexism_data.csv\"\n",
    "            ]\n",
    "        },\n",
    "        \"homogenize\": {\n",
    "            \"column_mapping\": {\n",
    "                \"id\": \"original_id\",  \n",
    "            },\n",
    "            \"label_positive\": True,\n",
    "            \"constant_columns\": [\n",
    "                (\"type\", None), \n",
    "                (\"language\", \"en\")\n",
    "            ]\n",
    "        }\n",
    "    },\n",
    "    \n",
    "    \"edos\": {\n",
    "        \"read\": {\n",
    "            \"files\": [\n",
    "                \"edos_labelled_aggregated.csv\"\n",
    "            ]\n",
    "        },\n",
    "        \"homogenize\": {\n",
    "            \"column_mapping\": {\n",
    "                \"rewire_id\": \"original_id\",\n",
    "                \"label_sexist\": \"sexist\",\n",
    "                \"label_category\": \"type\",\n",
    "            },\n",
    "            \"label_positive\": \"sexist\",\n",
    "            \"constant_columns\": [\n",
    "                (\"language\", \"en\")\n",
    "            ]\n",
    "        }\n",
    "    },\n",
    "    \n",
    "    \"evalita\": {\n",
    "        \"read\": {\n",
    "            \"files\": [\n",
    "                \"en_training.tsv\", \n",
    "                \"en_testing.tsv\"\n",
    "            ],\n",
    "            \"kwargs\": {\n",
    "                \"sep\": \"\\t\"\n",
    "            }\n",
    "        },\n",
    "        \"homogenize\": {\n",
    "            \"column_mapping\": {\n",
    "                \"id\": \"original_id\", \n",
    "                \"misogynous\": \"sexist\",\n",
    "                \"misogyny_category\": \"type\"\n",
    "            },\n",
    "            \"constant_columns\": [\n",
    "                (\"language\", \"en\")\n",
    "            ]\n",
    "        }\n",
    "    },\n",
    "    \n",
    "    \"exist\": {\n",
    "        \"read\": {\n",
    "            \"files\": [\n",
    "                \"EXIST2021_training.tsv\", \n",
    "                \"EXIST2021_test_labeled.tsv\"\n",
    "            ],\n",
    "            \"kwargs\": {\n",
    "                \"sep\": \"\\t\"\n",
    "            }\n",
    "        },\n",
    "        \"homogenize\": {\n",
    "            \"column_mapping\": {\n",
    "                \"id\": \"original_id\", \n",
    "                \"task1\": \"sexist\",\n",
    "                \"task2\": \"type\",\n",
    "            },\n",
    "            \"label_positive\": \"sexist\",\n",
    "        }\n",
    "    },\n",
    "    \n",
    "    \"ibereval_en\": {\n",
    "        \"read\": {\n",
    "            \"files\": [\n",
    "                \"en_AMI_TrainingSet_NEW.csv\"\n",
    "            ],\n",
    "            \"kwargs\": {\n",
    "                \"sep\": \";\"\n",
    "            }\n",
    "        },\n",
    "        \"homogenize\": {\n",
    "            \"column_mapping\": {\n",
    "                \"id\": \"original_id\", \n",
    "                \"tweet\": \"text\", \n",
    "                \"misogynous\": \"sexist\",\n",
    "                \"misogyny_category\": \"type\"\n",
    "            },\n",
    "            \"constant_columns\": [\n",
    "                (\"language\", \"en\")\n",
    "            ]\n",
    "        }\n",
    "    },\n",
    "    \n",
    "    \"ibereval_es\": {\n",
    "        \"read\": {\n",
    "            \"files\": [\n",
    "                \"es_AMI_TrainingSet_NEW.csv\"\n",
    "            ],\n",
    "            \"kwargs\": {\n",
    "                \"sep\": \";\"\n",
    "            }\n",
    "        },\n",
    "        \"homogenize\": {\n",
    "            \"column_mapping\": {\n",
    "                \"id\": \"original_id\", \n",
    "                \"tweet\": \"text\", \n",
    "                \"misogynous\": \"sexist\",\n",
    "                \"misogyny_category\": \"type\"\n",
    "            },\n",
    "            \"constant_columns\": [\n",
    "                (\"language\", \"es\")\n",
    "            ]\n",
    "        }\n",
    "    },\n",
    "    \n",
    "    \"metwo\": {\n",
    "        \"read\": {\n",
    "            \"files\": [\n",
    "                \"targetResultFile_full2.csv\"\n",
    "            ],\n",
    "            \"kwargs\": {\n",
    "                \"sep\": \";\", \n",
    "                \"names\": [\n",
    "                    \"original_id\", \n",
    "                    \"text\", \n",
    "                    \"sexist\"\n",
    "                ]\n",
    "            }\n",
    "        },\n",
    "        \"homogenize\": {\n",
    "            \"label_positive\": \"SEXIST\",\n",
    "            \"constant_columns\": [\n",
    "                (\"type\", None), \n",
    "                (\"language\", \"es\")\n",
    "            ]\n",
    "        }\n",
    "    }\n",
    "}"
   ]
  },
  {
   "cell_type": "code",
   "execution_count": 72,
   "id": "d7e57625-7baa-44cc-88a0-c77f0700b2df",
   "metadata": {},
   "outputs": [],
   "source": [
    "import json\n",
    "\n",
    "with open(f\"{ORIGINAL_DATA_PATH}/integration_schema.json\", \"w+\", encoding='utf-8') as f:\n",
    "    json.dump(INTEGRATION_SCHEMA, f, indent=4, ensure_ascii=True)"
   ]
  },
  {
   "cell_type": "markdown",
   "id": "5eea564c-5aff-4ce9-b4d5-543a1e994f93",
   "metadata": {},
   "source": [
    "With the integration schema properly defined, all that's left is to call the `integrate` method."
   ]
  },
  {
   "cell_type": "code",
   "execution_count": 23,
   "id": "29bde07f-a3f7-4922-8aeb-95cb9fcdebbe",
   "metadata": {
    "tags": []
   },
   "outputs": [
    {
     "name": "stdout",
     "output_type": "stream",
     "text": [
      "Data correctly integrated and saved in \u001b[1m'../data/transformed/integrated_data.csv'\u001b[0m\n",
      "\n",
      "All work done in 00:00:02 (2.008s) :)\n"
     ]
    },
    {
     "data": {
      "text/html": [
       "<div>\n",
       "<style scoped>\n",
       "    .dataframe tbody tr th:only-of-type {\n",
       "        vertical-align: middle;\n",
       "    }\n",
       "\n",
       "    .dataframe tbody tr th {\n",
       "        vertical-align: top;\n",
       "    }\n",
       "\n",
       "    .dataframe thead th {\n",
       "        text-align: right;\n",
       "    }\n",
       "</style>\n",
       "<table border=\"1\" class=\"dataframe\">\n",
       "  <thead>\n",
       "    <tr style=\"text-align: right;\">\n",
       "      <th></th>\n",
       "      <th>original_id</th>\n",
       "      <th>text</th>\n",
       "      <th>sexist</th>\n",
       "      <th>type</th>\n",
       "      <th>language</th>\n",
       "      <th>dataset</th>\n",
       "    </tr>\n",
       "  </thead>\n",
       "  <tbody>\n",
       "    <tr>\n",
       "      <th>0</th>\n",
       "      <td>0</td>\n",
       "      <td>MENTION3481 i didn't even know random was an o...</td>\n",
       "      <td>0</td>\n",
       "      <td>non-sexist</td>\n",
       "      <td>en</td>\n",
       "      <td>callme</td>\n",
       "    </tr>\n",
       "    <tr>\n",
       "      <th>1</th>\n",
       "      <td>1</td>\n",
       "      <td>Bottom two should've gone!  #mkr</td>\n",
       "      <td>0</td>\n",
       "      <td>non-sexist</td>\n",
       "      <td>en</td>\n",
       "      <td>callme</td>\n",
       "    </tr>\n",
       "    <tr>\n",
       "      <th>2</th>\n",
       "      <td>2</td>\n",
       "      <td>MENTION3111 MENTION3424 ladyboner deserves so ...</td>\n",
       "      <td>0</td>\n",
       "      <td>non-sexist</td>\n",
       "      <td>en</td>\n",
       "      <td>callme</td>\n",
       "    </tr>\n",
       "    <tr>\n",
       "      <th>3</th>\n",
       "      <td>3</td>\n",
       "      <td>She shall now be known as Sourpuss #MKR #KatAn...</td>\n",
       "      <td>0</td>\n",
       "      <td>non-sexist</td>\n",
       "      <td>en</td>\n",
       "      <td>callme</td>\n",
       "    </tr>\n",
       "    <tr>\n",
       "      <th>4</th>\n",
       "      <td>4</td>\n",
       "      <td>Tarah W threw a bunch of women under the bus s...</td>\n",
       "      <td>0</td>\n",
       "      <td>non-sexist</td>\n",
       "      <td>en</td>\n",
       "      <td>callme</td>\n",
       "    </tr>\n",
       "    <tr>\n",
       "      <th>...</th>\n",
       "      <td>...</td>\n",
       "      <td>...</td>\n",
       "      <td>...</td>\n",
       "      <td>...</td>\n",
       "      <td>...</td>\n",
       "      <td>...</td>\n",
       "    </tr>\n",
       "    <tr>\n",
       "      <th>59000</th>\n",
       "      <td>1047687262455177217</td>\n",
       "      <td>Yo no puedo darte luz todos los días, pero si ...</td>\n",
       "      <td>0</td>\n",
       "      <td>non-sexist</td>\n",
       "      <td>es</td>\n",
       "      <td>metwo</td>\n",
       "    </tr>\n",
       "    <tr>\n",
       "      <th>59001</th>\n",
       "      <td>1064482731739045888</td>\n",
       "      <td>Que bien! Aunque digan que las mujeres no debe...</td>\n",
       "      <td>0</td>\n",
       "      <td>non-sexist</td>\n",
       "      <td>es</td>\n",
       "      <td>metwo</td>\n",
       "    </tr>\n",
       "    <tr>\n",
       "      <th>59002</th>\n",
       "      <td>1040584804536856577</td>\n",
       "      <td>@AriOrsingher Y misoginia las pelotas no quier...</td>\n",
       "      <td>0</td>\n",
       "      <td>non-sexist</td>\n",
       "      <td>es</td>\n",
       "      <td>metwo</td>\n",
       "    </tr>\n",
       "    <tr>\n",
       "      <th>59003</th>\n",
       "      <td>1051458429280235520</td>\n",
       "      <td>\"Imaginen el tipo de sociedad mojigata y castr...</td>\n",
       "      <td>0</td>\n",
       "      <td>non-sexist</td>\n",
       "      <td>es</td>\n",
       "      <td>metwo</td>\n",
       "    </tr>\n",
       "    <tr>\n",
       "      <th>59004</th>\n",
       "      <td>1020717495605489673</td>\n",
       "      <td>@SenadoraBlas por favor pase a la historia com...</td>\n",
       "      <td>0</td>\n",
       "      <td>non-sexist</td>\n",
       "      <td>es</td>\n",
       "      <td>metwo</td>\n",
       "    </tr>\n",
       "  </tbody>\n",
       "</table>\n",
       "<p>59005 rows × 6 columns</p>\n",
       "</div>"
      ],
      "text/plain": [
       "               original_id                                               text  \\\n",
       "0                        0  MENTION3481 i didn't even know random was an o...   \n",
       "1                        1                   Bottom two should've gone!  #mkr   \n",
       "2                        2  MENTION3111 MENTION3424 ladyboner deserves so ...   \n",
       "3                        3  She shall now be known as Sourpuss #MKR #KatAn...   \n",
       "4                        4  Tarah W threw a bunch of women under the bus s...   \n",
       "...                    ...                                                ...   \n",
       "59000  1047687262455177217  Yo no puedo darte luz todos los días, pero si ...   \n",
       "59001  1064482731739045888  Que bien! Aunque digan que las mujeres no debe...   \n",
       "59002  1040584804536856577  @AriOrsingher Y misoginia las pelotas no quier...   \n",
       "59003  1051458429280235520  \"Imaginen el tipo de sociedad mojigata y castr...   \n",
       "59004  1020717495605489673  @SenadoraBlas por favor pase a la historia com...   \n",
       "\n",
       "       sexist        type language dataset  \n",
       "0           0  non-sexist       en  callme  \n",
       "1           0  non-sexist       en  callme  \n",
       "2           0  non-sexist       en  callme  \n",
       "3           0  non-sexist       en  callme  \n",
       "4           0  non-sexist       en  callme  \n",
       "...       ...         ...      ...     ...  \n",
       "59000       0  non-sexist       es   metwo  \n",
       "59001       0  non-sexist       es   metwo  \n",
       "59002       0  non-sexist       es   metwo  \n",
       "59003       0  non-sexist       es   metwo  \n",
       "59004       0  non-sexist       es   metwo  \n",
       "\n",
       "[59005 rows x 6 columns]"
      ]
     },
     "execution_count": 23,
     "metadata": {},
     "output_type": "execute_result"
    }
   ],
   "source": [
    "homogenize_col_kwargs = {\n",
    "    \"column\": \"type\", \n",
    "    \"values_mapping\": {\n",
    "        \"abuse\": ['dominance', 'stereotyping-dominance', 'derailing'],\n",
    "        'hate': ['2. derogation', '3. animosity', '4. prejudiced discussions', 'ideological-inequality'],\n",
    "        'profanities': ['stereotype', 'misogyny-non-sexual-violence', 'discredit'],\n",
    "        'violent': ['misogyny-non-sexual-violence', '1. threats, plans to harm and incitement', 'sexual-violence'],\n",
    "        'sexually-explicit': ['sexual_harassment', 'objectification'],\n",
    "        'non-sexist': [None, 'none', '0', 'NaN', np.nan]\n",
    "    }\n",
    "}\n",
    "integrated_data = integrate(INTEGRATION_SCHEMA,\n",
    "                            target_col=\"sexist\",\n",
    "                            common_columns=[\"original_id\", \"text\", \"sexist\", \"type\", \"language\", \"dataset\"],\n",
    "                            extras=[(homogenize_column, homogenize_col_kwargs)],\n",
    "                            original_data_path=ORIGINAL_DATA_PATH, \n",
    "                            save=True, \n",
    "                            save_data_path=TRANSFORMED_DATA_PATH)\n",
    "integrated_data"
   ]
  },
  {
   "cell_type": "code",
   "execution_count": 11,
   "id": "c65488b9-cd5d-4009-b9f5-76ba6be369b4",
   "metadata": {},
   "outputs": [
    {
     "name": "stdout",
     "output_type": "stream",
     "text": [
      "Dataset: integrated\n",
      "Shape: (59005, 6)\n",
      "Columns: ['original_id', 'text', 'sexist', 'type', 'language', 'dataset']\n",
      "Sexism column values: [0 1]\n",
      "Sexism type values: ['non-sexist' 'hate' 'violent' 'abuse' 'sexually-explicit' 'profanities']\n"
     ]
    }
   ],
   "source": [
    "print_data_source(integrated_data, \"integrated\", \"sexist\", \"type\")"
   ]
  },
  {
   "cell_type": "markdown",
   "id": "7cc97560-e3f7-44ce-a0bf-a47afcd3456d",
   "metadata": {},
   "source": [
    "And some relevant proportions and counts..."
   ]
  },
  {
   "cell_type": "code",
   "execution_count": 39,
   "id": "c2c75b52-ac1c-431c-928d-63fcbb7675e9",
   "metadata": {},
   "outputs": [
    {
     "data": {
      "application/vnd.plotly.v1+json": {
       "config": {
        "plotlyServerURL": "https://plot.ly"
       },
       "data": [
        {
         "hole": 0.4,
         "labels": [
          "non-sexist",
          "sexist"
         ],
         "marker": {
          "colors": [
           "#418fde",
           "#ea544d"
          ]
         },
         "textposition": "inside",
         "type": "pie",
         "values": [
          68.5331751546479,
          31.466824845352086
         ]
        }
       ],
       "layout": {
        "autosize": true,
        "legend": {
         "font": {
          "color": "#3c4444",
          "family": "Calibri"
         }
        },
        "plot_bgcolor": "white",
        "template": {
         "data": {
          "bar": [
           {
            "error_x": {
             "color": "#2a3f5f"
            },
            "error_y": {
             "color": "#2a3f5f"
            },
            "marker": {
             "line": {
              "color": "#E5ECF6",
              "width": 0.5
             },
             "pattern": {
              "fillmode": "overlay",
              "size": 10,
              "solidity": 0.2
             }
            },
            "type": "bar"
           }
          ],
          "barpolar": [
           {
            "marker": {
             "line": {
              "color": "#E5ECF6",
              "width": 0.5
             },
             "pattern": {
              "fillmode": "overlay",
              "size": 10,
              "solidity": 0.2
             }
            },
            "type": "barpolar"
           }
          ],
          "carpet": [
           {
            "aaxis": {
             "endlinecolor": "#2a3f5f",
             "gridcolor": "white",
             "linecolor": "white",
             "minorgridcolor": "white",
             "startlinecolor": "#2a3f5f"
            },
            "baxis": {
             "endlinecolor": "#2a3f5f",
             "gridcolor": "white",
             "linecolor": "white",
             "minorgridcolor": "white",
             "startlinecolor": "#2a3f5f"
            },
            "type": "carpet"
           }
          ],
          "choropleth": [
           {
            "colorbar": {
             "outlinewidth": 0,
             "ticks": ""
            },
            "type": "choropleth"
           }
          ],
          "contour": [
           {
            "colorbar": {
             "outlinewidth": 0,
             "ticks": ""
            },
            "colorscale": [
             [
              0,
              "#0d0887"
             ],
             [
              0.1111111111111111,
              "#46039f"
             ],
             [
              0.2222222222222222,
              "#7201a8"
             ],
             [
              0.3333333333333333,
              "#9c179e"
             ],
             [
              0.4444444444444444,
              "#bd3786"
             ],
             [
              0.5555555555555556,
              "#d8576b"
             ],
             [
              0.6666666666666666,
              "#ed7953"
             ],
             [
              0.7777777777777778,
              "#fb9f3a"
             ],
             [
              0.8888888888888888,
              "#fdca26"
             ],
             [
              1,
              "#f0f921"
             ]
            ],
            "type": "contour"
           }
          ],
          "contourcarpet": [
           {
            "colorbar": {
             "outlinewidth": 0,
             "ticks": ""
            },
            "type": "contourcarpet"
           }
          ],
          "heatmap": [
           {
            "colorbar": {
             "outlinewidth": 0,
             "ticks": ""
            },
            "colorscale": [
             [
              0,
              "#0d0887"
             ],
             [
              0.1111111111111111,
              "#46039f"
             ],
             [
              0.2222222222222222,
              "#7201a8"
             ],
             [
              0.3333333333333333,
              "#9c179e"
             ],
             [
              0.4444444444444444,
              "#bd3786"
             ],
             [
              0.5555555555555556,
              "#d8576b"
             ],
             [
              0.6666666666666666,
              "#ed7953"
             ],
             [
              0.7777777777777778,
              "#fb9f3a"
             ],
             [
              0.8888888888888888,
              "#fdca26"
             ],
             [
              1,
              "#f0f921"
             ]
            ],
            "type": "heatmap"
           }
          ],
          "heatmapgl": [
           {
            "colorbar": {
             "outlinewidth": 0,
             "ticks": ""
            },
            "colorscale": [
             [
              0,
              "#0d0887"
             ],
             [
              0.1111111111111111,
              "#46039f"
             ],
             [
              0.2222222222222222,
              "#7201a8"
             ],
             [
              0.3333333333333333,
              "#9c179e"
             ],
             [
              0.4444444444444444,
              "#bd3786"
             ],
             [
              0.5555555555555556,
              "#d8576b"
             ],
             [
              0.6666666666666666,
              "#ed7953"
             ],
             [
              0.7777777777777778,
              "#fb9f3a"
             ],
             [
              0.8888888888888888,
              "#fdca26"
             ],
             [
              1,
              "#f0f921"
             ]
            ],
            "type": "heatmapgl"
           }
          ],
          "histogram": [
           {
            "marker": {
             "pattern": {
              "fillmode": "overlay",
              "size": 10,
              "solidity": 0.2
             }
            },
            "type": "histogram"
           }
          ],
          "histogram2d": [
           {
            "colorbar": {
             "outlinewidth": 0,
             "ticks": ""
            },
            "colorscale": [
             [
              0,
              "#0d0887"
             ],
             [
              0.1111111111111111,
              "#46039f"
             ],
             [
              0.2222222222222222,
              "#7201a8"
             ],
             [
              0.3333333333333333,
              "#9c179e"
             ],
             [
              0.4444444444444444,
              "#bd3786"
             ],
             [
              0.5555555555555556,
              "#d8576b"
             ],
             [
              0.6666666666666666,
              "#ed7953"
             ],
             [
              0.7777777777777778,
              "#fb9f3a"
             ],
             [
              0.8888888888888888,
              "#fdca26"
             ],
             [
              1,
              "#f0f921"
             ]
            ],
            "type": "histogram2d"
           }
          ],
          "histogram2dcontour": [
           {
            "colorbar": {
             "outlinewidth": 0,
             "ticks": ""
            },
            "colorscale": [
             [
              0,
              "#0d0887"
             ],
             [
              0.1111111111111111,
              "#46039f"
             ],
             [
              0.2222222222222222,
              "#7201a8"
             ],
             [
              0.3333333333333333,
              "#9c179e"
             ],
             [
              0.4444444444444444,
              "#bd3786"
             ],
             [
              0.5555555555555556,
              "#d8576b"
             ],
             [
              0.6666666666666666,
              "#ed7953"
             ],
             [
              0.7777777777777778,
              "#fb9f3a"
             ],
             [
              0.8888888888888888,
              "#fdca26"
             ],
             [
              1,
              "#f0f921"
             ]
            ],
            "type": "histogram2dcontour"
           }
          ],
          "mesh3d": [
           {
            "colorbar": {
             "outlinewidth": 0,
             "ticks": ""
            },
            "type": "mesh3d"
           }
          ],
          "parcoords": [
           {
            "line": {
             "colorbar": {
              "outlinewidth": 0,
              "ticks": ""
             }
            },
            "type": "parcoords"
           }
          ],
          "pie": [
           {
            "automargin": true,
            "type": "pie"
           }
          ],
          "scatter": [
           {
            "fillpattern": {
             "fillmode": "overlay",
             "size": 10,
             "solidity": 0.2
            },
            "type": "scatter"
           }
          ],
          "scatter3d": [
           {
            "line": {
             "colorbar": {
              "outlinewidth": 0,
              "ticks": ""
             }
            },
            "marker": {
             "colorbar": {
              "outlinewidth": 0,
              "ticks": ""
             }
            },
            "type": "scatter3d"
           }
          ],
          "scattercarpet": [
           {
            "marker": {
             "colorbar": {
              "outlinewidth": 0,
              "ticks": ""
             }
            },
            "type": "scattercarpet"
           }
          ],
          "scattergeo": [
           {
            "marker": {
             "colorbar": {
              "outlinewidth": 0,
              "ticks": ""
             }
            },
            "type": "scattergeo"
           }
          ],
          "scattergl": [
           {
            "marker": {
             "colorbar": {
              "outlinewidth": 0,
              "ticks": ""
             }
            },
            "type": "scattergl"
           }
          ],
          "scattermapbox": [
           {
            "marker": {
             "colorbar": {
              "outlinewidth": 0,
              "ticks": ""
             }
            },
            "type": "scattermapbox"
           }
          ],
          "scatterpolar": [
           {
            "marker": {
             "colorbar": {
              "outlinewidth": 0,
              "ticks": ""
             }
            },
            "type": "scatterpolar"
           }
          ],
          "scatterpolargl": [
           {
            "marker": {
             "colorbar": {
              "outlinewidth": 0,
              "ticks": ""
             }
            },
            "type": "scatterpolargl"
           }
          ],
          "scatterternary": [
           {
            "marker": {
             "colorbar": {
              "outlinewidth": 0,
              "ticks": ""
             }
            },
            "type": "scatterternary"
           }
          ],
          "surface": [
           {
            "colorbar": {
             "outlinewidth": 0,
             "ticks": ""
            },
            "colorscale": [
             [
              0,
              "#0d0887"
             ],
             [
              0.1111111111111111,
              "#46039f"
             ],
             [
              0.2222222222222222,
              "#7201a8"
             ],
             [
              0.3333333333333333,
              "#9c179e"
             ],
             [
              0.4444444444444444,
              "#bd3786"
             ],
             [
              0.5555555555555556,
              "#d8576b"
             ],
             [
              0.6666666666666666,
              "#ed7953"
             ],
             [
              0.7777777777777778,
              "#fb9f3a"
             ],
             [
              0.8888888888888888,
              "#fdca26"
             ],
             [
              1,
              "#f0f921"
             ]
            ],
            "type": "surface"
           }
          ],
          "table": [
           {
            "cells": {
             "fill": {
              "color": "#EBF0F8"
             },
             "line": {
              "color": "white"
             }
            },
            "header": {
             "fill": {
              "color": "#C8D4E3"
             },
             "line": {
              "color": "white"
             }
            },
            "type": "table"
           }
          ]
         },
         "layout": {
          "annotationdefaults": {
           "arrowcolor": "#2a3f5f",
           "arrowhead": 0,
           "arrowwidth": 1
          },
          "autotypenumbers": "strict",
          "coloraxis": {
           "colorbar": {
            "outlinewidth": 0,
            "ticks": ""
           }
          },
          "colorscale": {
           "diverging": [
            [
             0,
             "#8e0152"
            ],
            [
             0.1,
             "#c51b7d"
            ],
            [
             0.2,
             "#de77ae"
            ],
            [
             0.3,
             "#f1b6da"
            ],
            [
             0.4,
             "#fde0ef"
            ],
            [
             0.5,
             "#f7f7f7"
            ],
            [
             0.6,
             "#e6f5d0"
            ],
            [
             0.7,
             "#b8e186"
            ],
            [
             0.8,
             "#7fbc41"
            ],
            [
             0.9,
             "#4d9221"
            ],
            [
             1,
             "#276419"
            ]
           ],
           "sequential": [
            [
             0,
             "#0d0887"
            ],
            [
             0.1111111111111111,
             "#46039f"
            ],
            [
             0.2222222222222222,
             "#7201a8"
            ],
            [
             0.3333333333333333,
             "#9c179e"
            ],
            [
             0.4444444444444444,
             "#bd3786"
            ],
            [
             0.5555555555555556,
             "#d8576b"
            ],
            [
             0.6666666666666666,
             "#ed7953"
            ],
            [
             0.7777777777777778,
             "#fb9f3a"
            ],
            [
             0.8888888888888888,
             "#fdca26"
            ],
            [
             1,
             "#f0f921"
            ]
           ],
           "sequentialminus": [
            [
             0,
             "#0d0887"
            ],
            [
             0.1111111111111111,
             "#46039f"
            ],
            [
             0.2222222222222222,
             "#7201a8"
            ],
            [
             0.3333333333333333,
             "#9c179e"
            ],
            [
             0.4444444444444444,
             "#bd3786"
            ],
            [
             0.5555555555555556,
             "#d8576b"
            ],
            [
             0.6666666666666666,
             "#ed7953"
            ],
            [
             0.7777777777777778,
             "#fb9f3a"
            ],
            [
             0.8888888888888888,
             "#fdca26"
            ],
            [
             1,
             "#f0f921"
            ]
           ]
          },
          "colorway": [
           "#636efa",
           "#EF553B",
           "#00cc96",
           "#ab63fa",
           "#FFA15A",
           "#19d3f3",
           "#FF6692",
           "#B6E880",
           "#FF97FF",
           "#FECB52"
          ],
          "font": {
           "color": "#2a3f5f"
          },
          "geo": {
           "bgcolor": "white",
           "lakecolor": "white",
           "landcolor": "#E5ECF6",
           "showlakes": true,
           "showland": true,
           "subunitcolor": "white"
          },
          "hoverlabel": {
           "align": "left"
          },
          "hovermode": "closest",
          "mapbox": {
           "style": "light"
          },
          "paper_bgcolor": "white",
          "plot_bgcolor": "#E5ECF6",
          "polar": {
           "angularaxis": {
            "gridcolor": "white",
            "linecolor": "white",
            "ticks": ""
           },
           "bgcolor": "#E5ECF6",
           "radialaxis": {
            "gridcolor": "white",
            "linecolor": "white",
            "ticks": ""
           }
          },
          "scene": {
           "xaxis": {
            "backgroundcolor": "#E5ECF6",
            "gridcolor": "white",
            "gridwidth": 2,
            "linecolor": "white",
            "showbackground": true,
            "ticks": "",
            "zerolinecolor": "white"
           },
           "yaxis": {
            "backgroundcolor": "#E5ECF6",
            "gridcolor": "white",
            "gridwidth": 2,
            "linecolor": "white",
            "showbackground": true,
            "ticks": "",
            "zerolinecolor": "white"
           },
           "zaxis": {
            "backgroundcolor": "#E5ECF6",
            "gridcolor": "white",
            "gridwidth": 2,
            "linecolor": "white",
            "showbackground": true,
            "ticks": "",
            "zerolinecolor": "white"
           }
          },
          "shapedefaults": {
           "line": {
            "color": "#2a3f5f"
           }
          },
          "ternary": {
           "aaxis": {
            "gridcolor": "white",
            "linecolor": "white",
            "ticks": ""
           },
           "baxis": {
            "gridcolor": "white",
            "linecolor": "white",
            "ticks": ""
           },
           "bgcolor": "#E5ECF6",
           "caxis": {
            "gridcolor": "white",
            "linecolor": "white",
            "ticks": ""
           }
          },
          "title": {
           "x": 0.05
          },
          "xaxis": {
           "automargin": true,
           "gridcolor": "white",
           "linecolor": "white",
           "ticks": "",
           "title": {
            "standoff": 15
           },
           "zerolinecolor": "white",
           "zerolinewidth": 2
          },
          "yaxis": {
           "automargin": true,
           "gridcolor": "white",
           "linecolor": "white",
           "ticks": "",
           "title": {
            "standoff": 15
           },
           "zerolinecolor": "white",
           "zerolinewidth": 2
          }
         }
        },
        "title": {
         "font": {
          "color": "#3c4444",
          "family": "Arial",
          "size": 20
         },
         "text": "Sexism Distribution"
        }
       }
      },
      "image/png": "[encoded data removed]",
      "text/html": [
       "<div>                            <div id=\"0150bd63-a06d-426e-82c0-7d3ac61e0178\" class=\"plotly-graph-div\" style=\"height:525px; width:100%;\"></div>            <script type=\"text/javascript\">                require([\"plotly\"], function(Plotly) {                    window.PLOTLYENV=window.PLOTLYENV || {};                                    if (document.getElementById(\"0150bd63-a06d-426e-82c0-7d3ac61e0178\")) {                    Plotly.newPlot(                        \"0150bd63-a06d-426e-82c0-7d3ac61e0178\",                        [{\"hole\":0.4,\"labels\":[\"non-sexist\",\"sexist\"],\"textposition\":\"inside\",\"values\":[68.5331751546479,31.466824845352086],\"type\":\"pie\",\"marker\":{\"colors\":[\"#418fde\",\"#ea544d\"]}}],                        {\"template\":{\"data\":{\"histogram2dcontour\":[{\"type\":\"histogram2dcontour\",\"colorbar\":{\"outlinewidth\":0,\"ticks\":\"\"},\"colorscale\":[[0.0,\"#0d0887\"],[0.1111111111111111,\"#46039f\"],[0.2222222222222222,\"#7201a8\"],[0.3333333333333333,\"#9c179e\"],[0.4444444444444444,\"#bd3786\"],[0.5555555555555556,\"#d8576b\"],[0.6666666666666666,\"#ed7953\"],[0.7777777777777778,\"#fb9f3a\"],[0.8888888888888888,\"#fdca26\"],[1.0,\"#f0f921\"]]}],\"choropleth\":[{\"type\":\"choropleth\",\"colorbar\":{\"outlinewidth\":0,\"ticks\":\"\"}}],\"histogram2d\":[{\"type\":\"histogram2d\",\"colorbar\":{\"outlinewidth\":0,\"ticks\":\"\"},\"colorscale\":[[0.0,\"#0d0887\"],[0.1111111111111111,\"#46039f\"],[0.2222222222222222,\"#7201a8\"],[0.3333333333333333,\"#9c179e\"],[0.4444444444444444,\"#bd3786\"],[0.5555555555555556,\"#d8576b\"],[0.6666666666666666,\"#ed7953\"],[0.7777777777777778,\"#fb9f3a\"],[0.8888888888888888,\"#fdca26\"],[1.0,\"#f0f921\"]]}],\"heatmap\":[{\"type\":\"heatmap\",\"colorbar\":{\"outlinewidth\":0,\"ticks\":\"\"},\"colorscale\":[[0.0,\"#0d0887\"],[0.1111111111111111,\"#46039f\"],[0.2222222222222222,\"#7201a8\"],[0.3333333333333333,\"#9c179e\"],[0.4444444444444444,\"#bd3786\"],[0.5555555555555556,\"#d8576b\"],[0.6666666666666666,\"#ed7953\"],[0.7777777777777778,\"#fb9f3a\"],[0.8888888888888888,\"#fdca26\"],[1.0,\"#f0f921\"]]}],\"heatmapgl\":[{\"type\":\"heatmapgl\",\"colorbar\":{\"outlinewidth\":0,\"ticks\":\"\"},\"colorscale\":[[0.0,\"#0d0887\"],[0.1111111111111111,\"#46039f\"],[0.2222222222222222,\"#7201a8\"],[0.3333333333333333,\"#9c179e\"],[0.4444444444444444,\"#bd3786\"],[0.5555555555555556,\"#d8576b\"],[0.6666666666666666,\"#ed7953\"],[0.7777777777777778,\"#fb9f3a\"],[0.8888888888888888,\"#fdca26\"],[1.0,\"#f0f921\"]]}],\"contourcarpet\":[{\"type\":\"contourcarpet\",\"colorbar\":{\"outlinewidth\":0,\"ticks\":\"\"}}],\"contour\":[{\"type\":\"contour\",\"colorbar\":{\"outlinewidth\":0,\"ticks\":\"\"},\"colorscale\":[[0.0,\"#0d0887\"],[0.1111111111111111,\"#46039f\"],[0.2222222222222222,\"#7201a8\"],[0.3333333333333333,\"#9c179e\"],[0.4444444444444444,\"#bd3786\"],[0.5555555555555556,\"#d8576b\"],[0.6666666666666666,\"#ed7953\"],[0.7777777777777778,\"#fb9f3a\"],[0.8888888888888888,\"#fdca26\"],[1.0,\"#f0f921\"]]}],\"surface\":[{\"type\":\"surface\",\"colorbar\":{\"outlinewidth\":0,\"ticks\":\"\"},\"colorscale\":[[0.0,\"#0d0887\"],[0.1111111111111111,\"#46039f\"],[0.2222222222222222,\"#7201a8\"],[0.3333333333333333,\"#9c179e\"],[0.4444444444444444,\"#bd3786\"],[0.5555555555555556,\"#d8576b\"],[0.6666666666666666,\"#ed7953\"],[0.7777777777777778,\"#fb9f3a\"],[0.8888888888888888,\"#fdca26\"],[1.0,\"#f0f921\"]]}],\"mesh3d\":[{\"type\":\"mesh3d\",\"colorbar\":{\"outlinewidth\":0,\"ticks\":\"\"}}],\"scatter\":[{\"fillpattern\":{\"fillmode\":\"overlay\",\"size\":10,\"solidity\":0.2},\"type\":\"scatter\"}],\"parcoords\":[{\"type\":\"parcoords\",\"line\":{\"colorbar\":{\"outlinewidth\":0,\"ticks\":\"\"}}}],\"scatterpolargl\":[{\"type\":\"scatterpolargl\",\"marker\":{\"colorbar\":{\"outlinewidth\":0,\"ticks\":\"\"}}}],\"bar\":[{\"error_x\":{\"color\":\"#2a3f5f\"},\"error_y\":{\"color\":\"#2a3f5f\"},\"marker\":{\"line\":{\"color\":\"#E5ECF6\",\"width\":0.5},\"pattern\":{\"fillmode\":\"overlay\",\"size\":10,\"solidity\":0.2}},\"type\":\"bar\"}],\"scattergeo\":[{\"type\":\"scattergeo\",\"marker\":{\"colorbar\":{\"outlinewidth\":0,\"ticks\":\"\"}}}],\"scatterpolar\":[{\"type\":\"scatterpolar\",\"marker\":{\"colorbar\":{\"outlinewidth\":0,\"ticks\":\"\"}}}],\"histogram\":[{\"marker\":{\"pattern\":{\"fillmode\":\"overlay\",\"size\":10,\"solidity\":0.2}},\"type\":\"histogram\"}],\"scattergl\":[{\"type\":\"scattergl\",\"marker\":{\"colorbar\":{\"outlinewidth\":0,\"ticks\":\"\"}}}],\"scatter3d\":[{\"type\":\"scatter3d\",\"line\":{\"colorbar\":{\"outlinewidth\":0,\"ticks\":\"\"}},\"marker\":{\"colorbar\":{\"outlinewidth\":0,\"ticks\":\"\"}}}],\"scattermapbox\":[{\"type\":\"scattermapbox\",\"marker\":{\"colorbar\":{\"outlinewidth\":0,\"ticks\":\"\"}}}],\"scatterternary\":[{\"type\":\"scatterternary\",\"marker\":{\"colorbar\":{\"outlinewidth\":0,\"ticks\":\"\"}}}],\"scattercarpet\":[{\"type\":\"scattercarpet\",\"marker\":{\"colorbar\":{\"outlinewidth\":0,\"ticks\":\"\"}}}],\"carpet\":[{\"aaxis\":{\"endlinecolor\":\"#2a3f5f\",\"gridcolor\":\"white\",\"linecolor\":\"white\",\"minorgridcolor\":\"white\",\"startlinecolor\":\"#2a3f5f\"},\"baxis\":{\"endlinecolor\":\"#2a3f5f\",\"gridcolor\":\"white\",\"linecolor\":\"white\",\"minorgridcolor\":\"white\",\"startlinecolor\":\"#2a3f5f\"},\"type\":\"carpet\"}],\"table\":[{\"cells\":{\"fill\":{\"color\":\"#EBF0F8\"},\"line\":{\"color\":\"white\"}},\"header\":{\"fill\":{\"color\":\"#C8D4E3\"},\"line\":{\"color\":\"white\"}},\"type\":\"table\"}],\"barpolar\":[{\"marker\":{\"line\":{\"color\":\"#E5ECF6\",\"width\":0.5},\"pattern\":{\"fillmode\":\"overlay\",\"size\":10,\"solidity\":0.2}},\"type\":\"barpolar\"}],\"pie\":[{\"automargin\":true,\"type\":\"pie\"}]},\"layout\":{\"autotypenumbers\":\"strict\",\"colorway\":[\"#636efa\",\"#EF553B\",\"#00cc96\",\"#ab63fa\",\"#FFA15A\",\"#19d3f3\",\"#FF6692\",\"#B6E880\",\"#FF97FF\",\"#FECB52\"],\"font\":{\"color\":\"#2a3f5f\"},\"hovermode\":\"closest\",\"hoverlabel\":{\"align\":\"left\"},\"paper_bgcolor\":\"white\",\"plot_bgcolor\":\"#E5ECF6\",\"polar\":{\"bgcolor\":\"#E5ECF6\",\"angularaxis\":{\"gridcolor\":\"white\",\"linecolor\":\"white\",\"ticks\":\"\"},\"radialaxis\":{\"gridcolor\":\"white\",\"linecolor\":\"white\",\"ticks\":\"\"}},\"ternary\":{\"bgcolor\":\"#E5ECF6\",\"aaxis\":{\"gridcolor\":\"white\",\"linecolor\":\"white\",\"ticks\":\"\"},\"baxis\":{\"gridcolor\":\"white\",\"linecolor\":\"white\",\"ticks\":\"\"},\"caxis\":{\"gridcolor\":\"white\",\"linecolor\":\"white\",\"ticks\":\"\"}},\"coloraxis\":{\"colorbar\":{\"outlinewidth\":0,\"ticks\":\"\"}},\"colorscale\":{\"sequential\":[[0.0,\"#0d0887\"],[0.1111111111111111,\"#46039f\"],[0.2222222222222222,\"#7201a8\"],[0.3333333333333333,\"#9c179e\"],[0.4444444444444444,\"#bd3786\"],[0.5555555555555556,\"#d8576b\"],[0.6666666666666666,\"#ed7953\"],[0.7777777777777778,\"#fb9f3a\"],[0.8888888888888888,\"#fdca26\"],[1.0,\"#f0f921\"]],\"sequentialminus\":[[0.0,\"#0d0887\"],[0.1111111111111111,\"#46039f\"],[0.2222222222222222,\"#7201a8\"],[0.3333333333333333,\"#9c179e\"],[0.4444444444444444,\"#bd3786\"],[0.5555555555555556,\"#d8576b\"],[0.6666666666666666,\"#ed7953\"],[0.7777777777777778,\"#fb9f3a\"],[0.8888888888888888,\"#fdca26\"],[1.0,\"#f0f921\"]],\"diverging\":[[0,\"#8e0152\"],[0.1,\"#c51b7d\"],[0.2,\"#de77ae\"],[0.3,\"#f1b6da\"],[0.4,\"#fde0ef\"],[0.5,\"#f7f7f7\"],[0.6,\"#e6f5d0\"],[0.7,\"#b8e186\"],[0.8,\"#7fbc41\"],[0.9,\"#4d9221\"],[1,\"#276419\"]]},\"xaxis\":{\"gridcolor\":\"white\",\"linecolor\":\"white\",\"ticks\":\"\",\"title\":{\"standoff\":15},\"zerolinecolor\":\"white\",\"automargin\":true,\"zerolinewidth\":2},\"yaxis\":{\"gridcolor\":\"white\",\"linecolor\":\"white\",\"ticks\":\"\",\"title\":{\"standoff\":15},\"zerolinecolor\":\"white\",\"automargin\":true,\"zerolinewidth\":2},\"scene\":{\"xaxis\":{\"backgroundcolor\":\"#E5ECF6\",\"gridcolor\":\"white\",\"linecolor\":\"white\",\"showbackground\":true,\"ticks\":\"\",\"zerolinecolor\":\"white\",\"gridwidth\":2},\"yaxis\":{\"backgroundcolor\":\"#E5ECF6\",\"gridcolor\":\"white\",\"linecolor\":\"white\",\"showbackground\":true,\"ticks\":\"\",\"zerolinecolor\":\"white\",\"gridwidth\":2},\"zaxis\":{\"backgroundcolor\":\"#E5ECF6\",\"gridcolor\":\"white\",\"linecolor\":\"white\",\"showbackground\":true,\"ticks\":\"\",\"zerolinecolor\":\"white\",\"gridwidth\":2}},\"shapedefaults\":{\"line\":{\"color\":\"#2a3f5f\"}},\"annotationdefaults\":{\"arrowcolor\":\"#2a3f5f\",\"arrowhead\":0,\"arrowwidth\":1},\"geo\":{\"bgcolor\":\"white\",\"landcolor\":\"#E5ECF6\",\"subunitcolor\":\"white\",\"showland\":true,\"showlakes\":true,\"lakecolor\":\"white\"},\"title\":{\"x\":0.05},\"mapbox\":{\"style\":\"light\"}}},\"title\":{\"text\":\"Sexism Distribution\",\"font\":{\"size\":20,\"family\":\"Arial\",\"color\":\"#3c4444\"}},\"legend\":{\"font\":{\"family\":\"Calibri\",\"color\":\"#3c4444\"}},\"plot_bgcolor\":\"white\"},                        {\"responsive\": true}                    ).then(function(){\n",
       "                            \n",
       "var gd = document.getElementById('0150bd63-a06d-426e-82c0-7d3ac61e0178');\n",
       "var x = new MutationObserver(function (mutations, observer) {{\n",
       "        var display = window.getComputedStyle(gd).display;\n",
       "        if (!display || display === 'none') {{\n",
       "            console.log([gd, 'removed!']);\n",
       "            Plotly.purge(gd);\n",
       "            observer.disconnect();\n",
       "        }}\n",
       "}});\n",
       "\n",
       "// Listen for the removal of the full notebook cells\n",
       "var notebookContainer = gd.closest('#notebook-container');\n",
       "if (notebookContainer) {{\n",
       "    x.observe(notebookContainer, {childList: true});\n",
       "}}\n",
       "\n",
       "// Listen for the clearing of the current output cell\n",
       "var outputEl = gd.closest('.output');\n",
       "if (outputEl) {{\n",
       "    x.observe(outputEl, {childList: true});\n",
       "}}\n",
       "\n",
       "                        })                };                });            </script>        </div>"
      ]
     },
     "metadata": {},
     "output_type": "display_data"
    }
   ],
   "source": [
    "import plotly.express as px\n",
    "#import matplotlib.pyplot as plt\n",
    "from collections import Counter\n",
    "import plotly.graph_objects as go\n",
    "import numpy as np\n",
    "import pytz\n",
    "import ipywidgets as widgets\n",
    "\n",
    "RED = \"#ea544d\"\n",
    "BLUE = \"#418fde\"\n",
    "YELL = \"#fbd305\"\n",
    "PURP = \"#cc64bc\"\n",
    "BLCK = \"#3c4444\"\n",
    "GREY = \"#f5f5f5\"\n",
    "font = \"Calibri\"\n",
    "GREEN=\"#C4D454\"\n",
    "GREY2='#A08C88'\n",
    "SALM = '#EB8B59'\n",
    "BRW='#ECD3BC'\n",
    "BLUE2='#5BC3E3'\n",
    "\n",
    "def create_donut_chart(data,\n",
    "                       colors,\n",
    "                       labels=None,\n",
    "                       legend_font='Arial', \n",
    "                       legend_color='black', \n",
    "                       label_font='Arial', \n",
    "                       title_size=20, \n",
    "                       title_font='Arial', \n",
    "                       title_color='black',\n",
    "                       background_color='white'):\n",
    "    #labels = ['non-sexist', 'sexist']\n",
    "    values = data.value_counts(normalize=True) * 100\n",
    "    if not labels:\n",
    "        labels = values.index.tolist()\n",
    "    fig = go.Figure(data=go.Pie(labels=labels, values=values, hole=0.4, textposition='inside'))\n",
    "    \n",
    "    fig.update_traces(marker=dict(colors=colors))\n",
    "    fig.update_layout(\n",
    "        title='Sexism Distribution',\n",
    "        title_font=dict(size=title_size, family=title_font, color=title_color),\n",
    "        plot_bgcolor=background_color,\n",
    "        legend=dict(\n",
    "            font=dict(family=legend_font, color=legend_color),\n",
    "        )\n",
    "    )\n",
    "    return fig\n",
    "    \n",
    "\n",
    "colors = [BLUE, RED]  \n",
    "fig1 = create_donut_chart(integrated_data.sexist, labels=['non-sexist', 'sexist'], colors=colors, \n",
    "                   legend_font=font, legend_color=BLCK, label_font=font, title_color=BLCK)\n",
    "fig1.show()"
   ]
  },
  {
   "cell_type": "code",
   "execution_count": 40,
   "id": "d2c6e3b2-f697-4b74-8260-ea1df3848c7a",
   "metadata": {},
   "outputs": [
    {
     "data": {
      "application/vnd.plotly.v1+json": {
       "config": {
        "plotlyServerURL": "https://plot.ly"
       },
       "data": [
        {
         "hole": 0.4,
         "labels": [
          "hate",
          "profanities",
          "abuse",
          "sexually-explicit",
          "violent"
         ],
         "marker": {
          "colors": [
           "#cc64bc",
           "#fbd305",
           "#C4D454",
           "#EB8B59",
           "#5BC3E3"
          ]
         },
         "textposition": "inside",
         "type": "pie",
         "values": [
          36.92249906097408,
          30.299236258920747,
          12.8208338550144,
          11.443595843245273,
          8.513834981845498
         ]
        }
       ],
       "layout": {
        "autosize": true,
        "legend": {
         "font": {
          "color": "#3c4444",
          "family": "Calibri"
         }
        },
        "plot_bgcolor": "white",
        "template": {
         "data": {
          "bar": [
           {
            "error_x": {
             "color": "#2a3f5f"
            },
            "error_y": {
             "color": "#2a3f5f"
            },
            "marker": {
             "line": {
              "color": "#E5ECF6",
              "width": 0.5
             },
             "pattern": {
              "fillmode": "overlay",
              "size": 10,
              "solidity": 0.2
             }
            },
            "type": "bar"
           }
          ],
          "barpolar": [
           {
            "marker": {
             "line": {
              "color": "#E5ECF6",
              "width": 0.5
             },
             "pattern": {
              "fillmode": "overlay",
              "size": 10,
              "solidity": 0.2
             }
            },
            "type": "barpolar"
           }
          ],
          "carpet": [
           {
            "aaxis": {
             "endlinecolor": "#2a3f5f",
             "gridcolor": "white",
             "linecolor": "white",
             "minorgridcolor": "white",
             "startlinecolor": "#2a3f5f"
            },
            "baxis": {
             "endlinecolor": "#2a3f5f",
             "gridcolor": "white",
             "linecolor": "white",
             "minorgridcolor": "white",
             "startlinecolor": "#2a3f5f"
            },
            "type": "carpet"
           }
          ],
          "choropleth": [
           {
            "colorbar": {
             "outlinewidth": 0,
             "ticks": ""
            },
            "type": "choropleth"
           }
          ],
          "contour": [
           {
            "colorbar": {
             "outlinewidth": 0,
             "ticks": ""
            },
            "colorscale": [
             [
              0,
              "#0d0887"
             ],
             [
              0.1111111111111111,
              "#46039f"
             ],
             [
              0.2222222222222222,
              "#7201a8"
             ],
             [
              0.3333333333333333,
              "#9c179e"
             ],
             [
              0.4444444444444444,
              "#bd3786"
             ],
             [
              0.5555555555555556,
              "#d8576b"
             ],
             [
              0.6666666666666666,
              "#ed7953"
             ],
             [
              0.7777777777777778,
              "#fb9f3a"
             ],
             [
              0.8888888888888888,
              "#fdca26"
             ],
             [
              1,
              "#f0f921"
             ]
            ],
            "type": "contour"
           }
          ],
          "contourcarpet": [
           {
            "colorbar": {
             "outlinewidth": 0,
             "ticks": ""
            },
            "type": "contourcarpet"
           }
          ],
          "heatmap": [
           {
            "colorbar": {
             "outlinewidth": 0,
             "ticks": ""
            },
            "colorscale": [
             [
              0,
              "#0d0887"
             ],
             [
              0.1111111111111111,
              "#46039f"
             ],
             [
              0.2222222222222222,
              "#7201a8"
             ],
             [
              0.3333333333333333,
              "#9c179e"
             ],
             [
              0.4444444444444444,
              "#bd3786"
             ],
             [
              0.5555555555555556,
              "#d8576b"
             ],
             [
              0.6666666666666666,
              "#ed7953"
             ],
             [
              0.7777777777777778,
              "#fb9f3a"
             ],
             [
              0.8888888888888888,
              "#fdca26"
             ],
             [
              1,
              "#f0f921"
             ]
            ],
            "type": "heatmap"
           }
          ],
          "heatmapgl": [
           {
            "colorbar": {
             "outlinewidth": 0,
             "ticks": ""
            },
            "colorscale": [
             [
              0,
              "#0d0887"
             ],
             [
              0.1111111111111111,
              "#46039f"
             ],
             [
              0.2222222222222222,
              "#7201a8"
             ],
             [
              0.3333333333333333,
              "#9c179e"
             ],
             [
              0.4444444444444444,
              "#bd3786"
             ],
             [
              0.5555555555555556,
              "#d8576b"
             ],
             [
              0.6666666666666666,
              "#ed7953"
             ],
             [
              0.7777777777777778,
              "#fb9f3a"
             ],
             [
              0.8888888888888888,
              "#fdca26"
             ],
             [
              1,
              "#f0f921"
             ]
            ],
            "type": "heatmapgl"
           }
          ],
          "histogram": [
           {
            "marker": {
             "pattern": {
              "fillmode": "overlay",
              "size": 10,
              "solidity": 0.2
             }
            },
            "type": "histogram"
           }
          ],
          "histogram2d": [
           {
            "colorbar": {
             "outlinewidth": 0,
             "ticks": ""
            },
            "colorscale": [
             [
              0,
              "#0d0887"
             ],
             [
              0.1111111111111111,
              "#46039f"
             ],
             [
              0.2222222222222222,
              "#7201a8"
             ],
             [
              0.3333333333333333,
              "#9c179e"
             ],
             [
              0.4444444444444444,
              "#bd3786"
             ],
             [
              0.5555555555555556,
              "#d8576b"
             ],
             [
              0.6666666666666666,
              "#ed7953"
             ],
             [
              0.7777777777777778,
              "#fb9f3a"
             ],
             [
              0.8888888888888888,
              "#fdca26"
             ],
             [
              1,
              "#f0f921"
             ]
            ],
            "type": "histogram2d"
           }
          ],
          "histogram2dcontour": [
           {
            "colorbar": {
             "outlinewidth": 0,
             "ticks": ""
            },
            "colorscale": [
             [
              0,
              "#0d0887"
             ],
             [
              0.1111111111111111,
              "#46039f"
             ],
             [
              0.2222222222222222,
              "#7201a8"
             ],
             [
              0.3333333333333333,
              "#9c179e"
             ],
             [
              0.4444444444444444,
              "#bd3786"
             ],
             [
              0.5555555555555556,
              "#d8576b"
             ],
             [
              0.6666666666666666,
              "#ed7953"
             ],
             [
              0.7777777777777778,
              "#fb9f3a"
             ],
             [
              0.8888888888888888,
              "#fdca26"
             ],
             [
              1,
              "#f0f921"
             ]
            ],
            "type": "histogram2dcontour"
           }
          ],
          "mesh3d": [
           {
            "colorbar": {
             "outlinewidth": 0,
             "ticks": ""
            },
            "type": "mesh3d"
           }
          ],
          "parcoords": [
           {
            "line": {
             "colorbar": {
              "outlinewidth": 0,
              "ticks": ""
             }
            },
            "type": "parcoords"
           }
          ],
          "pie": [
           {
            "automargin": true,
            "type": "pie"
           }
          ],
          "scatter": [
           {
            "fillpattern": {
             "fillmode": "overlay",
             "size": 10,
             "solidity": 0.2
            },
            "type": "scatter"
           }
          ],
          "scatter3d": [
           {
            "line": {
             "colorbar": {
              "outlinewidth": 0,
              "ticks": ""
             }
            },
            "marker": {
             "colorbar": {
              "outlinewidth": 0,
              "ticks": ""
             }
            },
            "type": "scatter3d"
           }
          ],
          "scattercarpet": [
           {
            "marker": {
             "colorbar": {
              "outlinewidth": 0,
              "ticks": ""
             }
            },
            "type": "scattercarpet"
           }
          ],
          "scattergeo": [
           {
            "marker": {
             "colorbar": {
              "outlinewidth": 0,
              "ticks": ""
             }
            },
            "type": "scattergeo"
           }
          ],
          "scattergl": [
           {
            "marker": {
             "colorbar": {
              "outlinewidth": 0,
              "ticks": ""
             }
            },
            "type": "scattergl"
           }
          ],
          "scattermapbox": [
           {
            "marker": {
             "colorbar": {
              "outlinewidth": 0,
              "ticks": ""
             }
            },
            "type": "scattermapbox"
           }
          ],
          "scatterpolar": [
           {
            "marker": {
             "colorbar": {
              "outlinewidth": 0,
              "ticks": ""
             }
            },
            "type": "scatterpolar"
           }
          ],
          "scatterpolargl": [
           {
            "marker": {
             "colorbar": {
              "outlinewidth": 0,
              "ticks": ""
             }
            },
            "type": "scatterpolargl"
           }
          ],
          "scatterternary": [
           {
            "marker": {
             "colorbar": {
              "outlinewidth": 0,
              "ticks": ""
             }
            },
            "type": "scatterternary"
           }
          ],
          "surface": [
           {
            "colorbar": {
             "outlinewidth": 0,
             "ticks": ""
            },
            "colorscale": [
             [
              0,
              "#0d0887"
             ],
             [
              0.1111111111111111,
              "#46039f"
             ],
             [
              0.2222222222222222,
              "#7201a8"
             ],
             [
              0.3333333333333333,
              "#9c179e"
             ],
             [
              0.4444444444444444,
              "#bd3786"
             ],
             [
              0.5555555555555556,
              "#d8576b"
             ],
             [
              0.6666666666666666,
              "#ed7953"
             ],
             [
              0.7777777777777778,
              "#fb9f3a"
             ],
             [
              0.8888888888888888,
              "#fdca26"
             ],
             [
              1,
              "#f0f921"
             ]
            ],
            "type": "surface"
           }
          ],
          "table": [
           {
            "cells": {
             "fill": {
              "color": "#EBF0F8"
             },
             "line": {
              "color": "white"
             }
            },
            "header": {
             "fill": {
              "color": "#C8D4E3"
             },
             "line": {
              "color": "white"
             }
            },
            "type": "table"
           }
          ]
         },
         "layout": {
          "annotationdefaults": {
           "arrowcolor": "#2a3f5f",
           "arrowhead": 0,
           "arrowwidth": 1
          },
          "autotypenumbers": "strict",
          "coloraxis": {
           "colorbar": {
            "outlinewidth": 0,
            "ticks": ""
           }
          },
          "colorscale": {
           "diverging": [
            [
             0,
             "#8e0152"
            ],
            [
             0.1,
             "#c51b7d"
            ],
            [
             0.2,
             "#de77ae"
            ],
            [
             0.3,
             "#f1b6da"
            ],
            [
             0.4,
             "#fde0ef"
            ],
            [
             0.5,
             "#f7f7f7"
            ],
            [
             0.6,
             "#e6f5d0"
            ],
            [
             0.7,
             "#b8e186"
            ],
            [
             0.8,
             "#7fbc41"
            ],
            [
             0.9,
             "#4d9221"
            ],
            [
             1,
             "#276419"
            ]
           ],
           "sequential": [
            [
             0,
             "#0d0887"
            ],
            [
             0.1111111111111111,
             "#46039f"
            ],
            [
             0.2222222222222222,
             "#7201a8"
            ],
            [
             0.3333333333333333,
             "#9c179e"
            ],
            [
             0.4444444444444444,
             "#bd3786"
            ],
            [
             0.5555555555555556,
             "#d8576b"
            ],
            [
             0.6666666666666666,
             "#ed7953"
            ],
            [
             0.7777777777777778,
             "#fb9f3a"
            ],
            [
             0.8888888888888888,
             "#fdca26"
            ],
            [
             1,
             "#f0f921"
            ]
           ],
           "sequentialminus": [
            [
             0,
             "#0d0887"
            ],
            [
             0.1111111111111111,
             "#46039f"
            ],
            [
             0.2222222222222222,
             "#7201a8"
            ],
            [
             0.3333333333333333,
             "#9c179e"
            ],
            [
             0.4444444444444444,
             "#bd3786"
            ],
            [
             0.5555555555555556,
             "#d8576b"
            ],
            [
             0.6666666666666666,
             "#ed7953"
            ],
            [
             0.7777777777777778,
             "#fb9f3a"
            ],
            [
             0.8888888888888888,
             "#fdca26"
            ],
            [
             1,
             "#f0f921"
            ]
           ]
          },
          "colorway": [
           "#636efa",
           "#EF553B",
           "#00cc96",
           "#ab63fa",
           "#FFA15A",
           "#19d3f3",
           "#FF6692",
           "#B6E880",
           "#FF97FF",
           "#FECB52"
          ],
          "font": {
           "color": "#2a3f5f"
          },
          "geo": {
           "bgcolor": "white",
           "lakecolor": "white",
           "landcolor": "#E5ECF6",
           "showlakes": true,
           "showland": true,
           "subunitcolor": "white"
          },
          "hoverlabel": {
           "align": "left"
          },
          "hovermode": "closest",
          "mapbox": {
           "style": "light"
          },
          "paper_bgcolor": "white",
          "plot_bgcolor": "#E5ECF6",
          "polar": {
           "angularaxis": {
            "gridcolor": "white",
            "linecolor": "white",
            "ticks": ""
           },
           "bgcolor": "#E5ECF6",
           "radialaxis": {
            "gridcolor": "white",
            "linecolor": "white",
            "ticks": ""
           }
          },
          "scene": {
           "xaxis": {
            "backgroundcolor": "#E5ECF6",
            "gridcolor": "white",
            "gridwidth": 2,
            "linecolor": "white",
            "showbackground": true,
            "ticks": "",
            "zerolinecolor": "white"
           },
           "yaxis": {
            "backgroundcolor": "#E5ECF6",
            "gridcolor": "white",
            "gridwidth": 2,
            "linecolor": "white",
            "showbackground": true,
            "ticks": "",
            "zerolinecolor": "white"
           },
           "zaxis": {
            "backgroundcolor": "#E5ECF6",
            "gridcolor": "white",
            "gridwidth": 2,
            "linecolor": "white",
            "showbackground": true,
            "ticks": "",
            "zerolinecolor": "white"
           }
          },
          "shapedefaults": {
           "line": {
            "color": "#2a3f5f"
           }
          },
          "ternary": {
           "aaxis": {
            "gridcolor": "white",
            "linecolor": "white",
            "ticks": ""
           },
           "baxis": {
            "gridcolor": "white",
            "linecolor": "white",
            "ticks": ""
           },
           "bgcolor": "#E5ECF6",
           "caxis": {
            "gridcolor": "white",
            "linecolor": "white",
            "ticks": ""
           }
          },
          "title": {
           "x": 0.05
          },
          "xaxis": {
           "automargin": true,
           "gridcolor": "white",
           "linecolor": "white",
           "ticks": "",
           "title": {
            "standoff": 15
           },
           "zerolinecolor": "white",
           "zerolinewidth": 2
          },
          "yaxis": {
           "automargin": true,
           "gridcolor": "white",
           "linecolor": "white",
           "ticks": "",
           "title": {
            "standoff": 15
           },
           "zerolinecolor": "white",
           "zerolinewidth": 2
          }
         }
        },
        "title": {
         "font": {
          "color": "#3c4444",
          "family": "Arial",
          "size": 20
         },
         "text": "Sexism Distribution"
        }
       }
      },
      "image/png": "[encoded data removed]",
      "text/html": [
       "<div>                            <div id=\"da3eea3f-53fa-4f1b-8872-016277908391\" class=\"plotly-graph-div\" style=\"height:525px; width:100%;\"></div>            <script type=\"text/javascript\">                require([\"plotly\"], function(Plotly) {                    window.PLOTLYENV=window.PLOTLYENV || {};                                    if (document.getElementById(\"da3eea3f-53fa-4f1b-8872-016277908391\")) {                    Plotly.newPlot(                        \"da3eea3f-53fa-4f1b-8872-016277908391\",                        [{\"hole\":0.4,\"labels\":[\"hate\",\"profanities\",\"abuse\",\"sexually-explicit\",\"violent\"],\"textposition\":\"inside\",\"values\":[36.92249906097408,30.299236258920747,12.8208338550144,11.443595843245273,8.513834981845498],\"type\":\"pie\",\"marker\":{\"colors\":[\"#cc64bc\",\"#fbd305\",\"#C4D454\",\"#EB8B59\",\"#5BC3E3\"]}}],                        {\"template\":{\"data\":{\"histogram2dcontour\":[{\"type\":\"histogram2dcontour\",\"colorbar\":{\"outlinewidth\":0,\"ticks\":\"\"},\"colorscale\":[[0.0,\"#0d0887\"],[0.1111111111111111,\"#46039f\"],[0.2222222222222222,\"#7201a8\"],[0.3333333333333333,\"#9c179e\"],[0.4444444444444444,\"#bd3786\"],[0.5555555555555556,\"#d8576b\"],[0.6666666666666666,\"#ed7953\"],[0.7777777777777778,\"#fb9f3a\"],[0.8888888888888888,\"#fdca26\"],[1.0,\"#f0f921\"]]}],\"choropleth\":[{\"type\":\"choropleth\",\"colorbar\":{\"outlinewidth\":0,\"ticks\":\"\"}}],\"histogram2d\":[{\"type\":\"histogram2d\",\"colorbar\":{\"outlinewidth\":0,\"ticks\":\"\"},\"colorscale\":[[0.0,\"#0d0887\"],[0.1111111111111111,\"#46039f\"],[0.2222222222222222,\"#7201a8\"],[0.3333333333333333,\"#9c179e\"],[0.4444444444444444,\"#bd3786\"],[0.5555555555555556,\"#d8576b\"],[0.6666666666666666,\"#ed7953\"],[0.7777777777777778,\"#fb9f3a\"],[0.8888888888888888,\"#fdca26\"],[1.0,\"#f0f921\"]]}],\"heatmap\":[{\"type\":\"heatmap\",\"colorbar\":{\"outlinewidth\":0,\"ticks\":\"\"},\"colorscale\":[[0.0,\"#0d0887\"],[0.1111111111111111,\"#46039f\"],[0.2222222222222222,\"#7201a8\"],[0.3333333333333333,\"#9c179e\"],[0.4444444444444444,\"#bd3786\"],[0.5555555555555556,\"#d8576b\"],[0.6666666666666666,\"#ed7953\"],[0.7777777777777778,\"#fb9f3a\"],[0.8888888888888888,\"#fdca26\"],[1.0,\"#f0f921\"]]}],\"heatmapgl\":[{\"type\":\"heatmapgl\",\"colorbar\":{\"outlinewidth\":0,\"ticks\":\"\"},\"colorscale\":[[0.0,\"#0d0887\"],[0.1111111111111111,\"#46039f\"],[0.2222222222222222,\"#7201a8\"],[0.3333333333333333,\"#9c179e\"],[0.4444444444444444,\"#bd3786\"],[0.5555555555555556,\"#d8576b\"],[0.6666666666666666,\"#ed7953\"],[0.7777777777777778,\"#fb9f3a\"],[0.8888888888888888,\"#fdca26\"],[1.0,\"#f0f921\"]]}],\"contourcarpet\":[{\"type\":\"contourcarpet\",\"colorbar\":{\"outlinewidth\":0,\"ticks\":\"\"}}],\"contour\":[{\"type\":\"contour\",\"colorbar\":{\"outlinewidth\":0,\"ticks\":\"\"},\"colorscale\":[[0.0,\"#0d0887\"],[0.1111111111111111,\"#46039f\"],[0.2222222222222222,\"#7201a8\"],[0.3333333333333333,\"#9c179e\"],[0.4444444444444444,\"#bd3786\"],[0.5555555555555556,\"#d8576b\"],[0.6666666666666666,\"#ed7953\"],[0.7777777777777778,\"#fb9f3a\"],[0.8888888888888888,\"#fdca26\"],[1.0,\"#f0f921\"]]}],\"surface\":[{\"type\":\"surface\",\"colorbar\":{\"outlinewidth\":0,\"ticks\":\"\"},\"colorscale\":[[0.0,\"#0d0887\"],[0.1111111111111111,\"#46039f\"],[0.2222222222222222,\"#7201a8\"],[0.3333333333333333,\"#9c179e\"],[0.4444444444444444,\"#bd3786\"],[0.5555555555555556,\"#d8576b\"],[0.6666666666666666,\"#ed7953\"],[0.7777777777777778,\"#fb9f3a\"],[0.8888888888888888,\"#fdca26\"],[1.0,\"#f0f921\"]]}],\"mesh3d\":[{\"type\":\"mesh3d\",\"colorbar\":{\"outlinewidth\":0,\"ticks\":\"\"}}],\"scatter\":[{\"fillpattern\":{\"fillmode\":\"overlay\",\"size\":10,\"solidity\":0.2},\"type\":\"scatter\"}],\"parcoords\":[{\"type\":\"parcoords\",\"line\":{\"colorbar\":{\"outlinewidth\":0,\"ticks\":\"\"}}}],\"scatterpolargl\":[{\"type\":\"scatterpolargl\",\"marker\":{\"colorbar\":{\"outlinewidth\":0,\"ticks\":\"\"}}}],\"bar\":[{\"error_x\":{\"color\":\"#2a3f5f\"},\"error_y\":{\"color\":\"#2a3f5f\"},\"marker\":{\"line\":{\"color\":\"#E5ECF6\",\"width\":0.5},\"pattern\":{\"fillmode\":\"overlay\",\"size\":10,\"solidity\":0.2}},\"type\":\"bar\"}],\"scattergeo\":[{\"type\":\"scattergeo\",\"marker\":{\"colorbar\":{\"outlinewidth\":0,\"ticks\":\"\"}}}],\"scatterpolar\":[{\"type\":\"scatterpolar\",\"marker\":{\"colorbar\":{\"outlinewidth\":0,\"ticks\":\"\"}}}],\"histogram\":[{\"marker\":{\"pattern\":{\"fillmode\":\"overlay\",\"size\":10,\"solidity\":0.2}},\"type\":\"histogram\"}],\"scattergl\":[{\"type\":\"scattergl\",\"marker\":{\"colorbar\":{\"outlinewidth\":0,\"ticks\":\"\"}}}],\"scatter3d\":[{\"type\":\"scatter3d\",\"line\":{\"colorbar\":{\"outlinewidth\":0,\"ticks\":\"\"}},\"marker\":{\"colorbar\":{\"outlinewidth\":0,\"ticks\":\"\"}}}],\"scattermapbox\":[{\"type\":\"scattermapbox\",\"marker\":{\"colorbar\":{\"outlinewidth\":0,\"ticks\":\"\"}}}],\"scatterternary\":[{\"type\":\"scatterternary\",\"marker\":{\"colorbar\":{\"outlinewidth\":0,\"ticks\":\"\"}}}],\"scattercarpet\":[{\"type\":\"scattercarpet\",\"marker\":{\"colorbar\":{\"outlinewidth\":0,\"ticks\":\"\"}}}],\"carpet\":[{\"aaxis\":{\"endlinecolor\":\"#2a3f5f\",\"gridcolor\":\"white\",\"linecolor\":\"white\",\"minorgridcolor\":\"white\",\"startlinecolor\":\"#2a3f5f\"},\"baxis\":{\"endlinecolor\":\"#2a3f5f\",\"gridcolor\":\"white\",\"linecolor\":\"white\",\"minorgridcolor\":\"white\",\"startlinecolor\":\"#2a3f5f\"},\"type\":\"carpet\"}],\"table\":[{\"cells\":{\"fill\":{\"color\":\"#EBF0F8\"},\"line\":{\"color\":\"white\"}},\"header\":{\"fill\":{\"color\":\"#C8D4E3\"},\"line\":{\"color\":\"white\"}},\"type\":\"table\"}],\"barpolar\":[{\"marker\":{\"line\":{\"color\":\"#E5ECF6\",\"width\":0.5},\"pattern\":{\"fillmode\":\"overlay\",\"size\":10,\"solidity\":0.2}},\"type\":\"barpolar\"}],\"pie\":[{\"automargin\":true,\"type\":\"pie\"}]},\"layout\":{\"autotypenumbers\":\"strict\",\"colorway\":[\"#636efa\",\"#EF553B\",\"#00cc96\",\"#ab63fa\",\"#FFA15A\",\"#19d3f3\",\"#FF6692\",\"#B6E880\",\"#FF97FF\",\"#FECB52\"],\"font\":{\"color\":\"#2a3f5f\"},\"hovermode\":\"closest\",\"hoverlabel\":{\"align\":\"left\"},\"paper_bgcolor\":\"white\",\"plot_bgcolor\":\"#E5ECF6\",\"polar\":{\"bgcolor\":\"#E5ECF6\",\"angularaxis\":{\"gridcolor\":\"white\",\"linecolor\":\"white\",\"ticks\":\"\"},\"radialaxis\":{\"gridcolor\":\"white\",\"linecolor\":\"white\",\"ticks\":\"\"}},\"ternary\":{\"bgcolor\":\"#E5ECF6\",\"aaxis\":{\"gridcolor\":\"white\",\"linecolor\":\"white\",\"ticks\":\"\"},\"baxis\":{\"gridcolor\":\"white\",\"linecolor\":\"white\",\"ticks\":\"\"},\"caxis\":{\"gridcolor\":\"white\",\"linecolor\":\"white\",\"ticks\":\"\"}},\"coloraxis\":{\"colorbar\":{\"outlinewidth\":0,\"ticks\":\"\"}},\"colorscale\":{\"sequential\":[[0.0,\"#0d0887\"],[0.1111111111111111,\"#46039f\"],[0.2222222222222222,\"#7201a8\"],[0.3333333333333333,\"#9c179e\"],[0.4444444444444444,\"#bd3786\"],[0.5555555555555556,\"#d8576b\"],[0.6666666666666666,\"#ed7953\"],[0.7777777777777778,\"#fb9f3a\"],[0.8888888888888888,\"#fdca26\"],[1.0,\"#f0f921\"]],\"sequentialminus\":[[0.0,\"#0d0887\"],[0.1111111111111111,\"#46039f\"],[0.2222222222222222,\"#7201a8\"],[0.3333333333333333,\"#9c179e\"],[0.4444444444444444,\"#bd3786\"],[0.5555555555555556,\"#d8576b\"],[0.6666666666666666,\"#ed7953\"],[0.7777777777777778,\"#fb9f3a\"],[0.8888888888888888,\"#fdca26\"],[1.0,\"#f0f921\"]],\"diverging\":[[0,\"#8e0152\"],[0.1,\"#c51b7d\"],[0.2,\"#de77ae\"],[0.3,\"#f1b6da\"],[0.4,\"#fde0ef\"],[0.5,\"#f7f7f7\"],[0.6,\"#e6f5d0\"],[0.7,\"#b8e186\"],[0.8,\"#7fbc41\"],[0.9,\"#4d9221\"],[1,\"#276419\"]]},\"xaxis\":{\"gridcolor\":\"white\",\"linecolor\":\"white\",\"ticks\":\"\",\"title\":{\"standoff\":15},\"zerolinecolor\":\"white\",\"automargin\":true,\"zerolinewidth\":2},\"yaxis\":{\"gridcolor\":\"white\",\"linecolor\":\"white\",\"ticks\":\"\",\"title\":{\"standoff\":15},\"zerolinecolor\":\"white\",\"automargin\":true,\"zerolinewidth\":2},\"scene\":{\"xaxis\":{\"backgroundcolor\":\"#E5ECF6\",\"gridcolor\":\"white\",\"linecolor\":\"white\",\"showbackground\":true,\"ticks\":\"\",\"zerolinecolor\":\"white\",\"gridwidth\":2},\"yaxis\":{\"backgroundcolor\":\"#E5ECF6\",\"gridcolor\":\"white\",\"linecolor\":\"white\",\"showbackground\":true,\"ticks\":\"\",\"zerolinecolor\":\"white\",\"gridwidth\":2},\"zaxis\":{\"backgroundcolor\":\"#E5ECF6\",\"gridcolor\":\"white\",\"linecolor\":\"white\",\"showbackground\":true,\"ticks\":\"\",\"zerolinecolor\":\"white\",\"gridwidth\":2}},\"shapedefaults\":{\"line\":{\"color\":\"#2a3f5f\"}},\"annotationdefaults\":{\"arrowcolor\":\"#2a3f5f\",\"arrowhead\":0,\"arrowwidth\":1},\"geo\":{\"bgcolor\":\"white\",\"landcolor\":\"#E5ECF6\",\"subunitcolor\":\"white\",\"showland\":true,\"showlakes\":true,\"lakecolor\":\"white\"},\"title\":{\"x\":0.05},\"mapbox\":{\"style\":\"light\"}}},\"title\":{\"text\":\"Sexism Distribution\",\"font\":{\"size\":20,\"family\":\"Arial\",\"color\":\"#3c4444\"}},\"legend\":{\"font\":{\"family\":\"Calibri\",\"color\":\"#3c4444\"}},\"plot_bgcolor\":\"white\"},                        {\"responsive\": true}                    ).then(function(){\n",
       "                            \n",
       "var gd = document.getElementById('da3eea3f-53fa-4f1b-8872-016277908391');\n",
       "var x = new MutationObserver(function (mutations, observer) {{\n",
       "        var display = window.getComputedStyle(gd).display;\n",
       "        if (!display || display === 'none') {{\n",
       "            console.log([gd, 'removed!']);\n",
       "            Plotly.purge(gd);\n",
       "            observer.disconnect();\n",
       "        }}\n",
       "}});\n",
       "\n",
       "// Listen for the removal of the full notebook cells\n",
       "var notebookContainer = gd.closest('#notebook-container');\n",
       "if (notebookContainer) {{\n",
       "    x.observe(notebookContainer, {childList: true});\n",
       "}}\n",
       "\n",
       "// Listen for the clearing of the current output cell\n",
       "var outputEl = gd.closest('.output');\n",
       "if (outputEl) {{\n",
       "    x.observe(outputEl, {childList: true});\n",
       "}}\n",
       "\n",
       "                        })                };                });            </script>        </div>"
      ]
     },
     "metadata": {},
     "output_type": "display_data"
    }
   ],
   "source": [
    "colors = [PURP, YELL, GREEN, SALM, BLUE2] \n",
    "fig2 = create_donut_chart(integrated_data.query(\"type!='non-sexist'\").type, colors=colors, \n",
    "                   legend_font=font, legend_color=BLCK, label_font=font, title_color=BLCK)\n",
    "fig2.show()"
   ]
  },
  {
   "cell_type": "code",
   "execution_count": 13,
   "id": "7f223ce8-bb3a-4449-b416-1589256568b5",
   "metadata": {},
   "outputs": [
    {
     "name": "stdout",
     "output_type": "stream",
     "text": [
      "English: 80.55%\n",
      "Spanish: 19.45%\n"
     ]
    }
   ],
   "source": [
    "count = (integrated_data.language == \"en\").sum()\n",
    "print(f\"English: {round(count/total*100, 2)}%\\nSpanish: {round((total-count)/total*100, 2)}%\")"
   ]
  },
  {
   "cell_type": "code",
   "execution_count": 98,
   "id": "10ab7c2f-dff3-4c44-8820-768ad0827802",
   "metadata": {},
   "outputs": [
    {
     "data": {
      "application/vnd.plotly.v1+json": {
       "config": {
        "plotlyServerURL": "https://plot.ly"
       },
       "data": [
        {
         "alignmentgroup": "True",
         "hovertemplate": "sexist=Non-Sexist<br>language=%{x}<br>counts=%{y}<extra></extra>",
         "legendgroup": "Non-Sexist",
         "marker": {
          "color": "#418fde",
          "pattern": {
           "shape": ""
          }
         },
         "name": "Non-Sexist",
         "offsetgroup": "Non-Sexist",
         "orientation": "v",
         "showlegend": true,
         "textposition": "auto",
         "texttemplate": "%{y:i}",
         "type": "bar",
         "x": [
          "English",
          "Spanish",
          "All"
         ],
         "xaxis": "x",
         "y": [
          34256,
          6182,
          40438
         ],
         "yaxis": "y"
        },
        {
         "alignmentgroup": "True",
         "hovertemplate": "sexist=Sexist<br>language=%{x}<br>counts=%{y}<extra></extra>",
         "legendgroup": "Sexist",
         "marker": {
          "color": "#ea544d",
          "pattern": {
           "shape": ""
          }
         },
         "name": "Sexist",
         "offsetgroup": "Sexist",
         "orientation": "v",
         "showlegend": true,
         "textposition": "auto",
         "texttemplate": "%{y:i}",
         "type": "bar",
         "x": [
          "English",
          "Spanish",
          "All"
         ],
         "xaxis": "x",
         "y": [
          13270,
          5297,
          18567
         ],
         "yaxis": "y"
        },
        {
         "alignmentgroup": "True",
         "hovertemplate": "sexist=All<br>language=%{x}<br>counts=%{y}<extra></extra>",
         "legendgroup": "All",
         "marker": {
          "color": "#C4D454",
          "pattern": {
           "shape": ""
          }
         },
         "name": "All",
         "offsetgroup": "All",
         "orientation": "v",
         "showlegend": true,
         "textposition": "auto",
         "texttemplate": "%{y:i}",
         "type": "bar",
         "x": [
          "English",
          "Spanish",
          "All"
         ],
         "xaxis": "x",
         "y": [
          47526,
          11479,
          59005
         ],
         "yaxis": "y"
        }
       ],
       "layout": {
        "autosize": true,
        "barmode": "group",
        "legend": {
         "title": {
          "text": "sexist"
         },
         "tracegroupgap": 0
        },
        "margin": {
         "t": 60
        },
        "template": {
         "data": {
          "bar": [
           {
            "error_x": {
             "color": "#2a3f5f"
            },
            "error_y": {
             "color": "#2a3f5f"
            },
            "marker": {
             "line": {
              "color": "#E5ECF6",
              "width": 0.5
             },
             "pattern": {
              "fillmode": "overlay",
              "size": 10,
              "solidity": 0.2
             }
            },
            "type": "bar"
           }
          ],
          "barpolar": [
           {
            "marker": {
             "line": {
              "color": "#E5ECF6",
              "width": 0.5
             },
             "pattern": {
              "fillmode": "overlay",
              "size": 10,
              "solidity": 0.2
             }
            },
            "type": "barpolar"
           }
          ],
          "carpet": [
           {
            "aaxis": {
             "endlinecolor": "#2a3f5f",
             "gridcolor": "white",
             "linecolor": "white",
             "minorgridcolor": "white",
             "startlinecolor": "#2a3f5f"
            },
            "baxis": {
             "endlinecolor": "#2a3f5f",
             "gridcolor": "white",
             "linecolor": "white",
             "minorgridcolor": "white",
             "startlinecolor": "#2a3f5f"
            },
            "type": "carpet"
           }
          ],
          "choropleth": [
           {
            "colorbar": {
             "outlinewidth": 0,
             "ticks": ""
            },
            "type": "choropleth"
           }
          ],
          "contour": [
           {
            "colorbar": {
             "outlinewidth": 0,
             "ticks": ""
            },
            "colorscale": [
             [
              0,
              "#0d0887"
             ],
             [
              0.1111111111111111,
              "#46039f"
             ],
             [
              0.2222222222222222,
              "#7201a8"
             ],
             [
              0.3333333333333333,
              "#9c179e"
             ],
             [
              0.4444444444444444,
              "#bd3786"
             ],
             [
              0.5555555555555556,
              "#d8576b"
             ],
             [
              0.6666666666666666,
              "#ed7953"
             ],
             [
              0.7777777777777778,
              "#fb9f3a"
             ],
             [
              0.8888888888888888,
              "#fdca26"
             ],
             [
              1,
              "#f0f921"
             ]
            ],
            "type": "contour"
           }
          ],
          "contourcarpet": [
           {
            "colorbar": {
             "outlinewidth": 0,
             "ticks": ""
            },
            "type": "contourcarpet"
           }
          ],
          "heatmap": [
           {
            "colorbar": {
             "outlinewidth": 0,
             "ticks": ""
            },
            "colorscale": [
             [
              0,
              "#0d0887"
             ],
             [
              0.1111111111111111,
              "#46039f"
             ],
             [
              0.2222222222222222,
              "#7201a8"
             ],
             [
              0.3333333333333333,
              "#9c179e"
             ],
             [
              0.4444444444444444,
              "#bd3786"
             ],
             [
              0.5555555555555556,
              "#d8576b"
             ],
             [
              0.6666666666666666,
              "#ed7953"
             ],
             [
              0.7777777777777778,
              "#fb9f3a"
             ],
             [
              0.8888888888888888,
              "#fdca26"
             ],
             [
              1,
              "#f0f921"
             ]
            ],
            "type": "heatmap"
           }
          ],
          "heatmapgl": [
           {
            "colorbar": {
             "outlinewidth": 0,
             "ticks": ""
            },
            "colorscale": [
             [
              0,
              "#0d0887"
             ],
             [
              0.1111111111111111,
              "#46039f"
             ],
             [
              0.2222222222222222,
              "#7201a8"
             ],
             [
              0.3333333333333333,
              "#9c179e"
             ],
             [
              0.4444444444444444,
              "#bd3786"
             ],
             [
              0.5555555555555556,
              "#d8576b"
             ],
             [
              0.6666666666666666,
              "#ed7953"
             ],
             [
              0.7777777777777778,
              "#fb9f3a"
             ],
             [
              0.8888888888888888,
              "#fdca26"
             ],
             [
              1,
              "#f0f921"
             ]
            ],
            "type": "heatmapgl"
           }
          ],
          "histogram": [
           {
            "marker": {
             "pattern": {
              "fillmode": "overlay",
              "size": 10,
              "solidity": 0.2
             }
            },
            "type": "histogram"
           }
          ],
          "histogram2d": [
           {
            "colorbar": {
             "outlinewidth": 0,
             "ticks": ""
            },
            "colorscale": [
             [
              0,
              "#0d0887"
             ],
             [
              0.1111111111111111,
              "#46039f"
             ],
             [
              0.2222222222222222,
              "#7201a8"
             ],
             [
              0.3333333333333333,
              "#9c179e"
             ],
             [
              0.4444444444444444,
              "#bd3786"
             ],
             [
              0.5555555555555556,
              "#d8576b"
             ],
             [
              0.6666666666666666,
              "#ed7953"
             ],
             [
              0.7777777777777778,
              "#fb9f3a"
             ],
             [
              0.8888888888888888,
              "#fdca26"
             ],
             [
              1,
              "#f0f921"
             ]
            ],
            "type": "histogram2d"
           }
          ],
          "histogram2dcontour": [
           {
            "colorbar": {
             "outlinewidth": 0,
             "ticks": ""
            },
            "colorscale": [
             [
              0,
              "#0d0887"
             ],
             [
              0.1111111111111111,
              "#46039f"
             ],
             [
              0.2222222222222222,
              "#7201a8"
             ],
             [
              0.3333333333333333,
              "#9c179e"
             ],
             [
              0.4444444444444444,
              "#bd3786"
             ],
             [
              0.5555555555555556,
              "#d8576b"
             ],
             [
              0.6666666666666666,
              "#ed7953"
             ],
             [
              0.7777777777777778,
              "#fb9f3a"
             ],
             [
              0.8888888888888888,
              "#fdca26"
             ],
             [
              1,
              "#f0f921"
             ]
            ],
            "type": "histogram2dcontour"
           }
          ],
          "mesh3d": [
           {
            "colorbar": {
             "outlinewidth": 0,
             "ticks": ""
            },
            "type": "mesh3d"
           }
          ],
          "parcoords": [
           {
            "line": {
             "colorbar": {
              "outlinewidth": 0,
              "ticks": ""
             }
            },
            "type": "parcoords"
           }
          ],
          "pie": [
           {
            "automargin": true,
            "type": "pie"
           }
          ],
          "scatter": [
           {
            "fillpattern": {
             "fillmode": "overlay",
             "size": 10,
             "solidity": 0.2
            },
            "type": "scatter"
           }
          ],
          "scatter3d": [
           {
            "line": {
             "colorbar": {
              "outlinewidth": 0,
              "ticks": ""
             }
            },
            "marker": {
             "colorbar": {
              "outlinewidth": 0,
              "ticks": ""
             }
            },
            "type": "scatter3d"
           }
          ],
          "scattercarpet": [
           {
            "marker": {
             "colorbar": {
              "outlinewidth": 0,
              "ticks": ""
             }
            },
            "type": "scattercarpet"
           }
          ],
          "scattergeo": [
           {
            "marker": {
             "colorbar": {
              "outlinewidth": 0,
              "ticks": ""
             }
            },
            "type": "scattergeo"
           }
          ],
          "scattergl": [
           {
            "marker": {
             "colorbar": {
              "outlinewidth": 0,
              "ticks": ""
             }
            },
            "type": "scattergl"
           }
          ],
          "scattermapbox": [
           {
            "marker": {
             "colorbar": {
              "outlinewidth": 0,
              "ticks": ""
             }
            },
            "type": "scattermapbox"
           }
          ],
          "scatterpolar": [
           {
            "marker": {
             "colorbar": {
              "outlinewidth": 0,
              "ticks": ""
             }
            },
            "type": "scatterpolar"
           }
          ],
          "scatterpolargl": [
           {
            "marker": {
             "colorbar": {
              "outlinewidth": 0,
              "ticks": ""
             }
            },
            "type": "scatterpolargl"
           }
          ],
          "scatterternary": [
           {
            "marker": {
             "colorbar": {
              "outlinewidth": 0,
              "ticks": ""
             }
            },
            "type": "scatterternary"
           }
          ],
          "surface": [
           {
            "colorbar": {
             "outlinewidth": 0,
             "ticks": ""
            },
            "colorscale": [
             [
              0,
              "#0d0887"
             ],
             [
              0.1111111111111111,
              "#46039f"
             ],
             [
              0.2222222222222222,
              "#7201a8"
             ],
             [
              0.3333333333333333,
              "#9c179e"
             ],
             [
              0.4444444444444444,
              "#bd3786"
             ],
             [
              0.5555555555555556,
              "#d8576b"
             ],
             [
              0.6666666666666666,
              "#ed7953"
             ],
             [
              0.7777777777777778,
              "#fb9f3a"
             ],
             [
              0.8888888888888888,
              "#fdca26"
             ],
             [
              1,
              "#f0f921"
             ]
            ],
            "type": "surface"
           }
          ],
          "table": [
           {
            "cells": {
             "fill": {
              "color": "#EBF0F8"
             },
             "line": {
              "color": "white"
             }
            },
            "header": {
             "fill": {
              "color": "#C8D4E3"
             },
             "line": {
              "color": "white"
             }
            },
            "type": "table"
           }
          ]
         },
         "layout": {
          "annotationdefaults": {
           "arrowcolor": "#2a3f5f",
           "arrowhead": 0,
           "arrowwidth": 1
          },
          "autotypenumbers": "strict",
          "coloraxis": {
           "colorbar": {
            "outlinewidth": 0,
            "ticks": ""
           }
          },
          "colorscale": {
           "diverging": [
            [
             0,
             "#8e0152"
            ],
            [
             0.1,
             "#c51b7d"
            ],
            [
             0.2,
             "#de77ae"
            ],
            [
             0.3,
             "#f1b6da"
            ],
            [
             0.4,
             "#fde0ef"
            ],
            [
             0.5,
             "#f7f7f7"
            ],
            [
             0.6,
             "#e6f5d0"
            ],
            [
             0.7,
             "#b8e186"
            ],
            [
             0.8,
             "#7fbc41"
            ],
            [
             0.9,
             "#4d9221"
            ],
            [
             1,
             "#276419"
            ]
           ],
           "sequential": [
            [
             0,
             "#0d0887"
            ],
            [
             0.1111111111111111,
             "#46039f"
            ],
            [
             0.2222222222222222,
             "#7201a8"
            ],
            [
             0.3333333333333333,
             "#9c179e"
            ],
            [
             0.4444444444444444,
             "#bd3786"
            ],
            [
             0.5555555555555556,
             "#d8576b"
            ],
            [
             0.6666666666666666,
             "#ed7953"
            ],
            [
             0.7777777777777778,
             "#fb9f3a"
            ],
            [
             0.8888888888888888,
             "#fdca26"
            ],
            [
             1,
             "#f0f921"
            ]
           ],
           "sequentialminus": [
            [
             0,
             "#0d0887"
            ],
            [
             0.1111111111111111,
             "#46039f"
            ],
            [
             0.2222222222222222,
             "#7201a8"
            ],
            [
             0.3333333333333333,
             "#9c179e"
            ],
            [
             0.4444444444444444,
             "#bd3786"
            ],
            [
             0.5555555555555556,
             "#d8576b"
            ],
            [
             0.6666666666666666,
             "#ed7953"
            ],
            [
             0.7777777777777778,
             "#fb9f3a"
            ],
            [
             0.8888888888888888,
             "#fdca26"
            ],
            [
             1,
             "#f0f921"
            ]
           ]
          },
          "colorway": [
           "#636efa",
           "#EF553B",
           "#00cc96",
           "#ab63fa",
           "#FFA15A",
           "#19d3f3",
           "#FF6692",
           "#B6E880",
           "#FF97FF",
           "#FECB52"
          ],
          "font": {
           "color": "#2a3f5f"
          },
          "geo": {
           "bgcolor": "white",
           "lakecolor": "white",
           "landcolor": "#E5ECF6",
           "showlakes": true,
           "showland": true,
           "subunitcolor": "white"
          },
          "hoverlabel": {
           "align": "left"
          },
          "hovermode": "closest",
          "mapbox": {
           "style": "light"
          },
          "paper_bgcolor": "white",
          "plot_bgcolor": "#E5ECF6",
          "polar": {
           "angularaxis": {
            "gridcolor": "white",
            "linecolor": "white",
            "ticks": ""
           },
           "bgcolor": "#E5ECF6",
           "radialaxis": {
            "gridcolor": "white",
            "linecolor": "white",
            "ticks": ""
           }
          },
          "scene": {
           "xaxis": {
            "backgroundcolor": "#E5ECF6",
            "gridcolor": "white",
            "gridwidth": 2,
            "linecolor": "white",
            "showbackground": true,
            "ticks": "",
            "zerolinecolor": "white"
           },
           "yaxis": {
            "backgroundcolor": "#E5ECF6",
            "gridcolor": "white",
            "gridwidth": 2,
            "linecolor": "white",
            "showbackground": true,
            "ticks": "",
            "zerolinecolor": "white"
           },
           "zaxis": {
            "backgroundcolor": "#E5ECF6",
            "gridcolor": "white",
            "gridwidth": 2,
            "linecolor": "white",
            "showbackground": true,
            "ticks": "",
            "zerolinecolor": "white"
           }
          },
          "shapedefaults": {
           "line": {
            "color": "#2a3f5f"
           }
          },
          "ternary": {
           "aaxis": {
            "gridcolor": "white",
            "linecolor": "white",
            "ticks": ""
           },
           "baxis": {
            "gridcolor": "white",
            "linecolor": "white",
            "ticks": ""
           },
           "bgcolor": "#E5ECF6",
           "caxis": {
            "gridcolor": "white",
            "linecolor": "white",
            "ticks": ""
           }
          },
          "title": {
           "x": 0.05
          },
          "xaxis": {
           "automargin": true,
           "gridcolor": "white",
           "linecolor": "white",
           "ticks": "",
           "title": {
            "standoff": 15
           },
           "zerolinecolor": "white",
           "zerolinewidth": 2
          },
          "yaxis": {
           "automargin": true,
           "gridcolor": "white",
           "linecolor": "white",
           "ticks": "",
           "title": {
            "standoff": 15
           },
           "zerolinecolor": "white",
           "zerolinewidth": 2
          }
         }
        },
        "xaxis": {
         "anchor": "y",
         "autorange": true,
         "domain": [
          0,
          1
         ],
         "range": [
          -0.5,
          2.5
         ],
         "title": {
          "text": "language"
         },
         "type": "category"
        },
        "yaxis": {
         "anchor": "x",
         "autorange": true,
         "domain": [
          0,
          1
         ],
         "range": [
          0,
          62110.52631578947
         ],
         "title": {
          "text": "counts"
         },
         "type": "linear"
        }
       }
      },
      "image/png": "[encoded data removed]",
      "text/html": [
       "<div>                            <div id=\"6df65a96-71ef-4020-86da-c3d73e76a51b\" class=\"plotly-graph-div\" style=\"height:500px; width:100%;\"></div>            <script type=\"text/javascript\">                require([\"plotly\"], function(Plotly) {                    window.PLOTLYENV=window.PLOTLYENV || {};                                    if (document.getElementById(\"6df65a96-71ef-4020-86da-c3d73e76a51b\")) {                    Plotly.newPlot(                        \"6df65a96-71ef-4020-86da-c3d73e76a51b\",                        [{\"alignmentgroup\":\"True\",\"hovertemplate\":\"sexist=Non-Sexist<br>language=%{x}<br>counts=%{y}<extra></extra>\",\"legendgroup\":\"Non-Sexist\",\"marker\":{\"color\":\"#418fde\",\"pattern\":{\"shape\":\"\"}},\"name\":\"Non-Sexist\",\"offsetgroup\":\"Non-Sexist\",\"orientation\":\"v\",\"showlegend\":true,\"textposition\":\"auto\",\"texttemplate\":\"%{y:i}\",\"x\":[\"English\",\"Spanish\",\"All\"],\"xaxis\":\"x\",\"y\":[34256,6182,40438],\"yaxis\":\"y\",\"type\":\"bar\"},{\"alignmentgroup\":\"True\",\"hovertemplate\":\"sexist=Sexist<br>language=%{x}<br>counts=%{y}<extra></extra>\",\"legendgroup\":\"Sexist\",\"marker\":{\"color\":\"#ea544d\",\"pattern\":{\"shape\":\"\"}},\"name\":\"Sexist\",\"offsetgroup\":\"Sexist\",\"orientation\":\"v\",\"showlegend\":true,\"textposition\":\"auto\",\"texttemplate\":\"%{y:i}\",\"x\":[\"English\",\"Spanish\",\"All\"],\"xaxis\":\"x\",\"y\":[13270,5297,18567],\"yaxis\":\"y\",\"type\":\"bar\"},{\"alignmentgroup\":\"True\",\"hovertemplate\":\"sexist=All<br>language=%{x}<br>counts=%{y}<extra></extra>\",\"legendgroup\":\"All\",\"marker\":{\"color\":\"#C4D454\",\"pattern\":{\"shape\":\"\"}},\"name\":\"All\",\"offsetgroup\":\"All\",\"orientation\":\"v\",\"showlegend\":true,\"textposition\":\"auto\",\"texttemplate\":\"%{y:i}\",\"x\":[\"English\",\"Spanish\",\"All\"],\"xaxis\":\"x\",\"y\":[47526,11479,59005],\"yaxis\":\"y\",\"type\":\"bar\"}],                        {\"template\":{\"data\":{\"histogram2dcontour\":[{\"type\":\"histogram2dcontour\",\"colorbar\":{\"outlinewidth\":0,\"ticks\":\"\"},\"colorscale\":[[0.0,\"#0d0887\"],[0.1111111111111111,\"#46039f\"],[0.2222222222222222,\"#7201a8\"],[0.3333333333333333,\"#9c179e\"],[0.4444444444444444,\"#bd3786\"],[0.5555555555555556,\"#d8576b\"],[0.6666666666666666,\"#ed7953\"],[0.7777777777777778,\"#fb9f3a\"],[0.8888888888888888,\"#fdca26\"],[1.0,\"#f0f921\"]]}],\"choropleth\":[{\"type\":\"choropleth\",\"colorbar\":{\"outlinewidth\":0,\"ticks\":\"\"}}],\"histogram2d\":[{\"type\":\"histogram2d\",\"colorbar\":{\"outlinewidth\":0,\"ticks\":\"\"},\"colorscale\":[[0.0,\"#0d0887\"],[0.1111111111111111,\"#46039f\"],[0.2222222222222222,\"#7201a8\"],[0.3333333333333333,\"#9c179e\"],[0.4444444444444444,\"#bd3786\"],[0.5555555555555556,\"#d8576b\"],[0.6666666666666666,\"#ed7953\"],[0.7777777777777778,\"#fb9f3a\"],[0.8888888888888888,\"#fdca26\"],[1.0,\"#f0f921\"]]}],\"heatmap\":[{\"type\":\"heatmap\",\"colorbar\":{\"outlinewidth\":0,\"ticks\":\"\"},\"colorscale\":[[0.0,\"#0d0887\"],[0.1111111111111111,\"#46039f\"],[0.2222222222222222,\"#7201a8\"],[0.3333333333333333,\"#9c179e\"],[0.4444444444444444,\"#bd3786\"],[0.5555555555555556,\"#d8576b\"],[0.6666666666666666,\"#ed7953\"],[0.7777777777777778,\"#fb9f3a\"],[0.8888888888888888,\"#fdca26\"],[1.0,\"#f0f921\"]]}],\"heatmapgl\":[{\"type\":\"heatmapgl\",\"colorbar\":{\"outlinewidth\":0,\"ticks\":\"\"},\"colorscale\":[[0.0,\"#0d0887\"],[0.1111111111111111,\"#46039f\"],[0.2222222222222222,\"#7201a8\"],[0.3333333333333333,\"#9c179e\"],[0.4444444444444444,\"#bd3786\"],[0.5555555555555556,\"#d8576b\"],[0.6666666666666666,\"#ed7953\"],[0.7777777777777778,\"#fb9f3a\"],[0.8888888888888888,\"#fdca26\"],[1.0,\"#f0f921\"]]}],\"contourcarpet\":[{\"type\":\"contourcarpet\",\"colorbar\":{\"outlinewidth\":0,\"ticks\":\"\"}}],\"contour\":[{\"type\":\"contour\",\"colorbar\":{\"outlinewidth\":0,\"ticks\":\"\"},\"colorscale\":[[0.0,\"#0d0887\"],[0.1111111111111111,\"#46039f\"],[0.2222222222222222,\"#7201a8\"],[0.3333333333333333,\"#9c179e\"],[0.4444444444444444,\"#bd3786\"],[0.5555555555555556,\"#d8576b\"],[0.6666666666666666,\"#ed7953\"],[0.7777777777777778,\"#fb9f3a\"],[0.8888888888888888,\"#fdca26\"],[1.0,\"#f0f921\"]]}],\"surface\":[{\"type\":\"surface\",\"colorbar\":{\"outlinewidth\":0,\"ticks\":\"\"},\"colorscale\":[[0.0,\"#0d0887\"],[0.1111111111111111,\"#46039f\"],[0.2222222222222222,\"#7201a8\"],[0.3333333333333333,\"#9c179e\"],[0.4444444444444444,\"#bd3786\"],[0.5555555555555556,\"#d8576b\"],[0.6666666666666666,\"#ed7953\"],[0.7777777777777778,\"#fb9f3a\"],[0.8888888888888888,\"#fdca26\"],[1.0,\"#f0f921\"]]}],\"mesh3d\":[{\"type\":\"mesh3d\",\"colorbar\":{\"outlinewidth\":0,\"ticks\":\"\"}}],\"scatter\":[{\"fillpattern\":{\"fillmode\":\"overlay\",\"size\":10,\"solidity\":0.2},\"type\":\"scatter\"}],\"parcoords\":[{\"type\":\"parcoords\",\"line\":{\"colorbar\":{\"outlinewidth\":0,\"ticks\":\"\"}}}],\"scatterpolargl\":[{\"type\":\"scatterpolargl\",\"marker\":{\"colorbar\":{\"outlinewidth\":0,\"ticks\":\"\"}}}],\"bar\":[{\"error_x\":{\"color\":\"#2a3f5f\"},\"error_y\":{\"color\":\"#2a3f5f\"},\"marker\":{\"line\":{\"color\":\"#E5ECF6\",\"width\":0.5},\"pattern\":{\"fillmode\":\"overlay\",\"size\":10,\"solidity\":0.2}},\"type\":\"bar\"}],\"scattergeo\":[{\"type\":\"scattergeo\",\"marker\":{\"colorbar\":{\"outlinewidth\":0,\"ticks\":\"\"}}}],\"scatterpolar\":[{\"type\":\"scatterpolar\",\"marker\":{\"colorbar\":{\"outlinewidth\":0,\"ticks\":\"\"}}}],\"histogram\":[{\"marker\":{\"pattern\":{\"fillmode\":\"overlay\",\"size\":10,\"solidity\":0.2}},\"type\":\"histogram\"}],\"scattergl\":[{\"type\":\"scattergl\",\"marker\":{\"colorbar\":{\"outlinewidth\":0,\"ticks\":\"\"}}}],\"scatter3d\":[{\"type\":\"scatter3d\",\"line\":{\"colorbar\":{\"outlinewidth\":0,\"ticks\":\"\"}},\"marker\":{\"colorbar\":{\"outlinewidth\":0,\"ticks\":\"\"}}}],\"scattermapbox\":[{\"type\":\"scattermapbox\",\"marker\":{\"colorbar\":{\"outlinewidth\":0,\"ticks\":\"\"}}}],\"scatterternary\":[{\"type\":\"scatterternary\",\"marker\":{\"colorbar\":{\"outlinewidth\":0,\"ticks\":\"\"}}}],\"scattercarpet\":[{\"type\":\"scattercarpet\",\"marker\":{\"colorbar\":{\"outlinewidth\":0,\"ticks\":\"\"}}}],\"carpet\":[{\"aaxis\":{\"endlinecolor\":\"#2a3f5f\",\"gridcolor\":\"white\",\"linecolor\":\"white\",\"minorgridcolor\":\"white\",\"startlinecolor\":\"#2a3f5f\"},\"baxis\":{\"endlinecolor\":\"#2a3f5f\",\"gridcolor\":\"white\",\"linecolor\":\"white\",\"minorgridcolor\":\"white\",\"startlinecolor\":\"#2a3f5f\"},\"type\":\"carpet\"}],\"table\":[{\"cells\":{\"fill\":{\"color\":\"#EBF0F8\"},\"line\":{\"color\":\"white\"}},\"header\":{\"fill\":{\"color\":\"#C8D4E3\"},\"line\":{\"color\":\"white\"}},\"type\":\"table\"}],\"barpolar\":[{\"marker\":{\"line\":{\"color\":\"#E5ECF6\",\"width\":0.5},\"pattern\":{\"fillmode\":\"overlay\",\"size\":10,\"solidity\":0.2}},\"type\":\"barpolar\"}],\"pie\":[{\"automargin\":true,\"type\":\"pie\"}]},\"layout\":{\"autotypenumbers\":\"strict\",\"colorway\":[\"#636efa\",\"#EF553B\",\"#00cc96\",\"#ab63fa\",\"#FFA15A\",\"#19d3f3\",\"#FF6692\",\"#B6E880\",\"#FF97FF\",\"#FECB52\"],\"font\":{\"color\":\"#2a3f5f\"},\"hovermode\":\"closest\",\"hoverlabel\":{\"align\":\"left\"},\"paper_bgcolor\":\"white\",\"plot_bgcolor\":\"#E5ECF6\",\"polar\":{\"bgcolor\":\"#E5ECF6\",\"angularaxis\":{\"gridcolor\":\"white\",\"linecolor\":\"white\",\"ticks\":\"\"},\"radialaxis\":{\"gridcolor\":\"white\",\"linecolor\":\"white\",\"ticks\":\"\"}},\"ternary\":{\"bgcolor\":\"#E5ECF6\",\"aaxis\":{\"gridcolor\":\"white\",\"linecolor\":\"white\",\"ticks\":\"\"},\"baxis\":{\"gridcolor\":\"white\",\"linecolor\":\"white\",\"ticks\":\"\"},\"caxis\":{\"gridcolor\":\"white\",\"linecolor\":\"white\",\"ticks\":\"\"}},\"coloraxis\":{\"colorbar\":{\"outlinewidth\":0,\"ticks\":\"\"}},\"colorscale\":{\"sequential\":[[0.0,\"#0d0887\"],[0.1111111111111111,\"#46039f\"],[0.2222222222222222,\"#7201a8\"],[0.3333333333333333,\"#9c179e\"],[0.4444444444444444,\"#bd3786\"],[0.5555555555555556,\"#d8576b\"],[0.6666666666666666,\"#ed7953\"],[0.7777777777777778,\"#fb9f3a\"],[0.8888888888888888,\"#fdca26\"],[1.0,\"#f0f921\"]],\"sequentialminus\":[[0.0,\"#0d0887\"],[0.1111111111111111,\"#46039f\"],[0.2222222222222222,\"#7201a8\"],[0.3333333333333333,\"#9c179e\"],[0.4444444444444444,\"#bd3786\"],[0.5555555555555556,\"#d8576b\"],[0.6666666666666666,\"#ed7953\"],[0.7777777777777778,\"#fb9f3a\"],[0.8888888888888888,\"#fdca26\"],[1.0,\"#f0f921\"]],\"diverging\":[[0,\"#8e0152\"],[0.1,\"#c51b7d\"],[0.2,\"#de77ae\"],[0.3,\"#f1b6da\"],[0.4,\"#fde0ef\"],[0.5,\"#f7f7f7\"],[0.6,\"#e6f5d0\"],[0.7,\"#b8e186\"],[0.8,\"#7fbc41\"],[0.9,\"#4d9221\"],[1,\"#276419\"]]},\"xaxis\":{\"gridcolor\":\"white\",\"linecolor\":\"white\",\"ticks\":\"\",\"title\":{\"standoff\":15},\"zerolinecolor\":\"white\",\"automargin\":true,\"zerolinewidth\":2},\"yaxis\":{\"gridcolor\":\"white\",\"linecolor\":\"white\",\"ticks\":\"\",\"title\":{\"standoff\":15},\"zerolinecolor\":\"white\",\"automargin\":true,\"zerolinewidth\":2},\"scene\":{\"xaxis\":{\"backgroundcolor\":\"#E5ECF6\",\"gridcolor\":\"white\",\"linecolor\":\"white\",\"showbackground\":true,\"ticks\":\"\",\"zerolinecolor\":\"white\",\"gridwidth\":2},\"yaxis\":{\"backgroundcolor\":\"#E5ECF6\",\"gridcolor\":\"white\",\"linecolor\":\"white\",\"showbackground\":true,\"ticks\":\"\",\"zerolinecolor\":\"white\",\"gridwidth\":2},\"zaxis\":{\"backgroundcolor\":\"#E5ECF6\",\"gridcolor\":\"white\",\"linecolor\":\"white\",\"showbackground\":true,\"ticks\":\"\",\"zerolinecolor\":\"white\",\"gridwidth\":2}},\"shapedefaults\":{\"line\":{\"color\":\"#2a3f5f\"}},\"annotationdefaults\":{\"arrowcolor\":\"#2a3f5f\",\"arrowhead\":0,\"arrowwidth\":1},\"geo\":{\"bgcolor\":\"white\",\"landcolor\":\"#E5ECF6\",\"subunitcolor\":\"white\",\"showland\":true,\"showlakes\":true,\"lakecolor\":\"white\"},\"title\":{\"x\":0.05},\"mapbox\":{\"style\":\"light\"}}},\"xaxis\":{\"anchor\":\"y\",\"domain\":[0.0,1.0],\"title\":{\"text\":\"language\"}},\"yaxis\":{\"anchor\":\"x\",\"domain\":[0.0,1.0],\"title\":{\"text\":\"counts\"}},\"legend\":{\"title\":{\"text\":\"sexist\"},\"tracegroupgap\":0},\"margin\":{\"t\":60},\"barmode\":\"group\",\"autosize\":true,\"height\":500},                        {\"responsive\": true}                    ).then(function(){\n",
       "                            \n",
       "var gd = document.getElementById('6df65a96-71ef-4020-86da-c3d73e76a51b');\n",
       "var x = new MutationObserver(function (mutations, observer) {{\n",
       "        var display = window.getComputedStyle(gd).display;\n",
       "        if (!display || display === 'none') {{\n",
       "            console.log([gd, 'removed!']);\n",
       "            Plotly.purge(gd);\n",
       "            observer.disconnect();\n",
       "        }}\n",
       "}});\n",
       "\n",
       "// Listen for the removal of the full notebook cells\n",
       "var notebookContainer = gd.closest('#notebook-container');\n",
       "if (notebookContainer) {{\n",
       "    x.observe(notebookContainer, {childList: true});\n",
       "}}\n",
       "\n",
       "// Listen for the clearing of the current output cell\n",
       "var outputEl = gd.closest('.output');\n",
       "if (outputEl) {{\n",
       "    x.observe(outputEl, {childList: true});\n",
       "}}\n",
       "\n",
       "                        })                };                });            </script>        </div>"
      ]
     },
     "metadata": {},
     "output_type": "display_data"
    }
   ],
   "source": [
    "import plotly.express as px\n",
    "\n",
    "ctb_molten = pd.crosstab(\n",
    "    integrated_data.sexist.apply(int2label, positive=\"Sexist\", negative=\"Non-Sexist\"),\n",
    "    integrated_data.language.apply(lambda x: \"English\" if x == \"en\" else \"Spanish\"),\n",
    "    margins = True\n",
    ").melt(ignore_index=False, value_name=\"counts\").reset_index()\n",
    "\n",
    "fig = px.bar(\n",
    "    ctb_molten,          \n",
    "    x='language', \n",
    "    y='counts', \n",
    "    barmode=\"group\", \n",
    "    color='sexist', \n",
    "    text_auto='i',\n",
    "    color_discrete_sequence=[BLUE, RED, GREEN],\n",
    ")\n",
    "\n",
    "fig.update_layout(\n",
    "    autosize=True,\n",
    "    height=500\n",
    ")\n",
    "fig.show()"
   ]
  },
  {
   "cell_type": "markdown",
   "id": "4646e587-dae4-4908-bf66-100ff2793c5f",
   "metadata": {
    "tags": []
   },
   "source": [
    "## Text Cleaning"
   ]
  },
  {
   "cell_type": "markdown",
   "id": "2f339e53-eb72-44c7-a0bd-ee17583ad12f",
   "metadata": {},
   "source": [
    "Next step in our pre-process is cleaning text properly. For this task function `clean` is defined, which handles case, blanks, numbers, links, mentions, hashtags, emojis, accents, symbols and punctuation. It allows customizing links, mentions, hashtag and emojis handling and adding custom regexs and its substitution in cleaned text."
   ]
  },
  {
   "cell_type": "code",
   "execution_count": 47,
   "id": "bf28c248-e250-4c1c-88ab-99dc16f62f37",
   "metadata": {},
   "outputs": [],
   "source": [
    "def clean(\n",
    "    \n",
    "        text: str, \n",
    "        keep_case: bool = False,\n",
    "        keep_accents: bool = False,\n",
    "        keep_numbers: bool = False,\n",
    "        lmhe_tokens: Optional[Dict[str, str]] = None, \n",
    "        constraints: Optional[List[Tuple[str, str]]] = None,\n",
    "        allowed_punctuation: Optional[str] = None\n",
    "    \n",
    "    ) -> str:\n",
    "    \"\"\"\n",
    "    Clean a given text\n",
    "    \n",
    "    PARAMETERS:\n",
    "        - text: string to clean\n",
    "        - keep_case: wether to keep original case (True) or not (False). If not text will be lowercased.\n",
    "        - keep_accents: wether to keep accents (True) or not (False).\n",
    "        - keep_numbers: wether to keep numbers (True) or not (False).\n",
    "        - lmhe_tokens: which stands for link-mention-hashtag-emoji_tokens. A dict containing how to represent.\n",
    "          those items in the final text. If nothing provided (neither dict or specific key), they will be removed.\n",
    "        - constraints: any special substitution you may want to apply to the text. It must be a list of tuples \n",
    "          containing the corresponding regex to capture (first element of the tuple) and the string to substitue \n",
    "          it (second element).\n",
    "        - allowed_punctuation: string containing custom punctuation you may want to avoid cleaning.\n",
    "        \n",
    "    RETURNS cleaned text\n",
    "    \"\"\"\n",
    "    \n",
    "    # lowercase\n",
    "    if not keep_case:\n",
    "        text = text.lower() \n",
    "    \n",
    "    #remove \\n and \\r\n",
    "    text = text.replace('\\r', '').replace('\\n', ' ')\n",
    "    \n",
    "    if lmhe_tokens is not None:\n",
    "        # handle links\n",
    "        text = re.sub(r'(?:www\\.|https?://)\\S+', lmhe_tokens.get(\"link\", ''), text, flags=re.MULTILINE)  \n",
    "        \n",
    "        # handle mentions\n",
    "        text = re.sub(r'\\@\\S+', lmhe_tokens.get(\"mention\", ''), text) \n",
    "        \n",
    "        # handle hashtags\n",
    "        text = re.sub(r'#\\S+', lmhe_tokens.get(\"hashtag\", ''), text)\n",
    "        \n",
    "        # handle emojis\n",
    "        text = emoji.replace_emoji(text, lmhe_tokens.get(\"emoji\", ''))  \n",
    "        \n",
    "    else:\n",
    "        # remove links, mentions, hashtags and emojis\n",
    "        text = re.sub(r'(?:#|\\@|www\\.|https?://)\\S+', '', text, flags=re.MULTILINE) \n",
    "        text = emoji.replace_emoji(text, '')\n",
    "     \n",
    "    # specific constraints\n",
    "    if constraints is not None:\n",
    "        for regex, token in constraints:\n",
    "            text = re.sub(regex, token, text, flags=re.I)\n",
    "    \n",
    "    # remove accents\n",
    "    if not keep_accents:\n",
    "        text = unidecode.unidecode(text)  \n",
    "    \n",
    "    ## all symbols and punctuation\n",
    "    banned_list = string.punctuation + 'Ã'+'±'+'ã'+'¼'+'â'+'»'+'§'+'—'  \n",
    "    ## allowed punctuation\n",
    "    if allowed_punctuation is not None:  \n",
    "        banned_list = re.sub(r\"[%s]\" % re.escape(allowed_punctuation), \"\", banned_list)\n",
    "    # remove symbols and punctuation\n",
    "    text = text.translate(str.maketrans('', '', banned_list)) \n",
    "    \n",
    "    # remove numbers\n",
    "    if not keep_numbers:\n",
    "        text = re.sub(r'\\d+', '', text)  \n",
    "    \n",
    "    # remove extra and leading blanks\n",
    "    text = re.sub(\"\\s\\s+\" , \" \", text).strip()  \n",
    "    \n",
    "    return text"
   ]
  },
  {
   "cell_type": "markdown",
   "id": "ca584bbd-a806-40cd-a115-43fb7a260db2",
   "metadata": {},
   "source": [
    "We want to maintain the following punctuation because the models we are going to use had been trained with almost raw text and well know how to interpret them. Also, exclamation and interrogation marks could express some emotions. We maintain inverted commas (') because we don't want cases such \"should've\" -> \"shouldve\" on English data. "
   ]
  },
  {
   "cell_type": "code",
   "execution_count": 48,
   "id": "2f9ea78d-201e-405b-aa29-93d25f97d1a8",
   "metadata": {},
   "outputs": [],
   "source": [
    "ALLOWED_PUNCTUATION = \"'\\\"!¿?.,\""
   ]
  },
  {
   "cell_type": "markdown",
   "id": "41e97f40-87d5-4ac9-8df3-ac194b4a6557",
   "metadata": {},
   "source": [
    "We are going to maintain accents because of the spanish data and because BETO also handles them. Our constraints came from EDOS texts (links as \"\\[URL\\]\" and users as \"\\[USER\\]\") and CALLME texts (mentions as \"MENTION\\<number\\>\" and re-tweets as \"RT\"), since we want to discard those information."
   ]
  },
  {
   "cell_type": "code",
   "execution_count": 49,
   "id": "a05ff13f-0fb5-44d8-ba1c-205c3eb7a4d7",
   "metadata": {},
   "outputs": [
    {
     "data": {
      "text/html": [
       "<div>\n",
       "<style scoped>\n",
       "    .dataframe tbody tr th:only-of-type {\n",
       "        vertical-align: middle;\n",
       "    }\n",
       "\n",
       "    .dataframe tbody tr th {\n",
       "        vertical-align: top;\n",
       "    }\n",
       "\n",
       "    .dataframe thead th {\n",
       "        text-align: right;\n",
       "    }\n",
       "</style>\n",
       "<table border=\"1\" class=\"dataframe\">\n",
       "  <thead>\n",
       "    <tr style=\"text-align: right;\">\n",
       "      <th></th>\n",
       "      <th>original_id</th>\n",
       "      <th>text</th>\n",
       "      <th>sexist</th>\n",
       "      <th>type</th>\n",
       "      <th>language</th>\n",
       "      <th>dataset</th>\n",
       "    </tr>\n",
       "  </thead>\n",
       "  <tbody>\n",
       "    <tr>\n",
       "      <th>0</th>\n",
       "      <td>0</td>\n",
       "      <td>i didn't even know random was an option!</td>\n",
       "      <td>0</td>\n",
       "      <td>non-sexist</td>\n",
       "      <td>en</td>\n",
       "      <td>callme</td>\n",
       "    </tr>\n",
       "    <tr>\n",
       "      <th>1</th>\n",
       "      <td>1</td>\n",
       "      <td>bottom two should've gone!</td>\n",
       "      <td>0</td>\n",
       "      <td>non-sexist</td>\n",
       "      <td>en</td>\n",
       "      <td>callme</td>\n",
       "    </tr>\n",
       "    <tr>\n",
       "      <th>2</th>\n",
       "      <td>2</td>\n",
       "      <td>ladyboner deserves so much more credit than du...</td>\n",
       "      <td>0</td>\n",
       "      <td>non-sexist</td>\n",
       "      <td>en</td>\n",
       "      <td>callme</td>\n",
       "    </tr>\n",
       "    <tr>\n",
       "      <th>3</th>\n",
       "      <td>3</td>\n",
       "      <td>she shall now be known as sourpuss</td>\n",
       "      <td>0</td>\n",
       "      <td>non-sexist</td>\n",
       "      <td>en</td>\n",
       "      <td>callme</td>\n",
       "    </tr>\n",
       "    <tr>\n",
       "      <th>4</th>\n",
       "      <td>4</td>\n",
       "      <td>tarah w threw a bunch of women under the bus s...</td>\n",
       "      <td>0</td>\n",
       "      <td>non-sexist</td>\n",
       "      <td>en</td>\n",
       "      <td>callme</td>\n",
       "    </tr>\n",
       "    <tr>\n",
       "      <th>...</th>\n",
       "      <td>...</td>\n",
       "      <td>...</td>\n",
       "      <td>...</td>\n",
       "      <td>...</td>\n",
       "      <td>...</td>\n",
       "      <td>...</td>\n",
       "    </tr>\n",
       "    <tr>\n",
       "      <th>59000</th>\n",
       "      <td>1047687262455177217</td>\n",
       "      <td>yo no puedo darte luz todos los días, pero si ...</td>\n",
       "      <td>0</td>\n",
       "      <td>non-sexist</td>\n",
       "      <td>es</td>\n",
       "      <td>metwo</td>\n",
       "    </tr>\n",
       "    <tr>\n",
       "      <th>59001</th>\n",
       "      <td>1064482731739045888</td>\n",
       "      <td>que bien! aunque digan que las mujeres no debe...</td>\n",
       "      <td>0</td>\n",
       "      <td>non-sexist</td>\n",
       "      <td>es</td>\n",
       "      <td>metwo</td>\n",
       "    </tr>\n",
       "    <tr>\n",
       "      <th>59002</th>\n",
       "      <td>1040584804536856577</td>\n",
       "      <td>y misoginia las pelotas no quiero que vengas a...</td>\n",
       "      <td>0</td>\n",
       "      <td>non-sexist</td>\n",
       "      <td>es</td>\n",
       "      <td>metwo</td>\n",
       "    </tr>\n",
       "    <tr>\n",
       "      <th>59003</th>\n",
       "      <td>1051458429280235520</td>\n",
       "      <td>\"imaginen el tipo de sociedad mojigata y castr...</td>\n",
       "      <td>0</td>\n",
       "      <td>non-sexist</td>\n",
       "      <td>es</td>\n",
       "      <td>metwo</td>\n",
       "    </tr>\n",
       "    <tr>\n",
       "      <th>59004</th>\n",
       "      <td>1020717495605489673</td>\n",
       "      <td>por favor pase a la historia como una mujer qu...</td>\n",
       "      <td>0</td>\n",
       "      <td>non-sexist</td>\n",
       "      <td>es</td>\n",
       "      <td>metwo</td>\n",
       "    </tr>\n",
       "  </tbody>\n",
       "</table>\n",
       "<p>58762 rows × 6 columns</p>\n",
       "</div>"
      ],
      "text/plain": [
       "               original_id                                               text  \\\n",
       "0                        0           i didn't even know random was an option!   \n",
       "1                        1                         bottom two should've gone!   \n",
       "2                        2  ladyboner deserves so much more credit than du...   \n",
       "3                        3                 she shall now be known as sourpuss   \n",
       "4                        4  tarah w threw a bunch of women under the bus s...   \n",
       "...                    ...                                                ...   \n",
       "59000  1047687262455177217  yo no puedo darte luz todos los días, pero si ...   \n",
       "59001  1064482731739045888  que bien! aunque digan que las mujeres no debe...   \n",
       "59002  1040584804536856577  y misoginia las pelotas no quiero que vengas a...   \n",
       "59003  1051458429280235520  \"imaginen el tipo de sociedad mojigata y castr...   \n",
       "59004  1020717495605489673  por favor pase a la historia como una mujer qu...   \n",
       "\n",
       "       sexist        type language dataset  \n",
       "0           0  non-sexist       en  callme  \n",
       "1           0  non-sexist       en  callme  \n",
       "2           0  non-sexist       en  callme  \n",
       "3           0  non-sexist       en  callme  \n",
       "4           0  non-sexist       en  callme  \n",
       "...       ...         ...      ...     ...  \n",
       "59000       0  non-sexist       es   metwo  \n",
       "59001       0  non-sexist       es   metwo  \n",
       "59002       0  non-sexist       es   metwo  \n",
       "59003       0  non-sexist       es   metwo  \n",
       "59004       0  non-sexist       es   metwo  \n",
       "\n",
       "[58762 rows x 6 columns]"
      ]
     },
     "execution_count": 49,
     "metadata": {},
     "output_type": "execute_result"
    }
   ],
   "source": [
    "CONSTRAINTS = [(r\"\\[URL\\]|\\[USER\\]\", \"\"), (r\"MENTION\\d+\", \"\"), (r\"\\bRT\\b\", \"\")]\n",
    "\n",
    "# to maintain twitter features like links or hashtags you should just remove the first constraint\n",
    "# and uncomment the following variables definition, as the corresponding parameter when calling the function\n",
    "\n",
    "#CONSTRAINTS = [(r\"MENTION\\d+\", \"[USER]\"), (r\"\\bRT\\b\", \"\")]\n",
    "#LMHE_TOKENS = {\n",
    "#    \"link\": \"[URL]\", \n",
    "#    \"mention\": \"[USER]\", \n",
    "#    \"hashtag\": \"[HASHTAG]\", \n",
    "#    \"emoji\": \"[EMOJI]\"\n",
    "#}\n",
    "#ALLOWED_PUNCTUATION += \"[]\"\n",
    "\n",
    "cleaned_data = integrated_data.copy()\n",
    "cleaned_data.text = cleaned_data.text.apply(clean, \n",
    "                                            keep_case=False,\n",
    "                                            keep_accents=True,\n",
    "                                            keep_numbers=True,\n",
    "                                            constraints=CONSTRAINTS,\n",
    "                                            #lmhe_tokens=LMHE_TOKENS,\n",
    "                                            allowed_punctuation=ALLOWED_PUNCTUATION)\n",
    "\n",
    "#because of the transformations it is posible that some texts get completly empty\n",
    "cleaned_data = cleaned_data.query(\"text != ''\")\n",
    "cleaned_data"
   ]
  },
  {
   "cell_type": "code",
   "execution_count": 50,
   "id": "f7adb25d-5d62-4372-9fe5-bf67e71bcd2d",
   "metadata": {},
   "outputs": [],
   "source": [
    "cleaned_data.to_csv(f\"{TRANSFORMED_DATA_PATH}/cleaned_data.csv\", sep=\";\", index=False)"
   ]
  },
  {
   "cell_type": "markdown",
   "id": "ddb753c9-9251-4b16-95db-6a146ab54e6d",
   "metadata": {
    "tags": []
   },
   "source": [
    "## Translation"
   ]
  },
  {
   "cell_type": "markdown",
   "id": "c2e796e1-0803-4931-b613-fb579e88380b",
   "metadata": {},
   "source": [
    "First step is to select English data to be translated."
   ]
  },
  {
   "cell_type": "code",
   "execution_count": 51,
   "id": "23c8f2af-2f7f-4ae6-85c6-395caf7838b7",
   "metadata": {},
   "outputs": [],
   "source": [
    "cleaned_data = pd.read_csv(f\"{TRANSFORMED_DATA_PATH}/cleaned_data.csv\", sep=\";\")"
   ]
  },
  {
   "cell_type": "code",
   "execution_count": 52,
   "id": "415c2c19-47ab-4197-a1b5-f6313bca2b2c",
   "metadata": {},
   "outputs": [
    {
     "data": {
      "text/html": [
       "<div>\n",
       "<style scoped>\n",
       "    .dataframe tbody tr th:only-of-type {\n",
       "        vertical-align: middle;\n",
       "    }\n",
       "\n",
       "    .dataframe tbody tr th {\n",
       "        vertical-align: top;\n",
       "    }\n",
       "\n",
       "    .dataframe thead th {\n",
       "        text-align: right;\n",
       "    }\n",
       "</style>\n",
       "<table border=\"1\" class=\"dataframe\">\n",
       "  <thead>\n",
       "    <tr style=\"text-align: right;\">\n",
       "      <th></th>\n",
       "      <th>original_id</th>\n",
       "      <th>text</th>\n",
       "      <th>sexist</th>\n",
       "      <th>type</th>\n",
       "      <th>language</th>\n",
       "      <th>dataset</th>\n",
       "    </tr>\n",
       "  </thead>\n",
       "  <tbody>\n",
       "    <tr>\n",
       "      <th>0</th>\n",
       "      <td>0</td>\n",
       "      <td>i didn't even know random was an option!</td>\n",
       "      <td>0</td>\n",
       "      <td>non-sexist</td>\n",
       "      <td>en</td>\n",
       "      <td>callme</td>\n",
       "    </tr>\n",
       "    <tr>\n",
       "      <th>1</th>\n",
       "      <td>1</td>\n",
       "      <td>bottom two should've gone!</td>\n",
       "      <td>0</td>\n",
       "      <td>non-sexist</td>\n",
       "      <td>en</td>\n",
       "      <td>callme</td>\n",
       "    </tr>\n",
       "    <tr>\n",
       "      <th>2</th>\n",
       "      <td>2</td>\n",
       "      <td>ladyboner deserves so much more credit than du...</td>\n",
       "      <td>0</td>\n",
       "      <td>non-sexist</td>\n",
       "      <td>en</td>\n",
       "      <td>callme</td>\n",
       "    </tr>\n",
       "    <tr>\n",
       "      <th>3</th>\n",
       "      <td>3</td>\n",
       "      <td>she shall now be known as sourpuss</td>\n",
       "      <td>0</td>\n",
       "      <td>non-sexist</td>\n",
       "      <td>en</td>\n",
       "      <td>callme</td>\n",
       "    </tr>\n",
       "    <tr>\n",
       "      <th>4</th>\n",
       "      <td>4</td>\n",
       "      <td>tarah w threw a bunch of women under the bus s...</td>\n",
       "      <td>0</td>\n",
       "      <td>non-sexist</td>\n",
       "      <td>en</td>\n",
       "      <td>callme</td>\n",
       "    </tr>\n",
       "    <tr>\n",
       "      <th>...</th>\n",
       "      <td>...</td>\n",
       "      <td>...</td>\n",
       "      <td>...</td>\n",
       "      <td>...</td>\n",
       "      <td>...</td>\n",
       "      <td>...</td>\n",
       "    </tr>\n",
       "    <tr>\n",
       "      <th>52996</th>\n",
       "      <td>3230</td>\n",
       "      <td>when someone announces they're unfollowing</td>\n",
       "      <td>0</td>\n",
       "      <td>non-sexist</td>\n",
       "      <td>en</td>\n",
       "      <td>ibereval</td>\n",
       "    </tr>\n",
       "    <tr>\n",
       "      <th>52997</th>\n",
       "      <td>3265</td>\n",
       "      <td>when someone announces that they are 'official...</td>\n",
       "      <td>0</td>\n",
       "      <td>non-sexist</td>\n",
       "      <td>en</td>\n",
       "      <td>ibereval</td>\n",
       "    </tr>\n",
       "    <tr>\n",
       "      <th>52998</th>\n",
       "      <td>3387</td>\n",
       "      <td>deleted again. working to get it back again</td>\n",
       "      <td>0</td>\n",
       "      <td>non-sexist</td>\n",
       "      <td>en</td>\n",
       "      <td>ibereval</td>\n",
       "    </tr>\n",
       "    <tr>\n",
       "      <th>52999</th>\n",
       "      <td>3259</td>\n",
       "      <td>when you're on a first date and she asks to ta...</td>\n",
       "      <td>0</td>\n",
       "      <td>non-sexist</td>\n",
       "      <td>en</td>\n",
       "      <td>ibereval</td>\n",
       "    </tr>\n",
       "    <tr>\n",
       "      <th>53000</th>\n",
       "      <td>3525</td>\n",
       "      <td>when your friend won't stop talking about thei...</td>\n",
       "      <td>0</td>\n",
       "      <td>non-sexist</td>\n",
       "      <td>en</td>\n",
       "      <td>ibereval</td>\n",
       "    </tr>\n",
       "  </tbody>\n",
       "</table>\n",
       "<p>47319 rows × 6 columns</p>\n",
       "</div>"
      ],
      "text/plain": [
       "      original_id                                               text  sexist  \\\n",
       "0               0           i didn't even know random was an option!       0   \n",
       "1               1                         bottom two should've gone!       0   \n",
       "2               2  ladyboner deserves so much more credit than du...       0   \n",
       "3               3                 she shall now be known as sourpuss       0   \n",
       "4               4  tarah w threw a bunch of women under the bus s...       0   \n",
       "...           ...                                                ...     ...   \n",
       "52996        3230         when someone announces they're unfollowing       0   \n",
       "52997        3265  when someone announces that they are 'official...       0   \n",
       "52998        3387        deleted again. working to get it back again       0   \n",
       "52999        3259  when you're on a first date and she asks to ta...       0   \n",
       "53000        3525  when your friend won't stop talking about thei...       0   \n",
       "\n",
       "             type language   dataset  \n",
       "0      non-sexist       en    callme  \n",
       "1      non-sexist       en    callme  \n",
       "2      non-sexist       en    callme  \n",
       "3      non-sexist       en    callme  \n",
       "4      non-sexist       en    callme  \n",
       "...           ...      ...       ...  \n",
       "52996  non-sexist       en  ibereval  \n",
       "52997  non-sexist       en  ibereval  \n",
       "52998  non-sexist       en  ibereval  \n",
       "52999  non-sexist       en  ibereval  \n",
       "53000  non-sexist       en  ibereval  \n",
       "\n",
       "[47319 rows x 6 columns]"
      ]
     },
     "execution_count": 52,
     "metadata": {},
     "output_type": "execute_result"
    }
   ],
   "source": [
    "cleaned_data_en = cleaned_data.query(\"language == 'en'\")\n",
    "cleaned_data_en"
   ]
  },
  {
   "cell_type": "markdown",
   "id": "34c35ea4-d80f-4708-a8dc-294207847784",
   "metadata": {},
   "source": [
    "Let's first look at how many tokens are we going to need and the costs associated."
   ]
  },
  {
   "cell_type": "code",
   "execution_count": 53,
   "id": "0c0e9fd2-3c7a-4172-8c5f-32a27049fb29",
   "metadata": {},
   "outputs": [
    {
     "name": "stdout",
     "output_type": "stream",
     "text": [
      "Total: 1163576\n",
      "Average: 24.590037828356476\n",
      "Median: 22.0\n",
      "Mode: 16\n",
      "Max: 760\n",
      "Min: 1\n",
      "Std: 16.285526457021238\n"
     ]
    }
   ],
   "source": [
    "import tiktoken\n",
    "import scipy.stats as st \n",
    "\n",
    "encoding = tiktoken.encoding_for_model(\"gpt-3.5-turbo\")\n",
    "tokens = np.array([ len(encoding.encode(row.text)) for i, row in cleaned_data_en.iterrows() ])\n",
    "print(f\"Total: {tokens.sum()}\\n\"\n",
    "      f\"Average: {tokens.mean()}\\n\"\n",
    "      f\"Median: {np.median(tokens)}\\n\"\n",
    "      f\"Mode: {st.mode(tokens).mode[0]}\\n\"\n",
    "      f\"Max: {tokens.max()}\\n\"\n",
    "      f\"Min: {tokens.min()}\\n\"\n",
    "      f\"Std: {tokens.std()}\")"
   ]
  },
  {
   "cell_type": "code",
   "execution_count": 54,
   "id": "ea0c20c8-d528-42bc-bbe1-c171b63ec7e8",
   "metadata": {
    "tags": []
   },
   "outputs": [
    {
     "name": "stdout",
     "output_type": "stream",
     "text": [
      "Price for translating 1163576 tokens:\n",
      " • GPT-3.5 turbo ($0.002/1K): $4.65 aprox.\n",
      " • GPT-4 ($0.03/1K): $69.81 aprox.\n"
     ]
    }
   ],
   "source": [
    "print(f\"Price for translating {tokens.sum()} tokens:\\n\"\n",
    "      f\" {chr(8226)} GPT-3.5 turbo ($0.002/1K): ${round(tokens.sum()*0.002/1000*2, 2)} aprox.\\n\"\n",
    "      f\" {chr(8226)} GPT-4 ($0.03/1K): ${round(tokens.sum()*0.03/1000*2, 2)} aprox.\")"
   ]
  },
  {
   "cell_type": "markdown",
   "id": "ba294e08-e88e-40ed-b25d-0ac10a56bb1e",
   "metadata": {},
   "source": [
    "### Using GPT"
   ]
  },
  {
   "cell_type": "markdown",
   "id": "6e669661-6f70-4f7e-8c81-b60ca1edcba6",
   "metadata": {},
   "source": [
    "It is important to define some constant variables:"
   ]
  },
  {
   "cell_type": "code",
   "execution_count": 62,
   "id": "0dce3f0a-e439-4d5d-9851-405d5162854c",
   "metadata": {},
   "outputs": [],
   "source": [
    "def get_setup_keys(*keys):\n",
    "    aux, _suggest = {}, False\n",
    "    for key in keys:\n",
    "        value = os.getenv(key)\n",
    "        if value is None:\n",
    "            value = input(f\"Enter your `{key}`: \")\n",
    "            _suggest = True\n",
    "        aux[key] = value\n",
    "    if _suggest:\n",
    "        print(\"\\nConsider setting keys in system environ to not \" \\\n",
    "              \"enter them each time setting up is required.\")\n",
    "    return aux\n",
    "\n",
    "def setup_openai_api():\n",
    "    import openai\n",
    "    openai.api_key = get_setup_keys(\"OPENAI_API_KEY\")\n",
    "    \n",
    "setup_openai_api()"
   ]
  },
  {
   "cell_type": "code",
   "execution_count": 55,
   "id": "f94dcc26-b3dd-4f14-baef-5f4fad8a65a9",
   "metadata": {},
   "outputs": [],
   "source": [
    "GPT_MODEL = \"gpt-3.5-turbo\"\n",
    "MAX_TOKENS = 4096\n",
    "RPM = 3  # requests per minute"
   ]
  },
  {
   "cell_type": "markdown",
   "id": "3a854166-0100-4490-bb98-4c3cd90e4369",
   "metadata": {},
   "source": [
    "And to define how our translation process is going to be held. It is important to take into account the extremly large amount of teets we have to translate. Another thing to consider its that making single requests per tweet to the GPT model it worth less, considering that a lot of token can be passed to the API. "
   ]
  },
  {
   "cell_type": "code",
   "execution_count": 60,
   "id": "6d43e7a7-a084-4d3e-9ec1-b29404d74b5b",
   "metadata": {
    "tags": []
   },
   "outputs": [],
   "source": [
    "def split_texts_given_max_tokens(\n",
    "        \n",
    "        texts: pd.Series, \n",
    "        gpt_model: str, \n",
    "        max_tokens: int\n",
    "\n",
    "    ) -> Iterator[Tuple[list, list]]:\n",
    "    \"\"\"\n",
    "    Split long pd.Series of texts into small batches optimized to fit into max_tokens allowed.\n",
    "    \n",
    "    Args:\n",
    "        - texts: (large amount of) indexed tweets to be splitted.\n",
    "        - gpt_model: GPT model name used for token encoding.\n",
    "        - max_tokens: maximum number of GPT tokens (computed using tiktoken.encoding_for_model.encode method).\n",
    "        \n",
    "    Yield:\n",
    "        batches of text with their respective indexes (ids).\n",
    "    \"\"\"\n",
    "    \n",
    "    # Initialize variables\n",
    "    ids, batch, aux = [], [], 0\n",
    "    \n",
    "    # Get encoding for GPT model\n",
    "    encoding = tiktoken.encoding_for_model(gpt_model)\n",
    "    \n",
    "    # Iterate over texts\n",
    "    for i, txt in texts.items():\n",
    "        # Get the length of the tweet in tokens\n",
    "        len_tweet = len(encoding.encode(txt))\n",
    "        \n",
    "        # Check if adding the current tweet exceeds the maximum tokens\n",
    "        if aux + len_tweet < max_tokens:\n",
    "            # Add tweet and index to the current batch\n",
    "            batch.append(txt)\n",
    "            ids.append(i)\n",
    "            aux += len_tweet\n",
    "        else:\n",
    "            # Yield the current batch if the maximum tokens are reached\n",
    "            yield ids, batch\n",
    "            \n",
    "            # Reset batch variables for the next iteration\n",
    "            ids, batch, aux = [i], [txt], len_tweet\n",
    "    \n",
    "    # Yield the last batch if it exists\n",
    "    if batch:\n",
    "        yield ids, batch\n",
    "\n",
    "\n",
    "        \n",
    "def gpt_translation(texts: list, input_language: str, output_language: str, model: str) -> list:\n",
    "    \"\"\"\n",
    "    Translate text using OpenAI's GPT. \n",
    "    \n",
    "    PARAMETERS:\n",
    "        - texts: list of raw text to be translated (total tokens contained must not exceed 1500 aprox)\n",
    "        - input_language: original text language.\n",
    "        - output_language: language to be translated.\n",
    "        - model: GPT model name (expected for openai.ChatCompletion.create method)\n",
    "        \n",
    "    RETURNS translated texts.\n",
    "    \"\"\"\n",
    "    \n",
    "    # Set the system message for GPT model\n",
    "    context = (\n",
    "        f\"Assistant is an intelligent chatbot designed to translate {input_language} tweets into {output_language}.\\n\" \\\n",
    "        \"Instructions:\\n\" \\\n",
    "        \" - You will be provided with one tweet per line. Each line contains tweet's id (first number) and the tweet.\\n\" \\\n",
    "        \" - Ensure that the translations are accurate and preserve the original meaning and tone of each tweet.\\n\" \\\n",
    "        \" - Take into account any slang or informal language used in the tweets, as well as any potential variations in spelling or grammar.\" \\\n",
    "        \" - You must sound as a native speaker when translating tweets.\"\n",
    "        \" - Each line in your response must correspond to each tweet provided, in the same order and starting with the corresponding tweet's id.\\n\" \\\n",
    "        \" - If you are not able to translate one of them, just omit it\"\n",
    "    )\n",
    "    \n",
    "    # Ask GPT for the translation\n",
    "    return openai.ChatCompletion.create(\n",
    "        model=model,\n",
    "        messages=[\n",
    "            {\"role\": \"system\", \"content\": context},\n",
    "            {\"role\": \"user\", \"content\": \"\\n\".join(texts)}\n",
    "        ]\n",
    "    ).choices[0].message.content.split(\"\\n\")\n",
    "\n",
    "\n",
    "def specific_translation(\n",
    "        \n",
    "        texts: pd.Series, \n",
    "        original: str, \n",
    "        new: str, \n",
    "        model_name: str,\n",
    "        max_tokens: int,\n",
    "        verbose: bool = False\n",
    "        \n",
    "    ) -> Tuple[pd.DataFrame, bool]:\n",
    "    \"\"\"\n",
    "    Translate the pandas Series passed.\n",
    "    \n",
    "    Args:\n",
    "        - texts: indexed tweets to be translated\n",
    "        - original: data source language\n",
    "        - new: language to get translations\n",
    "        - model_name: GPT model name for translation\n",
    "        - max_tokens: maximum number of tokens allowed for translation\n",
    "        - verbose: flag to enable verbose output\n",
    "        \n",
    "    Returns: \n",
    "        pandas.DataFrame: translated text (maintaining tweets' original associated indexes) and a flag indicating success.\n",
    "    \"\"\"\n",
    "    translated, translated_ids, original_ids = [], [], []\n",
    "    time_buffer, requests_buffer = 0, 0\n",
    "    \n",
    "    # Calculate the number of tokens allowed for translation\n",
    "    allowed_tokens = int((max_tokens-1000)/2)\n",
    "    \n",
    "    # For each batch of tweets\n",
    "    for i, (ids, batch) in enumerate(split_texts_given_max_tokens(texts, model_name, allowed_tokens)):\n",
    "        t0 = time.time()\n",
    "\n",
    "        # Transform texts into the form <id_tweet><blank_space><tweet> for a better correspondance with response\n",
    "        proper_input = pd.Series(ids).astype(str) + \" \" + pd.Series(batch)\n",
    "        \n",
    "        # Ask GPT to translate the texts\n",
    "        try:\n",
    "            response = gpt_translation(proper_input, input_language=original, output_language=new, model=model_name)\n",
    "        except Exception as ex:\n",
    "            print(f\"Oops, there were some issues while translating data: {ex}\\n\")\n",
    "            return pd.DataFrame({\"original_id\": translated_ids, \"translated\": translated}), False\n",
    "        \n",
    "        # Process each translation (response is a list of strings)\n",
    "        retrieved, correct, incorrect = 0, 0, 0\n",
    "        for sent in response:\n",
    "            \n",
    "            # Normal cases with the same format as the input\n",
    "            try:\n",
    "                # Match with the first blank space to split the sentence into id and text\n",
    "                pos = sent.index(\" \")  \n",
    "                id_ = int(sent[:pos].strip(\".\").strip(\",\").strip(\":\"))  # Get tweet id\n",
    "                trans = sent[pos+1:]  # Get translated tweet\n",
    "                correct += 1\n",
    "            \n",
    "            # No spaces, just a number; GPT model did not return the sentence translated or the model\n",
    "            # did not return the id correctly\n",
    "            except ValueError: \n",
    "                continue\n",
    "            \n",
    "            # Accumulate ids and text from the response\n",
    "            translated_ids.append(id_)\n",
    "            translated.append(trans)\n",
    "            retrieved += 1\n",
    "        \n",
    "        # Accumulate original ids for checking purposes\n",
    "        original_ids.extend(ids) \n",
    "\n",
    "        t1 = time.time()\n",
    "        \n",
    "        if verbose:\n",
    "            print(f\"Batch: {i:3} \" \\\n",
    "                  f\"| Sent: {len(ids)} \" \\\n",
    "                  f\"| Retrieved: {retrieved}; Translated: {round(correct/retrieved,2)*100}% \" \\\n",
    "                  f\"| Time: {prettytime(t1-t0)}\")\n",
    "        \n",
    "        # Control the number of requests to the API\n",
    "        time_buffer += t1-t0\n",
    "        requests_buffer += 1\n",
    "        if requests_buffer == RPM:\n",
    "            if time_buffer < 60:\n",
    "                time.sleep(60-time_buffer)\n",
    "            time_buffer, requests_buffer = 0, 0\n",
    "            \n",
    "    return pd.DataFrame({\"original_id\": translated_ids, \"translated\": translated}), True"
   ]
  },
  {
   "cell_type": "markdown",
   "id": "4714d0f8-4900-44fd-9c10-6e1e1eb0355d",
   "metadata": {},
   "source": [
    "Once we have the functions defined we only have to select our tweets and pass trought `translate`.\n",
    "\n",
    "\n",
    "> **Note**: At this moment this section of the notebooks is being executed in other machine due to its high amount of time required. It is going to take about 750 batches (between 22 and 55 hours)."
   ]
  },
  {
   "cell_type": "code",
   "execution_count": 68,
   "id": "254d047d-798f-4185-b499-2e26df2cceac",
   "metadata": {
    "tags": []
   },
   "outputs": [],
   "source": [
    "@timeinfo\n",
    "def translate(\n",
    "    \n",
    "        texts: Union[list, pd.Series], \n",
    "        original: str, \n",
    "        new: str, \n",
    "        model_settings: dict = {},\n",
    "        callback: str = \"simple\", \n",
    "        verbose: bool = False,\n",
    "        tol: int = 10\n",
    "    \n",
    "    ) -> pd.DataFrame:\n",
    "    \"\"\"\n",
    "    Translate the given texts.\n",
    "    \n",
    "    PARAMETERS:\n",
    "        - texts: indexed tweets to be translated\n",
    "        - original: data source language\n",
    "        - new: language to get translations\n",
    "        - model_settings: dictionary containing model settings (name and max_tokens)\n",
    "        - callback: callback type for handling translation failures\n",
    "        - verbose: flag to enable verbose output\n",
    "        - tol: tolerance value for remaining untranslated texts in exhaustive mode\n",
    "        \n",
    "    RETURNS translated Series (maintaining tweets' original associated indexes)\n",
    "    \"\"\"\n",
    "    if isinstance(texts, list):\n",
    "        texts = pd.Series(texts)\n",
    "    \n",
    "    # Warming up the model\n",
    "    _ = gpt_translation(texts[:5], original, new, \"gpt-3.5-turbo\")\n",
    "    \n",
    "    if verbose:\n",
    "        print(f\"Starting translation. Callback: {callback}\\n\")\n",
    "        \n",
    "    if callback == \"simple\":\n",
    "        # Just calls the default function, without considering connection errors or similar\n",
    "        translated_text, _ = specific_translation(texts, \n",
    "                                                  original=original, \n",
    "                                                  new=new, \n",
    "                                                  model_name=model_settings.get(\"name\", \"gpt-3.5-turbo\"),\n",
    "                                                  max_tokens=model_settings.get(\"max_tokens\", 4096),\n",
    "                                                  verbose=verbose)\n",
    "\n",
    "    elif callback == \"retrial\":\n",
    "        # Prevents failures due to unexpected errors with the API connection\n",
    "        translated_text = pd.DataFrame()\n",
    "        _ok, start = False, texts.index[0]\n",
    "        while not _ok:\n",
    "            translated, _ok = specific_translation(texts.loc[start:], \n",
    "                                                   original=original, \n",
    "                                                   new=new, \n",
    "                                                   model_name=model_settings.get(\"name\", \"gpt-3.5-turbo\"),\n",
    "                                                   max_tokens=model_settings.get(\"max_tokens\", 4096),\n",
    "                                                   verbose=verbose)\n",
    "            translated_text = pd.concat([translated_text, translated], axis=0)\n",
    "            if _ok:\n",
    "                break\n",
    "\n",
    "            print(f\"Translation broken at {dt.datetime.now()}\")\n",
    "            start = translated_text.original_id.iloc[-1] + 1\n",
    "            print(f\"Continuing translation phase with text {len(translated_text)+1} out of {len(texts)}.\")\n",
    "\n",
    "            try:\n",
    "                # Wait for one minute before trying again\n",
    "                print(f\"Waiting one minute before restarting translation. \\\n",
    "                        Press Ctrl+C to stop and get the translated text until now.\\n\")\n",
    "                time.sleep(60)\n",
    "            except KeyboardInterrupt:\n",
    "                return translated_text\n",
    "        \n",
    "    elif callback == \"exhaustive\":\n",
    "        # Apart from preventing unexpected errors, calls to translate until \n",
    "        # just a constant number (tol) of texts remain untranslated\n",
    "        translated_text = pd.DataFrame()\n",
    "        orig_ids = set(texts.index)\n",
    "        failed = orig_ids - set(translated_text.original_id)\n",
    "        \n",
    "        while len(failed) > tol:\n",
    "            translated = translate(texts.loc[list(failed)], \n",
    "                                   original=original, \n",
    "                                   new=new, \n",
    "                                   call=\"retrial\", \n",
    "                                   verbose=verbose)\n",
    "            # Accumulate translated texts\n",
    "            translated_text = pd.concat([translated_text, translated], axis=0)\n",
    "            \n",
    "            # Check remaining texts to translate\n",
    "            failed = orig_ids - set(translated_text.original_id)\n",
    "            \n",
    "            print(f\"Translated {len(translated_text)} out of {len(texts)}. \\\n",
    "                    Tolerance: {tol}. Relaunching translation with {failed} remaining.\")\n",
    "            \n",
    "            # Wait for half a minute before trying again\n",
    "            time.sleep(30)\n",
    "    \n",
    "    else:\n",
    "        raise ValueError(\"'callback' must be 'simple', 'retrial', or 'exhaustive'\")\n",
    "    \n",
    "    return translated_text\n"
   ]
  },
  {
   "cell_type": "code",
   "execution_count": 71,
   "id": "0accba45-3a35-48ab-a474-06b60349e7ff",
   "metadata": {},
   "outputs": [
    {
     "name": "stdout",
     "output_type": "stream",
     "text": [
      "Starting translation. Callback: retrial\n",
      "\n",
      "Batch:   0 | Sent: 70 | Retrieved: 68; Translated: 100.0% | Time: 00:03:32\n",
      "Batch:   1 | Sent: 30 | Retrieved: 30; Translated: 100.0% | Time: 00:01:54\n",
      "\n",
      "All work done in 00:05:43 (343.633s) :)\n"
     ]
    }
   ],
   "source": [
    "translated_text = translate(cleaned_data_en.sample(100), \n",
    "                            original=\"English\", new=\"Mexican Spanish\",\n",
    "                            model_settings={\"name\":GPT_MODEL, \"max_tokens\":MAX_TOKENS},\n",
    "                            callback=\"retrial\", verbose=True)"
   ]
  },
  {
   "cell_type": "code",
   "execution_count": 7,
   "id": "b415037f-61d2-40ba-aabb-89782a67c8ea",
   "metadata": {},
   "outputs": [],
   "source": [
    "cleaned_data = pd.read_csv(\"../data/transformed/cleaned_data.csv\", sep=\";\")\n",
    "translated_data = pd.read_csv(\"../notebooks/final-translated-text-v1.tsv\", sep=\"\\t\", index_col=0) "
   ]
  },
  {
   "cell_type": "code",
   "execution_count": 8,
   "id": "b38ee0ca-cd9f-4130-b7a8-0244169a1cc7",
   "metadata": {},
   "outputs": [],
   "source": [
    "complete_translated_data = translated_data.dropna()\n",
    "failed = [ i for i, row in complete_translated_data.iterrows() if \"no puedo traducir\" in row[\"0\"] ]  \n",
    "complete_translated_data = complete_translated_data.drop(failed, axis=0)"
   ]
  },
  {
   "cell_type": "code",
   "execution_count": 9,
   "id": "ce255a63-50c8-4b15-a78c-322fb24c3ada",
   "metadata": {},
   "outputs": [
    {
     "data": {
      "text/html": [
       "<div>\n",
       "<style scoped>\n",
       "    .dataframe tbody tr th:only-of-type {\n",
       "        vertical-align: middle;\n",
       "    }\n",
       "\n",
       "    .dataframe tbody tr th {\n",
       "        vertical-align: top;\n",
       "    }\n",
       "\n",
       "    .dataframe thead th {\n",
       "        text-align: right;\n",
       "    }\n",
       "</style>\n",
       "<table border=\"1\" class=\"dataframe\">\n",
       "  <thead>\n",
       "    <tr style=\"text-align: right;\">\n",
       "      <th></th>\n",
       "      <th>original_id</th>\n",
       "      <th>text</th>\n",
       "      <th>sexist</th>\n",
       "      <th>type</th>\n",
       "      <th>language</th>\n",
       "      <th>dataset</th>\n",
       "    </tr>\n",
       "  </thead>\n",
       "  <tbody>\n",
       "    <tr>\n",
       "      <th>0</th>\n",
       "      <td>0</td>\n",
       "      <td>no sabía que \"random\" era una opción.</td>\n",
       "      <td>0</td>\n",
       "      <td>non-sexist</td>\n",
       "      <td>es-mx</td>\n",
       "      <td>callme</td>\n",
       "    </tr>\n",
       "    <tr>\n",
       "      <th>1</th>\n",
       "      <td>1</td>\n",
       "      <td>los dos últimos deberían haberse ido.</td>\n",
       "      <td>0</td>\n",
       "      <td>non-sexist</td>\n",
       "      <td>es-mx</td>\n",
       "      <td>callme</td>\n",
       "    </tr>\n",
       "    <tr>\n",
       "      <th>2</th>\n",
       "      <td>2</td>\n",
       "      <td>\"ladyboner\" merece mucho más crédito que \"dude...</td>\n",
       "      <td>0</td>\n",
       "      <td>non-sexist</td>\n",
       "      <td>es-mx</td>\n",
       "      <td>callme</td>\n",
       "    </tr>\n",
       "    <tr>\n",
       "      <th>3</th>\n",
       "      <td>3</td>\n",
       "      <td>a partir de ahora se llamará \"sourpuss\".</td>\n",
       "      <td>0</td>\n",
       "      <td>non-sexist</td>\n",
       "      <td>es-mx</td>\n",
       "      <td>callme</td>\n",
       "    </tr>\n",
       "    <tr>\n",
       "      <th>4</th>\n",
       "      <td>4</td>\n",
       "      <td>tarah w sacrificó a varias mujeres para ganar ...</td>\n",
       "      <td>0</td>\n",
       "      <td>non-sexist</td>\n",
       "      <td>es-mx</td>\n",
       "      <td>callme</td>\n",
       "    </tr>\n",
       "    <tr>\n",
       "      <th>...</th>\n",
       "      <td>...</td>\n",
       "      <td>...</td>\n",
       "      <td>...</td>\n",
       "      <td>...</td>\n",
       "      <td>...</td>\n",
       "      <td>...</td>\n",
       "    </tr>\n",
       "    <tr>\n",
       "      <th>58757</th>\n",
       "      <td>1047687262455177217</td>\n",
       "      <td>yo no puedo darte luz todos los días, pero si ...</td>\n",
       "      <td>0</td>\n",
       "      <td>non-sexist</td>\n",
       "      <td>es</td>\n",
       "      <td>metwo</td>\n",
       "    </tr>\n",
       "    <tr>\n",
       "      <th>58758</th>\n",
       "      <td>1064482731739045888</td>\n",
       "      <td>que bien! aunque digan que las mujeres no debe...</td>\n",
       "      <td>0</td>\n",
       "      <td>non-sexist</td>\n",
       "      <td>es</td>\n",
       "      <td>metwo</td>\n",
       "    </tr>\n",
       "    <tr>\n",
       "      <th>58759</th>\n",
       "      <td>1040584804536856577</td>\n",
       "      <td>y misoginia las pelotas no quiero que vengas a...</td>\n",
       "      <td>0</td>\n",
       "      <td>non-sexist</td>\n",
       "      <td>es</td>\n",
       "      <td>metwo</td>\n",
       "    </tr>\n",
       "    <tr>\n",
       "      <th>58760</th>\n",
       "      <td>1051458429280235520</td>\n",
       "      <td>\"imaginen el tipo de sociedad mojigata y castr...</td>\n",
       "      <td>0</td>\n",
       "      <td>non-sexist</td>\n",
       "      <td>es</td>\n",
       "      <td>metwo</td>\n",
       "    </tr>\n",
       "    <tr>\n",
       "      <th>58761</th>\n",
       "      <td>1020717495605489673</td>\n",
       "      <td>por favor pase a la historia como una mujer qu...</td>\n",
       "      <td>0</td>\n",
       "      <td>non-sexist</td>\n",
       "      <td>es</td>\n",
       "      <td>metwo</td>\n",
       "    </tr>\n",
       "  </tbody>\n",
       "</table>\n",
       "<p>58762 rows × 6 columns</p>\n",
       "</div>"
      ],
      "text/plain": [
       "               original_id                                               text  \\\n",
       "0                        0              no sabía que \"random\" era una opción.   \n",
       "1                        1              los dos últimos deberían haberse ido.   \n",
       "2                        2  \"ladyboner\" merece mucho más crédito que \"dude...   \n",
       "3                        3           a partir de ahora se llamará \"sourpuss\".   \n",
       "4                        4  tarah w sacrificó a varias mujeres para ganar ...   \n",
       "...                    ...                                                ...   \n",
       "58757  1047687262455177217  yo no puedo darte luz todos los días, pero si ...   \n",
       "58758  1064482731739045888  que bien! aunque digan que las mujeres no debe...   \n",
       "58759  1040584804536856577  y misoginia las pelotas no quiero que vengas a...   \n",
       "58760  1051458429280235520  \"imaginen el tipo de sociedad mojigata y castr...   \n",
       "58761  1020717495605489673  por favor pase a la historia como una mujer qu...   \n",
       "\n",
       "       sexist        type language dataset  \n",
       "0           0  non-sexist    es-mx  callme  \n",
       "1           0  non-sexist    es-mx  callme  \n",
       "2           0  non-sexist    es-mx  callme  \n",
       "3           0  non-sexist    es-mx  callme  \n",
       "4           0  non-sexist    es-mx  callme  \n",
       "...       ...         ...      ...     ...  \n",
       "58757       0  non-sexist       es   metwo  \n",
       "58758       0  non-sexist       es   metwo  \n",
       "58759       0  non-sexist       es   metwo  \n",
       "58760       0  non-sexist       es   metwo  \n",
       "58761       0  non-sexist       es   metwo  \n",
       "\n",
       "[58762 rows x 6 columns]"
      ]
     },
     "execution_count": 9,
     "metadata": {},
     "output_type": "execute_result"
    }
   ],
   "source": [
    "final_data = cleaned_data.copy()\n",
    "final_data.loc[complete_translated_data.index, 'text'] = complete_translated_data[\"0\"].str.lower().to_list()\n",
    "final_data.loc[complete_translated_data.index, 'language'] = ['es-mx'] * len(complete_translated_data)\n",
    "final_data"
   ]
  },
  {
   "cell_type": "code",
   "execution_count": 11,
   "id": "08e82816-870d-49e1-865c-a3c8cbe5c99a",
   "metadata": {},
   "outputs": [],
   "source": [
    "final_data.to_csv(\"../data/transformed2/gold_data.tsv\", sep=\"\\t\", index=False)"
   ]
  }
 ],
 "metadata": {
  "kernelspec": {
   "display_name": "Python 3",
   "language": "python",
   "name": "python3"
  },
  "language_info": {
   "codemirror_mode": {
    "name": "ipython",
    "version": 3
   },
   "file_extension": ".py",
   "mimetype": "text/x-python",
   "name": "python",
   "nbconvert_exporter": "python",
   "pygments_lexer": "ipython3",
   "version": "3.8.16"
  }
 },
 "nbformat": 4,
 "nbformat_minor": 5
}
