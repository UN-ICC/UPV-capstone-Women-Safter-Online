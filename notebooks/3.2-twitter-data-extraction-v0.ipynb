{
 "cells": [
  {
   "cell_type": "markdown",
   "metadata": {
    "id": "JvqNZAE4GymG"
   },
   "source": [
    "## EXTRACTING DATA FROM TWITTER"
   ]
  },
  {
   "cell_type": "code",
   "execution_count": 3,
   "metadata": {
    "id": "qqHmHPGY9cWg"
   },
   "outputs": [
    {
     "name": "stdout",
     "output_type": "stream",
     "text": [
      "4254 tweets extracted for 'abuse' keywords in 00:04:31\n",
      "6286 tweets extracted for 'hate' keywords in 00:06:20\n",
      "5044 tweets extracted for 'profanities' keywords in 00:04:58\n",
      "1467 tweets extracted for 'violent' keywords in 00:01:42\n",
      "1989 tweets extracted for 'sexually-explicit' keywords in 00:02:50\n"
     ]
    },
    {
     "data": {
      "text/html": [
       "<div>\n",
       "<style scoped>\n",
       "    .dataframe tbody tr th:only-of-type {\n",
       "        vertical-align: middle;\n",
       "    }\n",
       "\n",
       "    .dataframe tbody tr th {\n",
       "        vertical-align: top;\n",
       "    }\n",
       "\n",
       "    .dataframe thead th {\n",
       "        text-align: right;\n",
       "    }\n",
       "</style>\n",
       "<table border=\"1\" class=\"dataframe\">\n",
       "  <thead>\n",
       "    <tr style=\"text-align: right;\">\n",
       "      <th></th>\n",
       "      <th>id</th>\n",
       "      <th>tweet</th>\n",
       "      <th>supposed</th>\n",
       "    </tr>\n",
       "  </thead>\n",
       "  <tbody>\n",
       "    <tr>\n",
       "      <th>0</th>\n",
       "      <td>1651746942828048384</td>\n",
       "      <td>@danii_naranjoo @Chivas Nmms nooo cállate que ...</td>\n",
       "      <td>abuse</td>\n",
       "    </tr>\n",
       "    <tr>\n",
       "      <th>1</th>\n",
       "      <td>1651746630435995649</td>\n",
       "      <td>@rondinellicrist @rhdelfutbol @ArchivoFutbolAR...</td>\n",
       "      <td>abuse</td>\n",
       "    </tr>\n",
       "    <tr>\n",
       "      <th>2</th>\n",
       "      <td>1651746167938506752</td>\n",
       "      <td>me siento bien tonta al no saber manejar carro😔</td>\n",
       "      <td>abuse</td>\n",
       "    </tr>\n",
       "    <tr>\n",
       "      <th>3</th>\n",
       "      <td>1651745379342340098</td>\n",
       "      <td>@Richs__Es @elnocturno @Crash_Valentine Chinga...</td>\n",
       "      <td>abuse</td>\n",
       "    </tr>\n",
       "    <tr>\n",
       "      <th>4</th>\n",
       "      <td>1651745060692840449</td>\n",
       "      <td>@callodehacha Este wey muerto de hambre que le...</td>\n",
       "      <td>abuse</td>\n",
       "    </tr>\n",
       "    <tr>\n",
       "      <th>...</th>\n",
       "      <td>...</td>\n",
       "      <td>...</td>\n",
       "      <td>...</td>\n",
       "    </tr>\n",
       "    <tr>\n",
       "      <th>1984</th>\n",
       "      <td>1648214723454795776</td>\n",
       "      <td>Me vale que se me haga chicharrón el culo</td>\n",
       "      <td>sexually-explicit</td>\n",
       "    </tr>\n",
       "    <tr>\n",
       "      <th>1985</th>\n",
       "      <td>1648213181460881408</td>\n",
       "      <td>Hoy alguien que quiero mucho me hizo feliz\\nMe...</td>\n",
       "      <td>sexually-explicit</td>\n",
       "    </tr>\n",
       "    <tr>\n",
       "      <th>1986</th>\n",
       "      <td>1648212831727239170</td>\n",
       "      <td>tengo miedo. Ya estaba dormida como toda una v...</td>\n",
       "      <td>sexually-explicit</td>\n",
       "    </tr>\n",
       "    <tr>\n",
       "      <th>1987</th>\n",
       "      <td>1648211083159650305</td>\n",
       "      <td>Wey una gran amiga de la uni tiene una sección...</td>\n",
       "      <td>sexually-explicit</td>\n",
       "    </tr>\n",
       "    <tr>\n",
       "      <th>1988</th>\n",
       "      <td>1648205862689808384</td>\n",
       "      <td>Perdón pero me cae gorda la gente que odiaba l...</td>\n",
       "      <td>sexually-explicit</td>\n",
       "    </tr>\n",
       "  </tbody>\n",
       "</table>\n",
       "<p>19040 rows × 3 columns</p>\n",
       "</div>"
      ],
      "text/plain": [
       "                       id                                              tweet  \\\n",
       "0     1651746942828048384  @danii_naranjoo @Chivas Nmms nooo cállate que ...   \n",
       "1     1651746630435995649  @rondinellicrist @rhdelfutbol @ArchivoFutbolAR...   \n",
       "2     1651746167938506752    me siento bien tonta al no saber manejar carro😔   \n",
       "3     1651745379342340098  @Richs__Es @elnocturno @Crash_Valentine Chinga...   \n",
       "4     1651745060692840449  @callodehacha Este wey muerto de hambre que le...   \n",
       "...                   ...                                                ...   \n",
       "1984  1648214723454795776          Me vale que se me haga chicharrón el culo   \n",
       "1985  1648213181460881408  Hoy alguien que quiero mucho me hizo feliz\\nMe...   \n",
       "1986  1648212831727239170  tengo miedo. Ya estaba dormida como toda una v...   \n",
       "1987  1648211083159650305  Wey una gran amiga de la uni tiene una sección...   \n",
       "1988  1648205862689808384  Perdón pero me cae gorda la gente que odiaba l...   \n",
       "\n",
       "               supposed  \n",
       "0                 abuse  \n",
       "1                 abuse  \n",
       "2                 abuse  \n",
       "3                 abuse  \n",
       "4                 abuse  \n",
       "...                 ...  \n",
       "1984  sexually-explicit  \n",
       "1985  sexually-explicit  \n",
       "1986  sexually-explicit  \n",
       "1987  sexually-explicit  \n",
       "1988  sexually-explicit  \n",
       "\n",
       "[19040 rows x 3 columns]"
      ]
     },
     "execution_count": 3,
     "metadata": {},
     "output_type": "execute_result"
    }
   ],
   "source": [
    "import os\n",
    "import time\n",
    "import tweepy\n",
    "import pandas as pd\n",
    "\n",
    "# Defining access credentials\n",
    "consumer_key = os.getenv(\"TWITTER_CONSUMER_KEY\")\n",
    "consumer_secret = os.getenv(\"TWITTER_CONSUMER_SECRET\")\n",
    "access_token = os.getenv(\"TWITTER_ACCESS_TOKEN\")\n",
    "access_token_secret = os.getenv(\"TWITTER_ACCES_TOKEN_SECRET\")\n",
    "\n",
    "# Authenticate with the Twitter API.\n",
    "auth = tweepy.OAuthHandler(consumer_key, consumer_secret)\n",
    "auth.set_access_token(access_token, access_token_secret)\n",
    "\n",
    "# Create a Twitter object\n",
    "api = tweepy.API(auth)\n",
    "\n",
    "def prettytime(t:int):\n",
    "    \"\"\"Dada una cantidad t de segundos, lo devuelve en formato hh:mm:ss\"\"\"\n",
    "    hh, mm = divmod(t, 3600)\n",
    "    mm, ss = divmod(mm, 60)\n",
    "    hh, mm, ss = map(lambda x: str(int(x)), [hh,mm,ss])\n",
    "    return f'{hh.zfill(2)}:{mm.zfill(2)}:{ss.zfill(2)}'\n",
    "\n",
    "def extract_tweets(query, geocode):\n",
    "    # set query\n",
    "    # set geocode\n",
    "    buffer, tweets = [None], [None, None]\n",
    "    while len(tweets) > 1:\n",
    "        last = buffer.pop()\n",
    "        if last is None:\n",
    "            tweets = []\n",
    "            max_id_ = None\n",
    "        else:\n",
    "            max_id_ = last[0]\n",
    "        tweets = api.search_tweets(q=query, \n",
    "                                   geocode=geocode, \n",
    "                                   lang='es', \n",
    "                                   result_type='recent', \n",
    "                                   count=100, \n",
    "                                   max_id=max_id_)\n",
    "        buffer.extend([tweet.id, tweet.text] for tweet in tweets)\n",
    "        time.sleep(5)\n",
    "    return pd.DataFrame(data=buffer, columns=['id', 'tweet'])\n",
    "\n",
    "keywords = {\n",
    "    \"abuse\": ['perra', 'cállate', 'sumisa', 'mujer', 'puta', 'tonta', 'florero', 'rubia', 'nenaza'],\n",
    "    \"hate\":['mujer', 'feminismo', 'feminazi', 'daño', 'hembrismo', 'igualdad', 'todas'],\n",
    "    \"profanities\":['estupida', 'guarra', 'zorra', 'madre', 'golfa', 'odio'],\n",
    "    \"violent\": ['follar', 'acoso', 'sexual', 'viola', 'teta', 'niña', 'sodomizar'],\n",
    "    \"sexually-explicit\": ['culo', 'mereces', 'polla', 'perra', 'falda', 'coño', 'gorda', 'lengua']\n",
    "}\n",
    "\n",
    "mexican_corpus = pd.DataFrame()\n",
    "for typ, kwords in keywords.items():\n",
    "    t0 = time.time()\n",
    "    query = \" OR \".join(kwords)\n",
    "    data = extract_tweets(query, geocode='20.659698,-103.349609,100km')\n",
    "    t1 = time.time()\n",
    "    data['supposed'] = [typ] * len(data)\n",
    "    mexican_corpus = pd.concat([mexican_corpus, data], axis=0)\n",
    "    print(f\"{len(data)} tweets extracted for '{typ}' keywords in {prettytime(t1-t0)}\")\n",
    "mexican_corpus"
   ]
  },
  {
   "cell_type": "code",
   "execution_count": 5,
   "metadata": {},
   "outputs": [],
   "source": [
    "mexican_corpus.to_csv(\"../data/extracted/mexican_corpus.tsv\", sep=\"\\t\", index=False)"
   ]
  },
  {
   "cell_type": "code",
   "execution_count": null,
   "metadata": {
    "id": "9yASHAAJHMuA"
   },
   "outputs": [],
   "source": []
  },
  {
   "cell_type": "code",
   "execution_count": null,
   "metadata": {
    "id": "U7eDy-1YHMss"
   },
   "outputs": [],
   "source": []
  },
  {
   "cell_type": "code",
   "execution_count": null,
   "metadata": {
    "id": "ff6eaFkNHMpF"
   },
   "outputs": [],
   "source": []
  },
  {
   "cell_type": "code",
   "execution_count": null,
   "metadata": {
    "id": "6vsbKQsuHMlO"
   },
   "outputs": [],
   "source": []
  },
  {
   "cell_type": "code",
   "execution_count": null,
   "metadata": {
    "id": "pytibk07HMi9"
   },
   "outputs": [],
   "source": []
  },
  {
   "cell_type": "code",
   "execution_count": null,
   "metadata": {
    "id": "QCe1EqHnHMf9"
   },
   "outputs": [],
   "source": []
  },
  {
   "cell_type": "code",
   "execution_count": null,
   "metadata": {
    "id": "1Y4svxvWHMd-"
   },
   "outputs": [],
   "source": []
  }
 ],
 "metadata": {
  "colab": {
   "provenance": []
  },
  "kernelspec": {
   "display_name": "Python 3",
   "language": "python",
   "name": "python3"
  },
  "language_info": {
   "codemirror_mode": {
    "name": "ipython",
    "version": 3
   },
   "file_extension": ".py",
   "mimetype": "text/x-python",
   "name": "python",
   "nbconvert_exporter": "python",
   "pygments_lexer": "ipython3",
   "version": "3.8.16"
  }
 },
 "nbformat": 4,
 "nbformat_minor": 4
}
