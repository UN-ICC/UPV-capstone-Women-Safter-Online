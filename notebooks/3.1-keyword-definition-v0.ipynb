{
 "cells": [
  {
   "cell_type": "markdown",
   "metadata": {
    "id": "xYJ4R1Ha3-PS",
    "tags": []
   },
   "source": [
    "# Code to obtain relevant information for the keywords"
   ]
  },
  {
   "cell_type": "code",
   "execution_count": 12,
   "metadata": {
    "id": "IR9yxe1Q3-PX"
   },
   "outputs": [],
   "source": [
    "#!pip install wordcloud"
   ]
  },
  {
   "cell_type": "markdown",
   "metadata": {},
   "source": [
    "### Data Analysis"
   ]
  },
  {
   "cell_type": "markdown",
   "metadata": {
    "id": "-uk3J_273-PY"
   },
   "source": [
    "- Abuse: \"1. threats, plans to harm and incitement\", \"dominance\", \"sexual_harassment\", \"objectification\", \"sexual-violence\", \"stereotyping-dominance\", \"misogyny-non-sexual-violence\".\n",
    "- Hate: \"3. animosity\", \"2. derogation\", \"4. prejudiced discussions\", \"stereotype\", \"ideological-inequality\", \"misogyny-non-sexual-violence\".\n",
    "- Profanities: \"Profanities\" no aparece entre los términos listados.\n",
    "- Violent: \"1. threats, plans to harm and incitement\", \"sexual-violence\".\n",
    "- Sexually explicit: \"sexual_harassment\", \"objectification\", \"sexual-violence\"."
   ]
  },
  {
   "cell_type": "code",
   "execution_count": 20,
   "metadata": {
    "colab": {
     "base_uri": "https://localhost:8080/",
     "height": 449
    },
    "id": "-WHeanvx3-PZ",
    "outputId": "c62e27e3-daec-4f28-9d9a-58336a3e068a"
   },
   "outputs": [
    {
     "name": "stdout",
     "output_type": "stream",
     "text": [
      "[None 'Hate' 'Violent' 'Abuse' 'Sexually explicit' 'Profanities']\n",
      "Datos sexistas en inglés:  13261 \n",
      "Datos sexistas en español:  5276\n"
     ]
    }
   ],
   "source": [
    "import pandas as pd\n",
    "import numpy as np\n",
    "\n",
    "df = pd.read_csv('../data/transformed/cleaned_data.csv', delimiter = ';')\n",
    "\n",
    "df['type'] = df['type'].replace( 'none' , None)\n",
    "df['type'] = df['type'].replace('0', None)\n",
    "df['type'] = df['type'].replace('non-sexist', None)\n",
    "df['type'] = df['type'].replace('NaN', None)\n",
    "df['type'] = df['type'].replace(np.nan, None)\n",
    "\n",
    "df['type'] = df['type'].replace('dominance', 'Abuse')\n",
    "df['type'] = df['type'].replace('stereotyping-dominance', 'Abuse')\n",
    "df['type'] = df['type'].replace('derailing', 'Abuse')\n",
    "\n",
    "df['type'] = df['type'].replace('2. derogation', 'Hate')\n",
    "df['type'] = df['type'].replace('3. animosity', 'Hate')\n",
    "df['type'] = df['type'].replace('4. prejudiced discussions', 'Hate')\n",
    "df['type'] = df['type'].replace('ideological-inequality', 'Hate')\n",
    "\n",
    "df['type'] = df['type'].replace('stereotype', 'Profanities')\n",
    "df['type'] = df['type'].replace('misogyny-non-sexual-violence', 'Profanities')\n",
    "df['type'] = df['type'].replace('discredit', 'Profanities')\n",
    "\n",
    "df['type'] = df['type'].replace('misogyny-non-sexual-violence', 'Violent')\n",
    "df['type'] = df['type'].replace('1. threats, plans to harm and incitement', 'Violent')\n",
    "df['type'] = df['type'].replace('sexual-violence', 'Violent')\n",
    "\n",
    "df['type'] = df['type'].replace('sexual_harassment', 'Sexually explicit')\n",
    "df['type'] = df['type'].replace('objectification', 'Sexually explicit')\n",
    "\n",
    "print(df['type'].unique())\n",
    "\n",
    "\n",
    "subdf = df[df['label'] == 1]\n",
    "df_es = subdf[subdf['language'] == 'es']\n",
    "df_en = subdf[subdf['language'] == 'en']\n",
    "\n",
    "print('Datos sexistas en inglés: ', len(df_en), '\\nDatos sexistas en español: ', len(df_es))"
   ]
  },
  {
   "cell_type": "code",
   "execution_count": 36,
   "metadata": {
    "id": "g7jCFWYl3-Pa"
   },
   "outputs": [
    {
     "name": "stderr",
     "output_type": "stream",
     "text": [
      "[nltk_data] Downloading package punkt to\n",
      "[nltk_data]     C:\\Users\\alvar\\AppData\\Roaming\\nltk_data...\n",
      "[nltk_data]   Package punkt is already up-to-date!\n"
     ]
    }
   ],
   "source": [
    "#import nltk\n",
    "nltk.download('punkt')\n",
    "import string\n",
    "import nltk\n",
    "from nltk.corpus import stopwords\n",
    "from nltk.corpus import wordnet\n",
    "from nltk.tokenize import word_tokenize\n",
    "\n",
    "def remove_punctuation_and_numbers(tokens):\n",
    "    return \" \".join([ token for token in tokens.split() if token not in string.punctuation and not token.isdigit()])\n",
    " \n",
    "def remove_stopwords(tokens, lang):\n",
    "    return \" \".join([palabra for palabra in tokens.split() if palabra.lower() not in stopwords.words(lang)])\n",
    "\n",
    "def deepclean(texts, lang):\n",
    "    texts = texts.apply(lambda x: \" \".join(nltk.word_tokenize(x.lower(), language=lang)))\n",
    "    texts = texts.apply(remove_punctuation_and_numbers)\n",
    "    texts = texts.apply(remove_stopwords, lang=lang)\n",
    "    return texts"
   ]
  },
  {
   "cell_type": "code",
   "execution_count": 39,
   "metadata": {
    "id": "6LpYLEUL3-Pb"
   },
   "outputs": [
    {
     "name": "stderr",
     "output_type": "stream",
     "text": [
      "C:\\Users\\alvar\\AppData\\Local\\Temp\\ipykernel_21700\\3752715300.py:1: SettingWithCopyWarning: \n",
      "A value is trying to be set on a copy of a slice from a DataFrame.\n",
      "Try using .loc[row_indexer,col_indexer] = value instead\n",
      "\n",
      "See the caveats in the documentation: https://pandas.pydata.org/pandas-docs/stable/user_guide/indexing.html#returning-a-view-versus-a-copy\n",
      "  df_en.text = deepclean(df_en.text, \"english\")\n",
      "C:\\Users\\alvar\\AppData\\Local\\Temp\\ipykernel_21700\\3752715300.py:2: SettingWithCopyWarning: \n",
      "A value is trying to be set on a copy of a slice from a DataFrame.\n",
      "Try using .loc[row_indexer,col_indexer] = value instead\n",
      "\n",
      "See the caveats in the documentation: https://pandas.pydata.org/pandas-docs/stable/user_guide/indexing.html#returning-a-view-versus-a-copy\n",
      "  df_es.text = deepclean(df_es.text, \"spanish\")\n"
     ]
    }
   ],
   "source": [
    "df_en.text = deepclean(df_en.text, \"english\")\n",
    "df_es.text = deepclean(df_es.text, \"spanish\")"
   ]
  },
  {
   "cell_type": "markdown",
   "metadata": {
    "id": "TIRFNdmE3-Pc"
   },
   "source": [
    "## Wordcloud en español general"
   ]
  },
  {
   "cell_type": "code",
   "execution_count": null,
   "metadata": {
    "id": "txBwStDb3-Pc"
   },
   "outputs": [],
   "source": [
    "#from wordcloud import WordCloud\n",
    "#import matplotlib.pyplot as plt\n",
    "\n",
    "def wordcloud(text):\n",
    "    wordcloud = WordCloud(width=800, height=800, background_color='black').generate(text)\n",
    "    plt.figure(figsize=(8,8))\n",
    "    plt.imshow(wordcloud)\n",
    "    plt.axis(\"off\")\n",
    "    plt.tight_layout(pad=0)\n",
    "    plt.show()\n",
    "\n",
    "wordcloud(' '.join(df_es['clean_text']))"
   ]
  },
  {
   "cell_type": "markdown",
   "metadata": {
    "id": "D76o0W8T3-Pd"
   },
   "source": [
    "## Wordcloud por tipo"
   ]
  },
  {
   "cell_type": "code",
   "execution_count": null,
   "metadata": {
    "id": "c6vA0N0S3-Pd"
   },
   "outputs": [],
   "source": [
    "print('\\nAbuse\\n')\n",
    "wordcloud(' '.join(df_es[df['type'] == 'Abuse']['clean_text']))\n",
    "print('\\nHate\\n')\n",
    "wordcloud(' '.join(df_es[df['type'] == 'Hate']['clean_text']))\n",
    "print('\\nProfanities\\n')\n",
    "wordcloud(' '.join(df_es[df['type'] == 'Profanities']['clean_text']))\n",
    "print('\\nViolent\\n')\n",
    "wordcloud(' '.join(df_es[df['type'] == 'Violent']['clean_text']))\n",
    "print('\\nSexually explicit\\n')\n",
    "wordcloud(' '.join(df_es[df['type'] == 'Sexually explicit']['clean_text']))"
   ]
  },
  {
   "cell_type": "markdown",
   "metadata": {},
   "source": [
    "## Keyword selection by TF-IDF"
   ]
  },
  {
   "cell_type": "code",
   "execution_count": 42,
   "metadata": {
    "id": "I93X5ei73-Pe"
   },
   "outputs": [],
   "source": [
    "from sklearn.feature_extraction.text import TfidfVectorizer\n",
    "\n",
    "def word_freq_by_sexism(df, num, language):\n",
    "    # Inicializar el diccionario de frecuencias\n",
    "    freq_dict = {}\n",
    "\n",
    "    # Obtener los tipos de sexismo únicos\n",
    "    sexisms = ['Abuse','Hate', 'Profanities', 'Violent', 'Sexually explicit']\n",
    "\n",
    "    # Crear un objeto TfidfVectorizer para generar la matriz TF-IDF\n",
    "    vectorizer = TfidfVectorizer(stop_words = stopwords.words(language), lowercase=True)\n",
    "\n",
    "    # Iterar por los tipos de sexismo y calcular las frecuencias de palabras correspondientes\n",
    "    for sexism in sexisms:\n",
    "        # Crear una submatriz TF-IDF que contenga solo los textos correspondientes a este tipo de sexismo\n",
    "        sub_df = df[df['type'] == sexism]\n",
    "        tfidf_matrix = vectorizer.fit_transform(sub_df['text'])\n",
    "\n",
    "        # Obtener la lista de palabras en orden de importancia según su valor TF-IDF\n",
    "        word_importance = [(word, tfidf_matrix.getcol(idx).sum()) for word, idx in vectorizer.vocabulary_.items()]\n",
    "        word_importance = sorted(word_importance, key=lambda x: -x[1])\n",
    "\n",
    "        # Tomar las num palabras más importantes\n",
    "        top_words = [word for word, score in word_importance[:num]]\n",
    "\n",
    "        # Agregar las palabras más importantes al diccionario\n",
    "        freq_dict[sexism] = top_words\n",
    "\n",
    "    # Devolver el diccionario de frecuencias\n",
    "    return freq_dict"
   ]
  },
  {
   "cell_type": "code",
   "execution_count": 43,
   "metadata": {},
   "outputs": [
    {
     "data": {
      "text/plain": [
       "{'Abuse': ['perra',\n",
       "  'cállate',\n",
       "  'mujer',\n",
       "  'puta',\n",
       "  'callate',\n",
       "  'mujeres',\n",
       "  'si',\n",
       "  'ser',\n",
       "  'volante',\n",
       "  'tonta',\n",
       "  'sumisa',\n",
       "  'rubia',\n",
       "  'florero',\n",
       "  'zorra',\n",
       "  'así'],\n",
       " 'Hate': ['mujeres',\n",
       "  'feminismo',\n",
       "  'si',\n",
       "  'feministas',\n",
       "  'mujer',\n",
       "  'hombres',\n",
       "  'hembrismo',\n",
       "  'ser',\n",
       "  'daño',\n",
       "  'hombre',\n",
       "  'feminazi',\n",
       "  'igualdad',\n",
       "  'solo',\n",
       "  'todas',\n",
       "  'hace'],\n",
       " 'Profanities': ['puta',\n",
       "  'perra',\n",
       "  'zorra',\n",
       "  'callate',\n",
       "  'mujeres',\n",
       "  'cállate',\n",
       "  'mujer',\n",
       "  'si',\n",
       "  'mereces',\n",
       "  'hija',\n",
       "  'guarra',\n",
       "  'ser',\n",
       "  'mierda',\n",
       "  'novia',\n",
       "  'madre'],\n",
       " 'Violent': ['follar',\n",
       "  'sexual',\n",
       "  'mujer',\n",
       "  'mujeres',\n",
       "  'años',\n",
       "  'acoso',\n",
       "  'violar',\n",
       "  'violación',\n",
       "  'si',\n",
       "  'gustaría',\n",
       "  'hombre',\n",
       "  'ser',\n",
       "  'siempre',\n",
       "  'tetas',\n",
       "  'acusado'],\n",
       " 'Sexually explicit': ['tetas',\n",
       "  'culo',\n",
       "  'puta',\n",
       "  'perra',\n",
       "  'si',\n",
       "  'mujer',\n",
       "  'mujeres',\n",
       "  'polla',\n",
       "  'falda',\n",
       "  'corta',\n",
       "  'ser',\n",
       "  'zorra',\n",
       "  'coño',\n",
       "  'siempre',\n",
       "  'mereces']}"
      ]
     },
     "execution_count": 43,
     "metadata": {},
     "output_type": "execute_result"
    }
   ],
   "source": [
    "keywords_es = word_freq_by_sexism(df_es, 15, 'spanish')\n",
    "keywords_es"
   ]
  },
  {
   "cell_type": "code",
   "execution_count": 45,
   "metadata": {
    "id": "nEtr8BBsISSp"
   },
   "outputs": [],
   "source": [
    "import json\n",
    "\n",
    "with open('../data/extracted/keywords_es.json', 'w', encoding='utf-8') as f:\n",
    "    json.dump(keywords_es, f, ensure_ascii=False, indent=4)"
   ]
  },
  {
   "cell_type": "code",
   "execution_count": 44,
   "metadata": {
    "id": "hZPY26oW3-Pe"
   },
   "outputs": [
    {
     "data": {
      "text/plain": [
       "{'Abuse': ['women',\n",
       "  'bitch',\n",
       "  'like',\n",
       "  'men',\n",
       "  'woman',\n",
       "  'fuck',\n",
       "  'shut',\n",
       "  'stfu',\n",
       "  'rape',\n",
       "  'get',\n",
       "  'dumb',\n",
       "  'know',\n",
       "  'man',\n",
       "  'want',\n",
       "  'gold'],\n",
       " 'Hate': ['women',\n",
       "  'men',\n",
       "  'like',\n",
       "  'bitch',\n",
       "  'woman',\n",
       "  'get',\n",
       "  'would',\n",
       "  'fuck',\n",
       "  'female',\n",
       "  'want',\n",
       "  'man',\n",
       "  'fucking',\n",
       "  'know',\n",
       "  'girls',\n",
       "  'one'],\n",
       " 'Profanities': ['bitch',\n",
       "  'women',\n",
       "  'whore',\n",
       "  'like',\n",
       "  'stupid',\n",
       "  'hoe',\n",
       "  'cunt',\n",
       "  'woman',\n",
       "  'ass',\n",
       "  'fuck',\n",
       "  'fucking',\n",
       "  'girl',\n",
       "  'bitches',\n",
       "  'skank',\n",
       "  'get'],\n",
       " 'Violent': ['women',\n",
       "  'like',\n",
       "  'cock',\n",
       "  'would',\n",
       "  'woman',\n",
       "  'get',\n",
       "  'ass',\n",
       "  'rape',\n",
       "  'fuck',\n",
       "  'want',\n",
       "  'bitch',\n",
       "  'sexual',\n",
       "  'spank',\n",
       "  'fucking',\n",
       "  'gangbanged'],\n",
       " 'Sexually explicit': ['bitch',\n",
       "  'like',\n",
       "  'dick',\n",
       "  'look',\n",
       "  'whore',\n",
       "  'ass',\n",
       "  'women',\n",
       "  'fuck',\n",
       "  'cunt',\n",
       "  'pussy',\n",
       "  'rape',\n",
       "  'woman',\n",
       "  'suck',\n",
       "  'cock',\n",
       "  'girl']}"
      ]
     },
     "execution_count": 44,
     "metadata": {},
     "output_type": "execute_result"
    }
   ],
   "source": [
    "keywords_en = word_freq_by_sexism(df_en, 15, 'english')\n",
    "keywords_en"
   ]
  },
  {
   "cell_type": "code",
   "execution_count": 46,
   "metadata": {
    "id": "htLHxzt8IVEC"
   },
   "outputs": [],
   "source": [
    "with open('../data/extracted/keywords_en.json', 'w', encoding='utf-8') as f:\n",
    "    json.dump(keywords_en, f, ensure_ascii=False, indent=4)"
   ]
  },
  {
   "cell_type": "markdown",
   "metadata": {},
   "source": [
    "## Keyword Selection with Machine Learning "
   ]
  },
  {
   "cell_type": "markdown",
   "metadata": {},
   "source": [
    "To be implemented... (if required)"
   ]
  },
  {
   "cell_type": "code",
   "execution_count": null,
   "metadata": {},
   "outputs": [],
   "source": []
  },
  {
   "cell_type": "code",
   "execution_count": null,
   "metadata": {},
   "outputs": [],
   "source": []
  }
 ],
 "metadata": {
  "colab": {
   "provenance": []
  },
  "kernelspec": {
   "display_name": "Python 3",
   "language": "python",
   "name": "python3"
  },
  "language_info": {
   "codemirror_mode": {
    "name": "ipython",
    "version": 3
   },
   "file_extension": ".py",
   "mimetype": "text/x-python",
   "name": "python",
   "nbconvert_exporter": "python",
   "pygments_lexer": "ipython3",
   "version": "3.8.16"
  }
 },
 "nbformat": 4,
 "nbformat_minor": 4
}
